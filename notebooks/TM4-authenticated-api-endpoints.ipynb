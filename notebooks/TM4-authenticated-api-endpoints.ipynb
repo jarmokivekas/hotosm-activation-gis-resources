{
  "cells": [
    {
      "cell_type": "markdown",
      "source": [
        "\n",
        "# Authenticated TM4 API enpoints\n",
        "\n",
        "This notebook shows how to make authenticated API calls to the HOTOSM tasking manager.\n",
        "\n",
        "For authentication, you need a Tasking Manager account with approporiate privleges, and and authentication token. \n",
        "\n",
        "Tokens look like this:\n",
        "\n",
        "```\n",
        "Token TVBBak5qUXlOQS5FWHJzeFFuc1VvRlZLWXZlV2NvUFR0Z3NDRUJIN1NXM2rt\n",
        "```\n",
        "\n",
        "Tokens are **authentication secrets!** Never publish them, share them with others, or commit them to version control.\n",
        "\n",
        "To obtain your token, log in to Tasking Manager, got to user setting, and enable _Expert Mode_. Once enabled, the token is listed on the setting page in the _API Key_ section.\n",
        "\n",
        "Since this notebook is public, we access the token usting envrionment variables. This notebook assumes the token has been assigned to an evironment variable called `HOTOSM_AUTH_TOKEN`.\n",
        "\n",
        "On linux the environment variable can assigned using the `export` command:\n",
        "\n",
        "```\n",
        "export HOTOSM_AUTH_TOKEN=\"Token TVBBak5qUXlOQS5FWHJzeFFuc1VvRlZLWXZlV2NvUFR0Z3NDRUJIN1NXM2rt\"\n",
        "```"
      ],
      "metadata": {
        "nteract": {
          "transient": {
            "deleting": false
          }
        }
      }
    },
    {
      "cell_type": "code",
      "source": [
        "# if this raises KeyError, then the environment variable\n",
        "# has not been correctly assigned\n",
        "\n",
        "import os\n",
        "TOKEN = os.environ['HOTOSM_AUTH_TOKEN']\n",
        "\n"
      ],
      "outputs": [],
      "execution_count": 1,
      "metadata": {
        "collapsed": true,
        "outputExpanded": false,
        "jupyter": {
          "source_hidden": false,
          "outputs_hidden": false
        },
        "nteract": {
          "transient": {
            "deleting": false
          }
        },
        "execution": {
          "iopub.status.busy": "2020-04-17T18:37:32.741Z",
          "iopub.execute_input": "2020-04-17T18:37:32.746Z",
          "iopub.status.idle": "2020-04-17T18:37:32.749Z",
          "shell.execute_reply": "2020-04-17T18:37:32.725Z"
        }
      }
    },
    {
      "cell_type": "code",
      "source": [],
      "outputs": [],
      "execution_count": null,
      "metadata": {
        "collapsed": true,
        "outputExpanded": false,
        "jupyter": {
          "source_hidden": false,
          "outputs_hidden": false
        },
        "nteract": {
          "transient": {
            "deleting": false
          }
        }
      }
    }
  ],
  "metadata": {
    "kernel_info": {
      "name": "python3"
    },
    "language_info": {
      "name": "python",
      "version": "3.7.5",
      "mimetype": "text/x-python",
      "codemirror_mode": {
        "name": "ipython",
        "version": 3
      },
      "pygments_lexer": "ipython3",
      "nbconvert_exporter": "python",
      "file_extension": ".py"
    },
    "kernelspec": {
      "argv": [
        "/usr/bin/python3",
        "-m",
        "ipykernel_launcher",
        "-f",
        "{connection_file}"
      ],
      "display_name": "Python 3",
      "language": "python",
      "name": "python3"
    },
    "nteract": {
      "version": "0.22.4"
    }
  },
  "nbformat": 4,
  "nbformat_minor": 0
}