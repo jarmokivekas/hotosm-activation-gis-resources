{
  "nbformat": 4,
  "nbformat_minor": 0,
  "metadata": {
    "kernel_info": {
      "name": "python3"
    },
    "language_info": {
      "name": "python",
      "version": "3.6.9",
      "mimetype": "text/x-python",
      "codemirror_mode": {
        "name": "ipython",
        "version": 3
      },
      "pygments_lexer": "ipython3",
      "nbconvert_exporter": "python",
      "file_extension": ".py"
    },
    "kernelspec": {
      "name": "python3",
      "language": "python",
      "display_name": "Python 3"
    },
    "nteract": {
      "version": "0.15.0"
    },
    "colab": {
      "name": "HOTOSM Covid-19 TM project status report.ipynb",
      "provenance": [],
      "collapsed_sections": [],
      "toc_visible": true,
      "include_colab_link": true
    }
  },
  "cells": [
    {
      "cell_type": "markdown",
      "metadata": {
        "id": "view-in-github",
        "colab_type": "text"
      },
      "source": [
        "<a href=\"https://colab.research.google.com/github/jarmokivekas/hotosm-activation-gis-resources/blob/master/report-automation/TM_project_status_report.ipynb\" target=\"_parent\"><img src=\"https://colab.research.google.com/assets/colab-badge.svg\" alt=\"Open In Colab\"/></a>"
      ]
    },
    {
      "cell_type": "markdown",
      "metadata": {
        "id": "LFIiBBeZBHSQ"
      },
      "source": [
        "# Automated COVID-19 TM project status report\n",
        "\n",
        "Maintainer: Jarmo Kivekäs (@jarmokivekas on HOTOSM slack).\n",
        "\n",
        "This Jupyter notebook is intended to be executed in a google colab environment. To update the data displayed in the notebook, use the _Runtime_ > _Run all_ menu item in the top menu bar. \n",
        "\n",
        "Running the notebook in _playground mode_ lets you execute the notebook to update the data, without making any changes permanent changes. When you close the browser tab, any changes you've made or results of running the notebook are discarded. You don't have to always run the notebook. See the _TM Data aquisition_ section below to check to timestamp of when the data was updated.\n",
        "\n",
        "Run the notebook in regular mode (as opposed to playground mode) and save using _File_ > _Save_ to update the notebook data outputs so that the next person sees the updated view.\n",
        "\n"
      ]
    },
    {
      "cell_type": "code",
      "metadata": {
        "id": "gKpLSd_T_YxS",
        "cellView": "form",
        "outputId": "a56066dc-1e17-44f4-fdfe-dcf9b3cd5dfa",
        "colab": {
          "base_uri": "https://localhost:8080/",
          "height": 203
        }
      },
      "source": [
        "#@title Install Colab runtime dependencies\n",
        "# When executing this notebook, if you get the error\n",
        "# > ModuleNotFoundError: No module named 'tasking_manager_client'\n",
        "# Uncomment and run this line to install the missing dependency:\n",
        "!python3 -m pip install -q git+https://github.com/jarmokivekas/tasking-manager-client-python.git"
      ],
      "execution_count": null,
      "outputs": [
        {
          "output_type": "stream",
          "text": [
            "  Installing build dependencies ... \u001b[?25l\u001b[?25hdone\n",
            "  Getting requirements to build wheel ... \u001b[?25l\u001b[?25hdone\n",
            "    Preparing wheel metadata ... \u001b[?25l\u001b[?25hdone\n",
            "\u001b[K     |████████████████████████████████| 972kB 5.4MB/s \n",
            "\u001b[K     |████████████████████████████████| 61kB 5.3MB/s \n",
            "\u001b[K     |████████████████████████████████| 10.9MB 32.8MB/s \n",
            "\u001b[K     |████████████████████████████████| 14.8MB 312kB/s \n",
            "\u001b[K     |████████████████████████████████| 102kB 11.0MB/s \n",
            "\u001b[?25h  Building wheel for tasking-manager-client (PEP 517) ... \u001b[?25l\u001b[?25hdone\n",
            "  Building wheel for contextvars (setup.py) ... \u001b[?25l\u001b[?25hdone\n"
          ],
          "name": "stdout"
        }
      ]
    },
    {
      "cell_type": "code",
      "metadata": {
        "outputHidden": false,
        "inputHidden": false,
        "id": "dd3Rhlw-_X-C",
        "outputId": "0ac8a8cd-5955-4167-bedc-cbdb11111c78",
        "colab": {
          "base_uri": "https://localhost:8080/",
          "height": 73
        }
      },
      "source": [
        "#@title TM Data aquisition {display-mode: \"form\"}\n",
        "import pandas as pd\n",
        "import tasking_manager_client as tm\n",
        "from datetime import datetime\n",
        "from IPython.display import HTML, Markdown\n",
        "\n",
        "# make sure pandas doesn't truncate the dataframe when rendered\n",
        "pd.set_option('display.max_rows', 500)\n",
        "\n",
        "\n",
        "\n",
        "# set the text search keyword\n",
        "textSearch = 'covid'\n",
        "projectStatuses = 'ARCHIVED,PUBLISHED,DRAFT'\n",
        "\n",
        "# for notebooks used for reporting, it's nice to\n",
        "# timestamp of the data, since it can get old quickly\n",
        "now = datetime.utcnow()\n",
        "print(f'data last updated: {now} UTC')\n",
        "print(f'tasking manager:   {tm.DEFAULT_INSTANCE_API}')\n",
        "print(f'search keyword:    {textSearch}')\n",
        "\n",
        "\n",
        "# Collect the project data from the API\n",
        "# concatenate paginated API results into one dataframe\n",
        "result = pd.concat(tm.v2.project_search(textSearch=textSearch, projectStatuses=projectStatuses), ignore_index=True);\n",
        "# search API pagination sometimes returns the same project more than once (due to pageintaion cacheing)\n",
        "result = result.drop_duplicates(subset='projectId');\n",
        "\n",
        "# The country column is has the country string wrapped in a 1-length list, convert it to a plain string\n",
        "result['country'] = result['country'].apply(lambda val: val[0] if isinstance(val, list) else val)\n",
        "\n",
        "# sort rows to be more reader friendly. Any number of columns can be given in\n",
        "# the list for hierarchical sorting \n",
        "display_result = result.sort_values(by=['country','projectId' ])\n",
        "# Many of the coulmns are unnecessary for an overview, we select only a few of them\n",
        "display_result = display_result[['projectId', 'name', 'country', 'percentMapped','percentValidated', 'mapperLevel','status', 'priority']]\n"
      ],
      "execution_count": null,
      "outputs": [
        {
          "output_type": "stream",
          "text": [
            "data last updated: 2020-10-01 10:22:41.881931 UTC\n",
            "tasking manager:   tasking-manager-tm4-production-api.hotosm.org\n",
            "search keyword:    covid\n"
          ],
          "name": "stdout"
        }
      ]
    },
    {
      "cell_type": "markdown",
      "metadata": {
        "id": "f_rconmh9tvP"
      },
      "source": [
        "# Global statistics\n",
        "\n",
        "This section contains basic statistics on all Tasking Manager projects found using a keyword search matching to \"covid\" (the `textSearch` api endpoint)"
      ]
    },
    {
      "cell_type": "code",
      "metadata": {
        "id": "A5kgFz069zt2",
        "outputId": "95271b9a-721d-4190-cd37-71d3654748df",
        "colab": {
          "base_uri": "https://localhost:8080/",
          "height": 464
        }
      },
      "source": [
        "#@title Globat stats summary {display-mode: \"form\"}\n",
        "import matplotlib.pyplot as plt\n",
        "import numpy as np\n",
        "from datetime import datetime\n",
        "\n",
        "\n",
        "def summarize_projects(df):\n",
        "    \"\"\"df: pandas dataframe of TM projects\"\"\"\n",
        "    \n",
        "    # number of projects completely mapped & validated\n",
        "    completed = len(df[(df.percentMapped >= 99) & (df.percentValidated >= 99)])\n",
        "\n",
        "    display(Markdown(\n",
        "    f'''\n",
        "- Total number projects: {len(df)}\n",
        "    - Drafts:    {len(df[df.status=='DRAFT'])}\n",
        "    - Published: {len(df[df.status=='PUBLISHED'])} \n",
        "    - Archived:  {len(df[df.status=='ARCHIVED'])}\n",
        "- Completed projects (100% mapped & validated): {completed}\n",
        "- Average % mapped across all projects: {df.percentMapped.mean():.1f} %\n",
        "- Average % validated across all projects: {df.percentValidated.mean():.1f} %\n",
        "'''))\n",
        "\n",
        "summarize_projects(result)\n",
        "\n",
        "# COVID-19 activation start\n",
        "activation_date = datetime(2020,3,25)\n",
        "activation_length = datetime.now() - activation_date\n",
        "completed = len(result[(result.percentMapped >= 99) & (result.percentValidated >= 99)])\n",
        "\n",
        "# average project completion rate during activation\n",
        "completion_rate = completed / activation_length.days\n",
        "\n",
        "display(Markdown(f'- Average completion rate: {completion_rate:.2f} projects/day'))\n",
        "\n",
        "\n",
        "plt.figure()\n",
        "plt.hist(\n",
        "    [result['percentMapped'],result['percentValidated']],\n",
        "    label=['mapped', 'validated'],\n",
        "    bins=range(0,101,10))\n",
        "plt.title('Project mapping & validation histogram')\n",
        "plt.xlabel('completion [%]')\n",
        "plt.ylabel('project count')\n",
        "plt.legend();plt.grid()\n",
        "plt.show()\n",
        "\n",
        "\n",
        "\n"
      ],
      "execution_count": null,
      "outputs": [
        {
          "output_type": "display_data",
          "data": {
            "text/markdown": "\n- Total number projects: 360\n    - Drafts:    36\n    - Published: 167 \n    - Archived:  157\n- Completed projects (100% mapped & validated): 220\n- Average % mapped across all projects: 82.2 %\n- Average % validated across all projects: 72.1 %\n",
            "text/plain": [
              "<IPython.core.display.Markdown object>"
            ]
          },
          "metadata": {
            "tags": []
          }
        },
        {
          "output_type": "display_data",
          "data": {
            "text/markdown": "- Average completion rate: 1.16 projects/day",
            "text/plain": [
              "<IPython.core.display.Markdown object>"
            ]
          },
          "metadata": {
            "tags": []
          }
        },
        {
          "output_type": "display_data",
          "data": {
            "image/png": "[encoded data removed]",
            "text/plain": [
              "<Figure size 432x288 with 1 Axes>"
            ]
          },
          "metadata": {
            "tags": [],
            "needs_background": "light"
          }
        }
      ]
    },
    {
      "cell_type": "markdown",
      "metadata": {
        "id": "7uQXZhCBDE0g"
      },
      "source": [
        "## Pending Acrchival\n",
        "\n",
        "\n",
        "The projects listed below have high (> 99 %) completion of both mapping and validation, and are in _Published_ status in Tasking Manager.\n",
        "These are ready for a 2nd validation pass and eventually archiving"
      ]
    },
    {
      "cell_type": "code",
      "metadata": {
        "id": "EiO334h3DI01",
        "cellView": "form",
        "outputId": "11f64950-13ca-47cc-ffbf-ae7ea9057098",
        "colab": {
          "base_uri": "https://localhost:8080/",
          "height": 98
        }
      },
      "source": [
        "#@title\n",
        "def pending_archival(df):\n",
        "    \"\"\"list complete but still published TM projects\"\"\"\n",
        "    pending_archival = df[\n",
        "        (df.percentMapped >= 99) & \\\n",
        "        (df.percentValidated >= 99) & \\\n",
        "        (df.status == 'PUBLISHED')\n",
        "    ]\n",
        "    display(Markdown(str(list(pending_archival['projectId']))))\n",
        "pending_archival(result)"
      ],
      "execution_count": null,
      "outputs": [
        {
          "output_type": "display_data",
          "data": {
            "text/markdown": "[9358, 8816, 8825, 8826, 8827, 8874, 8875, 8876, 8877, 8878, 8879, 8884, 8885, 8886, 8906, 8907, 8908, 8909, 8910, 8911, 8912, 8914, 8915, 8917, 8918, 8920, 8935, 8936, 8937, 8938, 8939, 8940, 8980, 9012, 9013, 9015, 9027, 9034, 9045, 9048, 9053, 9075, 9173, 9176, 9196, 9214, 9215, 9216, 9218, 8188, 8416, 8545, 8551, 8552, 8553, 8555, 8556, 8596, 8597, 8598, 8599, 8600, 8704, 8766, 8771, 8795, 8812, 8815, 8817, 8823, 8841, 8843, 8880, 8925, 8926, 8963, 8964, 8986, 8988, 8989, 8992, 8997]",
            "text/plain": [
              "<IPython.core.display.Markdown object>"
            ]
          },
          "metadata": {
            "tags": []
          }
        }
      ]
    },
    {
      "cell_type": "markdown",
      "metadata": {
        "id": "ddw9XnTT945D"
      },
      "source": [
        "# Projects by Country\n",
        "\n"
      ]
    },
    {
      "cell_type": "code",
      "metadata": {
        "id": "D8YSHxRQ98ok",
        "cellView": "form",
        "outputId": "d0df5973-bc1d-487c-cb85-e079738b97ab",
        "colab": {
          "base_uri": "https://localhost:8080/",
          "height": 1000
        }
      },
      "source": [
        "#@title\n",
        "\n",
        "def display_country(subset, country):\n",
        "\n",
        "    # Add section heading\n",
        "    display(Markdown(f'## {country}'))\n",
        "    display(Markdown(f'---'))\n",
        "    summarize_projects(subset)\n",
        "    display(Markdown(f'---'))\n",
        "    # Apply table styling and automatic colors\n",
        "    styled = subset.style\\\n",
        "        .background_gradient(\n",
        "            cmap=tm.style.hotosm_cmap(),\n",
        "            subset=['percentMapped', 'percentValidated']\n",
        "        )\\\n",
        "        .applymap(tm.style.format_priority, subset=['priority'])\\\n",
        "        .applymap(tm.style.format_status, subset=['status'])\n",
        "\n",
        "    display(styled)\n",
        "\n",
        "with pd.ExcelWriter('HOTOSM-covid-19-automatic.xlsx') as writer:\n",
        "\n",
        "  for country in display_result.country.unique():\n",
        "      subset = display_result[display_result.country == country]\n",
        "      del subset['country']\n",
        "\n",
        "      # export to excel sheet tab (long names truncated)\n",
        "      subset.to_excel(\n",
        "          writer,\n",
        "          sheet_name=country[:30],\n",
        "          index=False\n",
        "      )\n",
        "\n",
        "      # Display notebook output\n",
        "      display_country(subset, country)"
      ],
      "execution_count": null,
      "outputs": [
        {
          "output_type": "display_data",
          "data": {
            "text/markdown": "## Anguilla",
            "text/plain": [
              "<IPython.core.display.Markdown object>"
            ]
          },
          "metadata": {
            "tags": []
          }
        },
        {
          "output_type": "display_data",
          "data": {
            "text/markdown": "---",
            "text/plain": [
              "<IPython.core.display.Markdown object>"
            ]
          },
          "metadata": {
            "tags": []
          }
        },
        {
          "output_type": "display_data",
          "data": {
            "text/markdown": "\n- Total number projects: 1\n    - Drafts:    0\n    - Published: 1 \n    - Archived:  0\n- Completed projects (100% mapped & validated): 0\n- Average % mapped across all projects: 100.0 %\n- Average % validated across all projects: 53.0 %\n",
            "text/plain": [
              "<IPython.core.display.Markdown object>"
            ]
          },
          "metadata": {
            "tags": []
          }
        },
        {
          "output_type": "display_data",
          "data": {
            "text/markdown": "---",
            "text/plain": [
              "<IPython.core.display.Markdown object>"
            ]
          },
          "metadata": {
            "tags": []
          }
        },
        {
          "output_type": "display_data",
          "data": {
            "text/html": [
              "<style  type=\"text/css\" >\n",
              "#T_154a4acc_03d0_11eb_967b_0242ac1c0002row0_col2,#T_154a4acc_03d0_11eb_967b_0242ac1c0002row0_col3{\n",
              "            background-color:  #d73f3f;\n",
              "            color:  #f1f1f1;\n",
              "        }#T_154a4acc_03d0_11eb_967b_0242ac1c0002row0_col5{\n",
              "            background-color:  #53AE62;\n",
              "        }#T_154a4acc_03d0_11eb_967b_0242ac1c0002row0_col6{\n",
              "            background-color:  #D73F3F;\n",
              "        }</style><table id=\"T_154a4acc_03d0_11eb_967b_0242ac1c0002\" ><thead>    <tr>        <th class=\"blank level0\" ></th>        <th class=\"col_heading level0 col0\" >projectId</th>        <th class=\"col_heading level0 col1\" >name</th>        <th class=\"col_heading level0 col2\" >percentMapped</th>        <th class=\"col_heading level0 col3\" >percentValidated</th>        <th class=\"col_heading level0 col4\" >mapperLevel</th>        <th class=\"col_heading level0 col5\" >status</th>        <th class=\"col_heading level0 col6\" >priority</th>    </tr></thead><tbody>\n",
              "                <tr>\n",
              "                        <th id=\"T_154a4acc_03d0_11eb_967b_0242ac1c0002level0_row0\" class=\"row_heading level0 row0\" >2</th>\n",
              "                        <td id=\"T_154a4acc_03d0_11eb_967b_0242ac1c0002row0_col0\" class=\"data row0 col0\" >9178</td>\n",
              "                        <td id=\"T_154a4acc_03d0_11eb_967b_0242ac1c0002row0_col1\" class=\"data row0 col1\" >COVID-19 - Anguilla Update</td>\n",
              "                        <td id=\"T_154a4acc_03d0_11eb_967b_0242ac1c0002row0_col2\" class=\"data row0 col2\" >100</td>\n",
              "                        <td id=\"T_154a4acc_03d0_11eb_967b_0242ac1c0002row0_col3\" class=\"data row0 col3\" >53</td>\n",
              "                        <td id=\"T_154a4acc_03d0_11eb_967b_0242ac1c0002row0_col4\" class=\"data row0 col4\" >INTERMEDIATE</td>\n",
              "                        <td id=\"T_154a4acc_03d0_11eb_967b_0242ac1c0002row0_col5\" class=\"data row0 col5\" >PUBLISHED</td>\n",
              "                        <td id=\"T_154a4acc_03d0_11eb_967b_0242ac1c0002row0_col6\" class=\"data row0 col6\" >URGENT</td>\n",
              "            </tr>\n",
              "    </tbody></table>"
            ],
            "text/plain": [
              "<pandas.io.formats.style.Styler at 0x7f42c66897b8>"
            ]
          },
          "metadata": {
            "tags": []
          }
        },
        {
          "output_type": "display_data",
          "data": {
            "text/markdown": "## Barbados",
            "text/plain": [
              "<IPython.core.display.Markdown object>"
            ]
          },
          "metadata": {
            "tags": []
          }
        },
        {
          "output_type": "display_data",
          "data": {
            "text/markdown": "---",
            "text/plain": [
              "<IPython.core.display.Markdown object>"
            ]
          },
          "metadata": {
            "tags": []
          }
        },
        {
          "output_type": "display_data",
          "data": {
            "text/markdown": "\n- Total number projects: 11\n    - Drafts:    11\n    - Published: 0 \n    - Archived:  0\n- Completed projects (100% mapped & validated): 0\n- Average % mapped across all projects: 0.0 %\n- Average % validated across all projects: 0.0 %\n",
            "text/plain": [
              "<IPython.core.display.Markdown object>"
            ]
          },
          "metadata": {
            "tags": []
          }
        },
        {
          "output_type": "display_data",
          "data": {
            "text/markdown": "---",
            "text/plain": [
              "<IPython.core.display.Markdown object>"
            ]
          },
          "metadata": {
            "tags": []
          }
        },
        {
          "output_type": "display_data",
          "data": {
            "text/html": [
              "<style  type=\"text/css\" >\n",
              "#T_1550c32a_03d0_11eb_967b_0242ac1c0002row0_col2,#T_1550c32a_03d0_11eb_967b_0242ac1c0002row0_col3,#T_1550c32a_03d0_11eb_967b_0242ac1c0002row1_col2,#T_1550c32a_03d0_11eb_967b_0242ac1c0002row1_col3,#T_1550c32a_03d0_11eb_967b_0242ac1c0002row2_col2,#T_1550c32a_03d0_11eb_967b_0242ac1c0002row2_col3,#T_1550c32a_03d0_11eb_967b_0242ac1c0002row3_col2,#T_1550c32a_03d0_11eb_967b_0242ac1c0002row3_col3,#T_1550c32a_03d0_11eb_967b_0242ac1c0002row4_col2,#T_1550c32a_03d0_11eb_967b_0242ac1c0002row4_col3,#T_1550c32a_03d0_11eb_967b_0242ac1c0002row5_col2,#T_1550c32a_03d0_11eb_967b_0242ac1c0002row5_col3,#T_1550c32a_03d0_11eb_967b_0242ac1c0002row6_col2,#T_1550c32a_03d0_11eb_967b_0242ac1c0002row6_col3,#T_1550c32a_03d0_11eb_967b_0242ac1c0002row7_col2,#T_1550c32a_03d0_11eb_967b_0242ac1c0002row7_col3,#T_1550c32a_03d0_11eb_967b_0242ac1c0002row8_col2,#T_1550c32a_03d0_11eb_967b_0242ac1c0002row8_col3,#T_1550c32a_03d0_11eb_967b_0242ac1c0002row9_col2,#T_1550c32a_03d0_11eb_967b_0242ac1c0002row9_col3,#T_1550c32a_03d0_11eb_967b_0242ac1c0002row10_col2,#T_1550c32a_03d0_11eb_967b_0242ac1c0002row10_col3{\n",
              "            background-color:  #d73f3f;\n",
              "            color:  #f1f1f1;\n",
              "        }#T_1550c32a_03d0_11eb_967b_0242ac1c0002row0_col5,#T_1550c32a_03d0_11eb_967b_0242ac1c0002row1_col5,#T_1550c32a_03d0_11eb_967b_0242ac1c0002row2_col5,#T_1550c32a_03d0_11eb_967b_0242ac1c0002row3_col5,#T_1550c32a_03d0_11eb_967b_0242ac1c0002row4_col5,#T_1550c32a_03d0_11eb_967b_0242ac1c0002row5_col5,#T_1550c32a_03d0_11eb_967b_0242ac1c0002row6_col5,#T_1550c32a_03d0_11eb_967b_0242ac1c0002row7_col5,#T_1550c32a_03d0_11eb_967b_0242ac1c0002row8_col5,#T_1550c32a_03d0_11eb_967b_0242ac1c0002row9_col5,#T_1550c32a_03d0_11eb_967b_0242ac1c0002row10_col5{\n",
              "            background-color:  #FAA71E;\n",
              "        }#T_1550c32a_03d0_11eb_967b_0242ac1c0002row0_col6,#T_1550c32a_03d0_11eb_967b_0242ac1c0002row1_col6,#T_1550c32a_03d0_11eb_967b_0242ac1c0002row2_col6,#T_1550c32a_03d0_11eb_967b_0242ac1c0002row3_col6,#T_1550c32a_03d0_11eb_967b_0242ac1c0002row4_col6,#T_1550c32a_03d0_11eb_967b_0242ac1c0002row5_col6,#T_1550c32a_03d0_11eb_967b_0242ac1c0002row6_col6,#T_1550c32a_03d0_11eb_967b_0242ac1c0002row7_col6,#T_1550c32a_03d0_11eb_967b_0242ac1c0002row8_col6,#T_1550c32a_03d0_11eb_967b_0242ac1c0002row9_col6,#T_1550c32a_03d0_11eb_967b_0242ac1c0002row10_col6{\n",
              "            background-color:  #E1E0E0;\n",
              "        }</style><table id=\"T_1550c32a_03d0_11eb_967b_0242ac1c0002\" ><thead>    <tr>        <th class=\"blank level0\" ></th>        <th class=\"col_heading level0 col0\" >projectId</th>        <th class=\"col_heading level0 col1\" >name</th>        <th class=\"col_heading level0 col2\" >percentMapped</th>        <th class=\"col_heading level0 col3\" >percentValidated</th>        <th class=\"col_heading level0 col4\" >mapperLevel</th>        <th class=\"col_heading level0 col5\" >status</th>        <th class=\"col_heading level0 col6\" >priority</th>    </tr></thead><tbody>\n",
              "                <tr>\n",
              "                        <th id=\"T_1550c32a_03d0_11eb_967b_0242ac1c0002level0_row0\" class=\"row_heading level0 row0\" >349</th>\n",
              "                        <td id=\"T_1550c32a_03d0_11eb_967b_0242ac1c0002row0_col0\" class=\"data row0 col0\" >9473</td>\n",
              "                        <td id=\"T_1550c32a_03d0_11eb_967b_0242ac1c0002row0_col1\" class=\"data row0 col1\" >COVID-19 Saint Peter, Barbados</td>\n",
              "                        <td id=\"T_1550c32a_03d0_11eb_967b_0242ac1c0002row0_col2\" class=\"data row0 col2\" >0</td>\n",
              "                        <td id=\"T_1550c32a_03d0_11eb_967b_0242ac1c0002row0_col3\" class=\"data row0 col3\" >0</td>\n",
              "                        <td id=\"T_1550c32a_03d0_11eb_967b_0242ac1c0002row0_col4\" class=\"data row0 col4\" >BEGINNER</td>\n",
              "                        <td id=\"T_1550c32a_03d0_11eb_967b_0242ac1c0002row0_col5\" class=\"data row0 col5\" >DRAFT</td>\n",
              "                        <td id=\"T_1550c32a_03d0_11eb_967b_0242ac1c0002row0_col6\" class=\"data row0 col6\" >LOW</td>\n",
              "            </tr>\n",
              "            <tr>\n",
              "                        <th id=\"T_1550c32a_03d0_11eb_967b_0242ac1c0002level0_row1\" class=\"row_heading level0 row1\" >350</th>\n",
              "                        <td id=\"T_1550c32a_03d0_11eb_967b_0242ac1c0002row1_col0\" class=\"data row1 col0\" >9474</td>\n",
              "                        <td id=\"T_1550c32a_03d0_11eb_967b_0242ac1c0002row1_col1\" class=\"data row1 col1\" >COVID-19 Saint Thomas, Barbados</td>\n",
              "                        <td id=\"T_1550c32a_03d0_11eb_967b_0242ac1c0002row1_col2\" class=\"data row1 col2\" >0</td>\n",
              "                        <td id=\"T_1550c32a_03d0_11eb_967b_0242ac1c0002row1_col3\" class=\"data row1 col3\" >0</td>\n",
              "                        <td id=\"T_1550c32a_03d0_11eb_967b_0242ac1c0002row1_col4\" class=\"data row1 col4\" >BEGINNER</td>\n",
              "                        <td id=\"T_1550c32a_03d0_11eb_967b_0242ac1c0002row1_col5\" class=\"data row1 col5\" >DRAFT</td>\n",
              "                        <td id=\"T_1550c32a_03d0_11eb_967b_0242ac1c0002row1_col6\" class=\"data row1 col6\" >LOW</td>\n",
              "            </tr>\n",
              "            <tr>\n",
              "                        <th id=\"T_1550c32a_03d0_11eb_967b_0242ac1c0002level0_row2\" class=\"row_heading level0 row2\" >351</th>\n",
              "                        <td id=\"T_1550c32a_03d0_11eb_967b_0242ac1c0002row2_col0\" class=\"data row2 col0\" >9475</td>\n",
              "                        <td id=\"T_1550c32a_03d0_11eb_967b_0242ac1c0002row2_col1\" class=\"data row2 col1\" >COVID-19 Saint Andrew, Barbados</td>\n",
              "                        <td id=\"T_1550c32a_03d0_11eb_967b_0242ac1c0002row2_col2\" class=\"data row2 col2\" >0</td>\n",
              "                        <td id=\"T_1550c32a_03d0_11eb_967b_0242ac1c0002row2_col3\" class=\"data row2 col3\" >0</td>\n",
              "                        <td id=\"T_1550c32a_03d0_11eb_967b_0242ac1c0002row2_col4\" class=\"data row2 col4\" >BEGINNER</td>\n",
              "                        <td id=\"T_1550c32a_03d0_11eb_967b_0242ac1c0002row2_col5\" class=\"data row2 col5\" >DRAFT</td>\n",
              "                        <td id=\"T_1550c32a_03d0_11eb_967b_0242ac1c0002row2_col6\" class=\"data row2 col6\" >LOW</td>\n",
              "            </tr>\n",
              "            <tr>\n",
              "                        <th id=\"T_1550c32a_03d0_11eb_967b_0242ac1c0002level0_row3\" class=\"row_heading level0 row3\" >352</th>\n",
              "                        <td id=\"T_1550c32a_03d0_11eb_967b_0242ac1c0002row3_col0\" class=\"data row3 col0\" >9477</td>\n",
              "                        <td id=\"T_1550c32a_03d0_11eb_967b_0242ac1c0002row3_col1\" class=\"data row3 col1\" >COVID-19 Saint George, Barbados</td>\n",
              "                        <td id=\"T_1550c32a_03d0_11eb_967b_0242ac1c0002row3_col2\" class=\"data row3 col2\" >0</td>\n",
              "                        <td id=\"T_1550c32a_03d0_11eb_967b_0242ac1c0002row3_col3\" class=\"data row3 col3\" >0</td>\n",
              "                        <td id=\"T_1550c32a_03d0_11eb_967b_0242ac1c0002row3_col4\" class=\"data row3 col4\" >BEGINNER</td>\n",
              "                        <td id=\"T_1550c32a_03d0_11eb_967b_0242ac1c0002row3_col5\" class=\"data row3 col5\" >DRAFT</td>\n",
              "                        <td id=\"T_1550c32a_03d0_11eb_967b_0242ac1c0002row3_col6\" class=\"data row3 col6\" >LOW</td>\n",
              "            </tr>\n",
              "            <tr>\n",
              "                        <th id=\"T_1550c32a_03d0_11eb_967b_0242ac1c0002level0_row4\" class=\"row_heading level0 row4\" >353</th>\n",
              "                        <td id=\"T_1550c32a_03d0_11eb_967b_0242ac1c0002row4_col0\" class=\"data row4 col0\" >9478</td>\n",
              "                        <td id=\"T_1550c32a_03d0_11eb_967b_0242ac1c0002row4_col1\" class=\"data row4 col1\" >COVID-19 Saint Joseph, Barbados</td>\n",
              "                        <td id=\"T_1550c32a_03d0_11eb_967b_0242ac1c0002row4_col2\" class=\"data row4 col2\" >0</td>\n",
              "                        <td id=\"T_1550c32a_03d0_11eb_967b_0242ac1c0002row4_col3\" class=\"data row4 col3\" >0</td>\n",
              "                        <td id=\"T_1550c32a_03d0_11eb_967b_0242ac1c0002row4_col4\" class=\"data row4 col4\" >BEGINNER</td>\n",
              "                        <td id=\"T_1550c32a_03d0_11eb_967b_0242ac1c0002row4_col5\" class=\"data row4 col5\" >DRAFT</td>\n",
              "                        <td id=\"T_1550c32a_03d0_11eb_967b_0242ac1c0002row4_col6\" class=\"data row4 col6\" >LOW</td>\n",
              "            </tr>\n",
              "            <tr>\n",
              "                        <th id=\"T_1550c32a_03d0_11eb_967b_0242ac1c0002level0_row5\" class=\"row_heading level0 row5\" >354</th>\n",
              "                        <td id=\"T_1550c32a_03d0_11eb_967b_0242ac1c0002row5_col0\" class=\"data row5 col0\" >9479</td>\n",
              "                        <td id=\"T_1550c32a_03d0_11eb_967b_0242ac1c0002row5_col1\" class=\"data row5 col1\" >COVID-19 Saint Lucy, Barbados</td>\n",
              "                        <td id=\"T_1550c32a_03d0_11eb_967b_0242ac1c0002row5_col2\" class=\"data row5 col2\" >0</td>\n",
              "                        <td id=\"T_1550c32a_03d0_11eb_967b_0242ac1c0002row5_col3\" class=\"data row5 col3\" >0</td>\n",
              "                        <td id=\"T_1550c32a_03d0_11eb_967b_0242ac1c0002row5_col4\" class=\"data row5 col4\" >BEGINNER</td>\n",
              "                        <td id=\"T_1550c32a_03d0_11eb_967b_0242ac1c0002row5_col5\" class=\"data row5 col5\" >DRAFT</td>\n",
              "                        <td id=\"T_1550c32a_03d0_11eb_967b_0242ac1c0002row5_col6\" class=\"data row5 col6\" >LOW</td>\n",
              "            </tr>\n",
              "            <tr>\n",
              "                        <th id=\"T_1550c32a_03d0_11eb_967b_0242ac1c0002level0_row6\" class=\"row_heading level0 row6\" >355</th>\n",
              "                        <td id=\"T_1550c32a_03d0_11eb_967b_0242ac1c0002row6_col0\" class=\"data row6 col0\" >9480</td>\n",
              "                        <td id=\"T_1550c32a_03d0_11eb_967b_0242ac1c0002row6_col1\" class=\"data row6 col1\" >COVID-19 Saint Philip, Barbados</td>\n",
              "                        <td id=\"T_1550c32a_03d0_11eb_967b_0242ac1c0002row6_col2\" class=\"data row6 col2\" >0</td>\n",
              "                        <td id=\"T_1550c32a_03d0_11eb_967b_0242ac1c0002row6_col3\" class=\"data row6 col3\" >0</td>\n",
              "                        <td id=\"T_1550c32a_03d0_11eb_967b_0242ac1c0002row6_col4\" class=\"data row6 col4\" >INTERMEDIATE</td>\n",
              "                        <td id=\"T_1550c32a_03d0_11eb_967b_0242ac1c0002row6_col5\" class=\"data row6 col5\" >DRAFT</td>\n",
              "                        <td id=\"T_1550c32a_03d0_11eb_967b_0242ac1c0002row6_col6\" class=\"data row6 col6\" >LOW</td>\n",
              "            </tr>\n",
              "            <tr>\n",
              "                        <th id=\"T_1550c32a_03d0_11eb_967b_0242ac1c0002level0_row7\" class=\"row_heading level0 row7\" >356</th>\n",
              "                        <td id=\"T_1550c32a_03d0_11eb_967b_0242ac1c0002row7_col0\" class=\"data row7 col0\" >9481</td>\n",
              "                        <td id=\"T_1550c32a_03d0_11eb_967b_0242ac1c0002row7_col1\" class=\"data row7 col1\" >COVID-19 Christ Church, Barbados</td>\n",
              "                        <td id=\"T_1550c32a_03d0_11eb_967b_0242ac1c0002row7_col2\" class=\"data row7 col2\" >0</td>\n",
              "                        <td id=\"T_1550c32a_03d0_11eb_967b_0242ac1c0002row7_col3\" class=\"data row7 col3\" >0</td>\n",
              "                        <td id=\"T_1550c32a_03d0_11eb_967b_0242ac1c0002row7_col4\" class=\"data row7 col4\" >INTERMEDIATE</td>\n",
              "                        <td id=\"T_1550c32a_03d0_11eb_967b_0242ac1c0002row7_col5\" class=\"data row7 col5\" >DRAFT</td>\n",
              "                        <td id=\"T_1550c32a_03d0_11eb_967b_0242ac1c0002row7_col6\" class=\"data row7 col6\" >LOW</td>\n",
              "            </tr>\n",
              "            <tr>\n",
              "                        <th id=\"T_1550c32a_03d0_11eb_967b_0242ac1c0002level0_row8\" class=\"row_heading level0 row8\" >357</th>\n",
              "                        <td id=\"T_1550c32a_03d0_11eb_967b_0242ac1c0002row8_col0\" class=\"data row8 col0\" >9482</td>\n",
              "                        <td id=\"T_1550c32a_03d0_11eb_967b_0242ac1c0002row8_col1\" class=\"data row8 col1\" >COVID-19 Saint James, Barbados</td>\n",
              "                        <td id=\"T_1550c32a_03d0_11eb_967b_0242ac1c0002row8_col2\" class=\"data row8 col2\" >0</td>\n",
              "                        <td id=\"T_1550c32a_03d0_11eb_967b_0242ac1c0002row8_col3\" class=\"data row8 col3\" >0</td>\n",
              "                        <td id=\"T_1550c32a_03d0_11eb_967b_0242ac1c0002row8_col4\" class=\"data row8 col4\" >INTERMEDIATE</td>\n",
              "                        <td id=\"T_1550c32a_03d0_11eb_967b_0242ac1c0002row8_col5\" class=\"data row8 col5\" >DRAFT</td>\n",
              "                        <td id=\"T_1550c32a_03d0_11eb_967b_0242ac1c0002row8_col6\" class=\"data row8 col6\" >LOW</td>\n",
              "            </tr>\n",
              "            <tr>\n",
              "                        <th id=\"T_1550c32a_03d0_11eb_967b_0242ac1c0002level0_row9\" class=\"row_heading level0 row9\" >358</th>\n",
              "                        <td id=\"T_1550c32a_03d0_11eb_967b_0242ac1c0002row9_col0\" class=\"data row9 col0\" >9483</td>\n",
              "                        <td id=\"T_1550c32a_03d0_11eb_967b_0242ac1c0002row9_col1\" class=\"data row9 col1\" >COVID-19 Saint John, Barbados</td>\n",
              "                        <td id=\"T_1550c32a_03d0_11eb_967b_0242ac1c0002row9_col2\" class=\"data row9 col2\" >0</td>\n",
              "                        <td id=\"T_1550c32a_03d0_11eb_967b_0242ac1c0002row9_col3\" class=\"data row9 col3\" >0</td>\n",
              "                        <td id=\"T_1550c32a_03d0_11eb_967b_0242ac1c0002row9_col4\" class=\"data row9 col4\" >INTERMEDIATE</td>\n",
              "                        <td id=\"T_1550c32a_03d0_11eb_967b_0242ac1c0002row9_col5\" class=\"data row9 col5\" >DRAFT</td>\n",
              "                        <td id=\"T_1550c32a_03d0_11eb_967b_0242ac1c0002row9_col6\" class=\"data row9 col6\" >LOW</td>\n",
              "            </tr>\n",
              "            <tr>\n",
              "                        <th id=\"T_1550c32a_03d0_11eb_967b_0242ac1c0002level0_row10\" class=\"row_heading level0 row10\" >359</th>\n",
              "                        <td id=\"T_1550c32a_03d0_11eb_967b_0242ac1c0002row10_col0\" class=\"data row10 col0\" >9484</td>\n",
              "                        <td id=\"T_1550c32a_03d0_11eb_967b_0242ac1c0002row10_col1\" class=\"data row10 col1\" >COVID-19 Saint Michael, Barbados</td>\n",
              "                        <td id=\"T_1550c32a_03d0_11eb_967b_0242ac1c0002row10_col2\" class=\"data row10 col2\" >0</td>\n",
              "                        <td id=\"T_1550c32a_03d0_11eb_967b_0242ac1c0002row10_col3\" class=\"data row10 col3\" >0</td>\n",
              "                        <td id=\"T_1550c32a_03d0_11eb_967b_0242ac1c0002row10_col4\" class=\"data row10 col4\" >INTERMEDIATE</td>\n",
              "                        <td id=\"T_1550c32a_03d0_11eb_967b_0242ac1c0002row10_col5\" class=\"data row10 col5\" >DRAFT</td>\n",
              "                        <td id=\"T_1550c32a_03d0_11eb_967b_0242ac1c0002row10_col6\" class=\"data row10 col6\" >LOW</td>\n",
              "            </tr>\n",
              "    </tbody></table>"
            ],
            "text/plain": [
              "<pandas.io.formats.style.Styler at 0x7f42ad461780>"
            ]
          },
          "metadata": {
            "tags": []
          }
        },
        {
          "output_type": "display_data",
          "data": {
            "text/markdown": "## Belize",
            "text/plain": [
              "<IPython.core.display.Markdown object>"
            ]
          },
          "metadata": {
            "tags": []
          }
        },
        {
          "output_type": "display_data",
          "data": {
            "text/markdown": "---",
            "text/plain": [
              "<IPython.core.display.Markdown object>"
            ]
          },
          "metadata": {
            "tags": []
          }
        },
        {
          "output_type": "display_data",
          "data": {
            "text/markdown": "\n- Total number projects: 2\n    - Drafts:    2\n    - Published: 0 \n    - Archived:  0\n- Completed projects (100% mapped & validated): 0\n- Average % mapped across all projects: 0.0 %\n- Average % validated across all projects: 0.0 %\n",
            "text/plain": [
              "<IPython.core.display.Markdown object>"
            ]
          },
          "metadata": {
            "tags": []
          }
        },
        {
          "output_type": "display_data",
          "data": {
            "text/markdown": "---",
            "text/plain": [
              "<IPython.core.display.Markdown object>"
            ]
          },
          "metadata": {
            "tags": []
          }
        },
        {
          "output_type": "display_data",
          "data": {
            "text/html": [
              "<style  type=\"text/css\" >\n",
              "#T_15572fd0_03d0_11eb_967b_0242ac1c0002row0_col2,#T_15572fd0_03d0_11eb_967b_0242ac1c0002row0_col3,#T_15572fd0_03d0_11eb_967b_0242ac1c0002row1_col2,#T_15572fd0_03d0_11eb_967b_0242ac1c0002row1_col3{\n",
              "            background-color:  #d73f3f;\n",
              "            color:  #f1f1f1;\n",
              "        }#T_15572fd0_03d0_11eb_967b_0242ac1c0002row0_col5,#T_15572fd0_03d0_11eb_967b_0242ac1c0002row1_col5{\n",
              "            background-color:  #FAA71E;\n",
              "        }#T_15572fd0_03d0_11eb_967b_0242ac1c0002row0_col6,#T_15572fd0_03d0_11eb_967b_0242ac1c0002row1_col6{\n",
              "            background-color:  #E1E0E0;\n",
              "        }</style><table id=\"T_15572fd0_03d0_11eb_967b_0242ac1c0002\" ><thead>    <tr>        <th class=\"blank level0\" ></th>        <th class=\"col_heading level0 col0\" >projectId</th>        <th class=\"col_heading level0 col1\" >name</th>        <th class=\"col_heading level0 col2\" >percentMapped</th>        <th class=\"col_heading level0 col3\" >percentValidated</th>        <th class=\"col_heading level0 col4\" >mapperLevel</th>        <th class=\"col_heading level0 col5\" >status</th>        <th class=\"col_heading level0 col6\" >priority</th>    </tr></thead><tbody>\n",
              "                <tr>\n",
              "                        <th id=\"T_15572fd0_03d0_11eb_967b_0242ac1c0002level0_row0\" class=\"row_heading level0 row0\" >347</th>\n",
              "                        <td id=\"T_15572fd0_03d0_11eb_967b_0242ac1c0002row0_col0\" class=\"data row0 col0\" >9470</td>\n",
              "                        <td id=\"T_15572fd0_03d0_11eb_967b_0242ac1c0002row0_col1\" class=\"data row0 col1\" >COVID-19 Cayo District - Benque Viejo, Belize</td>\n",
              "                        <td id=\"T_15572fd0_03d0_11eb_967b_0242ac1c0002row0_col2\" class=\"data row0 col2\" >0</td>\n",
              "                        <td id=\"T_15572fd0_03d0_11eb_967b_0242ac1c0002row0_col3\" class=\"data row0 col3\" >0</td>\n",
              "                        <td id=\"T_15572fd0_03d0_11eb_967b_0242ac1c0002row0_col4\" class=\"data row0 col4\" >BEGINNER</td>\n",
              "                        <td id=\"T_15572fd0_03d0_11eb_967b_0242ac1c0002row0_col5\" class=\"data row0 col5\" >DRAFT</td>\n",
              "                        <td id=\"T_15572fd0_03d0_11eb_967b_0242ac1c0002row0_col6\" class=\"data row0 col6\" >LOW</td>\n",
              "            </tr>\n",
              "            <tr>\n",
              "                        <th id=\"T_15572fd0_03d0_11eb_967b_0242ac1c0002level0_row1\" class=\"row_heading level0 row1\" >348</th>\n",
              "                        <td id=\"T_15572fd0_03d0_11eb_967b_0242ac1c0002row1_col0\" class=\"data row1 col0\" >9472</td>\n",
              "                        <td id=\"T_15572fd0_03d0_11eb_967b_0242ac1c0002row1_col1\" class=\"data row1 col1\" >COVID-19 Corozal District - Inland, Belize</td>\n",
              "                        <td id=\"T_15572fd0_03d0_11eb_967b_0242ac1c0002row1_col2\" class=\"data row1 col2\" >0</td>\n",
              "                        <td id=\"T_15572fd0_03d0_11eb_967b_0242ac1c0002row1_col3\" class=\"data row1 col3\" >0</td>\n",
              "                        <td id=\"T_15572fd0_03d0_11eb_967b_0242ac1c0002row1_col4\" class=\"data row1 col4\" >BEGINNER</td>\n",
              "                        <td id=\"T_15572fd0_03d0_11eb_967b_0242ac1c0002row1_col5\" class=\"data row1 col5\" >DRAFT</td>\n",
              "                        <td id=\"T_15572fd0_03d0_11eb_967b_0242ac1c0002row1_col6\" class=\"data row1 col6\" >LOW</td>\n",
              "            </tr>\n",
              "    </tbody></table>"
            ],
            "text/plain": [
              "<pandas.io.formats.style.Styler at 0x7f42ad461668>"
            ]
          },
          "metadata": {
            "tags": []
          }
        },
        {
          "output_type": "display_data",
          "data": {
            "text/markdown": "## Botswana",
            "text/plain": [
              "<IPython.core.display.Markdown object>"
            ]
          },
          "metadata": {
            "tags": []
          }
        },
        {
          "output_type": "display_data",
          "data": {
            "text/markdown": "---",
            "text/plain": [
              "<IPython.core.display.Markdown object>"
            ]
          },
          "metadata": {
            "tags": []
          }
        },
        {
          "output_type": "display_data",
          "data": {
            "text/markdown": "\n- Total number projects: 59\n    - Drafts:    0\n    - Published: 3 \n    - Archived:  56\n- Completed projects (100% mapped & validated): 56\n- Average % mapped across all projects: 98.6 %\n- Average % validated across all projects: 95.8 %\n",
            "text/plain": [
              "<IPython.core.display.Markdown object>"
            ]
          },
          "metadata": {
            "tags": []
          }
        },
        {
          "output_type": "display_data",
          "data": {
            "text/markdown": "---",
            "text/plain": [
              "<IPython.core.display.Markdown object>"
            ]
          },
          "metadata": {
            "tags": []
          }
        },
        {
          "output_type": "display_data",
          "data": {
            "text/html": [
              "<style  type=\"text/css\" >\n",
              "#T_155ea4ae_03d0_11eb_967b_0242ac1c0002row0_col2,#T_155ea4ae_03d0_11eb_967b_0242ac1c0002row0_col3,#T_155ea4ae_03d0_11eb_967b_0242ac1c0002row1_col2,#T_155ea4ae_03d0_11eb_967b_0242ac1c0002row1_col3,#T_155ea4ae_03d0_11eb_967b_0242ac1c0002row2_col2,#T_155ea4ae_03d0_11eb_967b_0242ac1c0002row2_col3,#T_155ea4ae_03d0_11eb_967b_0242ac1c0002row3_col2,#T_155ea4ae_03d0_11eb_967b_0242ac1c0002row3_col3,#T_155ea4ae_03d0_11eb_967b_0242ac1c0002row4_col2,#T_155ea4ae_03d0_11eb_967b_0242ac1c0002row4_col3,#T_155ea4ae_03d0_11eb_967b_0242ac1c0002row5_col2,#T_155ea4ae_03d0_11eb_967b_0242ac1c0002row5_col3,#T_155ea4ae_03d0_11eb_967b_0242ac1c0002row6_col2,#T_155ea4ae_03d0_11eb_967b_0242ac1c0002row6_col3,#T_155ea4ae_03d0_11eb_967b_0242ac1c0002row7_col2,#T_155ea4ae_03d0_11eb_967b_0242ac1c0002row7_col3,#T_155ea4ae_03d0_11eb_967b_0242ac1c0002row8_col2,#T_155ea4ae_03d0_11eb_967b_0242ac1c0002row8_col3,#T_155ea4ae_03d0_11eb_967b_0242ac1c0002row9_col2,#T_155ea4ae_03d0_11eb_967b_0242ac1c0002row9_col3,#T_155ea4ae_03d0_11eb_967b_0242ac1c0002row10_col2,#T_155ea4ae_03d0_11eb_967b_0242ac1c0002row10_col3,#T_155ea4ae_03d0_11eb_967b_0242ac1c0002row11_col2,#T_155ea4ae_03d0_11eb_967b_0242ac1c0002row11_col3,#T_155ea4ae_03d0_11eb_967b_0242ac1c0002row12_col2,#T_155ea4ae_03d0_11eb_967b_0242ac1c0002row12_col3,#T_155ea4ae_03d0_11eb_967b_0242ac1c0002row13_col2,#T_155ea4ae_03d0_11eb_967b_0242ac1c0002row13_col3,#T_155ea4ae_03d0_11eb_967b_0242ac1c0002row14_col2,#T_155ea4ae_03d0_11eb_967b_0242ac1c0002row14_col3,#T_155ea4ae_03d0_11eb_967b_0242ac1c0002row15_col2,#T_155ea4ae_03d0_11eb_967b_0242ac1c0002row15_col3,#T_155ea4ae_03d0_11eb_967b_0242ac1c0002row16_col2,#T_155ea4ae_03d0_11eb_967b_0242ac1c0002row16_col3,#T_155ea4ae_03d0_11eb_967b_0242ac1c0002row17_col2,#T_155ea4ae_03d0_11eb_967b_0242ac1c0002row17_col3,#T_155ea4ae_03d0_11eb_967b_0242ac1c0002row18_col2,#T_155ea4ae_03d0_11eb_967b_0242ac1c0002row18_col3,#T_155ea4ae_03d0_11eb_967b_0242ac1c0002row19_col2,#T_155ea4ae_03d0_11eb_967b_0242ac1c0002row19_col3,#T_155ea4ae_03d0_11eb_967b_0242ac1c0002row20_col2,#T_155ea4ae_03d0_11eb_967b_0242ac1c0002row20_col3,#T_155ea4ae_03d0_11eb_967b_0242ac1c0002row21_col2,#T_155ea4ae_03d0_11eb_967b_0242ac1c0002row21_col3,#T_155ea4ae_03d0_11eb_967b_0242ac1c0002row22_col2,#T_155ea4ae_03d0_11eb_967b_0242ac1c0002row22_col3,#T_155ea4ae_03d0_11eb_967b_0242ac1c0002row23_col2,#T_155ea4ae_03d0_11eb_967b_0242ac1c0002row23_col3,#T_155ea4ae_03d0_11eb_967b_0242ac1c0002row24_col2,#T_155ea4ae_03d0_11eb_967b_0242ac1c0002row24_col3,#T_155ea4ae_03d0_11eb_967b_0242ac1c0002row25_col2,#T_155ea4ae_03d0_11eb_967b_0242ac1c0002row25_col3,#T_155ea4ae_03d0_11eb_967b_0242ac1c0002row26_col2,#T_155ea4ae_03d0_11eb_967b_0242ac1c0002row26_col3,#T_155ea4ae_03d0_11eb_967b_0242ac1c0002row27_col2,#T_155ea4ae_03d0_11eb_967b_0242ac1c0002row27_col3,#T_155ea4ae_03d0_11eb_967b_0242ac1c0002row28_col2,#T_155ea4ae_03d0_11eb_967b_0242ac1c0002row28_col3,#T_155ea4ae_03d0_11eb_967b_0242ac1c0002row29_col2,#T_155ea4ae_03d0_11eb_967b_0242ac1c0002row29_col3,#T_155ea4ae_03d0_11eb_967b_0242ac1c0002row30_col2,#T_155ea4ae_03d0_11eb_967b_0242ac1c0002row30_col3,#T_155ea4ae_03d0_11eb_967b_0242ac1c0002row31_col2,#T_155ea4ae_03d0_11eb_967b_0242ac1c0002row31_col3,#T_155ea4ae_03d0_11eb_967b_0242ac1c0002row32_col2,#T_155ea4ae_03d0_11eb_967b_0242ac1c0002row32_col3,#T_155ea4ae_03d0_11eb_967b_0242ac1c0002row33_col2,#T_155ea4ae_03d0_11eb_967b_0242ac1c0002row33_col3,#T_155ea4ae_03d0_11eb_967b_0242ac1c0002row34_col2,#T_155ea4ae_03d0_11eb_967b_0242ac1c0002row34_col3,#T_155ea4ae_03d0_11eb_967b_0242ac1c0002row35_col2,#T_155ea4ae_03d0_11eb_967b_0242ac1c0002row35_col3,#T_155ea4ae_03d0_11eb_967b_0242ac1c0002row36_col2,#T_155ea4ae_03d0_11eb_967b_0242ac1c0002row36_col3,#T_155ea4ae_03d0_11eb_967b_0242ac1c0002row37_col2,#T_155ea4ae_03d0_11eb_967b_0242ac1c0002row37_col3,#T_155ea4ae_03d0_11eb_967b_0242ac1c0002row38_col2,#T_155ea4ae_03d0_11eb_967b_0242ac1c0002row38_col3,#T_155ea4ae_03d0_11eb_967b_0242ac1c0002row39_col2,#T_155ea4ae_03d0_11eb_967b_0242ac1c0002row39_col3,#T_155ea4ae_03d0_11eb_967b_0242ac1c0002row40_col2,#T_155ea4ae_03d0_11eb_967b_0242ac1c0002row40_col3,#T_155ea4ae_03d0_11eb_967b_0242ac1c0002row41_col2,#T_155ea4ae_03d0_11eb_967b_0242ac1c0002row41_col3,#T_155ea4ae_03d0_11eb_967b_0242ac1c0002row42_col2,#T_155ea4ae_03d0_11eb_967b_0242ac1c0002row42_col3,#T_155ea4ae_03d0_11eb_967b_0242ac1c0002row43_col2,#T_155ea4ae_03d0_11eb_967b_0242ac1c0002row43_col3,#T_155ea4ae_03d0_11eb_967b_0242ac1c0002row44_col2,#T_155ea4ae_03d0_11eb_967b_0242ac1c0002row44_col3,#T_155ea4ae_03d0_11eb_967b_0242ac1c0002row45_col2,#T_155ea4ae_03d0_11eb_967b_0242ac1c0002row45_col3,#T_155ea4ae_03d0_11eb_967b_0242ac1c0002row46_col2,#T_155ea4ae_03d0_11eb_967b_0242ac1c0002row46_col3,#T_155ea4ae_03d0_11eb_967b_0242ac1c0002row47_col2,#T_155ea4ae_03d0_11eb_967b_0242ac1c0002row47_col3,#T_155ea4ae_03d0_11eb_967b_0242ac1c0002row48_col2,#T_155ea4ae_03d0_11eb_967b_0242ac1c0002row48_col3,#T_155ea4ae_03d0_11eb_967b_0242ac1c0002row50_col2,#T_155ea4ae_03d0_11eb_967b_0242ac1c0002row51_col2,#T_155ea4ae_03d0_11eb_967b_0242ac1c0002row51_col3,#T_155ea4ae_03d0_11eb_967b_0242ac1c0002row52_col2,#T_155ea4ae_03d0_11eb_967b_0242ac1c0002row52_col3,#T_155ea4ae_03d0_11eb_967b_0242ac1c0002row53_col2,#T_155ea4ae_03d0_11eb_967b_0242ac1c0002row53_col3,#T_155ea4ae_03d0_11eb_967b_0242ac1c0002row54_col2,#T_155ea4ae_03d0_11eb_967b_0242ac1c0002row54_col3,#T_155ea4ae_03d0_11eb_967b_0242ac1c0002row55_col2,#T_155ea4ae_03d0_11eb_967b_0242ac1c0002row55_col3,#T_155ea4ae_03d0_11eb_967b_0242ac1c0002row56_col2,#T_155ea4ae_03d0_11eb_967b_0242ac1c0002row56_col3,#T_155ea4ae_03d0_11eb_967b_0242ac1c0002row57_col2,#T_155ea4ae_03d0_11eb_967b_0242ac1c0002row57_col3,#T_155ea4ae_03d0_11eb_967b_0242ac1c0002row58_col2{\n",
              "            background-color:  #53ae62;\n",
              "            color:  #000000;\n",
              "        }#T_155ea4ae_03d0_11eb_967b_0242ac1c0002row0_col5,#T_155ea4ae_03d0_11eb_967b_0242ac1c0002row0_col6,#T_155ea4ae_03d0_11eb_967b_0242ac1c0002row1_col5,#T_155ea4ae_03d0_11eb_967b_0242ac1c0002row1_col6,#T_155ea4ae_03d0_11eb_967b_0242ac1c0002row2_col5,#T_155ea4ae_03d0_11eb_967b_0242ac1c0002row3_col5,#T_155ea4ae_03d0_11eb_967b_0242ac1c0002row3_col6,#T_155ea4ae_03d0_11eb_967b_0242ac1c0002row4_col5,#T_155ea4ae_03d0_11eb_967b_0242ac1c0002row4_col6,#T_155ea4ae_03d0_11eb_967b_0242ac1c0002row5_col5,#T_155ea4ae_03d0_11eb_967b_0242ac1c0002row5_col6,#T_155ea4ae_03d0_11eb_967b_0242ac1c0002row6_col5,#T_155ea4ae_03d0_11eb_967b_0242ac1c0002row6_col6,#T_155ea4ae_03d0_11eb_967b_0242ac1c0002row7_col5,#T_155ea4ae_03d0_11eb_967b_0242ac1c0002row7_col6,#T_155ea4ae_03d0_11eb_967b_0242ac1c0002row8_col5,#T_155ea4ae_03d0_11eb_967b_0242ac1c0002row8_col6,#T_155ea4ae_03d0_11eb_967b_0242ac1c0002row9_col5,#T_155ea4ae_03d0_11eb_967b_0242ac1c0002row9_col6,#T_155ea4ae_03d0_11eb_967b_0242ac1c0002row10_col5,#T_155ea4ae_03d0_11eb_967b_0242ac1c0002row10_col6,#T_155ea4ae_03d0_11eb_967b_0242ac1c0002row11_col5,#T_155ea4ae_03d0_11eb_967b_0242ac1c0002row11_col6,#T_155ea4ae_03d0_11eb_967b_0242ac1c0002row12_col5,#T_155ea4ae_03d0_11eb_967b_0242ac1c0002row12_col6,#T_155ea4ae_03d0_11eb_967b_0242ac1c0002row13_col5,#T_155ea4ae_03d0_11eb_967b_0242ac1c0002row13_col6,#T_155ea4ae_03d0_11eb_967b_0242ac1c0002row14_col5,#T_155ea4ae_03d0_11eb_967b_0242ac1c0002row14_col6,#T_155ea4ae_03d0_11eb_967b_0242ac1c0002row15_col5,#T_155ea4ae_03d0_11eb_967b_0242ac1c0002row15_col6,#T_155ea4ae_03d0_11eb_967b_0242ac1c0002row16_col5,#T_155ea4ae_03d0_11eb_967b_0242ac1c0002row16_col6,#T_155ea4ae_03d0_11eb_967b_0242ac1c0002row17_col5,#T_155ea4ae_03d0_11eb_967b_0242ac1c0002row17_col6,#T_155ea4ae_03d0_11eb_967b_0242ac1c0002row18_col5,#T_155ea4ae_03d0_11eb_967b_0242ac1c0002row18_col6,#T_155ea4ae_03d0_11eb_967b_0242ac1c0002row19_col5,#T_155ea4ae_03d0_11eb_967b_0242ac1c0002row19_col6,#T_155ea4ae_03d0_11eb_967b_0242ac1c0002row20_col5,#T_155ea4ae_03d0_11eb_967b_0242ac1c0002row20_col6,#T_155ea4ae_03d0_11eb_967b_0242ac1c0002row21_col5,#T_155ea4ae_03d0_11eb_967b_0242ac1c0002row21_col6,#T_155ea4ae_03d0_11eb_967b_0242ac1c0002row22_col5,#T_155ea4ae_03d0_11eb_967b_0242ac1c0002row22_col6,#T_155ea4ae_03d0_11eb_967b_0242ac1c0002row23_col5,#T_155ea4ae_03d0_11eb_967b_0242ac1c0002row23_col6,#T_155ea4ae_03d0_11eb_967b_0242ac1c0002row24_col5,#T_155ea4ae_03d0_11eb_967b_0242ac1c0002row24_col6,#T_155ea4ae_03d0_11eb_967b_0242ac1c0002row25_col5,#T_155ea4ae_03d0_11eb_967b_0242ac1c0002row25_col6,#T_155ea4ae_03d0_11eb_967b_0242ac1c0002row26_col6,#T_155ea4ae_03d0_11eb_967b_0242ac1c0002row27_col5,#T_155ea4ae_03d0_11eb_967b_0242ac1c0002row27_col6,#T_155ea4ae_03d0_11eb_967b_0242ac1c0002row28_col5,#T_155ea4ae_03d0_11eb_967b_0242ac1c0002row28_col6,#T_155ea4ae_03d0_11eb_967b_0242ac1c0002row29_col5,#T_155ea4ae_03d0_11eb_967b_0242ac1c0002row29_col6,#T_155ea4ae_03d0_11eb_967b_0242ac1c0002row30_col5,#T_155ea4ae_03d0_11eb_967b_0242ac1c0002row30_col6,#T_155ea4ae_03d0_11eb_967b_0242ac1c0002row31_col5,#T_155ea4ae_03d0_11eb_967b_0242ac1c0002row31_col6,#T_155ea4ae_03d0_11eb_967b_0242ac1c0002row32_col5,#T_155ea4ae_03d0_11eb_967b_0242ac1c0002row32_col6,#T_155ea4ae_03d0_11eb_967b_0242ac1c0002row33_col5,#T_155ea4ae_03d0_11eb_967b_0242ac1c0002row33_col6,#T_155ea4ae_03d0_11eb_967b_0242ac1c0002row34_col5,#T_155ea4ae_03d0_11eb_967b_0242ac1c0002row34_col6,#T_155ea4ae_03d0_11eb_967b_0242ac1c0002row35_col5,#T_155ea4ae_03d0_11eb_967b_0242ac1c0002row35_col6,#T_155ea4ae_03d0_11eb_967b_0242ac1c0002row36_col5,#T_155ea4ae_03d0_11eb_967b_0242ac1c0002row36_col6,#T_155ea4ae_03d0_11eb_967b_0242ac1c0002row37_col6,#T_155ea4ae_03d0_11eb_967b_0242ac1c0002row38_col5,#T_155ea4ae_03d0_11eb_967b_0242ac1c0002row38_col6,#T_155ea4ae_03d0_11eb_967b_0242ac1c0002row39_col5,#T_155ea4ae_03d0_11eb_967b_0242ac1c0002row39_col6,#T_155ea4ae_03d0_11eb_967b_0242ac1c0002row40_col5,#T_155ea4ae_03d0_11eb_967b_0242ac1c0002row40_col6,#T_155ea4ae_03d0_11eb_967b_0242ac1c0002row41_col5,#T_155ea4ae_03d0_11eb_967b_0242ac1c0002row41_col6,#T_155ea4ae_03d0_11eb_967b_0242ac1c0002row42_col5,#T_155ea4ae_03d0_11eb_967b_0242ac1c0002row42_col6,#T_155ea4ae_03d0_11eb_967b_0242ac1c0002row43_col5,#T_155ea4ae_03d0_11eb_967b_0242ac1c0002row43_col6,#T_155ea4ae_03d0_11eb_967b_0242ac1c0002row44_col5,#T_155ea4ae_03d0_11eb_967b_0242ac1c0002row44_col6,#T_155ea4ae_03d0_11eb_967b_0242ac1c0002row45_col5,#T_155ea4ae_03d0_11eb_967b_0242ac1c0002row45_col6,#T_155ea4ae_03d0_11eb_967b_0242ac1c0002row46_col5,#T_155ea4ae_03d0_11eb_967b_0242ac1c0002row46_col6,#T_155ea4ae_03d0_11eb_967b_0242ac1c0002row47_col5,#T_155ea4ae_03d0_11eb_967b_0242ac1c0002row47_col6,#T_155ea4ae_03d0_11eb_967b_0242ac1c0002row48_col5,#T_155ea4ae_03d0_11eb_967b_0242ac1c0002row48_col6,#T_155ea4ae_03d0_11eb_967b_0242ac1c0002row49_col5,#T_155ea4ae_03d0_11eb_967b_0242ac1c0002row49_col6,#T_155ea4ae_03d0_11eb_967b_0242ac1c0002row50_col5,#T_155ea4ae_03d0_11eb_967b_0242ac1c0002row50_col6,#T_155ea4ae_03d0_11eb_967b_0242ac1c0002row51_col5,#T_155ea4ae_03d0_11eb_967b_0242ac1c0002row51_col6,#T_155ea4ae_03d0_11eb_967b_0242ac1c0002row52_col5,#T_155ea4ae_03d0_11eb_967b_0242ac1c0002row52_col6,#T_155ea4ae_03d0_11eb_967b_0242ac1c0002row53_col5,#T_155ea4ae_03d0_11eb_967b_0242ac1c0002row53_col6,#T_155ea4ae_03d0_11eb_967b_0242ac1c0002row54_col5,#T_155ea4ae_03d0_11eb_967b_0242ac1c0002row54_col6,#T_155ea4ae_03d0_11eb_967b_0242ac1c0002row55_col5,#T_155ea4ae_03d0_11eb_967b_0242ac1c0002row55_col6,#T_155ea4ae_03d0_11eb_967b_0242ac1c0002row56_col5,#T_155ea4ae_03d0_11eb_967b_0242ac1c0002row56_col6,#T_155ea4ae_03d0_11eb_967b_0242ac1c0002row57_col5,#T_155ea4ae_03d0_11eb_967b_0242ac1c0002row57_col6,#T_155ea4ae_03d0_11eb_967b_0242ac1c0002row58_col6{\n",
              "            background-color:  #E1E0E0;\n",
              "        }#T_155ea4ae_03d0_11eb_967b_0242ac1c0002row2_col6,#T_155ea4ae_03d0_11eb_967b_0242ac1c0002row26_col5,#T_155ea4ae_03d0_11eb_967b_0242ac1c0002row37_col5,#T_155ea4ae_03d0_11eb_967b_0242ac1c0002row58_col5{\n",
              "            background-color:  #53AE62;\n",
              "        }#T_155ea4ae_03d0_11eb_967b_0242ac1c0002row49_col2,#T_155ea4ae_03d0_11eb_967b_0242ac1c0002row49_col3{\n",
              "            background-color:  #d73f3f;\n",
              "            color:  #f1f1f1;\n",
              "        }#T_155ea4ae_03d0_11eb_967b_0242ac1c0002row50_col3{\n",
              "            background-color:  #e9762e;\n",
              "            color:  #000000;\n",
              "        }#T_155ea4ae_03d0_11eb_967b_0242ac1c0002row58_col3{\n",
              "            background-color:  #ed812a;\n",
              "            color:  #000000;\n",
              "        }</style><table id=\"T_155ea4ae_03d0_11eb_967b_0242ac1c0002\" ><thead>    <tr>        <th class=\"blank level0\" ></th>        <th class=\"col_heading level0 col0\" >projectId</th>        <th class=\"col_heading level0 col1\" >name</th>        <th class=\"col_heading level0 col2\" >percentMapped</th>        <th class=\"col_heading level0 col3\" >percentValidated</th>        <th class=\"col_heading level0 col4\" >mapperLevel</th>        <th class=\"col_heading level0 col5\" >status</th>        <th class=\"col_heading level0 col6\" >priority</th>    </tr></thead><tbody>\n",
              "                <tr>\n",
              "                        <th id=\"T_155ea4ae_03d0_11eb_967b_0242ac1c0002level0_row0\" class=\"row_heading level0 row0\" >226</th>\n",
              "                        <td id=\"T_155ea4ae_03d0_11eb_967b_0242ac1c0002row0_col0\" class=\"data row0 col0\" >8512</td>\n",
              "                        <td id=\"T_155ea4ae_03d0_11eb_967b_0242ac1c0002row0_col1\" class=\"data row0 col1\" >COVID-19 - Mogoditshane - Gaborone District, Botswana</td>\n",
              "                        <td id=\"T_155ea4ae_03d0_11eb_967b_0242ac1c0002row0_col2\" class=\"data row0 col2\" >100</td>\n",
              "                        <td id=\"T_155ea4ae_03d0_11eb_967b_0242ac1c0002row0_col3\" class=\"data row0 col3\" >100</td>\n",
              "                        <td id=\"T_155ea4ae_03d0_11eb_967b_0242ac1c0002row0_col4\" class=\"data row0 col4\" >BEGINNER</td>\n",
              "                        <td id=\"T_155ea4ae_03d0_11eb_967b_0242ac1c0002row0_col5\" class=\"data row0 col5\" >ARCHIVED</td>\n",
              "                        <td id=\"T_155ea4ae_03d0_11eb_967b_0242ac1c0002row0_col6\" class=\"data row0 col6\" >LOW</td>\n",
              "            </tr>\n",
              "            <tr>\n",
              "                        <th id=\"T_155ea4ae_03d0_11eb_967b_0242ac1c0002level0_row1\" class=\"row_heading level0 row1\" >235</th>\n",
              "                        <td id=\"T_155ea4ae_03d0_11eb_967b_0242ac1c0002row1_col0\" class=\"data row1 col0\" >8571</td>\n",
              "                        <td id=\"T_155ea4ae_03d0_11eb_967b_0242ac1c0002row1_col1\" class=\"data row1 col1\" >COVID-19 - Bokaa - Kgatleng District, Botswana</td>\n",
              "                        <td id=\"T_155ea4ae_03d0_11eb_967b_0242ac1c0002row1_col2\" class=\"data row1 col2\" >100</td>\n",
              "                        <td id=\"T_155ea4ae_03d0_11eb_967b_0242ac1c0002row1_col3\" class=\"data row1 col3\" >99</td>\n",
              "                        <td id=\"T_155ea4ae_03d0_11eb_967b_0242ac1c0002row1_col4\" class=\"data row1 col4\" >BEGINNER</td>\n",
              "                        <td id=\"T_155ea4ae_03d0_11eb_967b_0242ac1c0002row1_col5\" class=\"data row1 col5\" >ARCHIVED</td>\n",
              "                        <td id=\"T_155ea4ae_03d0_11eb_967b_0242ac1c0002row1_col6\" class=\"data row1 col6\" >LOW</td>\n",
              "            </tr>\n",
              "            <tr>\n",
              "                        <th id=\"T_155ea4ae_03d0_11eb_967b_0242ac1c0002level0_row2\" class=\"row_heading level0 row2\" >45</th>\n",
              "                        <td id=\"T_155ea4ae_03d0_11eb_967b_0242ac1c0002row2_col0\" class=\"data row2 col0\" >8572</td>\n",
              "                        <td id=\"T_155ea4ae_03d0_11eb_967b_0242ac1c0002row2_col1\" class=\"data row2 col1\" >COVID-19 - Gabane - Kweneng South District, Botswana</td>\n",
              "                        <td id=\"T_155ea4ae_03d0_11eb_967b_0242ac1c0002row2_col2\" class=\"data row2 col2\" >100</td>\n",
              "                        <td id=\"T_155ea4ae_03d0_11eb_967b_0242ac1c0002row2_col3\" class=\"data row2 col3\" >100</td>\n",
              "                        <td id=\"T_155ea4ae_03d0_11eb_967b_0242ac1c0002row2_col4\" class=\"data row2 col4\" >BEGINNER</td>\n",
              "                        <td id=\"T_155ea4ae_03d0_11eb_967b_0242ac1c0002row2_col5\" class=\"data row2 col5\" >ARCHIVED</td>\n",
              "                        <td id=\"T_155ea4ae_03d0_11eb_967b_0242ac1c0002row2_col6\" class=\"data row2 col6\" >MEDIUM</td>\n",
              "            </tr>\n",
              "            <tr>\n",
              "                        <th id=\"T_155ea4ae_03d0_11eb_967b_0242ac1c0002level0_row3\" class=\"row_heading level0 row3\" >236</th>\n",
              "                        <td id=\"T_155ea4ae_03d0_11eb_967b_0242ac1c0002row3_col0\" class=\"data row3 col0\" >8573</td>\n",
              "                        <td id=\"T_155ea4ae_03d0_11eb_967b_0242ac1c0002row3_col1\" class=\"data row3 col1\" >COVID-19 - Gaborone E - Gaborone District, Botswana</td>\n",
              "                        <td id=\"T_155ea4ae_03d0_11eb_967b_0242ac1c0002row3_col2\" class=\"data row3 col2\" >100</td>\n",
              "                        <td id=\"T_155ea4ae_03d0_11eb_967b_0242ac1c0002row3_col3\" class=\"data row3 col3\" >100</td>\n",
              "                        <td id=\"T_155ea4ae_03d0_11eb_967b_0242ac1c0002row3_col4\" class=\"data row3 col4\" >BEGINNER</td>\n",
              "                        <td id=\"T_155ea4ae_03d0_11eb_967b_0242ac1c0002row3_col5\" class=\"data row3 col5\" >ARCHIVED</td>\n",
              "                        <td id=\"T_155ea4ae_03d0_11eb_967b_0242ac1c0002row3_col6\" class=\"data row3 col6\" >LOW</td>\n",
              "            </tr>\n",
              "            <tr>\n",
              "                        <th id=\"T_155ea4ae_03d0_11eb_967b_0242ac1c0002level0_row4\" class=\"row_heading level0 row4\" >237</th>\n",
              "                        <td id=\"T_155ea4ae_03d0_11eb_967b_0242ac1c0002row4_col0\" class=\"data row4 col0\" >8574</td>\n",
              "                        <td id=\"T_155ea4ae_03d0_11eb_967b_0242ac1c0002row4_col1\" class=\"data row4 col1\" >COVID-19 - Gaborone N - Gaborone District, Botswana</td>\n",
              "                        <td id=\"T_155ea4ae_03d0_11eb_967b_0242ac1c0002row4_col2\" class=\"data row4 col2\" >99</td>\n",
              "                        <td id=\"T_155ea4ae_03d0_11eb_967b_0242ac1c0002row4_col3\" class=\"data row4 col3\" >99</td>\n",
              "                        <td id=\"T_155ea4ae_03d0_11eb_967b_0242ac1c0002row4_col4\" class=\"data row4 col4\" >BEGINNER</td>\n",
              "                        <td id=\"T_155ea4ae_03d0_11eb_967b_0242ac1c0002row4_col5\" class=\"data row4 col5\" >ARCHIVED</td>\n",
              "                        <td id=\"T_155ea4ae_03d0_11eb_967b_0242ac1c0002row4_col6\" class=\"data row4 col6\" >LOW</td>\n",
              "            </tr>\n",
              "            <tr>\n",
              "                        <th id=\"T_155ea4ae_03d0_11eb_967b_0242ac1c0002level0_row5\" class=\"row_heading level0 row5\" >238</th>\n",
              "                        <td id=\"T_155ea4ae_03d0_11eb_967b_0242ac1c0002row5_col0\" class=\"data row5 col0\" >8575</td>\n",
              "                        <td id=\"T_155ea4ae_03d0_11eb_967b_0242ac1c0002row5_col1\" class=\"data row5 col1\" >COVID-19 - Gaborone S- Gaborone District, Botswana</td>\n",
              "                        <td id=\"T_155ea4ae_03d0_11eb_967b_0242ac1c0002row5_col2\" class=\"data row5 col2\" >99</td>\n",
              "                        <td id=\"T_155ea4ae_03d0_11eb_967b_0242ac1c0002row5_col3\" class=\"data row5 col3\" >99</td>\n",
              "                        <td id=\"T_155ea4ae_03d0_11eb_967b_0242ac1c0002row5_col4\" class=\"data row5 col4\" >BEGINNER</td>\n",
              "                        <td id=\"T_155ea4ae_03d0_11eb_967b_0242ac1c0002row5_col5\" class=\"data row5 col5\" >ARCHIVED</td>\n",
              "                        <td id=\"T_155ea4ae_03d0_11eb_967b_0242ac1c0002row5_col6\" class=\"data row5 col6\" >LOW</td>\n",
              "            </tr>\n",
              "            <tr>\n",
              "                        <th id=\"T_155ea4ae_03d0_11eb_967b_0242ac1c0002level0_row6\" class=\"row_heading level0 row6\" >239</th>\n",
              "                        <td id=\"T_155ea4ae_03d0_11eb_967b_0242ac1c0002row6_col0\" class=\"data row6 col0\" >8576</td>\n",
              "                        <td id=\"T_155ea4ae_03d0_11eb_967b_0242ac1c0002row6_col1\" class=\"data row6 col1\" >COVID-19 - Kapong - Kgatleng District, Botswana</td>\n",
              "                        <td id=\"T_155ea4ae_03d0_11eb_967b_0242ac1c0002row6_col2\" class=\"data row6 col2\" >100</td>\n",
              "                        <td id=\"T_155ea4ae_03d0_11eb_967b_0242ac1c0002row6_col3\" class=\"data row6 col3\" >100</td>\n",
              "                        <td id=\"T_155ea4ae_03d0_11eb_967b_0242ac1c0002row6_col4\" class=\"data row6 col4\" >BEGINNER</td>\n",
              "                        <td id=\"T_155ea4ae_03d0_11eb_967b_0242ac1c0002row6_col5\" class=\"data row6 col5\" >ARCHIVED</td>\n",
              "                        <td id=\"T_155ea4ae_03d0_11eb_967b_0242ac1c0002row6_col6\" class=\"data row6 col6\" >LOW</td>\n",
              "            </tr>\n",
              "            <tr>\n",
              "                        <th id=\"T_155ea4ae_03d0_11eb_967b_0242ac1c0002level0_row7\" class=\"row_heading level0 row7\" >240</th>\n",
              "                        <td id=\"T_155ea4ae_03d0_11eb_967b_0242ac1c0002row7_col0\" class=\"data row7 col0\" >8577</td>\n",
              "                        <td id=\"T_155ea4ae_03d0_11eb_967b_0242ac1c0002row7_col1\" class=\"data row7 col1\" >COVID-19 - Matebele- Kgatleng District, Botswana</td>\n",
              "                        <td id=\"T_155ea4ae_03d0_11eb_967b_0242ac1c0002row7_col2\" class=\"data row7 col2\" >100</td>\n",
              "                        <td id=\"T_155ea4ae_03d0_11eb_967b_0242ac1c0002row7_col3\" class=\"data row7 col3\" >100</td>\n",
              "                        <td id=\"T_155ea4ae_03d0_11eb_967b_0242ac1c0002row7_col4\" class=\"data row7 col4\" >BEGINNER</td>\n",
              "                        <td id=\"T_155ea4ae_03d0_11eb_967b_0242ac1c0002row7_col5\" class=\"data row7 col5\" >ARCHIVED</td>\n",
              "                        <td id=\"T_155ea4ae_03d0_11eb_967b_0242ac1c0002row7_col6\" class=\"data row7 col6\" >LOW</td>\n",
              "            </tr>\n",
              "            <tr>\n",
              "                        <th id=\"T_155ea4ae_03d0_11eb_967b_0242ac1c0002level0_row8\" class=\"row_heading level0 row8\" >241</th>\n",
              "                        <td id=\"T_155ea4ae_03d0_11eb_967b_0242ac1c0002row8_col0\" class=\"data row8 col0\" >8578</td>\n",
              "                        <td id=\"T_155ea4ae_03d0_11eb_967b_0242ac1c0002row8_col1\" class=\"data row8 col1\" >COVID-19 - Metsimotlhabe- Kweneng South District, Botswana</td>\n",
              "                        <td id=\"T_155ea4ae_03d0_11eb_967b_0242ac1c0002row8_col2\" class=\"data row8 col2\" >100</td>\n",
              "                        <td id=\"T_155ea4ae_03d0_11eb_967b_0242ac1c0002row8_col3\" class=\"data row8 col3\" >100</td>\n",
              "                        <td id=\"T_155ea4ae_03d0_11eb_967b_0242ac1c0002row8_col4\" class=\"data row8 col4\" >BEGINNER</td>\n",
              "                        <td id=\"T_155ea4ae_03d0_11eb_967b_0242ac1c0002row8_col5\" class=\"data row8 col5\" >ARCHIVED</td>\n",
              "                        <td id=\"T_155ea4ae_03d0_11eb_967b_0242ac1c0002row8_col6\" class=\"data row8 col6\" >LOW</td>\n",
              "            </tr>\n",
              "            <tr>\n",
              "                        <th id=\"T_155ea4ae_03d0_11eb_967b_0242ac1c0002level0_row9\" class=\"row_heading level0 row9\" >242</th>\n",
              "                        <td id=\"T_155ea4ae_03d0_11eb_967b_0242ac1c0002row9_col0\" class=\"data row9 col0\" >8579</td>\n",
              "                        <td id=\"T_155ea4ae_03d0_11eb_967b_0242ac1c0002row9_col1\" class=\"data row9 col1\" >COVID-19 - Mmopane- Kweneng North District, Botswana</td>\n",
              "                        <td id=\"T_155ea4ae_03d0_11eb_967b_0242ac1c0002row9_col2\" class=\"data row9 col2\" >100</td>\n",
              "                        <td id=\"T_155ea4ae_03d0_11eb_967b_0242ac1c0002row9_col3\" class=\"data row9 col3\" >100</td>\n",
              "                        <td id=\"T_155ea4ae_03d0_11eb_967b_0242ac1c0002row9_col4\" class=\"data row9 col4\" >BEGINNER</td>\n",
              "                        <td id=\"T_155ea4ae_03d0_11eb_967b_0242ac1c0002row9_col5\" class=\"data row9 col5\" >ARCHIVED</td>\n",
              "                        <td id=\"T_155ea4ae_03d0_11eb_967b_0242ac1c0002row9_col6\" class=\"data row9 col6\" >LOW</td>\n",
              "            </tr>\n",
              "            <tr>\n",
              "                        <th id=\"T_155ea4ae_03d0_11eb_967b_0242ac1c0002level0_row10\" class=\"row_heading level0 row10\" >243</th>\n",
              "                        <td id=\"T_155ea4ae_03d0_11eb_967b_0242ac1c0002row10_col0\" class=\"data row10 col0\" >8580</td>\n",
              "                        <td id=\"T_155ea4ae_03d0_11eb_967b_0242ac1c0002row10_col1\" class=\"data row10 col1\" >COVID-19 - Mochudi- Kgatleng District, Botswana</td>\n",
              "                        <td id=\"T_155ea4ae_03d0_11eb_967b_0242ac1c0002row10_col2\" class=\"data row10 col2\" >100</td>\n",
              "                        <td id=\"T_155ea4ae_03d0_11eb_967b_0242ac1c0002row10_col3\" class=\"data row10 col3\" >100</td>\n",
              "                        <td id=\"T_155ea4ae_03d0_11eb_967b_0242ac1c0002row10_col4\" class=\"data row10 col4\" >BEGINNER</td>\n",
              "                        <td id=\"T_155ea4ae_03d0_11eb_967b_0242ac1c0002row10_col5\" class=\"data row10 col5\" >ARCHIVED</td>\n",
              "                        <td id=\"T_155ea4ae_03d0_11eb_967b_0242ac1c0002row10_col6\" class=\"data row10 col6\" >LOW</td>\n",
              "            </tr>\n",
              "            <tr>\n",
              "                        <th id=\"T_155ea4ae_03d0_11eb_967b_0242ac1c0002level0_row11\" class=\"row_heading level0 row11\" >244</th>\n",
              "                        <td id=\"T_155ea4ae_03d0_11eb_967b_0242ac1c0002row11_col0\" class=\"data row11 col0\" >8582</td>\n",
              "                        <td id=\"T_155ea4ae_03d0_11eb_967b_0242ac1c0002row11_col1\" class=\"data row11 col1\" >COVID-19 - Molepolole- Kweneng South District, Botswana</td>\n",
              "                        <td id=\"T_155ea4ae_03d0_11eb_967b_0242ac1c0002row11_col2\" class=\"data row11 col2\" >100</td>\n",
              "                        <td id=\"T_155ea4ae_03d0_11eb_967b_0242ac1c0002row11_col3\" class=\"data row11 col3\" >100</td>\n",
              "                        <td id=\"T_155ea4ae_03d0_11eb_967b_0242ac1c0002row11_col4\" class=\"data row11 col4\" >BEGINNER</td>\n",
              "                        <td id=\"T_155ea4ae_03d0_11eb_967b_0242ac1c0002row11_col5\" class=\"data row11 col5\" >ARCHIVED</td>\n",
              "                        <td id=\"T_155ea4ae_03d0_11eb_967b_0242ac1c0002row11_col6\" class=\"data row11 col6\" >LOW</td>\n",
              "            </tr>\n",
              "            <tr>\n",
              "                        <th id=\"T_155ea4ae_03d0_11eb_967b_0242ac1c0002level0_row12\" class=\"row_heading level0 row12\" >245</th>\n",
              "                        <td id=\"T_155ea4ae_03d0_11eb_967b_0242ac1c0002row12_col0\" class=\"data row12 col0\" >8583</td>\n",
              "                        <td id=\"T_155ea4ae_03d0_11eb_967b_0242ac1c0002row12_col1\" class=\"data row12 col1\" >COVID-19 - Oodi- Kgatleng District, Botswana</td>\n",
              "                        <td id=\"T_155ea4ae_03d0_11eb_967b_0242ac1c0002row12_col2\" class=\"data row12 col2\" >100</td>\n",
              "                        <td id=\"T_155ea4ae_03d0_11eb_967b_0242ac1c0002row12_col3\" class=\"data row12 col3\" >100</td>\n",
              "                        <td id=\"T_155ea4ae_03d0_11eb_967b_0242ac1c0002row12_col4\" class=\"data row12 col4\" >BEGINNER</td>\n",
              "                        <td id=\"T_155ea4ae_03d0_11eb_967b_0242ac1c0002row12_col5\" class=\"data row12 col5\" >ARCHIVED</td>\n",
              "                        <td id=\"T_155ea4ae_03d0_11eb_967b_0242ac1c0002row12_col6\" class=\"data row12 col6\" >LOW</td>\n",
              "            </tr>\n",
              "            <tr>\n",
              "                        <th id=\"T_155ea4ae_03d0_11eb_967b_0242ac1c0002level0_row13\" class=\"row_heading level0 row13\" >246</th>\n",
              "                        <td id=\"T_155ea4ae_03d0_11eb_967b_0242ac1c0002row13_col0\" class=\"data row13 col0\" >8584</td>\n",
              "                        <td id=\"T_155ea4ae_03d0_11eb_967b_0242ac1c0002row13_col1\" class=\"data row13 col1\" >COVID-19 - Pilane- Kgatleng District, Botswana</td>\n",
              "                        <td id=\"T_155ea4ae_03d0_11eb_967b_0242ac1c0002row13_col2\" class=\"data row13 col2\" >100</td>\n",
              "                        <td id=\"T_155ea4ae_03d0_11eb_967b_0242ac1c0002row13_col3\" class=\"data row13 col3\" >100</td>\n",
              "                        <td id=\"T_155ea4ae_03d0_11eb_967b_0242ac1c0002row13_col4\" class=\"data row13 col4\" >BEGINNER</td>\n",
              "                        <td id=\"T_155ea4ae_03d0_11eb_967b_0242ac1c0002row13_col5\" class=\"data row13 col5\" >ARCHIVED</td>\n",
              "                        <td id=\"T_155ea4ae_03d0_11eb_967b_0242ac1c0002row13_col6\" class=\"data row13 col6\" >LOW</td>\n",
              "            </tr>\n",
              "            <tr>\n",
              "                        <th id=\"T_155ea4ae_03d0_11eb_967b_0242ac1c0002level0_row14\" class=\"row_heading level0 row14\" >247</th>\n",
              "                        <td id=\"T_155ea4ae_03d0_11eb_967b_0242ac1c0002row14_col0\" class=\"data row14 col0\" >8585</td>\n",
              "                        <td id=\"T_155ea4ae_03d0_11eb_967b_0242ac1c0002row14_col1\" class=\"data row14 col1\" >COVID-19 - Ramotswa- South East District, Botswana</td>\n",
              "                        <td id=\"T_155ea4ae_03d0_11eb_967b_0242ac1c0002row14_col2\" class=\"data row14 col2\" >100</td>\n",
              "                        <td id=\"T_155ea4ae_03d0_11eb_967b_0242ac1c0002row14_col3\" class=\"data row14 col3\" >100</td>\n",
              "                        <td id=\"T_155ea4ae_03d0_11eb_967b_0242ac1c0002row14_col4\" class=\"data row14 col4\" >BEGINNER</td>\n",
              "                        <td id=\"T_155ea4ae_03d0_11eb_967b_0242ac1c0002row14_col5\" class=\"data row14 col5\" >ARCHIVED</td>\n",
              "                        <td id=\"T_155ea4ae_03d0_11eb_967b_0242ac1c0002row14_col6\" class=\"data row14 col6\" >LOW</td>\n",
              "            </tr>\n",
              "            <tr>\n",
              "                        <th id=\"T_155ea4ae_03d0_11eb_967b_0242ac1c0002level0_row15\" class=\"row_heading level0 row15\" >248</th>\n",
              "                        <td id=\"T_155ea4ae_03d0_11eb_967b_0242ac1c0002row15_col0\" class=\"data row15 col0\" >8586</td>\n",
              "                        <td id=\"T_155ea4ae_03d0_11eb_967b_0242ac1c0002row15_col1\" class=\"data row15 col1\" >COVID-19 - Rasesa- Kgatleng District, Botswana</td>\n",
              "                        <td id=\"T_155ea4ae_03d0_11eb_967b_0242ac1c0002row15_col2\" class=\"data row15 col2\" >100</td>\n",
              "                        <td id=\"T_155ea4ae_03d0_11eb_967b_0242ac1c0002row15_col3\" class=\"data row15 col3\" >100</td>\n",
              "                        <td id=\"T_155ea4ae_03d0_11eb_967b_0242ac1c0002row15_col4\" class=\"data row15 col4\" >BEGINNER</td>\n",
              "                        <td id=\"T_155ea4ae_03d0_11eb_967b_0242ac1c0002row15_col5\" class=\"data row15 col5\" >ARCHIVED</td>\n",
              "                        <td id=\"T_155ea4ae_03d0_11eb_967b_0242ac1c0002row15_col6\" class=\"data row15 col6\" >LOW</td>\n",
              "            </tr>\n",
              "            <tr>\n",
              "                        <th id=\"T_155ea4ae_03d0_11eb_967b_0242ac1c0002level0_row16\" class=\"row_heading level0 row16\" >249</th>\n",
              "                        <td id=\"T_155ea4ae_03d0_11eb_967b_0242ac1c0002row16_col0\" class=\"data row16 col0\" >8587</td>\n",
              "                        <td id=\"T_155ea4ae_03d0_11eb_967b_0242ac1c0002row16_col1\" class=\"data row16 col1\" >COVID-19 - Siviya - Masungu District, Botswana</td>\n",
              "                        <td id=\"T_155ea4ae_03d0_11eb_967b_0242ac1c0002row16_col2\" class=\"data row16 col2\" >100</td>\n",
              "                        <td id=\"T_155ea4ae_03d0_11eb_967b_0242ac1c0002row16_col3\" class=\"data row16 col3\" >100</td>\n",
              "                        <td id=\"T_155ea4ae_03d0_11eb_967b_0242ac1c0002row16_col4\" class=\"data row16 col4\" >BEGINNER</td>\n",
              "                        <td id=\"T_155ea4ae_03d0_11eb_967b_0242ac1c0002row16_col5\" class=\"data row16 col5\" >ARCHIVED</td>\n",
              "                        <td id=\"T_155ea4ae_03d0_11eb_967b_0242ac1c0002row16_col6\" class=\"data row16 col6\" >LOW</td>\n",
              "            </tr>\n",
              "            <tr>\n",
              "                        <th id=\"T_155ea4ae_03d0_11eb_967b_0242ac1c0002level0_row17\" class=\"row_heading level0 row17\" >250</th>\n",
              "                        <td id=\"T_155ea4ae_03d0_11eb_967b_0242ac1c0002row17_col0\" class=\"data row17 col0\" >8588</td>\n",
              "                        <td id=\"T_155ea4ae_03d0_11eb_967b_0242ac1c0002row17_col1\" class=\"data row17 col1\" >COVID-19 - Tlokweng - South East District, Botswana</td>\n",
              "                        <td id=\"T_155ea4ae_03d0_11eb_967b_0242ac1c0002row17_col2\" class=\"data row17 col2\" >100</td>\n",
              "                        <td id=\"T_155ea4ae_03d0_11eb_967b_0242ac1c0002row17_col3\" class=\"data row17 col3\" >100</td>\n",
              "                        <td id=\"T_155ea4ae_03d0_11eb_967b_0242ac1c0002row17_col4\" class=\"data row17 col4\" >BEGINNER</td>\n",
              "                        <td id=\"T_155ea4ae_03d0_11eb_967b_0242ac1c0002row17_col5\" class=\"data row17 col5\" >ARCHIVED</td>\n",
              "                        <td id=\"T_155ea4ae_03d0_11eb_967b_0242ac1c0002row17_col6\" class=\"data row17 col6\" >LOW</td>\n",
              "            </tr>\n",
              "            <tr>\n",
              "                        <th id=\"T_155ea4ae_03d0_11eb_967b_0242ac1c0002level0_row18\" class=\"row_heading level0 row18\" >265</th>\n",
              "                        <td id=\"T_155ea4ae_03d0_11eb_967b_0242ac1c0002row18_col0\" class=\"data row18 col0\" >8684</td>\n",
              "                        <td id=\"T_155ea4ae_03d0_11eb_967b_0242ac1c0002row18_col1\" class=\"data row18 col1\" >COVID-19 - Masungu District-01, Botswana</td>\n",
              "                        <td id=\"T_155ea4ae_03d0_11eb_967b_0242ac1c0002row18_col2\" class=\"data row18 col2\" >100</td>\n",
              "                        <td id=\"T_155ea4ae_03d0_11eb_967b_0242ac1c0002row18_col3\" class=\"data row18 col3\" >99</td>\n",
              "                        <td id=\"T_155ea4ae_03d0_11eb_967b_0242ac1c0002row18_col4\" class=\"data row18 col4\" >BEGINNER</td>\n",
              "                        <td id=\"T_155ea4ae_03d0_11eb_967b_0242ac1c0002row18_col5\" class=\"data row18 col5\" >ARCHIVED</td>\n",
              "                        <td id=\"T_155ea4ae_03d0_11eb_967b_0242ac1c0002row18_col6\" class=\"data row18 col6\" >LOW</td>\n",
              "            </tr>\n",
              "            <tr>\n",
              "                        <th id=\"T_155ea4ae_03d0_11eb_967b_0242ac1c0002level0_row19\" class=\"row_heading level0 row19\" >266</th>\n",
              "                        <td id=\"T_155ea4ae_03d0_11eb_967b_0242ac1c0002row19_col0\" class=\"data row19 col0\" >8685</td>\n",
              "                        <td id=\"T_155ea4ae_03d0_11eb_967b_0242ac1c0002row19_col1\" class=\"data row19 col1\" >COVID-19 - Masungu District-02, Botswana</td>\n",
              "                        <td id=\"T_155ea4ae_03d0_11eb_967b_0242ac1c0002row19_col2\" class=\"data row19 col2\" >100</td>\n",
              "                        <td id=\"T_155ea4ae_03d0_11eb_967b_0242ac1c0002row19_col3\" class=\"data row19 col3\" >100</td>\n",
              "                        <td id=\"T_155ea4ae_03d0_11eb_967b_0242ac1c0002row19_col4\" class=\"data row19 col4\" >BEGINNER</td>\n",
              "                        <td id=\"T_155ea4ae_03d0_11eb_967b_0242ac1c0002row19_col5\" class=\"data row19 col5\" >ARCHIVED</td>\n",
              "                        <td id=\"T_155ea4ae_03d0_11eb_967b_0242ac1c0002row19_col6\" class=\"data row19 col6\" >LOW</td>\n",
              "            </tr>\n",
              "            <tr>\n",
              "                        <th id=\"T_155ea4ae_03d0_11eb_967b_0242ac1c0002level0_row20\" class=\"row_heading level0 row20\" >267</th>\n",
              "                        <td id=\"T_155ea4ae_03d0_11eb_967b_0242ac1c0002row20_col0\" class=\"data row20 col0\" >8688</td>\n",
              "                        <td id=\"T_155ea4ae_03d0_11eb_967b_0242ac1c0002row20_col1\" class=\"data row20 col1\" >COVID-19 - Masungu District - 03, Botswana</td>\n",
              "                        <td id=\"T_155ea4ae_03d0_11eb_967b_0242ac1c0002row20_col2\" class=\"data row20 col2\" >100</td>\n",
              "                        <td id=\"T_155ea4ae_03d0_11eb_967b_0242ac1c0002row20_col3\" class=\"data row20 col3\" >100</td>\n",
              "                        <td id=\"T_155ea4ae_03d0_11eb_967b_0242ac1c0002row20_col4\" class=\"data row20 col4\" >BEGINNER</td>\n",
              "                        <td id=\"T_155ea4ae_03d0_11eb_967b_0242ac1c0002row20_col5\" class=\"data row20 col5\" >ARCHIVED</td>\n",
              "                        <td id=\"T_155ea4ae_03d0_11eb_967b_0242ac1c0002row20_col6\" class=\"data row20 col6\" >LOW</td>\n",
              "            </tr>\n",
              "            <tr>\n",
              "                        <th id=\"T_155ea4ae_03d0_11eb_967b_0242ac1c0002level0_row21\" class=\"row_heading level0 row21\" >268</th>\n",
              "                        <td id=\"T_155ea4ae_03d0_11eb_967b_0242ac1c0002row21_col0\" class=\"data row21 col0\" >8690</td>\n",
              "                        <td id=\"T_155ea4ae_03d0_11eb_967b_0242ac1c0002row21_col1\" class=\"data row21 col1\" >COVID-19 - Masungu District-04, Botswana</td>\n",
              "                        <td id=\"T_155ea4ae_03d0_11eb_967b_0242ac1c0002row21_col2\" class=\"data row21 col2\" >100</td>\n",
              "                        <td id=\"T_155ea4ae_03d0_11eb_967b_0242ac1c0002row21_col3\" class=\"data row21 col3\" >100</td>\n",
              "                        <td id=\"T_155ea4ae_03d0_11eb_967b_0242ac1c0002row21_col4\" class=\"data row21 col4\" >BEGINNER</td>\n",
              "                        <td id=\"T_155ea4ae_03d0_11eb_967b_0242ac1c0002row21_col5\" class=\"data row21 col5\" >ARCHIVED</td>\n",
              "                        <td id=\"T_155ea4ae_03d0_11eb_967b_0242ac1c0002row21_col6\" class=\"data row21 col6\" >LOW</td>\n",
              "            </tr>\n",
              "            <tr>\n",
              "                        <th id=\"T_155ea4ae_03d0_11eb_967b_0242ac1c0002level0_row22\" class=\"row_heading level0 row22\" >269</th>\n",
              "                        <td id=\"T_155ea4ae_03d0_11eb_967b_0242ac1c0002row22_col0\" class=\"data row22 col0\" >8700</td>\n",
              "                        <td id=\"T_155ea4ae_03d0_11eb_967b_0242ac1c0002row22_col1\" class=\"data row22 col1\" >COVID-19 - Barolong District-01, Botswana</td>\n",
              "                        <td id=\"T_155ea4ae_03d0_11eb_967b_0242ac1c0002row22_col2\" class=\"data row22 col2\" >100</td>\n",
              "                        <td id=\"T_155ea4ae_03d0_11eb_967b_0242ac1c0002row22_col3\" class=\"data row22 col3\" >100</td>\n",
              "                        <td id=\"T_155ea4ae_03d0_11eb_967b_0242ac1c0002row22_col4\" class=\"data row22 col4\" >BEGINNER</td>\n",
              "                        <td id=\"T_155ea4ae_03d0_11eb_967b_0242ac1c0002row22_col5\" class=\"data row22 col5\" >ARCHIVED</td>\n",
              "                        <td id=\"T_155ea4ae_03d0_11eb_967b_0242ac1c0002row22_col6\" class=\"data row22 col6\" >LOW</td>\n",
              "            </tr>\n",
              "            <tr>\n",
              "                        <th id=\"T_155ea4ae_03d0_11eb_967b_0242ac1c0002level0_row23\" class=\"row_heading level0 row23\" >270</th>\n",
              "                        <td id=\"T_155ea4ae_03d0_11eb_967b_0242ac1c0002row23_col0\" class=\"data row23 col0\" >8701</td>\n",
              "                        <td id=\"T_155ea4ae_03d0_11eb_967b_0242ac1c0002row23_col1\" class=\"data row23 col1\" >COVID-19 - Barolong District-02, Botswana</td>\n",
              "                        <td id=\"T_155ea4ae_03d0_11eb_967b_0242ac1c0002row23_col2\" class=\"data row23 col2\" >100</td>\n",
              "                        <td id=\"T_155ea4ae_03d0_11eb_967b_0242ac1c0002row23_col3\" class=\"data row23 col3\" >100</td>\n",
              "                        <td id=\"T_155ea4ae_03d0_11eb_967b_0242ac1c0002row23_col4\" class=\"data row23 col4\" >BEGINNER</td>\n",
              "                        <td id=\"T_155ea4ae_03d0_11eb_967b_0242ac1c0002row23_col5\" class=\"data row23 col5\" >ARCHIVED</td>\n",
              "                        <td id=\"T_155ea4ae_03d0_11eb_967b_0242ac1c0002row23_col6\" class=\"data row23 col6\" >LOW</td>\n",
              "            </tr>\n",
              "            <tr>\n",
              "                        <th id=\"T_155ea4ae_03d0_11eb_967b_0242ac1c0002level0_row24\" class=\"row_heading level0 row24\" >271</th>\n",
              "                        <td id=\"T_155ea4ae_03d0_11eb_967b_0242ac1c0002row24_col0\" class=\"data row24 col0\" >8702</td>\n",
              "                        <td id=\"T_155ea4ae_03d0_11eb_967b_0242ac1c0002row24_col1\" class=\"data row24 col1\" >COVID-19 - Masungu District-05, Botswana</td>\n",
              "                        <td id=\"T_155ea4ae_03d0_11eb_967b_0242ac1c0002row24_col2\" class=\"data row24 col2\" >100</td>\n",
              "                        <td id=\"T_155ea4ae_03d0_11eb_967b_0242ac1c0002row24_col3\" class=\"data row24 col3\" >100</td>\n",
              "                        <td id=\"T_155ea4ae_03d0_11eb_967b_0242ac1c0002row24_col4\" class=\"data row24 col4\" >BEGINNER</td>\n",
              "                        <td id=\"T_155ea4ae_03d0_11eb_967b_0242ac1c0002row24_col5\" class=\"data row24 col5\" >ARCHIVED</td>\n",
              "                        <td id=\"T_155ea4ae_03d0_11eb_967b_0242ac1c0002row24_col6\" class=\"data row24 col6\" >LOW</td>\n",
              "            </tr>\n",
              "            <tr>\n",
              "                        <th id=\"T_155ea4ae_03d0_11eb_967b_0242ac1c0002level0_row25\" class=\"row_heading level0 row25\" >272</th>\n",
              "                        <td id=\"T_155ea4ae_03d0_11eb_967b_0242ac1c0002row25_col0\" class=\"data row25 col0\" >8703</td>\n",
              "                        <td id=\"T_155ea4ae_03d0_11eb_967b_0242ac1c0002row25_col1\" class=\"data row25 col1\" >COVID-19-Masungu District-06, Botswana</td>\n",
              "                        <td id=\"T_155ea4ae_03d0_11eb_967b_0242ac1c0002row25_col2\" class=\"data row25 col2\" >100</td>\n",
              "                        <td id=\"T_155ea4ae_03d0_11eb_967b_0242ac1c0002row25_col3\" class=\"data row25 col3\" >100</td>\n",
              "                        <td id=\"T_155ea4ae_03d0_11eb_967b_0242ac1c0002row25_col4\" class=\"data row25 col4\" >BEGINNER</td>\n",
              "                        <td id=\"T_155ea4ae_03d0_11eb_967b_0242ac1c0002row25_col5\" class=\"data row25 col5\" >ARCHIVED</td>\n",
              "                        <td id=\"T_155ea4ae_03d0_11eb_967b_0242ac1c0002row25_col6\" class=\"data row25 col6\" >LOW</td>\n",
              "            </tr>\n",
              "            <tr>\n",
              "                        <th id=\"T_155ea4ae_03d0_11eb_967b_0242ac1c0002level0_row26\" class=\"row_heading level0 row26\" >273</th>\n",
              "                        <td id=\"T_155ea4ae_03d0_11eb_967b_0242ac1c0002row26_col0\" class=\"data row26 col0\" >8704</td>\n",
              "                        <td id=\"T_155ea4ae_03d0_11eb_967b_0242ac1c0002row26_col1\" class=\"data row26 col1\" >COVID-19-Masungu District-07, Botswana</td>\n",
              "                        <td id=\"T_155ea4ae_03d0_11eb_967b_0242ac1c0002row26_col2\" class=\"data row26 col2\" >100</td>\n",
              "                        <td id=\"T_155ea4ae_03d0_11eb_967b_0242ac1c0002row26_col3\" class=\"data row26 col3\" >100</td>\n",
              "                        <td id=\"T_155ea4ae_03d0_11eb_967b_0242ac1c0002row26_col4\" class=\"data row26 col4\" >BEGINNER</td>\n",
              "                        <td id=\"T_155ea4ae_03d0_11eb_967b_0242ac1c0002row26_col5\" class=\"data row26 col5\" >PUBLISHED</td>\n",
              "                        <td id=\"T_155ea4ae_03d0_11eb_967b_0242ac1c0002row26_col6\" class=\"data row26 col6\" >LOW</td>\n",
              "            </tr>\n",
              "            <tr>\n",
              "                        <th id=\"T_155ea4ae_03d0_11eb_967b_0242ac1c0002level0_row27\" class=\"row_heading level0 row27\" >274</th>\n",
              "                        <td id=\"T_155ea4ae_03d0_11eb_967b_0242ac1c0002row27_col0\" class=\"data row27 col0\" >8705</td>\n",
              "                        <td id=\"T_155ea4ae_03d0_11eb_967b_0242ac1c0002row27_col1\" class=\"data row27 col1\" >COVID-19-Masungu District-08, Botswana</td>\n",
              "                        <td id=\"T_155ea4ae_03d0_11eb_967b_0242ac1c0002row27_col2\" class=\"data row27 col2\" >100</td>\n",
              "                        <td id=\"T_155ea4ae_03d0_11eb_967b_0242ac1c0002row27_col3\" class=\"data row27 col3\" >100</td>\n",
              "                        <td id=\"T_155ea4ae_03d0_11eb_967b_0242ac1c0002row27_col4\" class=\"data row27 col4\" >BEGINNER</td>\n",
              "                        <td id=\"T_155ea4ae_03d0_11eb_967b_0242ac1c0002row27_col5\" class=\"data row27 col5\" >ARCHIVED</td>\n",
              "                        <td id=\"T_155ea4ae_03d0_11eb_967b_0242ac1c0002row27_col6\" class=\"data row27 col6\" >LOW</td>\n",
              "            </tr>\n",
              "            <tr>\n",
              "                        <th id=\"T_155ea4ae_03d0_11eb_967b_0242ac1c0002level0_row28\" class=\"row_heading level0 row28\" >275</th>\n",
              "                        <td id=\"T_155ea4ae_03d0_11eb_967b_0242ac1c0002row28_col0\" class=\"data row28 col0\" >8706</td>\n",
              "                        <td id=\"T_155ea4ae_03d0_11eb_967b_0242ac1c0002row28_col1\" class=\"data row28 col1\" >COVID-19-Masungu District-09, Botswana</td>\n",
              "                        <td id=\"T_155ea4ae_03d0_11eb_967b_0242ac1c0002row28_col2\" class=\"data row28 col2\" >100</td>\n",
              "                        <td id=\"T_155ea4ae_03d0_11eb_967b_0242ac1c0002row28_col3\" class=\"data row28 col3\" >100</td>\n",
              "                        <td id=\"T_155ea4ae_03d0_11eb_967b_0242ac1c0002row28_col4\" class=\"data row28 col4\" >BEGINNER</td>\n",
              "                        <td id=\"T_155ea4ae_03d0_11eb_967b_0242ac1c0002row28_col5\" class=\"data row28 col5\" >ARCHIVED</td>\n",
              "                        <td id=\"T_155ea4ae_03d0_11eb_967b_0242ac1c0002row28_col6\" class=\"data row28 col6\" >LOW</td>\n",
              "            </tr>\n",
              "            <tr>\n",
              "                        <th id=\"T_155ea4ae_03d0_11eb_967b_0242ac1c0002level0_row29\" class=\"row_heading level0 row29\" >276</th>\n",
              "                        <td id=\"T_155ea4ae_03d0_11eb_967b_0242ac1c0002row29_col0\" class=\"data row29 col0\" >8707</td>\n",
              "                        <td id=\"T_155ea4ae_03d0_11eb_967b_0242ac1c0002row29_col1\" class=\"data row29 col1\" >COVID-19 - Pilane- Kgatleng District, Botswana</td>\n",
              "                        <td id=\"T_155ea4ae_03d0_11eb_967b_0242ac1c0002row29_col2\" class=\"data row29 col2\" >100</td>\n",
              "                        <td id=\"T_155ea4ae_03d0_11eb_967b_0242ac1c0002row29_col3\" class=\"data row29 col3\" >100</td>\n",
              "                        <td id=\"T_155ea4ae_03d0_11eb_967b_0242ac1c0002row29_col4\" class=\"data row29 col4\" >BEGINNER</td>\n",
              "                        <td id=\"T_155ea4ae_03d0_11eb_967b_0242ac1c0002row29_col5\" class=\"data row29 col5\" >ARCHIVED</td>\n",
              "                        <td id=\"T_155ea4ae_03d0_11eb_967b_0242ac1c0002row29_col6\" class=\"data row29 col6\" >LOW</td>\n",
              "            </tr>\n",
              "            <tr>\n",
              "                        <th id=\"T_155ea4ae_03d0_11eb_967b_0242ac1c0002level0_row30\" class=\"row_heading level0 row30\" >278</th>\n",
              "                        <td id=\"T_155ea4ae_03d0_11eb_967b_0242ac1c0002row30_col0\" class=\"data row30 col0\" >8763</td>\n",
              "                        <td id=\"T_155ea4ae_03d0_11eb_967b_0242ac1c0002row30_col1\" class=\"data row30 col1\" >COVID -19-Ngwatsek District-01, Botswana</td>\n",
              "                        <td id=\"T_155ea4ae_03d0_11eb_967b_0242ac1c0002row30_col2\" class=\"data row30 col2\" >100</td>\n",
              "                        <td id=\"T_155ea4ae_03d0_11eb_967b_0242ac1c0002row30_col3\" class=\"data row30 col3\" >100</td>\n",
              "                        <td id=\"T_155ea4ae_03d0_11eb_967b_0242ac1c0002row30_col4\" class=\"data row30 col4\" >BEGINNER</td>\n",
              "                        <td id=\"T_155ea4ae_03d0_11eb_967b_0242ac1c0002row30_col5\" class=\"data row30 col5\" >ARCHIVED</td>\n",
              "                        <td id=\"T_155ea4ae_03d0_11eb_967b_0242ac1c0002row30_col6\" class=\"data row30 col6\" >LOW</td>\n",
              "            </tr>\n",
              "            <tr>\n",
              "                        <th id=\"T_155ea4ae_03d0_11eb_967b_0242ac1c0002level0_row31\" class=\"row_heading level0 row31\" >279</th>\n",
              "                        <td id=\"T_155ea4ae_03d0_11eb_967b_0242ac1c0002row31_col0\" class=\"data row31 col0\" >8764</td>\n",
              "                        <td id=\"T_155ea4ae_03d0_11eb_967b_0242ac1c0002row31_col1\" class=\"data row31 col1\" >COVID -19-Ngwatsek District-02, Botswana</td>\n",
              "                        <td id=\"T_155ea4ae_03d0_11eb_967b_0242ac1c0002row31_col2\" class=\"data row31 col2\" >100</td>\n",
              "                        <td id=\"T_155ea4ae_03d0_11eb_967b_0242ac1c0002row31_col3\" class=\"data row31 col3\" >100</td>\n",
              "                        <td id=\"T_155ea4ae_03d0_11eb_967b_0242ac1c0002row31_col4\" class=\"data row31 col4\" >BEGINNER</td>\n",
              "                        <td id=\"T_155ea4ae_03d0_11eb_967b_0242ac1c0002row31_col5\" class=\"data row31 col5\" >ARCHIVED</td>\n",
              "                        <td id=\"T_155ea4ae_03d0_11eb_967b_0242ac1c0002row31_col6\" class=\"data row31 col6\" >LOW</td>\n",
              "            </tr>\n",
              "            <tr>\n",
              "                        <th id=\"T_155ea4ae_03d0_11eb_967b_0242ac1c0002level0_row32\" class=\"row_heading level0 row32\" >280</th>\n",
              "                        <td id=\"T_155ea4ae_03d0_11eb_967b_0242ac1c0002row32_col0\" class=\"data row32 col0\" >8765</td>\n",
              "                        <td id=\"T_155ea4ae_03d0_11eb_967b_0242ac1c0002row32_col1\" class=\"data row32 col1\" >COVID -19-Ngwatsek District-03, Botswana</td>\n",
              "                        <td id=\"T_155ea4ae_03d0_11eb_967b_0242ac1c0002row32_col2\" class=\"data row32 col2\" >99</td>\n",
              "                        <td id=\"T_155ea4ae_03d0_11eb_967b_0242ac1c0002row32_col3\" class=\"data row32 col3\" >99</td>\n",
              "                        <td id=\"T_155ea4ae_03d0_11eb_967b_0242ac1c0002row32_col4\" class=\"data row32 col4\" >BEGINNER</td>\n",
              "                        <td id=\"T_155ea4ae_03d0_11eb_967b_0242ac1c0002row32_col5\" class=\"data row32 col5\" >ARCHIVED</td>\n",
              "                        <td id=\"T_155ea4ae_03d0_11eb_967b_0242ac1c0002row32_col6\" class=\"data row32 col6\" >LOW</td>\n",
              "            </tr>\n",
              "            <tr>\n",
              "                        <th id=\"T_155ea4ae_03d0_11eb_967b_0242ac1c0002level0_row33\" class=\"row_heading level0 row33\" >282</th>\n",
              "                        <td id=\"T_155ea4ae_03d0_11eb_967b_0242ac1c0002row33_col0\" class=\"data row33 col0\" >8767</td>\n",
              "                        <td id=\"T_155ea4ae_03d0_11eb_967b_0242ac1c0002row33_col1\" class=\"data row33 col1\" >COVID -19-Machaneng District-01, Botswana</td>\n",
              "                        <td id=\"T_155ea4ae_03d0_11eb_967b_0242ac1c0002row33_col2\" class=\"data row33 col2\" >100</td>\n",
              "                        <td id=\"T_155ea4ae_03d0_11eb_967b_0242ac1c0002row33_col3\" class=\"data row33 col3\" >100</td>\n",
              "                        <td id=\"T_155ea4ae_03d0_11eb_967b_0242ac1c0002row33_col4\" class=\"data row33 col4\" >BEGINNER</td>\n",
              "                        <td id=\"T_155ea4ae_03d0_11eb_967b_0242ac1c0002row33_col5\" class=\"data row33 col5\" >ARCHIVED</td>\n",
              "                        <td id=\"T_155ea4ae_03d0_11eb_967b_0242ac1c0002row33_col6\" class=\"data row33 col6\" >LOW</td>\n",
              "            </tr>\n",
              "            <tr>\n",
              "                        <th id=\"T_155ea4ae_03d0_11eb_967b_0242ac1c0002level0_row34\" class=\"row_heading level0 row34\" >283</th>\n",
              "                        <td id=\"T_155ea4ae_03d0_11eb_967b_0242ac1c0002row34_col0\" class=\"data row34 col0\" >8768</td>\n",
              "                        <td id=\"T_155ea4ae_03d0_11eb_967b_0242ac1c0002row34_col1\" class=\"data row34 col1\" >COVID -19-Machaneng District-02, Botswana</td>\n",
              "                        <td id=\"T_155ea4ae_03d0_11eb_967b_0242ac1c0002row34_col2\" class=\"data row34 col2\" >100</td>\n",
              "                        <td id=\"T_155ea4ae_03d0_11eb_967b_0242ac1c0002row34_col3\" class=\"data row34 col3\" >100</td>\n",
              "                        <td id=\"T_155ea4ae_03d0_11eb_967b_0242ac1c0002row34_col4\" class=\"data row34 col4\" >BEGINNER</td>\n",
              "                        <td id=\"T_155ea4ae_03d0_11eb_967b_0242ac1c0002row34_col5\" class=\"data row34 col5\" >ARCHIVED</td>\n",
              "                        <td id=\"T_155ea4ae_03d0_11eb_967b_0242ac1c0002row34_col6\" class=\"data row34 col6\" >LOW</td>\n",
              "            </tr>\n",
              "            <tr>\n",
              "                        <th id=\"T_155ea4ae_03d0_11eb_967b_0242ac1c0002level0_row35\" class=\"row_heading level0 row35\" >286</th>\n",
              "                        <td id=\"T_155ea4ae_03d0_11eb_967b_0242ac1c0002row35_col0\" class=\"data row35 col0\" >8806</td>\n",
              "                        <td id=\"T_155ea4ae_03d0_11eb_967b_0242ac1c0002row35_col1\" class=\"data row35 col1\" >COVID -19-Machaneng District-03, Botswana</td>\n",
              "                        <td id=\"T_155ea4ae_03d0_11eb_967b_0242ac1c0002row35_col2\" class=\"data row35 col2\" >100</td>\n",
              "                        <td id=\"T_155ea4ae_03d0_11eb_967b_0242ac1c0002row35_col3\" class=\"data row35 col3\" >100</td>\n",
              "                        <td id=\"T_155ea4ae_03d0_11eb_967b_0242ac1c0002row35_col4\" class=\"data row35 col4\" >BEGINNER</td>\n",
              "                        <td id=\"T_155ea4ae_03d0_11eb_967b_0242ac1c0002row35_col5\" class=\"data row35 col5\" >ARCHIVED</td>\n",
              "                        <td id=\"T_155ea4ae_03d0_11eb_967b_0242ac1c0002row35_col6\" class=\"data row35 col6\" >LOW</td>\n",
              "            </tr>\n",
              "            <tr>\n",
              "                        <th id=\"T_155ea4ae_03d0_11eb_967b_0242ac1c0002level0_row36\" class=\"row_heading level0 row36\" >287</th>\n",
              "                        <td id=\"T_155ea4ae_03d0_11eb_967b_0242ac1c0002row36_col0\" class=\"data row36 col0\" >8811</td>\n",
              "                        <td id=\"T_155ea4ae_03d0_11eb_967b_0242ac1c0002row36_col1\" class=\"data row36 col1\" >COVID -19-Machaneng District-04, Botswana</td>\n",
              "                        <td id=\"T_155ea4ae_03d0_11eb_967b_0242ac1c0002row36_col2\" class=\"data row36 col2\" >100</td>\n",
              "                        <td id=\"T_155ea4ae_03d0_11eb_967b_0242ac1c0002row36_col3\" class=\"data row36 col3\" >100</td>\n",
              "                        <td id=\"T_155ea4ae_03d0_11eb_967b_0242ac1c0002row36_col4\" class=\"data row36 col4\" >BEGINNER</td>\n",
              "                        <td id=\"T_155ea4ae_03d0_11eb_967b_0242ac1c0002row36_col5\" class=\"data row36 col5\" >ARCHIVED</td>\n",
              "                        <td id=\"T_155ea4ae_03d0_11eb_967b_0242ac1c0002row36_col6\" class=\"data row36 col6\" >LOW</td>\n",
              "            </tr>\n",
              "            <tr>\n",
              "                        <th id=\"T_155ea4ae_03d0_11eb_967b_0242ac1c0002level0_row37\" class=\"row_heading level0 row37\" >288</th>\n",
              "                        <td id=\"T_155ea4ae_03d0_11eb_967b_0242ac1c0002row37_col0\" class=\"data row37 col0\" >8812</td>\n",
              "                        <td id=\"T_155ea4ae_03d0_11eb_967b_0242ac1c0002row37_col1\" class=\"data row37 col1\" >COVID -19-Machaneng District-05, Botswana</td>\n",
              "                        <td id=\"T_155ea4ae_03d0_11eb_967b_0242ac1c0002row37_col2\" class=\"data row37 col2\" >100</td>\n",
              "                        <td id=\"T_155ea4ae_03d0_11eb_967b_0242ac1c0002row37_col3\" class=\"data row37 col3\" >100</td>\n",
              "                        <td id=\"T_155ea4ae_03d0_11eb_967b_0242ac1c0002row37_col4\" class=\"data row37 col4\" >BEGINNER</td>\n",
              "                        <td id=\"T_155ea4ae_03d0_11eb_967b_0242ac1c0002row37_col5\" class=\"data row37 col5\" >PUBLISHED</td>\n",
              "                        <td id=\"T_155ea4ae_03d0_11eb_967b_0242ac1c0002row37_col6\" class=\"data row37 col6\" >LOW</td>\n",
              "            </tr>\n",
              "            <tr>\n",
              "                        <th id=\"T_155ea4ae_03d0_11eb_967b_0242ac1c0002level0_row38\" class=\"row_heading level0 row38\" >294</th>\n",
              "                        <td id=\"T_155ea4ae_03d0_11eb_967b_0242ac1c0002row38_col0\" class=\"data row38 col0\" >8869</td>\n",
              "                        <td id=\"T_155ea4ae_03d0_11eb_967b_0242ac1c0002row38_col1\" class=\"data row38 col1\" >COVID -19-Tuli District-01, Botswana</td>\n",
              "                        <td id=\"T_155ea4ae_03d0_11eb_967b_0242ac1c0002row38_col2\" class=\"data row38 col2\" >100</td>\n",
              "                        <td id=\"T_155ea4ae_03d0_11eb_967b_0242ac1c0002row38_col3\" class=\"data row38 col3\" >100</td>\n",
              "                        <td id=\"T_155ea4ae_03d0_11eb_967b_0242ac1c0002row38_col4\" class=\"data row38 col4\" >BEGINNER</td>\n",
              "                        <td id=\"T_155ea4ae_03d0_11eb_967b_0242ac1c0002row38_col5\" class=\"data row38 col5\" >ARCHIVED</td>\n",
              "                        <td id=\"T_155ea4ae_03d0_11eb_967b_0242ac1c0002row38_col6\" class=\"data row38 col6\" >LOW</td>\n",
              "            </tr>\n",
              "            <tr>\n",
              "                        <th id=\"T_155ea4ae_03d0_11eb_967b_0242ac1c0002level0_row39\" class=\"row_heading level0 row39\" >295</th>\n",
              "                        <td id=\"T_155ea4ae_03d0_11eb_967b_0242ac1c0002row39_col0\" class=\"data row39 col0\" >8870</td>\n",
              "                        <td id=\"T_155ea4ae_03d0_11eb_967b_0242ac1c0002row39_col1\" class=\"data row39 col1\" >COVID -19-Tuli District-02, Botswana</td>\n",
              "                        <td id=\"T_155ea4ae_03d0_11eb_967b_0242ac1c0002row39_col2\" class=\"data row39 col2\" >100</td>\n",
              "                        <td id=\"T_155ea4ae_03d0_11eb_967b_0242ac1c0002row39_col3\" class=\"data row39 col3\" >100</td>\n",
              "                        <td id=\"T_155ea4ae_03d0_11eb_967b_0242ac1c0002row39_col4\" class=\"data row39 col4\" >BEGINNER</td>\n",
              "                        <td id=\"T_155ea4ae_03d0_11eb_967b_0242ac1c0002row39_col5\" class=\"data row39 col5\" >ARCHIVED</td>\n",
              "                        <td id=\"T_155ea4ae_03d0_11eb_967b_0242ac1c0002row39_col6\" class=\"data row39 col6\" >LOW</td>\n",
              "            </tr>\n",
              "            <tr>\n",
              "                        <th id=\"T_155ea4ae_03d0_11eb_967b_0242ac1c0002level0_row40\" class=\"row_heading level0 row40\" >296</th>\n",
              "                        <td id=\"T_155ea4ae_03d0_11eb_967b_0242ac1c0002row40_col0\" class=\"data row40 col0\" >8871</td>\n",
              "                        <td id=\"T_155ea4ae_03d0_11eb_967b_0242ac1c0002row40_col1\" class=\"data row40 col1\" >COVID -19-Tuli District-03, Botswana</td>\n",
              "                        <td id=\"T_155ea4ae_03d0_11eb_967b_0242ac1c0002row40_col2\" class=\"data row40 col2\" >100</td>\n",
              "                        <td id=\"T_155ea4ae_03d0_11eb_967b_0242ac1c0002row40_col3\" class=\"data row40 col3\" >100</td>\n",
              "                        <td id=\"T_155ea4ae_03d0_11eb_967b_0242ac1c0002row40_col4\" class=\"data row40 col4\" >BEGINNER</td>\n",
              "                        <td id=\"T_155ea4ae_03d0_11eb_967b_0242ac1c0002row40_col5\" class=\"data row40 col5\" >ARCHIVED</td>\n",
              "                        <td id=\"T_155ea4ae_03d0_11eb_967b_0242ac1c0002row40_col6\" class=\"data row40 col6\" >LOW</td>\n",
              "            </tr>\n",
              "            <tr>\n",
              "                        <th id=\"T_155ea4ae_03d0_11eb_967b_0242ac1c0002level0_row41\" class=\"row_heading level0 row41\" >297</th>\n",
              "                        <td id=\"T_155ea4ae_03d0_11eb_967b_0242ac1c0002row41_col0\" class=\"data row41 col0\" >8872</td>\n",
              "                        <td id=\"T_155ea4ae_03d0_11eb_967b_0242ac1c0002row41_col1\" class=\"data row41 col1\" >COVID -19-Tuli District-04, Botswana</td>\n",
              "                        <td id=\"T_155ea4ae_03d0_11eb_967b_0242ac1c0002row41_col2\" class=\"data row41 col2\" >100</td>\n",
              "                        <td id=\"T_155ea4ae_03d0_11eb_967b_0242ac1c0002row41_col3\" class=\"data row41 col3\" >100</td>\n",
              "                        <td id=\"T_155ea4ae_03d0_11eb_967b_0242ac1c0002row41_col4\" class=\"data row41 col4\" >BEGINNER</td>\n",
              "                        <td id=\"T_155ea4ae_03d0_11eb_967b_0242ac1c0002row41_col5\" class=\"data row41 col5\" >ARCHIVED</td>\n",
              "                        <td id=\"T_155ea4ae_03d0_11eb_967b_0242ac1c0002row41_col6\" class=\"data row41 col6\" >LOW</td>\n",
              "            </tr>\n",
              "            <tr>\n",
              "                        <th id=\"T_155ea4ae_03d0_11eb_967b_0242ac1c0002level0_row42\" class=\"row_heading level0 row42\" >299</th>\n",
              "                        <td id=\"T_155ea4ae_03d0_11eb_967b_0242ac1c0002row42_col0\" class=\"data row42 col0\" >8889</td>\n",
              "                        <td id=\"T_155ea4ae_03d0_11eb_967b_0242ac1c0002row42_col1\" class=\"data row42 col1\" >COVID -19-Kgatleng District-01, Botswana</td>\n",
              "                        <td id=\"T_155ea4ae_03d0_11eb_967b_0242ac1c0002row42_col2\" class=\"data row42 col2\" >100</td>\n",
              "                        <td id=\"T_155ea4ae_03d0_11eb_967b_0242ac1c0002row42_col3\" class=\"data row42 col3\" >100</td>\n",
              "                        <td id=\"T_155ea4ae_03d0_11eb_967b_0242ac1c0002row42_col4\" class=\"data row42 col4\" >BEGINNER</td>\n",
              "                        <td id=\"T_155ea4ae_03d0_11eb_967b_0242ac1c0002row42_col5\" class=\"data row42 col5\" >ARCHIVED</td>\n",
              "                        <td id=\"T_155ea4ae_03d0_11eb_967b_0242ac1c0002row42_col6\" class=\"data row42 col6\" >LOW</td>\n",
              "            </tr>\n",
              "            <tr>\n",
              "                        <th id=\"T_155ea4ae_03d0_11eb_967b_0242ac1c0002level0_row43\" class=\"row_heading level0 row43\" >300</th>\n",
              "                        <td id=\"T_155ea4ae_03d0_11eb_967b_0242ac1c0002row43_col0\" class=\"data row43 col0\" >8890</td>\n",
              "                        <td id=\"T_155ea4ae_03d0_11eb_967b_0242ac1c0002row43_col1\" class=\"data row43 col1\" >COVID -19-Kgatleng District-02, Botswana</td>\n",
              "                        <td id=\"T_155ea4ae_03d0_11eb_967b_0242ac1c0002row43_col2\" class=\"data row43 col2\" >100</td>\n",
              "                        <td id=\"T_155ea4ae_03d0_11eb_967b_0242ac1c0002row43_col3\" class=\"data row43 col3\" >100</td>\n",
              "                        <td id=\"T_155ea4ae_03d0_11eb_967b_0242ac1c0002row43_col4\" class=\"data row43 col4\" >BEGINNER</td>\n",
              "                        <td id=\"T_155ea4ae_03d0_11eb_967b_0242ac1c0002row43_col5\" class=\"data row43 col5\" >ARCHIVED</td>\n",
              "                        <td id=\"T_155ea4ae_03d0_11eb_967b_0242ac1c0002row43_col6\" class=\"data row43 col6\" >LOW</td>\n",
              "            </tr>\n",
              "            <tr>\n",
              "                        <th id=\"T_155ea4ae_03d0_11eb_967b_0242ac1c0002level0_row44\" class=\"row_heading level0 row44\" >301</th>\n",
              "                        <td id=\"T_155ea4ae_03d0_11eb_967b_0242ac1c0002row44_col0\" class=\"data row44 col0\" >8891</td>\n",
              "                        <td id=\"T_155ea4ae_03d0_11eb_967b_0242ac1c0002row44_col1\" class=\"data row44 col1\" >COVID -19-Kgatleng District-03, Botswana</td>\n",
              "                        <td id=\"T_155ea4ae_03d0_11eb_967b_0242ac1c0002row44_col2\" class=\"data row44 col2\" >100</td>\n",
              "                        <td id=\"T_155ea4ae_03d0_11eb_967b_0242ac1c0002row44_col3\" class=\"data row44 col3\" >100</td>\n",
              "                        <td id=\"T_155ea4ae_03d0_11eb_967b_0242ac1c0002row44_col4\" class=\"data row44 col4\" >BEGINNER</td>\n",
              "                        <td id=\"T_155ea4ae_03d0_11eb_967b_0242ac1c0002row44_col5\" class=\"data row44 col5\" >ARCHIVED</td>\n",
              "                        <td id=\"T_155ea4ae_03d0_11eb_967b_0242ac1c0002row44_col6\" class=\"data row44 col6\" >LOW</td>\n",
              "            </tr>\n",
              "            <tr>\n",
              "                        <th id=\"T_155ea4ae_03d0_11eb_967b_0242ac1c0002level0_row45\" class=\"row_heading level0 row45\" >302</th>\n",
              "                        <td id=\"T_155ea4ae_03d0_11eb_967b_0242ac1c0002row45_col0\" class=\"data row45 col0\" >8892</td>\n",
              "                        <td id=\"T_155ea4ae_03d0_11eb_967b_0242ac1c0002row45_col1\" class=\"data row45 col1\" >COVID -19-Kgatleng District-04, Botswana</td>\n",
              "                        <td id=\"T_155ea4ae_03d0_11eb_967b_0242ac1c0002row45_col2\" class=\"data row45 col2\" >100</td>\n",
              "                        <td id=\"T_155ea4ae_03d0_11eb_967b_0242ac1c0002row45_col3\" class=\"data row45 col3\" >100</td>\n",
              "                        <td id=\"T_155ea4ae_03d0_11eb_967b_0242ac1c0002row45_col4\" class=\"data row45 col4\" >BEGINNER</td>\n",
              "                        <td id=\"T_155ea4ae_03d0_11eb_967b_0242ac1c0002row45_col5\" class=\"data row45 col5\" >ARCHIVED</td>\n",
              "                        <td id=\"T_155ea4ae_03d0_11eb_967b_0242ac1c0002row45_col6\" class=\"data row45 col6\" >LOW</td>\n",
              "            </tr>\n",
              "            <tr>\n",
              "                        <th id=\"T_155ea4ae_03d0_11eb_967b_0242ac1c0002level0_row46\" class=\"row_heading level0 row46\" >303</th>\n",
              "                        <td id=\"T_155ea4ae_03d0_11eb_967b_0242ac1c0002row46_col0\" class=\"data row46 col0\" >8894</td>\n",
              "                        <td id=\"T_155ea4ae_03d0_11eb_967b_0242ac1c0002row46_col1\" class=\"data row46 col1\" >COVID -19-Kgatleng District-05, Botswana</td>\n",
              "                        <td id=\"T_155ea4ae_03d0_11eb_967b_0242ac1c0002row46_col2\" class=\"data row46 col2\" >100</td>\n",
              "                        <td id=\"T_155ea4ae_03d0_11eb_967b_0242ac1c0002row46_col3\" class=\"data row46 col3\" >100</td>\n",
              "                        <td id=\"T_155ea4ae_03d0_11eb_967b_0242ac1c0002row46_col4\" class=\"data row46 col4\" >BEGINNER</td>\n",
              "                        <td id=\"T_155ea4ae_03d0_11eb_967b_0242ac1c0002row46_col5\" class=\"data row46 col5\" >ARCHIVED</td>\n",
              "                        <td id=\"T_155ea4ae_03d0_11eb_967b_0242ac1c0002row46_col6\" class=\"data row46 col6\" >LOW</td>\n",
              "            </tr>\n",
              "            <tr>\n",
              "                        <th id=\"T_155ea4ae_03d0_11eb_967b_0242ac1c0002level0_row47\" class=\"row_heading level0 row47\" >304</th>\n",
              "                        <td id=\"T_155ea4ae_03d0_11eb_967b_0242ac1c0002row47_col0\" class=\"data row47 col0\" >8903</td>\n",
              "                        <td id=\"T_155ea4ae_03d0_11eb_967b_0242ac1c0002row47_col1\" class=\"data row47 col1\" >COVID -19-Kgatleng District-06, Botswana</td>\n",
              "                        <td id=\"T_155ea4ae_03d0_11eb_967b_0242ac1c0002row47_col2\" class=\"data row47 col2\" >99</td>\n",
              "                        <td id=\"T_155ea4ae_03d0_11eb_967b_0242ac1c0002row47_col3\" class=\"data row47 col3\" >99</td>\n",
              "                        <td id=\"T_155ea4ae_03d0_11eb_967b_0242ac1c0002row47_col4\" class=\"data row47 col4\" >BEGINNER</td>\n",
              "                        <td id=\"T_155ea4ae_03d0_11eb_967b_0242ac1c0002row47_col5\" class=\"data row47 col5\" >ARCHIVED</td>\n",
              "                        <td id=\"T_155ea4ae_03d0_11eb_967b_0242ac1c0002row47_col6\" class=\"data row47 col6\" >LOW</td>\n",
              "            </tr>\n",
              "            <tr>\n",
              "                        <th id=\"T_155ea4ae_03d0_11eb_967b_0242ac1c0002level0_row48\" class=\"row_heading level0 row48\" >305</th>\n",
              "                        <td id=\"T_155ea4ae_03d0_11eb_967b_0242ac1c0002row48_col0\" class=\"data row48 col0\" >8904</td>\n",
              "                        <td id=\"T_155ea4ae_03d0_11eb_967b_0242ac1c0002row48_col1\" class=\"data row48 col1\" >COVID -19-Kgatleng District-07, Botswana</td>\n",
              "                        <td id=\"T_155ea4ae_03d0_11eb_967b_0242ac1c0002row48_col2\" class=\"data row48 col2\" >100</td>\n",
              "                        <td id=\"T_155ea4ae_03d0_11eb_967b_0242ac1c0002row48_col3\" class=\"data row48 col3\" >100</td>\n",
              "                        <td id=\"T_155ea4ae_03d0_11eb_967b_0242ac1c0002row48_col4\" class=\"data row48 col4\" >BEGINNER</td>\n",
              "                        <td id=\"T_155ea4ae_03d0_11eb_967b_0242ac1c0002row48_col5\" class=\"data row48 col5\" >ARCHIVED</td>\n",
              "                        <td id=\"T_155ea4ae_03d0_11eb_967b_0242ac1c0002row48_col6\" class=\"data row48 col6\" >LOW</td>\n",
              "            </tr>\n",
              "            <tr>\n",
              "                        <th id=\"T_155ea4ae_03d0_11eb_967b_0242ac1c0002level0_row49\" class=\"row_heading level0 row49\" >309</th>\n",
              "                        <td id=\"T_155ea4ae_03d0_11eb_967b_0242ac1c0002row49_col0\" class=\"data row49 col0\" >8954</td>\n",
              "                        <td id=\"T_155ea4ae_03d0_11eb_967b_0242ac1c0002row49_col1\" class=\"data row49 col1\" >COVID-19-Ghanzi District-01, Botswana</td>\n",
              "                        <td id=\"T_155ea4ae_03d0_11eb_967b_0242ac1c0002row49_col2\" class=\"data row49 col2\" >22</td>\n",
              "                        <td id=\"T_155ea4ae_03d0_11eb_967b_0242ac1c0002row49_col3\" class=\"data row49 col3\" >0</td>\n",
              "                        <td id=\"T_155ea4ae_03d0_11eb_967b_0242ac1c0002row49_col4\" class=\"data row49 col4\" >BEGINNER</td>\n",
              "                        <td id=\"T_155ea4ae_03d0_11eb_967b_0242ac1c0002row49_col5\" class=\"data row49 col5\" >ARCHIVED</td>\n",
              "                        <td id=\"T_155ea4ae_03d0_11eb_967b_0242ac1c0002row49_col6\" class=\"data row49 col6\" >LOW</td>\n",
              "            </tr>\n",
              "            <tr>\n",
              "                        <th id=\"T_155ea4ae_03d0_11eb_967b_0242ac1c0002level0_row50\" class=\"row_heading level0 row50\" >310</th>\n",
              "                        <td id=\"T_155ea4ae_03d0_11eb_967b_0242ac1c0002row50_col0\" class=\"data row50 col0\" >8955</td>\n",
              "                        <td id=\"T_155ea4ae_03d0_11eb_967b_0242ac1c0002row50_col1\" class=\"data row50 col1\" >COVID -19-Ghanzi District-02, Botswana</td>\n",
              "                        <td id=\"T_155ea4ae_03d0_11eb_967b_0242ac1c0002row50_col2\" class=\"data row50 col2\" >100</td>\n",
              "                        <td id=\"T_155ea4ae_03d0_11eb_967b_0242ac1c0002row50_col3\" class=\"data row50 col3\" >29</td>\n",
              "                        <td id=\"T_155ea4ae_03d0_11eb_967b_0242ac1c0002row50_col4\" class=\"data row50 col4\" >BEGINNER</td>\n",
              "                        <td id=\"T_155ea4ae_03d0_11eb_967b_0242ac1c0002row50_col5\" class=\"data row50 col5\" >ARCHIVED</td>\n",
              "                        <td id=\"T_155ea4ae_03d0_11eb_967b_0242ac1c0002row50_col6\" class=\"data row50 col6\" >LOW</td>\n",
              "            </tr>\n",
              "            <tr>\n",
              "                        <th id=\"T_155ea4ae_03d0_11eb_967b_0242ac1c0002level0_row51\" class=\"row_heading level0 row51\" >318</th>\n",
              "                        <td id=\"T_155ea4ae_03d0_11eb_967b_0242ac1c0002row51_col0\" class=\"data row51 col0\" >8996</td>\n",
              "                        <td id=\"T_155ea4ae_03d0_11eb_967b_0242ac1c0002row51_col1\" class=\"data row51 col1\" >COVID -19-Ghanzi District-03, Botswana</td>\n",
              "                        <td id=\"T_155ea4ae_03d0_11eb_967b_0242ac1c0002row51_col2\" class=\"data row51 col2\" >100</td>\n",
              "                        <td id=\"T_155ea4ae_03d0_11eb_967b_0242ac1c0002row51_col3\" class=\"data row51 col3\" >100</td>\n",
              "                        <td id=\"T_155ea4ae_03d0_11eb_967b_0242ac1c0002row51_col4\" class=\"data row51 col4\" >BEGINNER</td>\n",
              "                        <td id=\"T_155ea4ae_03d0_11eb_967b_0242ac1c0002row51_col5\" class=\"data row51 col5\" >ARCHIVED</td>\n",
              "                        <td id=\"T_155ea4ae_03d0_11eb_967b_0242ac1c0002row51_col6\" class=\"data row51 col6\" >LOW</td>\n",
              "            </tr>\n",
              "            <tr>\n",
              "                        <th id=\"T_155ea4ae_03d0_11eb_967b_0242ac1c0002level0_row52\" class=\"row_heading level0 row52\" >320</th>\n",
              "                        <td id=\"T_155ea4ae_03d0_11eb_967b_0242ac1c0002row52_col0\" class=\"data row52 col0\" >9014</td>\n",
              "                        <td id=\"T_155ea4ae_03d0_11eb_967b_0242ac1c0002row52_col1\" class=\"data row52 col1\" >COVID -19-Ghanzi District-04, Botswana</td>\n",
              "                        <td id=\"T_155ea4ae_03d0_11eb_967b_0242ac1c0002row52_col2\" class=\"data row52 col2\" >100</td>\n",
              "                        <td id=\"T_155ea4ae_03d0_11eb_967b_0242ac1c0002row52_col3\" class=\"data row52 col3\" >100</td>\n",
              "                        <td id=\"T_155ea4ae_03d0_11eb_967b_0242ac1c0002row52_col4\" class=\"data row52 col4\" >BEGINNER</td>\n",
              "                        <td id=\"T_155ea4ae_03d0_11eb_967b_0242ac1c0002row52_col5\" class=\"data row52 col5\" >ARCHIVED</td>\n",
              "                        <td id=\"T_155ea4ae_03d0_11eb_967b_0242ac1c0002row52_col6\" class=\"data row52 col6\" >LOW</td>\n",
              "            </tr>\n",
              "            <tr>\n",
              "                        <th id=\"T_155ea4ae_03d0_11eb_967b_0242ac1c0002level0_row53\" class=\"row_heading level0 row53\" >321</th>\n",
              "                        <td id=\"T_155ea4ae_03d0_11eb_967b_0242ac1c0002row53_col0\" class=\"data row53 col0\" >9016</td>\n",
              "                        <td id=\"T_155ea4ae_03d0_11eb_967b_0242ac1c0002row53_col1\" class=\"data row53 col1\" >COVID -19-Ghanzi District-05, Botswana</td>\n",
              "                        <td id=\"T_155ea4ae_03d0_11eb_967b_0242ac1c0002row53_col2\" class=\"data row53 col2\" >99</td>\n",
              "                        <td id=\"T_155ea4ae_03d0_11eb_967b_0242ac1c0002row53_col3\" class=\"data row53 col3\" >99</td>\n",
              "                        <td id=\"T_155ea4ae_03d0_11eb_967b_0242ac1c0002row53_col4\" class=\"data row53 col4\" >BEGINNER</td>\n",
              "                        <td id=\"T_155ea4ae_03d0_11eb_967b_0242ac1c0002row53_col5\" class=\"data row53 col5\" >ARCHIVED</td>\n",
              "                        <td id=\"T_155ea4ae_03d0_11eb_967b_0242ac1c0002row53_col6\" class=\"data row53 col6\" >LOW</td>\n",
              "            </tr>\n",
              "            <tr>\n",
              "                        <th id=\"T_155ea4ae_03d0_11eb_967b_0242ac1c0002level0_row54\" class=\"row_heading level0 row54\" >322</th>\n",
              "                        <td id=\"T_155ea4ae_03d0_11eb_967b_0242ac1c0002row54_col0\" class=\"data row54 col0\" >9020</td>\n",
              "                        <td id=\"T_155ea4ae_03d0_11eb_967b_0242ac1c0002row54_col1\" class=\"data row54 col1\" >COVID -19-Ghanzi District-06, Botswana</td>\n",
              "                        <td id=\"T_155ea4ae_03d0_11eb_967b_0242ac1c0002row54_col2\" class=\"data row54 col2\" >99</td>\n",
              "                        <td id=\"T_155ea4ae_03d0_11eb_967b_0242ac1c0002row54_col3\" class=\"data row54 col3\" >99</td>\n",
              "                        <td id=\"T_155ea4ae_03d0_11eb_967b_0242ac1c0002row54_col4\" class=\"data row54 col4\" >BEGINNER</td>\n",
              "                        <td id=\"T_155ea4ae_03d0_11eb_967b_0242ac1c0002row54_col5\" class=\"data row54 col5\" >ARCHIVED</td>\n",
              "                        <td id=\"T_155ea4ae_03d0_11eb_967b_0242ac1c0002row54_col6\" class=\"data row54 col6\" >LOW</td>\n",
              "            </tr>\n",
              "            <tr>\n",
              "                        <th id=\"T_155ea4ae_03d0_11eb_967b_0242ac1c0002level0_row55\" class=\"row_heading level0 row55\" >323</th>\n",
              "                        <td id=\"T_155ea4ae_03d0_11eb_967b_0242ac1c0002row55_col0\" class=\"data row55 col0\" >9032</td>\n",
              "                        <td id=\"T_155ea4ae_03d0_11eb_967b_0242ac1c0002row55_col1\" class=\"data row55 col1\" >COVID -19-Ghanzi District-07, Botswana</td>\n",
              "                        <td id=\"T_155ea4ae_03d0_11eb_967b_0242ac1c0002row55_col2\" class=\"data row55 col2\" >100</td>\n",
              "                        <td id=\"T_155ea4ae_03d0_11eb_967b_0242ac1c0002row55_col3\" class=\"data row55 col3\" >100</td>\n",
              "                        <td id=\"T_155ea4ae_03d0_11eb_967b_0242ac1c0002row55_col4\" class=\"data row55 col4\" >BEGINNER</td>\n",
              "                        <td id=\"T_155ea4ae_03d0_11eb_967b_0242ac1c0002row55_col5\" class=\"data row55 col5\" >ARCHIVED</td>\n",
              "                        <td id=\"T_155ea4ae_03d0_11eb_967b_0242ac1c0002row55_col6\" class=\"data row55 col6\" >LOW</td>\n",
              "            </tr>\n",
              "            <tr>\n",
              "                        <th id=\"T_155ea4ae_03d0_11eb_967b_0242ac1c0002level0_row56\" class=\"row_heading level0 row56\" >324</th>\n",
              "                        <td id=\"T_155ea4ae_03d0_11eb_967b_0242ac1c0002row56_col0\" class=\"data row56 col0\" >9043</td>\n",
              "                        <td id=\"T_155ea4ae_03d0_11eb_967b_0242ac1c0002row56_col1\" class=\"data row56 col1\" >COVID -19-Ghanzi District-08, Botswana</td>\n",
              "                        <td id=\"T_155ea4ae_03d0_11eb_967b_0242ac1c0002row56_col2\" class=\"data row56 col2\" >100</td>\n",
              "                        <td id=\"T_155ea4ae_03d0_11eb_967b_0242ac1c0002row56_col3\" class=\"data row56 col3\" >100</td>\n",
              "                        <td id=\"T_155ea4ae_03d0_11eb_967b_0242ac1c0002row56_col4\" class=\"data row56 col4\" >BEGINNER</td>\n",
              "                        <td id=\"T_155ea4ae_03d0_11eb_967b_0242ac1c0002row56_col5\" class=\"data row56 col5\" >ARCHIVED</td>\n",
              "                        <td id=\"T_155ea4ae_03d0_11eb_967b_0242ac1c0002row56_col6\" class=\"data row56 col6\" >LOW</td>\n",
              "            </tr>\n",
              "            <tr>\n",
              "                        <th id=\"T_155ea4ae_03d0_11eb_967b_0242ac1c0002level0_row57\" class=\"row_heading level0 row57\" >325</th>\n",
              "                        <td id=\"T_155ea4ae_03d0_11eb_967b_0242ac1c0002row57_col0\" class=\"data row57 col0\" >9052</td>\n",
              "                        <td id=\"T_155ea4ae_03d0_11eb_967b_0242ac1c0002row57_col1\" class=\"data row57 col1\" >COVID -19-Ghanzi District-09, Botswana</td>\n",
              "                        <td id=\"T_155ea4ae_03d0_11eb_967b_0242ac1c0002row57_col2\" class=\"data row57 col2\" >100</td>\n",
              "                        <td id=\"T_155ea4ae_03d0_11eb_967b_0242ac1c0002row57_col3\" class=\"data row57 col3\" >100</td>\n",
              "                        <td id=\"T_155ea4ae_03d0_11eb_967b_0242ac1c0002row57_col4\" class=\"data row57 col4\" >BEGINNER</td>\n",
              "                        <td id=\"T_155ea4ae_03d0_11eb_967b_0242ac1c0002row57_col5\" class=\"data row57 col5\" >ARCHIVED</td>\n",
              "                        <td id=\"T_155ea4ae_03d0_11eb_967b_0242ac1c0002row57_col6\" class=\"data row57 col6\" >LOW</td>\n",
              "            </tr>\n",
              "            <tr>\n",
              "                        <th id=\"T_155ea4ae_03d0_11eb_967b_0242ac1c0002level0_row58\" class=\"row_heading level0 row58\" >330</th>\n",
              "                        <td id=\"T_155ea4ae_03d0_11eb_967b_0242ac1c0002row58_col0\" class=\"data row58 col0\" >9302</td>\n",
              "                        <td id=\"T_155ea4ae_03d0_11eb_967b_0242ac1c0002row58_col1\" class=\"data row58 col1\" >COVID -19-Ghanzi District-10, Botswana</td>\n",
              "                        <td id=\"T_155ea4ae_03d0_11eb_967b_0242ac1c0002row58_col2\" class=\"data row58 col2\" >99</td>\n",
              "                        <td id=\"T_155ea4ae_03d0_11eb_967b_0242ac1c0002row58_col3\" class=\"data row58 col3\" >31</td>\n",
              "                        <td id=\"T_155ea4ae_03d0_11eb_967b_0242ac1c0002row58_col4\" class=\"data row58 col4\" >BEGINNER</td>\n",
              "                        <td id=\"T_155ea4ae_03d0_11eb_967b_0242ac1c0002row58_col5\" class=\"data row58 col5\" >PUBLISHED</td>\n",
              "                        <td id=\"T_155ea4ae_03d0_11eb_967b_0242ac1c0002row58_col6\" class=\"data row58 col6\" >LOW</td>\n",
              "            </tr>\n",
              "    </tbody></table>"
            ],
            "text/plain": [
              "<pandas.io.formats.style.Styler at 0x7f42ad467978>"
            ]
          },
          "metadata": {
            "tags": []
          }
        },
        {
          "output_type": "display_data",
          "data": {
            "text/markdown": "## Brasil",
            "text/plain": [
              "<IPython.core.display.Markdown object>"
            ]
          },
          "metadata": {
            "tags": []
          }
        },
        {
          "output_type": "display_data",
          "data": {
            "text/markdown": "---",
            "text/plain": [
              "<IPython.core.display.Markdown object>"
            ]
          },
          "metadata": {
            "tags": []
          }
        },
        {
          "output_type": "display_data",
          "data": {
            "text/markdown": "\n- Total number projects: 2\n    - Drafts:    0\n    - Published: 2 \n    - Archived:  0\n- Completed projects (100% mapped & validated): 0\n- Average % mapped across all projects: 99.5 %\n- Average % validated across all projects: 7.5 %\n",
            "text/plain": [
              "<IPython.core.display.Markdown object>"
            ]
          },
          "metadata": {
            "tags": []
          }
        },
        {
          "output_type": "display_data",
          "data": {
            "text/markdown": "---",
            "text/plain": [
              "<IPython.core.display.Markdown object>"
            ]
          },
          "metadata": {
            "tags": []
          }
        },
        {
          "output_type": "display_data",
          "data": {
            "text/html": [
              "<style  type=\"text/css\" >\n",
              "#T_1568af3a_03d0_11eb_967b_0242ac1c0002row0_col2,#T_1568af3a_03d0_11eb_967b_0242ac1c0002row1_col3{\n",
              "            background-color:  #53ae62;\n",
              "            color:  #000000;\n",
              "        }#T_1568af3a_03d0_11eb_967b_0242ac1c0002row0_col3,#T_1568af3a_03d0_11eb_967b_0242ac1c0002row1_col2{\n",
              "            background-color:  #d73f3f;\n",
              "            color:  #f1f1f1;\n",
              "        }#T_1568af3a_03d0_11eb_967b_0242ac1c0002row0_col5,#T_1568af3a_03d0_11eb_967b_0242ac1c0002row1_col5{\n",
              "            background-color:  #53AE62;\n",
              "        }#T_1568af3a_03d0_11eb_967b_0242ac1c0002row0_col6,#T_1568af3a_03d0_11eb_967b_0242ac1c0002row1_col6{\n",
              "            background-color:  #FAA71E;\n",
              "        }</style><table id=\"T_1568af3a_03d0_11eb_967b_0242ac1c0002\" ><thead>    <tr>        <th class=\"blank level0\" ></th>        <th class=\"col_heading level0 col0\" >projectId</th>        <th class=\"col_heading level0 col1\" >name</th>        <th class=\"col_heading level0 col2\" >percentMapped</th>        <th class=\"col_heading level0 col3\" >percentValidated</th>        <th class=\"col_heading level0 col4\" >mapperLevel</th>        <th class=\"col_heading level0 col5\" >status</th>        <th class=\"col_heading level0 col6\" >priority</th>    </tr></thead><tbody>\n",
              "                <tr>\n",
              "                        <th id=\"T_1568af3a_03d0_11eb_967b_0242ac1c0002level0_row0\" class=\"row_heading level0 row0\" >11</th>\n",
              "                        <td id=\"T_1568af3a_03d0_11eb_967b_0242ac1c0002row0_col0\" class=\"data row0 col0\" >8788</td>\n",
              "                        <td id=\"T_1568af3a_03d0_11eb_967b_0242ac1c0002row0_col1\" class=\"data row0 col1\" >COVID-19 resilience strengthening in Marechal Rondon, Salvador, Bahia</td>\n",
              "                        <td id=\"T_1568af3a_03d0_11eb_967b_0242ac1c0002row0_col2\" class=\"data row0 col2\" >100</td>\n",
              "                        <td id=\"T_1568af3a_03d0_11eb_967b_0242ac1c0002row0_col3\" class=\"data row0 col3\" >7</td>\n",
              "                        <td id=\"T_1568af3a_03d0_11eb_967b_0242ac1c0002row0_col4\" class=\"data row0 col4\" >BEGINNER</td>\n",
              "                        <td id=\"T_1568af3a_03d0_11eb_967b_0242ac1c0002row0_col5\" class=\"data row0 col5\" >PUBLISHED</td>\n",
              "                        <td id=\"T_1568af3a_03d0_11eb_967b_0242ac1c0002row0_col6\" class=\"data row0 col6\" >HIGH</td>\n",
              "            </tr>\n",
              "            <tr>\n",
              "                        <th id=\"T_1568af3a_03d0_11eb_967b_0242ac1c0002level0_row1\" class=\"row_heading level0 row1\" >12</th>\n",
              "                        <td id=\"T_1568af3a_03d0_11eb_967b_0242ac1c0002row1_col0\" class=\"data row1 col0\" >8789</td>\n",
              "                        <td id=\"T_1568af3a_03d0_11eb_967b_0242ac1c0002row1_col1\" class=\"data row1 col1\" >COVID-19 resilience strengthening in Peninsula Itapagipe, Salvador, Bahia</td>\n",
              "                        <td id=\"T_1568af3a_03d0_11eb_967b_0242ac1c0002row1_col2\" class=\"data row1 col2\" >99</td>\n",
              "                        <td id=\"T_1568af3a_03d0_11eb_967b_0242ac1c0002row1_col3\" class=\"data row1 col3\" >8</td>\n",
              "                        <td id=\"T_1568af3a_03d0_11eb_967b_0242ac1c0002row1_col4\" class=\"data row1 col4\" >BEGINNER</td>\n",
              "                        <td id=\"T_1568af3a_03d0_11eb_967b_0242ac1c0002row1_col5\" class=\"data row1 col5\" >PUBLISHED</td>\n",
              "                        <td id=\"T_1568af3a_03d0_11eb_967b_0242ac1c0002row1_col6\" class=\"data row1 col6\" >HIGH</td>\n",
              "            </tr>\n",
              "    </tbody></table>"
            ],
            "text/plain": [
              "<pandas.io.formats.style.Styler at 0x7f42ad467cf8>"
            ]
          },
          "metadata": {
            "tags": []
          }
        },
        {
          "output_type": "display_data",
          "data": {
            "text/markdown": "## Brazil",
            "text/plain": [
              "<IPython.core.display.Markdown object>"
            ]
          },
          "metadata": {
            "tags": []
          }
        },
        {
          "output_type": "display_data",
          "data": {
            "text/markdown": "---",
            "text/plain": [
              "<IPython.core.display.Markdown object>"
            ]
          },
          "metadata": {
            "tags": []
          }
        },
        {
          "output_type": "display_data",
          "data": {
            "text/markdown": "\n- Total number projects: 1\n    - Drafts:    0\n    - Published: 1 \n    - Archived:  0\n- Completed projects (100% mapped & validated): 0\n- Average % mapped across all projects: 0.0 %\n- Average % validated across all projects: 0.0 %\n",
            "text/plain": [
              "<IPython.core.display.Markdown object>"
            ]
          },
          "metadata": {
            "tags": []
          }
        },
        {
          "output_type": "display_data",
          "data": {
            "text/markdown": "---",
            "text/plain": [
              "<IPython.core.display.Markdown object>"
            ]
          },
          "metadata": {
            "tags": []
          }
        },
        {
          "output_type": "display_data",
          "data": {
            "text/html": [
              "<style  type=\"text/css\" >\n",
              "#T_156f3904_03d0_11eb_967b_0242ac1c0002row0_col2,#T_156f3904_03d0_11eb_967b_0242ac1c0002row0_col3{\n",
              "            background-color:  #d73f3f;\n",
              "            color:  #f1f1f1;\n",
              "        }#T_156f3904_03d0_11eb_967b_0242ac1c0002row0_col5{\n",
              "            background-color:  #53AE62;\n",
              "        }#T_156f3904_03d0_11eb_967b_0242ac1c0002row0_col6{\n",
              "            background-color:  #E1E0E0;\n",
              "        }</style><table id=\"T_156f3904_03d0_11eb_967b_0242ac1c0002\" ><thead>    <tr>        <th class=\"blank level0\" ></th>        <th class=\"col_heading level0 col0\" >projectId</th>        <th class=\"col_heading level0 col1\" >name</th>        <th class=\"col_heading level0 col2\" >percentMapped</th>        <th class=\"col_heading level0 col3\" >percentValidated</th>        <th class=\"col_heading level0 col4\" >mapperLevel</th>        <th class=\"col_heading level0 col5\" >status</th>        <th class=\"col_heading level0 col6\" >priority</th>    </tr></thead><tbody>\n",
              "                <tr>\n",
              "                        <th id=\"T_156f3904_03d0_11eb_967b_0242ac1c0002level0_row0\" class=\"row_heading level0 row0\" >179</th>\n",
              "                        <td id=\"T_156f3904_03d0_11eb_967b_0242ac1c0002row0_col0\" class=\"data row0 col0\" >8317</td>\n",
              "                        <td id=\"T_156f3904_03d0_11eb_967b_0242ac1c0002row0_col1\" class=\"data row0 col1\" >#URBELatam #Covid-19 Mapping for Equitable Resilience in Morro do Preventório</td>\n",
              "                        <td id=\"T_156f3904_03d0_11eb_967b_0242ac1c0002row0_col2\" class=\"data row0 col2\" >0</td>\n",
              "                        <td id=\"T_156f3904_03d0_11eb_967b_0242ac1c0002row0_col3\" class=\"data row0 col3\" >0</td>\n",
              "                        <td id=\"T_156f3904_03d0_11eb_967b_0242ac1c0002row0_col4\" class=\"data row0 col4\" >BEGINNER</td>\n",
              "                        <td id=\"T_156f3904_03d0_11eb_967b_0242ac1c0002row0_col5\" class=\"data row0 col5\" >PUBLISHED</td>\n",
              "                        <td id=\"T_156f3904_03d0_11eb_967b_0242ac1c0002row0_col6\" class=\"data row0 col6\" >LOW</td>\n",
              "            </tr>\n",
              "    </tbody></table>"
            ],
            "text/plain": [
              "<pandas.io.formats.style.Styler at 0x7f42ad40bda0>"
            ]
          },
          "metadata": {
            "tags": []
          }
        },
        {
          "output_type": "display_data",
          "data": {
            "text/markdown": "## Colombia",
            "text/plain": [
              "<IPython.core.display.Markdown object>"
            ]
          },
          "metadata": {
            "tags": []
          }
        },
        {
          "output_type": "display_data",
          "data": {
            "text/markdown": "---",
            "text/plain": [
              "<IPython.core.display.Markdown object>"
            ]
          },
          "metadata": {
            "tags": []
          }
        },
        {
          "output_type": "display_data",
          "data": {
            "text/markdown": "\n- Total number projects: 17\n    - Drafts:    0\n    - Published: 17 \n    - Archived:  0\n- Completed projects (100% mapped & validated): 1\n- Average % mapped across all projects: 45.3 %\n- Average % validated across all projects: 23.5 %\n",
            "text/plain": [
              "<IPython.core.display.Markdown object>"
            ]
          },
          "metadata": {
            "tags": []
          }
        },
        {
          "output_type": "display_data",
          "data": {
            "text/markdown": "---",
            "text/plain": [
              "<IPython.core.display.Markdown object>"
            ]
          },
          "metadata": {
            "tags": []
          }
        },
        {
          "output_type": "display_data",
          "data": {
            "text/html": [
              "<style  type=\"text/css\" >\n",
              "#T_1575a096_03d0_11eb_967b_0242ac1c0002row0_col2,#T_1575a096_03d0_11eb_967b_0242ac1c0002row0_col3,#T_1575a096_03d0_11eb_967b_0242ac1c0002row1_col2{\n",
              "            background-color:  #53ae62;\n",
              "            color:  #000000;\n",
              "        }#T_1575a096_03d0_11eb_967b_0242ac1c0002row0_col5,#T_1575a096_03d0_11eb_967b_0242ac1c0002row1_col5,#T_1575a096_03d0_11eb_967b_0242ac1c0002row2_col5,#T_1575a096_03d0_11eb_967b_0242ac1c0002row2_col6,#T_1575a096_03d0_11eb_967b_0242ac1c0002row3_col5,#T_1575a096_03d0_11eb_967b_0242ac1c0002row3_col6,#T_1575a096_03d0_11eb_967b_0242ac1c0002row4_col5,#T_1575a096_03d0_11eb_967b_0242ac1c0002row4_col6,#T_1575a096_03d0_11eb_967b_0242ac1c0002row5_col5,#T_1575a096_03d0_11eb_967b_0242ac1c0002row5_col6,#T_1575a096_03d0_11eb_967b_0242ac1c0002row6_col5,#T_1575a096_03d0_11eb_967b_0242ac1c0002row6_col6,#T_1575a096_03d0_11eb_967b_0242ac1c0002row7_col5,#T_1575a096_03d0_11eb_967b_0242ac1c0002row7_col6,#T_1575a096_03d0_11eb_967b_0242ac1c0002row8_col5,#T_1575a096_03d0_11eb_967b_0242ac1c0002row8_col6,#T_1575a096_03d0_11eb_967b_0242ac1c0002row9_col5,#T_1575a096_03d0_11eb_967b_0242ac1c0002row9_col6,#T_1575a096_03d0_11eb_967b_0242ac1c0002row10_col5,#T_1575a096_03d0_11eb_967b_0242ac1c0002row10_col6,#T_1575a096_03d0_11eb_967b_0242ac1c0002row11_col5,#T_1575a096_03d0_11eb_967b_0242ac1c0002row11_col6,#T_1575a096_03d0_11eb_967b_0242ac1c0002row12_col5,#T_1575a096_03d0_11eb_967b_0242ac1c0002row12_col6,#T_1575a096_03d0_11eb_967b_0242ac1c0002row13_col5,#T_1575a096_03d0_11eb_967b_0242ac1c0002row13_col6,#T_1575a096_03d0_11eb_967b_0242ac1c0002row14_col5,#T_1575a096_03d0_11eb_967b_0242ac1c0002row14_col6,#T_1575a096_03d0_11eb_967b_0242ac1c0002row15_col5,#T_1575a096_03d0_11eb_967b_0242ac1c0002row15_col6,#T_1575a096_03d0_11eb_967b_0242ac1c0002row16_col5{\n",
              "            background-color:  #53AE62;\n",
              "        }#T_1575a096_03d0_11eb_967b_0242ac1c0002row0_col6,#T_1575a096_03d0_11eb_967b_0242ac1c0002row16_col6{\n",
              "            background-color:  #E1E0E0;\n",
              "        }#T_1575a096_03d0_11eb_967b_0242ac1c0002row1_col3{\n",
              "            background-color:  #99ab45;\n",
              "            color:  #000000;\n",
              "        }#T_1575a096_03d0_11eb_967b_0242ac1c0002row1_col6{\n",
              "            background-color:  #FAA71E;\n",
              "        }#T_1575a096_03d0_11eb_967b_0242ac1c0002row2_col2,#T_1575a096_03d0_11eb_967b_0242ac1c0002row9_col2,#T_1575a096_03d0_11eb_967b_0242ac1c0002row10_col3{\n",
              "            background-color:  #de5538;\n",
              "            color:  #000000;\n",
              "        }#T_1575a096_03d0_11eb_967b_0242ac1c0002row2_col3,#T_1575a096_03d0_11eb_967b_0242ac1c0002row3_col3,#T_1575a096_03d0_11eb_967b_0242ac1c0002row4_col3,#T_1575a096_03d0_11eb_967b_0242ac1c0002row5_col3,#T_1575a096_03d0_11eb_967b_0242ac1c0002row7_col2,#T_1575a096_03d0_11eb_967b_0242ac1c0002row7_col3,#T_1575a096_03d0_11eb_967b_0242ac1c0002row8_col2,#T_1575a096_03d0_11eb_967b_0242ac1c0002row8_col3,#T_1575a096_03d0_11eb_967b_0242ac1c0002row12_col3,#T_1575a096_03d0_11eb_967b_0242ac1c0002row13_col3,#T_1575a096_03d0_11eb_967b_0242ac1c0002row15_col3{\n",
              "            background-color:  #d73f3f;\n",
              "            color:  #f1f1f1;\n",
              "        }#T_1575a096_03d0_11eb_967b_0242ac1c0002row3_col2,#T_1575a096_03d0_11eb_967b_0242ac1c0002row9_col3,#T_1575a096_03d0_11eb_967b_0242ac1c0002row14_col3{\n",
              "            background-color:  #db4a3c;\n",
              "            color:  #f1f1f1;\n",
              "        }#T_1575a096_03d0_11eb_967b_0242ac1c0002row4_col2{\n",
              "            background-color:  #e26035;\n",
              "            color:  #000000;\n",
              "        }#T_1575a096_03d0_11eb_967b_0242ac1c0002row5_col2{\n",
              "            background-color:  #ed812a;\n",
              "            color:  #000000;\n",
              "        }#T_1575a096_03d0_11eb_967b_0242ac1c0002row6_col2{\n",
              "            background-color:  #e9762e;\n",
              "            color:  #000000;\n",
              "        }#T_1575a096_03d0_11eb_967b_0242ac1c0002row6_col3,#T_1575a096_03d0_11eb_967b_0242ac1c0002row13_col2{\n",
              "            background-color:  #e66b31;\n",
              "            color:  #000000;\n",
              "        }#T_1575a096_03d0_11eb_967b_0242ac1c0002row10_col2{\n",
              "            background-color:  #f18c27;\n",
              "            color:  #000000;\n",
              "        }#T_1575a096_03d0_11eb_967b_0242ac1c0002row11_col2,#T_1575a096_03d0_11eb_967b_0242ac1c0002row16_col3{\n",
              "            background-color:  #76ad54;\n",
              "            color:  #000000;\n",
              "        }#T_1575a096_03d0_11eb_967b_0242ac1c0002row11_col3{\n",
              "            background-color:  #88ac4d;\n",
              "            color:  #000000;\n",
              "        }#T_1575a096_03d0_11eb_967b_0242ac1c0002row12_col2{\n",
              "            background-color:  #abaa3e;\n",
              "            color:  #000000;\n",
              "        }#T_1575a096_03d0_11eb_967b_0242ac1c0002row14_col2{\n",
              "            background-color:  #f1a722;\n",
              "            color:  #000000;\n",
              "        }#T_1575a096_03d0_11eb_967b_0242ac1c0002row15_col2{\n",
              "            background-color:  #f8a220;\n",
              "            color:  #000000;\n",
              "        }#T_1575a096_03d0_11eb_967b_0242ac1c0002row16_col2{\n",
              "            background-color:  #65ad5b;\n",
              "            color:  #000000;\n",
              "        }</style><table id=\"T_1575a096_03d0_11eb_967b_0242ac1c0002\" ><thead>    <tr>        <th class=\"blank level0\" ></th>        <th class=\"col_heading level0 col0\" >projectId</th>        <th class=\"col_heading level0 col1\" >name</th>        <th class=\"col_heading level0 col2\" >percentMapped</th>        <th class=\"col_heading level0 col3\" >percentValidated</th>        <th class=\"col_heading level0 col4\" >mapperLevel</th>        <th class=\"col_heading level0 col5\" >status</th>        <th class=\"col_heading level0 col6\" >priority</th>    </tr></thead><tbody>\n",
              "                <tr>\n",
              "                        <th id=\"T_1575a096_03d0_11eb_967b_0242ac1c0002level0_row0\" class=\"row_heading level0 row0\" >136</th>\n",
              "                        <td id=\"T_1575a096_03d0_11eb_967b_0242ac1c0002row0_col0\" class=\"data row0 col0\" >8188</td>\n",
              "                        <td id=\"T_1575a096_03d0_11eb_967b_0242ac1c0002row0_col1\" class=\"data row0 col1\" >Mapatón COVID-19 Medellín - Comuna 1</td>\n",
              "                        <td id=\"T_1575a096_03d0_11eb_967b_0242ac1c0002row0_col2\" class=\"data row0 col2\" >100</td>\n",
              "                        <td id=\"T_1575a096_03d0_11eb_967b_0242ac1c0002row0_col3\" class=\"data row0 col3\" >100</td>\n",
              "                        <td id=\"T_1575a096_03d0_11eb_967b_0242ac1c0002row0_col4\" class=\"data row0 col4\" >BEGINNER</td>\n",
              "                        <td id=\"T_1575a096_03d0_11eb_967b_0242ac1c0002row0_col5\" class=\"data row0 col5\" >PUBLISHED</td>\n",
              "                        <td id=\"T_1575a096_03d0_11eb_967b_0242ac1c0002row0_col6\" class=\"data row0 col6\" >LOW</td>\n",
              "            </tr>\n",
              "            <tr>\n",
              "                        <th id=\"T_1575a096_03d0_11eb_967b_0242ac1c0002level0_row1\" class=\"row_heading level0 row1\" >9</th>\n",
              "                        <td id=\"T_1575a096_03d0_11eb_967b_0242ac1c0002row1_col0\" class=\"data row1 col0\" >8189</td>\n",
              "                        <td id=\"T_1575a096_03d0_11eb_967b_0242ac1c0002row1_col1\" class=\"data row1 col1\" >Mapatón COVID-19 Medellín - Comuna 2</td>\n",
              "                        <td id=\"T_1575a096_03d0_11eb_967b_0242ac1c0002row1_col2\" class=\"data row1 col2\" >97</td>\n",
              "                        <td id=\"T_1575a096_03d0_11eb_967b_0242ac1c0002row1_col3\" class=\"data row1 col3\" >77</td>\n",
              "                        <td id=\"T_1575a096_03d0_11eb_967b_0242ac1c0002row1_col4\" class=\"data row1 col4\" >BEGINNER</td>\n",
              "                        <td id=\"T_1575a096_03d0_11eb_967b_0242ac1c0002row1_col5\" class=\"data row1 col5\" >PUBLISHED</td>\n",
              "                        <td id=\"T_1575a096_03d0_11eb_967b_0242ac1c0002row1_col6\" class=\"data row1 col6\" >HIGH</td>\n",
              "            </tr>\n",
              "            <tr>\n",
              "                        <th id=\"T_1575a096_03d0_11eb_967b_0242ac1c0002level0_row2\" class=\"row_heading level0 row2\" >27</th>\n",
              "                        <td id=\"T_1575a096_03d0_11eb_967b_0242ac1c0002row2_col0\" class=\"data row2 col0\" >8190</td>\n",
              "                        <td id=\"T_1575a096_03d0_11eb_967b_0242ac1c0002row2_col1\" class=\"data row2 col1\" >Mapatón COVID-19 Medellín - Comuna 3</td>\n",
              "                        <td id=\"T_1575a096_03d0_11eb_967b_0242ac1c0002row2_col2\" class=\"data row2 col2\" >16</td>\n",
              "                        <td id=\"T_1575a096_03d0_11eb_967b_0242ac1c0002row2_col3\" class=\"data row2 col3\" >0</td>\n",
              "                        <td id=\"T_1575a096_03d0_11eb_967b_0242ac1c0002row2_col4\" class=\"data row2 col4\" >BEGINNER</td>\n",
              "                        <td id=\"T_1575a096_03d0_11eb_967b_0242ac1c0002row2_col5\" class=\"data row2 col5\" >PUBLISHED</td>\n",
              "                        <td id=\"T_1575a096_03d0_11eb_967b_0242ac1c0002row2_col6\" class=\"data row2 col6\" >MEDIUM</td>\n",
              "            </tr>\n",
              "            <tr>\n",
              "                        <th id=\"T_1575a096_03d0_11eb_967b_0242ac1c0002level0_row3\" class=\"row_heading level0 row3\" >28</th>\n",
              "                        <td id=\"T_1575a096_03d0_11eb_967b_0242ac1c0002row3_col0\" class=\"data row3 col0\" >8191</td>\n",
              "                        <td id=\"T_1575a096_03d0_11eb_967b_0242ac1c0002row3_col1\" class=\"data row3 col1\" >Mapatón COVID-19 Medellín - Comuna 4</td>\n",
              "                        <td id=\"T_1575a096_03d0_11eb_967b_0242ac1c0002row3_col2\" class=\"data row3 col2\" >14</td>\n",
              "                        <td id=\"T_1575a096_03d0_11eb_967b_0242ac1c0002row3_col3\" class=\"data row3 col3\" >4</td>\n",
              "                        <td id=\"T_1575a096_03d0_11eb_967b_0242ac1c0002row3_col4\" class=\"data row3 col4\" >BEGINNER</td>\n",
              "                        <td id=\"T_1575a096_03d0_11eb_967b_0242ac1c0002row3_col5\" class=\"data row3 col5\" >PUBLISHED</td>\n",
              "                        <td id=\"T_1575a096_03d0_11eb_967b_0242ac1c0002row3_col6\" class=\"data row3 col6\" >MEDIUM</td>\n",
              "            </tr>\n",
              "            <tr>\n",
              "                        <th id=\"T_1575a096_03d0_11eb_967b_0242ac1c0002level0_row4\" class=\"row_heading level0 row4\" >29</th>\n",
              "                        <td id=\"T_1575a096_03d0_11eb_967b_0242ac1c0002row4_col0\" class=\"data row4 col0\" >8192</td>\n",
              "                        <td id=\"T_1575a096_03d0_11eb_967b_0242ac1c0002row4_col1\" class=\"data row4 col1\" >Mapatón COVID-19 Medellín - Comuna 5</td>\n",
              "                        <td id=\"T_1575a096_03d0_11eb_967b_0242ac1c0002row4_col2\" class=\"data row4 col2\" >22</td>\n",
              "                        <td id=\"T_1575a096_03d0_11eb_967b_0242ac1c0002row4_col3\" class=\"data row4 col3\" >0</td>\n",
              "                        <td id=\"T_1575a096_03d0_11eb_967b_0242ac1c0002row4_col4\" class=\"data row4 col4\" >BEGINNER</td>\n",
              "                        <td id=\"T_1575a096_03d0_11eb_967b_0242ac1c0002row4_col5\" class=\"data row4 col5\" >PUBLISHED</td>\n",
              "                        <td id=\"T_1575a096_03d0_11eb_967b_0242ac1c0002row4_col6\" class=\"data row4 col6\" >MEDIUM</td>\n",
              "            </tr>\n",
              "            <tr>\n",
              "                        <th id=\"T_1575a096_03d0_11eb_967b_0242ac1c0002level0_row5\" class=\"row_heading level0 row5\" >30</th>\n",
              "                        <td id=\"T_1575a096_03d0_11eb_967b_0242ac1c0002row5_col0\" class=\"data row5 col0\" >8193</td>\n",
              "                        <td id=\"T_1575a096_03d0_11eb_967b_0242ac1c0002row5_col1\" class=\"data row5 col1\" >Mapatón COVID-19 Medellín - Comuna 6</td>\n",
              "                        <td id=\"T_1575a096_03d0_11eb_967b_0242ac1c0002row5_col2\" class=\"data row5 col2\" >36</td>\n",
              "                        <td id=\"T_1575a096_03d0_11eb_967b_0242ac1c0002row5_col3\" class=\"data row5 col3\" >2</td>\n",
              "                        <td id=\"T_1575a096_03d0_11eb_967b_0242ac1c0002row5_col4\" class=\"data row5 col4\" >BEGINNER</td>\n",
              "                        <td id=\"T_1575a096_03d0_11eb_967b_0242ac1c0002row5_col5\" class=\"data row5 col5\" >PUBLISHED</td>\n",
              "                        <td id=\"T_1575a096_03d0_11eb_967b_0242ac1c0002row5_col6\" class=\"data row5 col6\" >MEDIUM</td>\n",
              "            </tr>\n",
              "            <tr>\n",
              "                        <th id=\"T_1575a096_03d0_11eb_967b_0242ac1c0002level0_row6\" class=\"row_heading level0 row6\" >31</th>\n",
              "                        <td id=\"T_1575a096_03d0_11eb_967b_0242ac1c0002row6_col0\" class=\"data row6 col0\" >8194</td>\n",
              "                        <td id=\"T_1575a096_03d0_11eb_967b_0242ac1c0002row6_col1\" class=\"data row6 col1\" >Mapatón COVID-19 Medellín - Comuna 7</td>\n",
              "                        <td id=\"T_1575a096_03d0_11eb_967b_0242ac1c0002row6_col2\" class=\"data row6 col2\" >33</td>\n",
              "                        <td id=\"T_1575a096_03d0_11eb_967b_0242ac1c0002row6_col3\" class=\"data row6 col3\" >22</td>\n",
              "                        <td id=\"T_1575a096_03d0_11eb_967b_0242ac1c0002row6_col4\" class=\"data row6 col4\" >BEGINNER</td>\n",
              "                        <td id=\"T_1575a096_03d0_11eb_967b_0242ac1c0002row6_col5\" class=\"data row6 col5\" >PUBLISHED</td>\n",
              "                        <td id=\"T_1575a096_03d0_11eb_967b_0242ac1c0002row6_col6\" class=\"data row6 col6\" >MEDIUM</td>\n",
              "            </tr>\n",
              "            <tr>\n",
              "                        <th id=\"T_1575a096_03d0_11eb_967b_0242ac1c0002level0_row7\" class=\"row_heading level0 row7\" >32</th>\n",
              "                        <td id=\"T_1575a096_03d0_11eb_967b_0242ac1c0002row7_col0\" class=\"data row7 col0\" >8195</td>\n",
              "                        <td id=\"T_1575a096_03d0_11eb_967b_0242ac1c0002row7_col1\" class=\"data row7 col1\" >Mapatón COVID-19 Medellín - Comuna 8</td>\n",
              "                        <td id=\"T_1575a096_03d0_11eb_967b_0242ac1c0002row7_col2\" class=\"data row7 col2\" >5</td>\n",
              "                        <td id=\"T_1575a096_03d0_11eb_967b_0242ac1c0002row7_col3\" class=\"data row7 col3\" >1</td>\n",
              "                        <td id=\"T_1575a096_03d0_11eb_967b_0242ac1c0002row7_col4\" class=\"data row7 col4\" >BEGINNER</td>\n",
              "                        <td id=\"T_1575a096_03d0_11eb_967b_0242ac1c0002row7_col5\" class=\"data row7 col5\" >PUBLISHED</td>\n",
              "                        <td id=\"T_1575a096_03d0_11eb_967b_0242ac1c0002row7_col6\" class=\"data row7 col6\" >MEDIUM</td>\n",
              "            </tr>\n",
              "            <tr>\n",
              "                        <th id=\"T_1575a096_03d0_11eb_967b_0242ac1c0002level0_row8\" class=\"row_heading level0 row8\" >33</th>\n",
              "                        <td id=\"T_1575a096_03d0_11eb_967b_0242ac1c0002row8_col0\" class=\"data row8 col0\" >8196</td>\n",
              "                        <td id=\"T_1575a096_03d0_11eb_967b_0242ac1c0002row8_col1\" class=\"data row8 col1\" >Mapatón COVID-19 Medellín - Comuna 9</td>\n",
              "                        <td id=\"T_1575a096_03d0_11eb_967b_0242ac1c0002row8_col2\" class=\"data row8 col2\" >5</td>\n",
              "                        <td id=\"T_1575a096_03d0_11eb_967b_0242ac1c0002row8_col3\" class=\"data row8 col3\" >0</td>\n",
              "                        <td id=\"T_1575a096_03d0_11eb_967b_0242ac1c0002row8_col4\" class=\"data row8 col4\" >BEGINNER</td>\n",
              "                        <td id=\"T_1575a096_03d0_11eb_967b_0242ac1c0002row8_col5\" class=\"data row8 col5\" >PUBLISHED</td>\n",
              "                        <td id=\"T_1575a096_03d0_11eb_967b_0242ac1c0002row8_col6\" class=\"data row8 col6\" >MEDIUM</td>\n",
              "            </tr>\n",
              "            <tr>\n",
              "                        <th id=\"T_1575a096_03d0_11eb_967b_0242ac1c0002level0_row9\" class=\"row_heading level0 row9\" >34</th>\n",
              "                        <td id=\"T_1575a096_03d0_11eb_967b_0242ac1c0002row9_col0\" class=\"data row9 col0\" >8197</td>\n",
              "                        <td id=\"T_1575a096_03d0_11eb_967b_0242ac1c0002row9_col1\" class=\"data row9 col1\" >Mapatón COVID-19 Medellín - Comuna 10</td>\n",
              "                        <td id=\"T_1575a096_03d0_11eb_967b_0242ac1c0002row9_col2\" class=\"data row9 col2\" >15</td>\n",
              "                        <td id=\"T_1575a096_03d0_11eb_967b_0242ac1c0002row9_col3\" class=\"data row9 col3\" >5</td>\n",
              "                        <td id=\"T_1575a096_03d0_11eb_967b_0242ac1c0002row9_col4\" class=\"data row9 col4\" >BEGINNER</td>\n",
              "                        <td id=\"T_1575a096_03d0_11eb_967b_0242ac1c0002row9_col5\" class=\"data row9 col5\" >PUBLISHED</td>\n",
              "                        <td id=\"T_1575a096_03d0_11eb_967b_0242ac1c0002row9_col6\" class=\"data row9 col6\" >MEDIUM</td>\n",
              "            </tr>\n",
              "            <tr>\n",
              "                        <th id=\"T_1575a096_03d0_11eb_967b_0242ac1c0002level0_row10\" class=\"row_heading level0 row10\" >35</th>\n",
              "                        <td id=\"T_1575a096_03d0_11eb_967b_0242ac1c0002row10_col0\" class=\"data row10 col0\" >8198</td>\n",
              "                        <td id=\"T_1575a096_03d0_11eb_967b_0242ac1c0002row10_col1\" class=\"data row10 col1\" >Mapatón COVID-19 Medellín - Comuna 11</td>\n",
              "                        <td id=\"T_1575a096_03d0_11eb_967b_0242ac1c0002row10_col2\" class=\"data row10 col2\" >41</td>\n",
              "                        <td id=\"T_1575a096_03d0_11eb_967b_0242ac1c0002row10_col3\" class=\"data row10 col3\" >12</td>\n",
              "                        <td id=\"T_1575a096_03d0_11eb_967b_0242ac1c0002row10_col4\" class=\"data row10 col4\" >BEGINNER</td>\n",
              "                        <td id=\"T_1575a096_03d0_11eb_967b_0242ac1c0002row10_col5\" class=\"data row10 col5\" >PUBLISHED</td>\n",
              "                        <td id=\"T_1575a096_03d0_11eb_967b_0242ac1c0002row10_col6\" class=\"data row10 col6\" >MEDIUM</td>\n",
              "            </tr>\n",
              "            <tr>\n",
              "                        <th id=\"T_1575a096_03d0_11eb_967b_0242ac1c0002level0_row11\" class=\"row_heading level0 row11\" >36</th>\n",
              "                        <td id=\"T_1575a096_03d0_11eb_967b_0242ac1c0002row11_col0\" class=\"data row11 col0\" >8199</td>\n",
              "                        <td id=\"T_1575a096_03d0_11eb_967b_0242ac1c0002row11_col1\" class=\"data row11 col1\" >Mapatón COVID-19 Medellín - Comuna 12</td>\n",
              "                        <td id=\"T_1575a096_03d0_11eb_967b_0242ac1c0002row11_col2\" class=\"data row11 col2\" >87</td>\n",
              "                        <td id=\"T_1575a096_03d0_11eb_967b_0242ac1c0002row11_col3\" class=\"data row11 col3\" >81</td>\n",
              "                        <td id=\"T_1575a096_03d0_11eb_967b_0242ac1c0002row11_col4\" class=\"data row11 col4\" >BEGINNER</td>\n",
              "                        <td id=\"T_1575a096_03d0_11eb_967b_0242ac1c0002row11_col5\" class=\"data row11 col5\" >PUBLISHED</td>\n",
              "                        <td id=\"T_1575a096_03d0_11eb_967b_0242ac1c0002row11_col6\" class=\"data row11 col6\" >MEDIUM</td>\n",
              "            </tr>\n",
              "            <tr>\n",
              "                        <th id=\"T_1575a096_03d0_11eb_967b_0242ac1c0002level0_row12\" class=\"row_heading level0 row12\" >37</th>\n",
              "                        <td id=\"T_1575a096_03d0_11eb_967b_0242ac1c0002row12_col0\" class=\"data row12 col0\" >8200</td>\n",
              "                        <td id=\"T_1575a096_03d0_11eb_967b_0242ac1c0002row12_col1\" class=\"data row12 col1\" >Mapatón COVID-19 Medellín - Comuna 13</td>\n",
              "                        <td id=\"T_1575a096_03d0_11eb_967b_0242ac1c0002row12_col2\" class=\"data row12 col2\" >76</td>\n",
              "                        <td id=\"T_1575a096_03d0_11eb_967b_0242ac1c0002row12_col3\" class=\"data row12 col3\" >0</td>\n",
              "                        <td id=\"T_1575a096_03d0_11eb_967b_0242ac1c0002row12_col4\" class=\"data row12 col4\" >BEGINNER</td>\n",
              "                        <td id=\"T_1575a096_03d0_11eb_967b_0242ac1c0002row12_col5\" class=\"data row12 col5\" >PUBLISHED</td>\n",
              "                        <td id=\"T_1575a096_03d0_11eb_967b_0242ac1c0002row12_col6\" class=\"data row12 col6\" >MEDIUM</td>\n",
              "            </tr>\n",
              "            <tr>\n",
              "                        <th id=\"T_1575a096_03d0_11eb_967b_0242ac1c0002level0_row13\" class=\"row_heading level0 row13\" >38</th>\n",
              "                        <td id=\"T_1575a096_03d0_11eb_967b_0242ac1c0002row13_col0\" class=\"data row13 col0\" >8201</td>\n",
              "                        <td id=\"T_1575a096_03d0_11eb_967b_0242ac1c0002row13_col1\" class=\"data row13 col1\" >Mapatón COVID-19 Medellín - Comuna 14</td>\n",
              "                        <td id=\"T_1575a096_03d0_11eb_967b_0242ac1c0002row13_col2\" class=\"data row13 col2\" >27</td>\n",
              "                        <td id=\"T_1575a096_03d0_11eb_967b_0242ac1c0002row13_col3\" class=\"data row13 col3\" >1</td>\n",
              "                        <td id=\"T_1575a096_03d0_11eb_967b_0242ac1c0002row13_col4\" class=\"data row13 col4\" >BEGINNER</td>\n",
              "                        <td id=\"T_1575a096_03d0_11eb_967b_0242ac1c0002row13_col5\" class=\"data row13 col5\" >PUBLISHED</td>\n",
              "                        <td id=\"T_1575a096_03d0_11eb_967b_0242ac1c0002row13_col6\" class=\"data row13 col6\" >MEDIUM</td>\n",
              "            </tr>\n",
              "            <tr>\n",
              "                        <th id=\"T_1575a096_03d0_11eb_967b_0242ac1c0002level0_row14\" class=\"row_heading level0 row14\" >39</th>\n",
              "                        <td id=\"T_1575a096_03d0_11eb_967b_0242ac1c0002row14_col0\" class=\"data row14 col0\" >8202</td>\n",
              "                        <td id=\"T_1575a096_03d0_11eb_967b_0242ac1c0002row14_col1\" class=\"data row14 col1\" >Mapatón COVID-19 Medellín - Comuna 16</td>\n",
              "                        <td id=\"T_1575a096_03d0_11eb_967b_0242ac1c0002row14_col2\" class=\"data row14 col2\" >57</td>\n",
              "                        <td id=\"T_1575a096_03d0_11eb_967b_0242ac1c0002row14_col3\" class=\"data row14 col3\" >5</td>\n",
              "                        <td id=\"T_1575a096_03d0_11eb_967b_0242ac1c0002row14_col4\" class=\"data row14 col4\" >BEGINNER</td>\n",
              "                        <td id=\"T_1575a096_03d0_11eb_967b_0242ac1c0002row14_col5\" class=\"data row14 col5\" >PUBLISHED</td>\n",
              "                        <td id=\"T_1575a096_03d0_11eb_967b_0242ac1c0002row14_col6\" class=\"data row14 col6\" >MEDIUM</td>\n",
              "            </tr>\n",
              "            <tr>\n",
              "                        <th id=\"T_1575a096_03d0_11eb_967b_0242ac1c0002level0_row15\" class=\"row_heading level0 row15\" >40</th>\n",
              "                        <td id=\"T_1575a096_03d0_11eb_967b_0242ac1c0002row15_col0\" class=\"data row15 col0\" >8203</td>\n",
              "                        <td id=\"T_1575a096_03d0_11eb_967b_0242ac1c0002row15_col1\" class=\"data row15 col1\" >Mapatón COVID-19 Medellín - Comuna 15</td>\n",
              "                        <td id=\"T_1575a096_03d0_11eb_967b_0242ac1c0002row15_col2\" class=\"data row15 col2\" >48</td>\n",
              "                        <td id=\"T_1575a096_03d0_11eb_967b_0242ac1c0002row15_col3\" class=\"data row15 col3\" >2</td>\n",
              "                        <td id=\"T_1575a096_03d0_11eb_967b_0242ac1c0002row15_col4\" class=\"data row15 col4\" >BEGINNER</td>\n",
              "                        <td id=\"T_1575a096_03d0_11eb_967b_0242ac1c0002row15_col5\" class=\"data row15 col5\" >PUBLISHED</td>\n",
              "                        <td id=\"T_1575a096_03d0_11eb_967b_0242ac1c0002row15_col6\" class=\"data row15 col6\" >MEDIUM</td>\n",
              "            </tr>\n",
              "            <tr>\n",
              "                        <th id=\"T_1575a096_03d0_11eb_967b_0242ac1c0002level0_row16\" class=\"row_heading level0 row16\" >251</th>\n",
              "                        <td id=\"T_1575a096_03d0_11eb_967b_0242ac1c0002row16_col0\" class=\"data row16 col0\" >8593</td>\n",
              "                        <td id=\"T_1575a096_03d0_11eb_967b_0242ac1c0002row16_col1\" class=\"data row16 col1\" >#URBELatam #Covid-19 Mapeando para resiliencia equitativa en El Pacífico</td>\n",
              "                        <td id=\"T_1575a096_03d0_11eb_967b_0242ac1c0002row16_col2\" class=\"data row16 col2\" >91</td>\n",
              "                        <td id=\"T_1575a096_03d0_11eb_967b_0242ac1c0002row16_col3\" class=\"data row16 col3\" >88</td>\n",
              "                        <td id=\"T_1575a096_03d0_11eb_967b_0242ac1c0002row16_col4\" class=\"data row16 col4\" >BEGINNER</td>\n",
              "                        <td id=\"T_1575a096_03d0_11eb_967b_0242ac1c0002row16_col5\" class=\"data row16 col5\" >PUBLISHED</td>\n",
              "                        <td id=\"T_1575a096_03d0_11eb_967b_0242ac1c0002row16_col6\" class=\"data row16 col6\" >LOW</td>\n",
              "            </tr>\n",
              "    </tbody></table>"
            ],
            "text/plain": [
              "<pandas.io.formats.style.Styler at 0x7f42ad428550>"
            ]
          },
          "metadata": {
            "tags": []
          }
        },
        {
          "output_type": "display_data",
          "data": {
            "text/markdown": "## Democratic Republic of the Congo",
            "text/plain": [
              "<IPython.core.display.Markdown object>"
            ]
          },
          "metadata": {
            "tags": []
          }
        },
        {
          "output_type": "display_data",
          "data": {
            "text/markdown": "---",
            "text/plain": [
              "<IPython.core.display.Markdown object>"
            ]
          },
          "metadata": {
            "tags": []
          }
        },
        {
          "output_type": "display_data",
          "data": {
            "text/markdown": "\n- Total number projects: 1\n    - Drafts:    1\n    - Published: 0 \n    - Archived:  0\n- Completed projects (100% mapped & validated): 0\n- Average % mapped across all projects: 0.0 %\n- Average % validated across all projects: 0.0 %\n",
            "text/plain": [
              "<IPython.core.display.Markdown object>"
            ]
          },
          "metadata": {
            "tags": []
          }
        },
        {
          "output_type": "display_data",
          "data": {
            "text/markdown": "---",
            "text/plain": [
              "<IPython.core.display.Markdown object>"
            ]
          },
          "metadata": {
            "tags": []
          }
        },
        {
          "output_type": "display_data",
          "data": {
            "text/html": [
              "<style  type=\"text/css\" >\n",
              "#T_157c66d8_03d0_11eb_967b_0242ac1c0002row0_col2,#T_157c66d8_03d0_11eb_967b_0242ac1c0002row0_col3{\n",
              "            background-color:  #d73f3f;\n",
              "            color:  #f1f1f1;\n",
              "        }#T_157c66d8_03d0_11eb_967b_0242ac1c0002row0_col5{\n",
              "            background-color:  #FAA71E;\n",
              "        }#T_157c66d8_03d0_11eb_967b_0242ac1c0002row0_col6{\n",
              "            background-color:  #53AE62;\n",
              "        }</style><table id=\"T_157c66d8_03d0_11eb_967b_0242ac1c0002\" ><thead>    <tr>        <th class=\"blank level0\" ></th>        <th class=\"col_heading level0 col0\" >projectId</th>        <th class=\"col_heading level0 col1\" >name</th>        <th class=\"col_heading level0 col2\" >percentMapped</th>        <th class=\"col_heading level0 col3\" >percentValidated</th>        <th class=\"col_heading level0 col4\" >mapperLevel</th>        <th class=\"col_heading level0 col5\" >status</th>        <th class=\"col_heading level0 col6\" >priority</th>    </tr></thead><tbody>\n",
              "                <tr>\n",
              "                        <th id=\"T_157c66d8_03d0_11eb_967b_0242ac1c0002level0_row0\" class=\"row_heading level0 row0\" >43</th>\n",
              "                        <td id=\"T_157c66d8_03d0_11eb_967b_0242ac1c0002row0_col0\" class=\"data row0 col0\" >8472</td>\n",
              "                        <td id=\"T_157c66d8_03d0_11eb_967b_0242ac1c0002row0_col1\" class=\"data row0 col1\" >COVID-19, Kinshasa, Gombe</td>\n",
              "                        <td id=\"T_157c66d8_03d0_11eb_967b_0242ac1c0002row0_col2\" class=\"data row0 col2\" >0</td>\n",
              "                        <td id=\"T_157c66d8_03d0_11eb_967b_0242ac1c0002row0_col3\" class=\"data row0 col3\" >0</td>\n",
              "                        <td id=\"T_157c66d8_03d0_11eb_967b_0242ac1c0002row0_col4\" class=\"data row0 col4\" >INTERMEDIATE</td>\n",
              "                        <td id=\"T_157c66d8_03d0_11eb_967b_0242ac1c0002row0_col5\" class=\"data row0 col5\" >DRAFT</td>\n",
              "                        <td id=\"T_157c66d8_03d0_11eb_967b_0242ac1c0002row0_col6\" class=\"data row0 col6\" >MEDIUM</td>\n",
              "            </tr>\n",
              "    </tbody></table>"
            ],
            "text/plain": [
              "<pandas.io.formats.style.Styler at 0x7f42ad804588>"
            ]
          },
          "metadata": {
            "tags": []
          }
        },
        {
          "output_type": "display_data",
          "data": {
            "text/markdown": "## Guyana",
            "text/plain": [
              "<IPython.core.display.Markdown object>"
            ]
          },
          "metadata": {
            "tags": []
          }
        },
        {
          "output_type": "display_data",
          "data": {
            "text/markdown": "---",
            "text/plain": [
              "<IPython.core.display.Markdown object>"
            ]
          },
          "metadata": {
            "tags": []
          }
        },
        {
          "output_type": "display_data",
          "data": {
            "text/markdown": "\n- Total number projects: 17\n    - Drafts:    11\n    - Published: 6 \n    - Archived:  0\n- Completed projects (100% mapped & validated): 0\n- Average % mapped across all projects: 14.3 %\n- Average % validated across all projects: 0.0 %\n",
            "text/plain": [
              "<IPython.core.display.Markdown object>"
            ]
          },
          "metadata": {
            "tags": []
          }
        },
        {
          "output_type": "display_data",
          "data": {
            "text/markdown": "---",
            "text/plain": [
              "<IPython.core.display.Markdown object>"
            ]
          },
          "metadata": {
            "tags": []
          }
        },
        {
          "output_type": "display_data",
          "data": {
            "text/html": [
              "<style  type=\"text/css\" >\n",
              "#T_1582e8d2_03d0_11eb_967b_0242ac1c0002row0_col2,#T_1582e8d2_03d0_11eb_967b_0242ac1c0002row0_col3,#T_1582e8d2_03d0_11eb_967b_0242ac1c0002row1_col2,#T_1582e8d2_03d0_11eb_967b_0242ac1c0002row1_col3,#T_1582e8d2_03d0_11eb_967b_0242ac1c0002row2_col3,#T_1582e8d2_03d0_11eb_967b_0242ac1c0002row3_col3,#T_1582e8d2_03d0_11eb_967b_0242ac1c0002row4_col2,#T_1582e8d2_03d0_11eb_967b_0242ac1c0002row4_col3,#T_1582e8d2_03d0_11eb_967b_0242ac1c0002row5_col2,#T_1582e8d2_03d0_11eb_967b_0242ac1c0002row5_col3,#T_1582e8d2_03d0_11eb_967b_0242ac1c0002row6_col2,#T_1582e8d2_03d0_11eb_967b_0242ac1c0002row6_col3,#T_1582e8d2_03d0_11eb_967b_0242ac1c0002row7_col3,#T_1582e8d2_03d0_11eb_967b_0242ac1c0002row8_col2,#T_1582e8d2_03d0_11eb_967b_0242ac1c0002row8_col3,#T_1582e8d2_03d0_11eb_967b_0242ac1c0002row9_col2,#T_1582e8d2_03d0_11eb_967b_0242ac1c0002row9_col3,#T_1582e8d2_03d0_11eb_967b_0242ac1c0002row10_col2,#T_1582e8d2_03d0_11eb_967b_0242ac1c0002row10_col3,#T_1582e8d2_03d0_11eb_967b_0242ac1c0002row11_col2,#T_1582e8d2_03d0_11eb_967b_0242ac1c0002row11_col3,#T_1582e8d2_03d0_11eb_967b_0242ac1c0002row12_col2,#T_1582e8d2_03d0_11eb_967b_0242ac1c0002row12_col3,#T_1582e8d2_03d0_11eb_967b_0242ac1c0002row13_col2,#T_1582e8d2_03d0_11eb_967b_0242ac1c0002row13_col3,#T_1582e8d2_03d0_11eb_967b_0242ac1c0002row14_col2,#T_1582e8d2_03d0_11eb_967b_0242ac1c0002row14_col3,#T_1582e8d2_03d0_11eb_967b_0242ac1c0002row15_col2,#T_1582e8d2_03d0_11eb_967b_0242ac1c0002row15_col3,#T_1582e8d2_03d0_11eb_967b_0242ac1c0002row16_col2,#T_1582e8d2_03d0_11eb_967b_0242ac1c0002row16_col3{\n",
              "            background-color:  #d73f3f;\n",
              "            color:  #f1f1f1;\n",
              "        }#T_1582e8d2_03d0_11eb_967b_0242ac1c0002row0_col5,#T_1582e8d2_03d0_11eb_967b_0242ac1c0002row1_col5,#T_1582e8d2_03d0_11eb_967b_0242ac1c0002row6_col5,#T_1582e8d2_03d0_11eb_967b_0242ac1c0002row7_col6,#T_1582e8d2_03d0_11eb_967b_0242ac1c0002row8_col5,#T_1582e8d2_03d0_11eb_967b_0242ac1c0002row9_col5,#T_1582e8d2_03d0_11eb_967b_0242ac1c0002row10_col5,#T_1582e8d2_03d0_11eb_967b_0242ac1c0002row12_col5,#T_1582e8d2_03d0_11eb_967b_0242ac1c0002row13_col5,#T_1582e8d2_03d0_11eb_967b_0242ac1c0002row14_col5,#T_1582e8d2_03d0_11eb_967b_0242ac1c0002row15_col5,#T_1582e8d2_03d0_11eb_967b_0242ac1c0002row16_col5{\n",
              "            background-color:  #FAA71E;\n",
              "        }#T_1582e8d2_03d0_11eb_967b_0242ac1c0002row0_col6,#T_1582e8d2_03d0_11eb_967b_0242ac1c0002row1_col6,#T_1582e8d2_03d0_11eb_967b_0242ac1c0002row2_col5,#T_1582e8d2_03d0_11eb_967b_0242ac1c0002row3_col5,#T_1582e8d2_03d0_11eb_967b_0242ac1c0002row4_col5,#T_1582e8d2_03d0_11eb_967b_0242ac1c0002row5_col5,#T_1582e8d2_03d0_11eb_967b_0242ac1c0002row7_col5,#T_1582e8d2_03d0_11eb_967b_0242ac1c0002row11_col5{\n",
              "            background-color:  #53AE62;\n",
              "        }#T_1582e8d2_03d0_11eb_967b_0242ac1c0002row2_col2{\n",
              "            background-color:  #cea930;\n",
              "            color:  #000000;\n",
              "        }#T_1582e8d2_03d0_11eb_967b_0242ac1c0002row2_col6,#T_1582e8d2_03d0_11eb_967b_0242ac1c0002row3_col6,#T_1582e8d2_03d0_11eb_967b_0242ac1c0002row4_col6,#T_1582e8d2_03d0_11eb_967b_0242ac1c0002row5_col6,#T_1582e8d2_03d0_11eb_967b_0242ac1c0002row6_col6,#T_1582e8d2_03d0_11eb_967b_0242ac1c0002row8_col6,#T_1582e8d2_03d0_11eb_967b_0242ac1c0002row9_col6,#T_1582e8d2_03d0_11eb_967b_0242ac1c0002row10_col6,#T_1582e8d2_03d0_11eb_967b_0242ac1c0002row11_col6,#T_1582e8d2_03d0_11eb_967b_0242ac1c0002row12_col6,#T_1582e8d2_03d0_11eb_967b_0242ac1c0002row13_col6,#T_1582e8d2_03d0_11eb_967b_0242ac1c0002row14_col6,#T_1582e8d2_03d0_11eb_967b_0242ac1c0002row15_col6,#T_1582e8d2_03d0_11eb_967b_0242ac1c0002row16_col6{\n",
              "            background-color:  #E1E0E0;\n",
              "        }#T_1582e8d2_03d0_11eb_967b_0242ac1c0002row3_col2{\n",
              "            background-color:  #53ae62;\n",
              "            color:  #000000;\n",
              "        }#T_1582e8d2_03d0_11eb_967b_0242ac1c0002row7_col2{\n",
              "            background-color:  #99ab45;\n",
              "            color:  #000000;\n",
              "        }</style><table id=\"T_1582e8d2_03d0_11eb_967b_0242ac1c0002\" ><thead>    <tr>        <th class=\"blank level0\" ></th>        <th class=\"col_heading level0 col0\" >projectId</th>        <th class=\"col_heading level0 col1\" >name</th>        <th class=\"col_heading level0 col2\" >percentMapped</th>        <th class=\"col_heading level0 col3\" >percentValidated</th>        <th class=\"col_heading level0 col4\" >mapperLevel</th>        <th class=\"col_heading level0 col5\" >status</th>        <th class=\"col_heading level0 col6\" >priority</th>    </tr></thead><tbody>\n",
              "                <tr>\n",
              "                        <th id=\"T_1582e8d2_03d0_11eb_967b_0242ac1c0002level0_row0\" class=\"row_heading level0 row0\" >105</th>\n",
              "                        <td id=\"T_1582e8d2_03d0_11eb_967b_0242ac1c0002row0_col0\" class=\"data row0 col0\" >9372</td>\n",
              "                        <td id=\"T_1582e8d2_03d0_11eb_967b_0242ac1c0002row0_col1\" class=\"data row0 col1\" >COVID-19 Lower Corentyne Rive</td>\n",
              "                        <td id=\"T_1582e8d2_03d0_11eb_967b_0242ac1c0002row0_col2\" class=\"data row0 col2\" >0</td>\n",
              "                        <td id=\"T_1582e8d2_03d0_11eb_967b_0242ac1c0002row0_col3\" class=\"data row0 col3\" >0</td>\n",
              "                        <td id=\"T_1582e8d2_03d0_11eb_967b_0242ac1c0002row0_col4\" class=\"data row0 col4\" >INTERMEDIATE</td>\n",
              "                        <td id=\"T_1582e8d2_03d0_11eb_967b_0242ac1c0002row0_col5\" class=\"data row0 col5\" >DRAFT</td>\n",
              "                        <td id=\"T_1582e8d2_03d0_11eb_967b_0242ac1c0002row0_col6\" class=\"data row0 col6\" >MEDIUM</td>\n",
              "            </tr>\n",
              "            <tr>\n",
              "                        <th id=\"T_1582e8d2_03d0_11eb_967b_0242ac1c0002level0_row1\" class=\"row_heading level0 row1\" >106</th>\n",
              "                        <td id=\"T_1582e8d2_03d0_11eb_967b_0242ac1c0002row1_col0\" class=\"data row1 col0\" >9373</td>\n",
              "                        <td id=\"T_1582e8d2_03d0_11eb_967b_0242ac1c0002row1_col1\" class=\"data row1 col1\" >COVID-19 Lower Corentyne Rive, Guyana</td>\n",
              "                        <td id=\"T_1582e8d2_03d0_11eb_967b_0242ac1c0002row1_col2\" class=\"data row1 col2\" >0</td>\n",
              "                        <td id=\"T_1582e8d2_03d0_11eb_967b_0242ac1c0002row1_col3\" class=\"data row1 col3\" >0</td>\n",
              "                        <td id=\"T_1582e8d2_03d0_11eb_967b_0242ac1c0002row1_col4\" class=\"data row1 col4\" >BEGINNER</td>\n",
              "                        <td id=\"T_1582e8d2_03d0_11eb_967b_0242ac1c0002row1_col5\" class=\"data row1 col5\" >DRAFT</td>\n",
              "                        <td id=\"T_1582e8d2_03d0_11eb_967b_0242ac1c0002row1_col6\" class=\"data row1 col6\" >MEDIUM</td>\n",
              "            </tr>\n",
              "            <tr>\n",
              "                        <th id=\"T_1582e8d2_03d0_11eb_967b_0242ac1c0002level0_row2\" class=\"row_heading level0 row2\" >333</th>\n",
              "                        <td id=\"T_1582e8d2_03d0_11eb_967b_0242ac1c0002row2_col0\" class=\"data row2 col0\" >9374</td>\n",
              "                        <td id=\"T_1582e8d2_03d0_11eb_967b_0242ac1c0002row2_col1\" class=\"data row2 col1\" >COVID-19 Lower Corentyne Rive, Guyana</td>\n",
              "                        <td id=\"T_1582e8d2_03d0_11eb_967b_0242ac1c0002row2_col2\" class=\"data row2 col2\" >64</td>\n",
              "                        <td id=\"T_1582e8d2_03d0_11eb_967b_0242ac1c0002row2_col3\" class=\"data row2 col3\" >0</td>\n",
              "                        <td id=\"T_1582e8d2_03d0_11eb_967b_0242ac1c0002row2_col4\" class=\"data row2 col4\" >BEGINNER</td>\n",
              "                        <td id=\"T_1582e8d2_03d0_11eb_967b_0242ac1c0002row2_col5\" class=\"data row2 col5\" >PUBLISHED</td>\n",
              "                        <td id=\"T_1582e8d2_03d0_11eb_967b_0242ac1c0002row2_col6\" class=\"data row2 col6\" >LOW</td>\n",
              "            </tr>\n",
              "            <tr>\n",
              "                        <th id=\"T_1582e8d2_03d0_11eb_967b_0242ac1c0002level0_row3\" class=\"row_heading level0 row3\" >334</th>\n",
              "                        <td id=\"T_1582e8d2_03d0_11eb_967b_0242ac1c0002row3_col0\" class=\"data row3 col0\" >9405</td>\n",
              "                        <td id=\"T_1582e8d2_03d0_11eb_967b_0242ac1c0002row3_col1\" class=\"data row3 col1\" >COVID-19 Waini - Kumaka, Guyana</td>\n",
              "                        <td id=\"T_1582e8d2_03d0_11eb_967b_0242ac1c0002row3_col2\" class=\"data row3 col2\" >99</td>\n",
              "                        <td id=\"T_1582e8d2_03d0_11eb_967b_0242ac1c0002row3_col3\" class=\"data row3 col3\" >0</td>\n",
              "                        <td id=\"T_1582e8d2_03d0_11eb_967b_0242ac1c0002row3_col4\" class=\"data row3 col4\" >BEGINNER</td>\n",
              "                        <td id=\"T_1582e8d2_03d0_11eb_967b_0242ac1c0002row3_col5\" class=\"data row3 col5\" >PUBLISHED</td>\n",
              "                        <td id=\"T_1582e8d2_03d0_11eb_967b_0242ac1c0002row3_col6\" class=\"data row3 col6\" >LOW</td>\n",
              "            </tr>\n",
              "            <tr>\n",
              "                        <th id=\"T_1582e8d2_03d0_11eb_967b_0242ac1c0002level0_row4\" class=\"row_heading level0 row4\" >335</th>\n",
              "                        <td id=\"T_1582e8d2_03d0_11eb_967b_0242ac1c0002row4_col0\" class=\"data row4 col0\" >9406</td>\n",
              "                        <td id=\"T_1582e8d2_03d0_11eb_967b_0242ac1c0002row4_col1\" class=\"data row4 col1\" >COVID-19 Moruka/Pomeroon - Pomeroon River, Guyana</td>\n",
              "                        <td id=\"T_1582e8d2_03d0_11eb_967b_0242ac1c0002row4_col2\" class=\"data row4 col2\" >0</td>\n",
              "                        <td id=\"T_1582e8d2_03d0_11eb_967b_0242ac1c0002row4_col3\" class=\"data row4 col3\" >0</td>\n",
              "                        <td id=\"T_1582e8d2_03d0_11eb_967b_0242ac1c0002row4_col4\" class=\"data row4 col4\" >BEGINNER</td>\n",
              "                        <td id=\"T_1582e8d2_03d0_11eb_967b_0242ac1c0002row4_col5\" class=\"data row4 col5\" >PUBLISHED</td>\n",
              "                        <td id=\"T_1582e8d2_03d0_11eb_967b_0242ac1c0002row4_col6\" class=\"data row4 col6\" >LOW</td>\n",
              "            </tr>\n",
              "            <tr>\n",
              "                        <th id=\"T_1582e8d2_03d0_11eb_967b_0242ac1c0002level0_row5\" class=\"row_heading level0 row5\" >336</th>\n",
              "                        <td id=\"T_1582e8d2_03d0_11eb_967b_0242ac1c0002row5_col0\" class=\"data row5 col0\" >9407</td>\n",
              "                        <td id=\"T_1582e8d2_03d0_11eb_967b_0242ac1c0002row5_col1\" class=\"data row5 col1\" >COVID-19 Somerset And Berks - Coast, Guyana</td>\n",
              "                        <td id=\"T_1582e8d2_03d0_11eb_967b_0242ac1c0002row5_col2\" class=\"data row5 col2\" >0</td>\n",
              "                        <td id=\"T_1582e8d2_03d0_11eb_967b_0242ac1c0002row5_col3\" class=\"data row5 col3\" >0</td>\n",
              "                        <td id=\"T_1582e8d2_03d0_11eb_967b_0242ac1c0002row5_col4\" class=\"data row5 col4\" >BEGINNER</td>\n",
              "                        <td id=\"T_1582e8d2_03d0_11eb_967b_0242ac1c0002row5_col5\" class=\"data row5 col5\" >PUBLISHED</td>\n",
              "                        <td id=\"T_1582e8d2_03d0_11eb_967b_0242ac1c0002row5_col6\" class=\"data row5 col6\" >LOW</td>\n",
              "            </tr>\n",
              "            <tr>\n",
              "                        <th id=\"T_1582e8d2_03d0_11eb_967b_0242ac1c0002level0_row6\" class=\"row_heading level0 row6\" >337</th>\n",
              "                        <td id=\"T_1582e8d2_03d0_11eb_967b_0242ac1c0002row6_col0\" class=\"data row6 col0\" >9409</td>\n",
              "                        <td id=\"T_1582e8d2_03d0_11eb_967b_0242ac1c0002row6_col1\" class=\"data row6 col1\" >COVID-19 Essequibo I./L.B.E.River - Islands, Guyana</td>\n",
              "                        <td id=\"T_1582e8d2_03d0_11eb_967b_0242ac1c0002row6_col2\" class=\"data row6 col2\" >0</td>\n",
              "                        <td id=\"T_1582e8d2_03d0_11eb_967b_0242ac1c0002row6_col3\" class=\"data row6 col3\" >0</td>\n",
              "                        <td id=\"T_1582e8d2_03d0_11eb_967b_0242ac1c0002row6_col4\" class=\"data row6 col4\" >BEGINNER</td>\n",
              "                        <td id=\"T_1582e8d2_03d0_11eb_967b_0242ac1c0002row6_col5\" class=\"data row6 col5\" >DRAFT</td>\n",
              "                        <td id=\"T_1582e8d2_03d0_11eb_967b_0242ac1c0002row6_col6\" class=\"data row6 col6\" >LOW</td>\n",
              "            </tr>\n",
              "            <tr>\n",
              "                        <th id=\"T_1582e8d2_03d0_11eb_967b_0242ac1c0002level0_row7\" class=\"row_heading level0 row7\" >25</th>\n",
              "                        <td id=\"T_1582e8d2_03d0_11eb_967b_0242ac1c0002row7_col0\" class=\"data row7 col0\" >9410</td>\n",
              "                        <td id=\"T_1582e8d2_03d0_11eb_967b_0242ac1c0002row7_col1\" class=\"data row7 col1\" >COVID-19 Bonasika/Boerasirie - Coast, Guyana</td>\n",
              "                        <td id=\"T_1582e8d2_03d0_11eb_967b_0242ac1c0002row7_col2\" class=\"data row7 col2\" >78</td>\n",
              "                        <td id=\"T_1582e8d2_03d0_11eb_967b_0242ac1c0002row7_col3\" class=\"data row7 col3\" >0</td>\n",
              "                        <td id=\"T_1582e8d2_03d0_11eb_967b_0242ac1c0002row7_col4\" class=\"data row7 col4\" >BEGINNER</td>\n",
              "                        <td id=\"T_1582e8d2_03d0_11eb_967b_0242ac1c0002row7_col5\" class=\"data row7 col5\" >PUBLISHED</td>\n",
              "                        <td id=\"T_1582e8d2_03d0_11eb_967b_0242ac1c0002row7_col6\" class=\"data row7 col6\" >HIGH</td>\n",
              "            </tr>\n",
              "            <tr>\n",
              "                        <th id=\"T_1582e8d2_03d0_11eb_967b_0242ac1c0002level0_row8\" class=\"row_heading level0 row8\" >338</th>\n",
              "                        <td id=\"T_1582e8d2_03d0_11eb_967b_0242ac1c0002row8_col0\" class=\"data row8 col0\" >9411</td>\n",
              "                        <td id=\"T_1582e8d2_03d0_11eb_967b_0242ac1c0002row8_col1\" class=\"data row8 col1\" >COVID-19 Lower West Demerara - Coast, Guyana</td>\n",
              "                        <td id=\"T_1582e8d2_03d0_11eb_967b_0242ac1c0002row8_col2\" class=\"data row8 col2\" >1</td>\n",
              "                        <td id=\"T_1582e8d2_03d0_11eb_967b_0242ac1c0002row8_col3\" class=\"data row8 col3\" >0</td>\n",
              "                        <td id=\"T_1582e8d2_03d0_11eb_967b_0242ac1c0002row8_col4\" class=\"data row8 col4\" >BEGINNER</td>\n",
              "                        <td id=\"T_1582e8d2_03d0_11eb_967b_0242ac1c0002row8_col5\" class=\"data row8 col5\" >DRAFT</td>\n",
              "                        <td id=\"T_1582e8d2_03d0_11eb_967b_0242ac1c0002row8_col6\" class=\"data row8 col6\" >LOW</td>\n",
              "            </tr>\n",
              "            <tr>\n",
              "                        <th id=\"T_1582e8d2_03d0_11eb_967b_0242ac1c0002level0_row9\" class=\"row_heading level0 row9\" >339</th>\n",
              "                        <td id=\"T_1582e8d2_03d0_11eb_967b_0242ac1c0002row9_col0\" class=\"data row9 col0\" >9412</td>\n",
              "                        <td id=\"T_1582e8d2_03d0_11eb_967b_0242ac1c0002row9_col1\" class=\"data row9 col1\" >COVID-19 Moblissa/La Reconnai - Coast, Guyana</td>\n",
              "                        <td id=\"T_1582e8d2_03d0_11eb_967b_0242ac1c0002row9_col2\" class=\"data row9 col2\" >0</td>\n",
              "                        <td id=\"T_1582e8d2_03d0_11eb_967b_0242ac1c0002row9_col3\" class=\"data row9 col3\" >0</td>\n",
              "                        <td id=\"T_1582e8d2_03d0_11eb_967b_0242ac1c0002row9_col4\" class=\"data row9 col4\" >BEGINNER</td>\n",
              "                        <td id=\"T_1582e8d2_03d0_11eb_967b_0242ac1c0002row9_col5\" class=\"data row9 col5\" >DRAFT</td>\n",
              "                        <td id=\"T_1582e8d2_03d0_11eb_967b_0242ac1c0002row9_col6\" class=\"data row9 col6\" >LOW</td>\n",
              "            </tr>\n",
              "            <tr>\n",
              "                        <th id=\"T_1582e8d2_03d0_11eb_967b_0242ac1c0002level0_row10\" class=\"row_heading level0 row10\" >340</th>\n",
              "                        <td id=\"T_1582e8d2_03d0_11eb_967b_0242ac1c0002row10_col0\" class=\"data row10 col0\" >9413</td>\n",
              "                        <td id=\"T_1582e8d2_03d0_11eb_967b_0242ac1c0002row10_col1\" class=\"data row10 col1\" >COVID-19 Buxton/Mahaica - Coast, Guyana</td>\n",
              "                        <td id=\"T_1582e8d2_03d0_11eb_967b_0242ac1c0002row10_col2\" class=\"data row10 col2\" >0</td>\n",
              "                        <td id=\"T_1582e8d2_03d0_11eb_967b_0242ac1c0002row10_col3\" class=\"data row10 col3\" >0</td>\n",
              "                        <td id=\"T_1582e8d2_03d0_11eb_967b_0242ac1c0002row10_col4\" class=\"data row10 col4\" >BEGINNER</td>\n",
              "                        <td id=\"T_1582e8d2_03d0_11eb_967b_0242ac1c0002row10_col5\" class=\"data row10 col5\" >DRAFT</td>\n",
              "                        <td id=\"T_1582e8d2_03d0_11eb_967b_0242ac1c0002row10_col6\" class=\"data row10 col6\" >LOW</td>\n",
              "            </tr>\n",
              "            <tr>\n",
              "                        <th id=\"T_1582e8d2_03d0_11eb_967b_0242ac1c0002level0_row11\" class=\"row_heading level0 row11\" >341</th>\n",
              "                        <td id=\"T_1582e8d2_03d0_11eb_967b_0242ac1c0002row11_col0\" class=\"data row11 col0\" >9414</td>\n",
              "                        <td id=\"T_1582e8d2_03d0_11eb_967b_0242ac1c0002row11_col1\" class=\"data row11 col1\" >COVID-19 Mahaica/Mahaicony - Rivers, Guyana</td>\n",
              "                        <td id=\"T_1582e8d2_03d0_11eb_967b_0242ac1c0002row11_col2\" class=\"data row11 col2\" >1</td>\n",
              "                        <td id=\"T_1582e8d2_03d0_11eb_967b_0242ac1c0002row11_col3\" class=\"data row11 col3\" >0</td>\n",
              "                        <td id=\"T_1582e8d2_03d0_11eb_967b_0242ac1c0002row11_col4\" class=\"data row11 col4\" >BEGINNER</td>\n",
              "                        <td id=\"T_1582e8d2_03d0_11eb_967b_0242ac1c0002row11_col5\" class=\"data row11 col5\" >PUBLISHED</td>\n",
              "                        <td id=\"T_1582e8d2_03d0_11eb_967b_0242ac1c0002row11_col6\" class=\"data row11 col6\" >LOW</td>\n",
              "            </tr>\n",
              "            <tr>\n",
              "                        <th id=\"T_1582e8d2_03d0_11eb_967b_0242ac1c0002level0_row12\" class=\"row_heading level0 row12\" >342</th>\n",
              "                        <td id=\"T_1582e8d2_03d0_11eb_967b_0242ac1c0002row12_col0\" class=\"data row12 col0\" >9450</td>\n",
              "                        <td id=\"T_1582e8d2_03d0_11eb_967b_0242ac1c0002row12_col1\" class=\"data row12 col1\" >COVID-19 Mahaicony/Berbice - Coast, Guyana</td>\n",
              "                        <td id=\"T_1582e8d2_03d0_11eb_967b_0242ac1c0002row12_col2\" class=\"data row12 col2\" >0</td>\n",
              "                        <td id=\"T_1582e8d2_03d0_11eb_967b_0242ac1c0002row12_col3\" class=\"data row12 col3\" >0</td>\n",
              "                        <td id=\"T_1582e8d2_03d0_11eb_967b_0242ac1c0002row12_col4\" class=\"data row12 col4\" >BEGINNER</td>\n",
              "                        <td id=\"T_1582e8d2_03d0_11eb_967b_0242ac1c0002row12_col5\" class=\"data row12 col5\" >DRAFT</td>\n",
              "                        <td id=\"T_1582e8d2_03d0_11eb_967b_0242ac1c0002row12_col6\" class=\"data row12 col6\" >LOW</td>\n",
              "            </tr>\n",
              "            <tr>\n",
              "                        <th id=\"T_1582e8d2_03d0_11eb_967b_0242ac1c0002level0_row13\" class=\"row_heading level0 row13\" >343</th>\n",
              "                        <td id=\"T_1582e8d2_03d0_11eb_967b_0242ac1c0002row13_col0\" class=\"data row13 col0\" >9451</td>\n",
              "                        <td id=\"T_1582e8d2_03d0_11eb_967b_0242ac1c0002row13_col1\" class=\"data row13 col1\" >COVID-19 East Berbice/W. Canje - Coast, Guyana</td>\n",
              "                        <td id=\"T_1582e8d2_03d0_11eb_967b_0242ac1c0002row13_col2\" class=\"data row13 col2\" >0</td>\n",
              "                        <td id=\"T_1582e8d2_03d0_11eb_967b_0242ac1c0002row13_col3\" class=\"data row13 col3\" >0</td>\n",
              "                        <td id=\"T_1582e8d2_03d0_11eb_967b_0242ac1c0002row13_col4\" class=\"data row13 col4\" >BEGINNER</td>\n",
              "                        <td id=\"T_1582e8d2_03d0_11eb_967b_0242ac1c0002row13_col5\" class=\"data row13 col5\" >DRAFT</td>\n",
              "                        <td id=\"T_1582e8d2_03d0_11eb_967b_0242ac1c0002row13_col6\" class=\"data row13 col6\" >LOW</td>\n",
              "            </tr>\n",
              "            <tr>\n",
              "                        <th id=\"T_1582e8d2_03d0_11eb_967b_0242ac1c0002level0_row14\" class=\"row_heading level0 row14\" >344</th>\n",
              "                        <td id=\"T_1582e8d2_03d0_11eb_967b_0242ac1c0002row14_col0\" class=\"data row14 col0\" >9455</td>\n",
              "                        <td id=\"T_1582e8d2_03d0_11eb_967b_0242ac1c0002row14_col1\" class=\"data row14 col1\" >COVID-19 East Canje/E.C. Berb - Coast, Guyana</td>\n",
              "                        <td id=\"T_1582e8d2_03d0_11eb_967b_0242ac1c0002row14_col2\" class=\"data row14 col2\" >0</td>\n",
              "                        <td id=\"T_1582e8d2_03d0_11eb_967b_0242ac1c0002row14_col3\" class=\"data row14 col3\" >0</td>\n",
              "                        <td id=\"T_1582e8d2_03d0_11eb_967b_0242ac1c0002row14_col4\" class=\"data row14 col4\" >BEGINNER</td>\n",
              "                        <td id=\"T_1582e8d2_03d0_11eb_967b_0242ac1c0002row14_col5\" class=\"data row14 col5\" >DRAFT</td>\n",
              "                        <td id=\"T_1582e8d2_03d0_11eb_967b_0242ac1c0002row14_col6\" class=\"data row14 col6\" >LOW</td>\n",
              "            </tr>\n",
              "            <tr>\n",
              "                        <th id=\"T_1582e8d2_03d0_11eb_967b_0242ac1c0002level0_row15\" class=\"row_heading level0 row15\" >345</th>\n",
              "                        <td id=\"T_1582e8d2_03d0_11eb_967b_0242ac1c0002row15_col0\" class=\"data row15 col0\" >9456</td>\n",
              "                        <td id=\"T_1582e8d2_03d0_11eb_967b_0242ac1c0002row15_col1\" class=\"data row15 col1\" >COVID-19 Black Bush Polder - Coast, Guyana</td>\n",
              "                        <td id=\"T_1582e8d2_03d0_11eb_967b_0242ac1c0002row15_col2\" class=\"data row15 col2\" >0</td>\n",
              "                        <td id=\"T_1582e8d2_03d0_11eb_967b_0242ac1c0002row15_col3\" class=\"data row15 col3\" >0</td>\n",
              "                        <td id=\"T_1582e8d2_03d0_11eb_967b_0242ac1c0002row15_col4\" class=\"data row15 col4\" >BEGINNER</td>\n",
              "                        <td id=\"T_1582e8d2_03d0_11eb_967b_0242ac1c0002row15_col5\" class=\"data row15 col5\" >DRAFT</td>\n",
              "                        <td id=\"T_1582e8d2_03d0_11eb_967b_0242ac1c0002row15_col6\" class=\"data row15 col6\" >LOW</td>\n",
              "            </tr>\n",
              "            <tr>\n",
              "                        <th id=\"T_1582e8d2_03d0_11eb_967b_0242ac1c0002level0_row16\" class=\"row_heading level0 row16\" >346</th>\n",
              "                        <td id=\"T_1582e8d2_03d0_11eb_967b_0242ac1c0002row16_col0\" class=\"data row16 col0\" >9463</td>\n",
              "                        <td id=\"T_1582e8d2_03d0_11eb_967b_0242ac1c0002row16_col1\" class=\"data row16 col1\" >COVID-19 Right Bank Essequibo - Linden, Guyana</td>\n",
              "                        <td id=\"T_1582e8d2_03d0_11eb_967b_0242ac1c0002row16_col2\" class=\"data row16 col2\" >0</td>\n",
              "                        <td id=\"T_1582e8d2_03d0_11eb_967b_0242ac1c0002row16_col3\" class=\"data row16 col3\" >0</td>\n",
              "                        <td id=\"T_1582e8d2_03d0_11eb_967b_0242ac1c0002row16_col4\" class=\"data row16 col4\" >INTERMEDIATE</td>\n",
              "                        <td id=\"T_1582e8d2_03d0_11eb_967b_0242ac1c0002row16_col5\" class=\"data row16 col5\" >DRAFT</td>\n",
              "                        <td id=\"T_1582e8d2_03d0_11eb_967b_0242ac1c0002row16_col6\" class=\"data row16 col6\" >LOW</td>\n",
              "            </tr>\n",
              "    </tbody></table>"
            ],
            "text/plain": [
              "<pandas.io.formats.style.Styler at 0x7f42ad461710>"
            ]
          },
          "metadata": {
            "tags": []
          }
        },
        {
          "output_type": "display_data",
          "data": {
            "text/markdown": "## Haiti",
            "text/plain": [
              "<IPython.core.display.Markdown object>"
            ]
          },
          "metadata": {
            "tags": []
          }
        },
        {
          "output_type": "display_data",
          "data": {
            "text/markdown": "---",
            "text/plain": [
              "<IPython.core.display.Markdown object>"
            ]
          },
          "metadata": {
            "tags": []
          }
        },
        {
          "output_type": "display_data",
          "data": {
            "text/markdown": "\n- Total number projects: 5\n    - Drafts:    4\n    - Published: 1 \n    - Archived:  0\n- Completed projects (100% mapped & validated): 0\n- Average % mapped across all projects: 13.4 %\n- Average % validated across all projects: 0.0 %\n",
            "text/plain": [
              "<IPython.core.display.Markdown object>"
            ]
          },
          "metadata": {
            "tags": []
          }
        },
        {
          "output_type": "display_data",
          "data": {
            "text/markdown": "---",
            "text/plain": [
              "<IPython.core.display.Markdown object>"
            ]
          },
          "metadata": {
            "tags": []
          }
        },
        {
          "output_type": "display_data",
          "data": {
            "text/html": [
              "<style  type=\"text/css\" >\n",
              "#T_158a1b52_03d0_11eb_967b_0242ac1c0002row0_col2{\n",
              "            background-color:  #53ae62;\n",
              "            color:  #000000;\n",
              "        }#T_158a1b52_03d0_11eb_967b_0242ac1c0002row0_col3,#T_158a1b52_03d0_11eb_967b_0242ac1c0002row1_col2,#T_158a1b52_03d0_11eb_967b_0242ac1c0002row1_col3,#T_158a1b52_03d0_11eb_967b_0242ac1c0002row2_col2,#T_158a1b52_03d0_11eb_967b_0242ac1c0002row2_col3,#T_158a1b52_03d0_11eb_967b_0242ac1c0002row3_col2,#T_158a1b52_03d0_11eb_967b_0242ac1c0002row3_col3,#T_158a1b52_03d0_11eb_967b_0242ac1c0002row4_col2,#T_158a1b52_03d0_11eb_967b_0242ac1c0002row4_col3{\n",
              "            background-color:  #d73f3f;\n",
              "            color:  #f1f1f1;\n",
              "        }#T_158a1b52_03d0_11eb_967b_0242ac1c0002row0_col5{\n",
              "            background-color:  #53AE62;\n",
              "        }#T_158a1b52_03d0_11eb_967b_0242ac1c0002row0_col6,#T_158a1b52_03d0_11eb_967b_0242ac1c0002row1_col5,#T_158a1b52_03d0_11eb_967b_0242ac1c0002row2_col5,#T_158a1b52_03d0_11eb_967b_0242ac1c0002row3_col5,#T_158a1b52_03d0_11eb_967b_0242ac1c0002row4_col5,#T_158a1b52_03d0_11eb_967b_0242ac1c0002row4_col6{\n",
              "            background-color:  #FAA71E;\n",
              "        }#T_158a1b52_03d0_11eb_967b_0242ac1c0002row1_col6,#T_158a1b52_03d0_11eb_967b_0242ac1c0002row2_col6,#T_158a1b52_03d0_11eb_967b_0242ac1c0002row3_col6{\n",
              "            background-color:  #D73F3F;\n",
              "        }</style><table id=\"T_158a1b52_03d0_11eb_967b_0242ac1c0002\" ><thead>    <tr>        <th class=\"blank level0\" ></th>        <th class=\"col_heading level0 col0\" >projectId</th>        <th class=\"col_heading level0 col1\" >name</th>        <th class=\"col_heading level0 col2\" >percentMapped</th>        <th class=\"col_heading level0 col3\" >percentValidated</th>        <th class=\"col_heading level0 col4\" >mapperLevel</th>        <th class=\"col_heading level0 col5\" >status</th>        <th class=\"col_heading level0 col6\" >priority</th>    </tr></thead><tbody>\n",
              "                <tr>\n",
              "                        <th id=\"T_158a1b52_03d0_11eb_967b_0242ac1c0002level0_row0\" class=\"row_heading level0 row0\" >19</th>\n",
              "                        <td id=\"T_158a1b52_03d0_11eb_967b_0242ac1c0002row0_col0\" class=\"data row0 col0\" >9181</td>\n",
              "                        <td id=\"T_158a1b52_03d0_11eb_967b_0242ac1c0002row0_col1\" class=\"data row0 col1\" >Port-Salut Arrondissement Update, Sud, Haiti</td>\n",
              "                        <td id=\"T_158a1b52_03d0_11eb_967b_0242ac1c0002row0_col2\" class=\"data row0 col2\" >67</td>\n",
              "                        <td id=\"T_158a1b52_03d0_11eb_967b_0242ac1c0002row0_col3\" class=\"data row0 col3\" >0</td>\n",
              "                        <td id=\"T_158a1b52_03d0_11eb_967b_0242ac1c0002row0_col4\" class=\"data row0 col4\" >INTERMEDIATE</td>\n",
              "                        <td id=\"T_158a1b52_03d0_11eb_967b_0242ac1c0002row0_col5\" class=\"data row0 col5\" >PUBLISHED</td>\n",
              "                        <td id=\"T_158a1b52_03d0_11eb_967b_0242ac1c0002row0_col6\" class=\"data row0 col6\" >HIGH</td>\n",
              "            </tr>\n",
              "            <tr>\n",
              "                        <th id=\"T_158a1b52_03d0_11eb_967b_0242ac1c0002level0_row1\" class=\"row_heading level0 row1\" >3</th>\n",
              "                        <td id=\"T_158a1b52_03d0_11eb_967b_0242ac1c0002row1_col0\" class=\"data row1 col0\" >9182</td>\n",
              "                        <td id=\"T_158a1b52_03d0_11eb_967b_0242ac1c0002row1_col1\" class=\"data row1 col1\" > Côteaux Arrondissement, Sud, Haiti</td>\n",
              "                        <td id=\"T_158a1b52_03d0_11eb_967b_0242ac1c0002row1_col2\" class=\"data row1 col2\" >0</td>\n",
              "                        <td id=\"T_158a1b52_03d0_11eb_967b_0242ac1c0002row1_col3\" class=\"data row1 col3\" >0</td>\n",
              "                        <td id=\"T_158a1b52_03d0_11eb_967b_0242ac1c0002row1_col4\" class=\"data row1 col4\" >INTERMEDIATE</td>\n",
              "                        <td id=\"T_158a1b52_03d0_11eb_967b_0242ac1c0002row1_col5\" class=\"data row1 col5\" >DRAFT</td>\n",
              "                        <td id=\"T_158a1b52_03d0_11eb_967b_0242ac1c0002row1_col6\" class=\"data row1 col6\" >URGENT</td>\n",
              "            </tr>\n",
              "            <tr>\n",
              "                        <th id=\"T_158a1b52_03d0_11eb_967b_0242ac1c0002level0_row2\" class=\"row_heading level0 row2\" >6</th>\n",
              "                        <td id=\"T_158a1b52_03d0_11eb_967b_0242ac1c0002row2_col0\" class=\"data row2 col0\" >9192</td>\n",
              "                        <td id=\"T_158a1b52_03d0_11eb_967b_0242ac1c0002row2_col1\" class=\"data row2 col1\" >Chardonnières Arrondissement 1, Sud, Haiti</td>\n",
              "                        <td id=\"T_158a1b52_03d0_11eb_967b_0242ac1c0002row2_col2\" class=\"data row2 col2\" >0</td>\n",
              "                        <td id=\"T_158a1b52_03d0_11eb_967b_0242ac1c0002row2_col3\" class=\"data row2 col3\" >0</td>\n",
              "                        <td id=\"T_158a1b52_03d0_11eb_967b_0242ac1c0002row2_col4\" class=\"data row2 col4\" >INTERMEDIATE</td>\n",
              "                        <td id=\"T_158a1b52_03d0_11eb_967b_0242ac1c0002row2_col5\" class=\"data row2 col5\" >DRAFT</td>\n",
              "                        <td id=\"T_158a1b52_03d0_11eb_967b_0242ac1c0002row2_col6\" class=\"data row2 col6\" >URGENT</td>\n",
              "            </tr>\n",
              "            <tr>\n",
              "                        <th id=\"T_158a1b52_03d0_11eb_967b_0242ac1c0002level0_row3\" class=\"row_heading level0 row3\" >7</th>\n",
              "                        <td id=\"T_158a1b52_03d0_11eb_967b_0242ac1c0002row3_col0\" class=\"data row3 col0\" >9193</td>\n",
              "                        <td id=\"T_158a1b52_03d0_11eb_967b_0242ac1c0002row3_col1\" class=\"data row3 col1\" >Chardonnières Arrondissement 2, Sud, Haiti</td>\n",
              "                        <td id=\"T_158a1b52_03d0_11eb_967b_0242ac1c0002row3_col2\" class=\"data row3 col2\" >0</td>\n",
              "                        <td id=\"T_158a1b52_03d0_11eb_967b_0242ac1c0002row3_col3\" class=\"data row3 col3\" >0</td>\n",
              "                        <td id=\"T_158a1b52_03d0_11eb_967b_0242ac1c0002row3_col4\" class=\"data row3 col4\" >INTERMEDIATE</td>\n",
              "                        <td id=\"T_158a1b52_03d0_11eb_967b_0242ac1c0002row3_col5\" class=\"data row3 col5\" >DRAFT</td>\n",
              "                        <td id=\"T_158a1b52_03d0_11eb_967b_0242ac1c0002row3_col6\" class=\"data row3 col6\" >URGENT</td>\n",
              "            </tr>\n",
              "            <tr>\n",
              "                        <th id=\"T_158a1b52_03d0_11eb_967b_0242ac1c0002level0_row4\" class=\"row_heading level0 row4\" >20</th>\n",
              "                        <td id=\"T_158a1b52_03d0_11eb_967b_0242ac1c0002row4_col0\" class=\"data row4 col0\" >9315</td>\n",
              "                        <td id=\"T_158a1b52_03d0_11eb_967b_0242ac1c0002row4_col1\" class=\"data row4 col1\" >Sud Department, Haiti</td>\n",
              "                        <td id=\"T_158a1b52_03d0_11eb_967b_0242ac1c0002row4_col2\" class=\"data row4 col2\" >0</td>\n",
              "                        <td id=\"T_158a1b52_03d0_11eb_967b_0242ac1c0002row4_col3\" class=\"data row4 col3\" >0</td>\n",
              "                        <td id=\"T_158a1b52_03d0_11eb_967b_0242ac1c0002row4_col4\" class=\"data row4 col4\" >BEGINNER</td>\n",
              "                        <td id=\"T_158a1b52_03d0_11eb_967b_0242ac1c0002row4_col5\" class=\"data row4 col5\" >DRAFT</td>\n",
              "                        <td id=\"T_158a1b52_03d0_11eb_967b_0242ac1c0002row4_col6\" class=\"data row4 col6\" >HIGH</td>\n",
              "            </tr>\n",
              "    </tbody></table>"
            ],
            "text/plain": [
              "<pandas.io.formats.style.Styler at 0x7f42ad3fe550>"
            ]
          },
          "metadata": {
            "tags": []
          }
        },
        {
          "output_type": "display_data",
          "data": {
            "text/markdown": "## Jamaika",
            "text/plain": [
              "<IPython.core.display.Markdown object>"
            ]
          },
          "metadata": {
            "tags": []
          }
        },
        {
          "output_type": "display_data",
          "data": {
            "text/markdown": "---",
            "text/plain": [
              "<IPython.core.display.Markdown object>"
            ]
          },
          "metadata": {
            "tags": []
          }
        },
        {
          "output_type": "display_data",
          "data": {
            "text/markdown": "\n- Total number projects: 15\n    - Drafts:    0\n    - Published: 15 \n    - Archived:  0\n- Completed projects (100% mapped & validated): 6\n- Average % mapped across all projects: 99.0 %\n- Average % validated across all projects: 66.3 %\n",
            "text/plain": [
              "<IPython.core.display.Markdown object>"
            ]
          },
          "metadata": {
            "tags": []
          }
        },
        {
          "output_type": "display_data",
          "data": {
            "text/markdown": "---",
            "text/plain": [
              "<IPython.core.display.Markdown object>"
            ]
          },
          "metadata": {
            "tags": []
          }
        },
        {
          "output_type": "display_data",
          "data": {
            "text/html": [
              "<style  type=\"text/css\" >\n",
              "#T_15907952_03d0_11eb_967b_0242ac1c0002row0_col2,#T_15907952_03d0_11eb_967b_0242ac1c0002row0_col3,#T_15907952_03d0_11eb_967b_0242ac1c0002row1_col2,#T_15907952_03d0_11eb_967b_0242ac1c0002row1_col3,#T_15907952_03d0_11eb_967b_0242ac1c0002row2_col2,#T_15907952_03d0_11eb_967b_0242ac1c0002row2_col3,#T_15907952_03d0_11eb_967b_0242ac1c0002row4_col2,#T_15907952_03d0_11eb_967b_0242ac1c0002row4_col3,#T_15907952_03d0_11eb_967b_0242ac1c0002row5_col2,#T_15907952_03d0_11eb_967b_0242ac1c0002row5_col3,#T_15907952_03d0_11eb_967b_0242ac1c0002row8_col3,#T_15907952_03d0_11eb_967b_0242ac1c0002row14_col2{\n",
              "            background-color:  #53ae62;\n",
              "            color:  #000000;\n",
              "        }#T_15907952_03d0_11eb_967b_0242ac1c0002row0_col5,#T_15907952_03d0_11eb_967b_0242ac1c0002row1_col5,#T_15907952_03d0_11eb_967b_0242ac1c0002row2_col5,#T_15907952_03d0_11eb_967b_0242ac1c0002row3_col5,#T_15907952_03d0_11eb_967b_0242ac1c0002row4_col5,#T_15907952_03d0_11eb_967b_0242ac1c0002row5_col5,#T_15907952_03d0_11eb_967b_0242ac1c0002row6_col5,#T_15907952_03d0_11eb_967b_0242ac1c0002row7_col5,#T_15907952_03d0_11eb_967b_0242ac1c0002row8_col5,#T_15907952_03d0_11eb_967b_0242ac1c0002row9_col5,#T_15907952_03d0_11eb_967b_0242ac1c0002row10_col5,#T_15907952_03d0_11eb_967b_0242ac1c0002row11_col5,#T_15907952_03d0_11eb_967b_0242ac1c0002row12_col5,#T_15907952_03d0_11eb_967b_0242ac1c0002row13_col5,#T_15907952_03d0_11eb_967b_0242ac1c0002row14_col5{\n",
              "            background-color:  #53AE62;\n",
              "        }#T_15907952_03d0_11eb_967b_0242ac1c0002row0_col6,#T_15907952_03d0_11eb_967b_0242ac1c0002row1_col6,#T_15907952_03d0_11eb_967b_0242ac1c0002row2_col6,#T_15907952_03d0_11eb_967b_0242ac1c0002row4_col6,#T_15907952_03d0_11eb_967b_0242ac1c0002row5_col6,#T_15907952_03d0_11eb_967b_0242ac1c0002row7_col6,#T_15907952_03d0_11eb_967b_0242ac1c0002row8_col6,#T_15907952_03d0_11eb_967b_0242ac1c0002row11_col6,#T_15907952_03d0_11eb_967b_0242ac1c0002row13_col6{\n",
              "            background-color:  #E1E0E0;\n",
              "        }#T_15907952_03d0_11eb_967b_0242ac1c0002row3_col2,#T_15907952_03d0_11eb_967b_0242ac1c0002row6_col2,#T_15907952_03d0_11eb_967b_0242ac1c0002row7_col2,#T_15907952_03d0_11eb_967b_0242ac1c0002row8_col2,#T_15907952_03d0_11eb_967b_0242ac1c0002row9_col2,#T_15907952_03d0_11eb_967b_0242ac1c0002row10_col2,#T_15907952_03d0_11eb_967b_0242ac1c0002row12_col2{\n",
              "            background-color:  #88ac4d;\n",
              "            color:  #000000;\n",
              "        }#T_15907952_03d0_11eb_967b_0242ac1c0002row3_col3{\n",
              "            background-color:  #cea930;\n",
              "            color:  #000000;\n",
              "        }#T_15907952_03d0_11eb_967b_0242ac1c0002row3_col6,#T_15907952_03d0_11eb_967b_0242ac1c0002row9_col6,#T_15907952_03d0_11eb_967b_0242ac1c0002row10_col6,#T_15907952_03d0_11eb_967b_0242ac1c0002row12_col6,#T_15907952_03d0_11eb_967b_0242ac1c0002row14_col6{\n",
              "            background-color:  #FAA71E;\n",
              "        }#T_15907952_03d0_11eb_967b_0242ac1c0002row6_col3,#T_15907952_03d0_11eb_967b_0242ac1c0002row9_col3{\n",
              "            background-color:  #99ab45;\n",
              "            color:  #000000;\n",
              "        }#T_15907952_03d0_11eb_967b_0242ac1c0002row6_col6{\n",
              "            background-color:  #D73F3F;\n",
              "        }#T_15907952_03d0_11eb_967b_0242ac1c0002row7_col3,#T_15907952_03d0_11eb_967b_0242ac1c0002row13_col3{\n",
              "            background-color:  #e66b31;\n",
              "            color:  #000000;\n",
              "        }#T_15907952_03d0_11eb_967b_0242ac1c0002row10_col3,#T_15907952_03d0_11eb_967b_0242ac1c0002row11_col2{\n",
              "            background-color:  #d73f3f;\n",
              "            color:  #f1f1f1;\n",
              "        }#T_15907952_03d0_11eb_967b_0242ac1c0002row11_col3,#T_15907952_03d0_11eb_967b_0242ac1c0002row13_col2{\n",
              "            background-color:  #bcaa37;\n",
              "            color:  #000000;\n",
              "        }#T_15907952_03d0_11eb_967b_0242ac1c0002row12_col3{\n",
              "            background-color:  #de5538;\n",
              "            color:  #000000;\n",
              "        }#T_15907952_03d0_11eb_967b_0242ac1c0002row14_col3{\n",
              "            background-color:  #e26035;\n",
              "            color:  #000000;\n",
              "        }</style><table id=\"T_15907952_03d0_11eb_967b_0242ac1c0002\" ><thead>    <tr>        <th class=\"blank level0\" ></th>        <th class=\"col_heading level0 col0\" >projectId</th>        <th class=\"col_heading level0 col1\" >name</th>        <th class=\"col_heading level0 col2\" >percentMapped</th>        <th class=\"col_heading level0 col3\" >percentValidated</th>        <th class=\"col_heading level0 col4\" >mapperLevel</th>        <th class=\"col_heading level0 col5\" >status</th>        <th class=\"col_heading level0 col6\" >priority</th>    </tr></thead><tbody>\n",
              "                <tr>\n",
              "                        <th id=\"T_15907952_03d0_11eb_967b_0242ac1c0002level0_row0\" class=\"row_heading level0 row0\" >311</th>\n",
              "                        <td id=\"T_15907952_03d0_11eb_967b_0242ac1c0002row0_col0\" class=\"data row0 col0\" >8963</td>\n",
              "                        <td id=\"T_15907952_03d0_11eb_967b_0242ac1c0002row0_col1\" class=\"data row0 col1\" >COVID-19 - Clarendon, Jamaica</td>\n",
              "                        <td id=\"T_15907952_03d0_11eb_967b_0242ac1c0002row0_col2\" class=\"data row0 col2\" >100</td>\n",
              "                        <td id=\"T_15907952_03d0_11eb_967b_0242ac1c0002row0_col3\" class=\"data row0 col3\" >100</td>\n",
              "                        <td id=\"T_15907952_03d0_11eb_967b_0242ac1c0002row0_col4\" class=\"data row0 col4\" >BEGINNER</td>\n",
              "                        <td id=\"T_15907952_03d0_11eb_967b_0242ac1c0002row0_col5\" class=\"data row0 col5\" >PUBLISHED</td>\n",
              "                        <td id=\"T_15907952_03d0_11eb_967b_0242ac1c0002row0_col6\" class=\"data row0 col6\" >LOW</td>\n",
              "            </tr>\n",
              "            <tr>\n",
              "                        <th id=\"T_15907952_03d0_11eb_967b_0242ac1c0002level0_row1\" class=\"row_heading level0 row1\" >312</th>\n",
              "                        <td id=\"T_15907952_03d0_11eb_967b_0242ac1c0002row1_col0\" class=\"data row1 col0\" >8964</td>\n",
              "                        <td id=\"T_15907952_03d0_11eb_967b_0242ac1c0002row1_col1\" class=\"data row1 col1\" >COVID-19 - Hanover, Jamaica</td>\n",
              "                        <td id=\"T_15907952_03d0_11eb_967b_0242ac1c0002row1_col2\" class=\"data row1 col2\" >100</td>\n",
              "                        <td id=\"T_15907952_03d0_11eb_967b_0242ac1c0002row1_col3\" class=\"data row1 col3\" >100</td>\n",
              "                        <td id=\"T_15907952_03d0_11eb_967b_0242ac1c0002row1_col4\" class=\"data row1 col4\" >BEGINNER</td>\n",
              "                        <td id=\"T_15907952_03d0_11eb_967b_0242ac1c0002row1_col5\" class=\"data row1 col5\" >PUBLISHED</td>\n",
              "                        <td id=\"T_15907952_03d0_11eb_967b_0242ac1c0002row1_col6\" class=\"data row1 col6\" >LOW</td>\n",
              "            </tr>\n",
              "            <tr>\n",
              "                        <th id=\"T_15907952_03d0_11eb_967b_0242ac1c0002level0_row2\" class=\"row_heading level0 row2\" >313</th>\n",
              "                        <td id=\"T_15907952_03d0_11eb_967b_0242ac1c0002row2_col0\" class=\"data row2 col0\" >8986</td>\n",
              "                        <td id=\"T_15907952_03d0_11eb_967b_0242ac1c0002row2_col1\" class=\"data row2 col1\" >COVID-19 - Portland, Jamaica</td>\n",
              "                        <td id=\"T_15907952_03d0_11eb_967b_0242ac1c0002row2_col2\" class=\"data row2 col2\" >100</td>\n",
              "                        <td id=\"T_15907952_03d0_11eb_967b_0242ac1c0002row2_col3\" class=\"data row2 col3\" >100</td>\n",
              "                        <td id=\"T_15907952_03d0_11eb_967b_0242ac1c0002row2_col4\" class=\"data row2 col4\" >BEGINNER</td>\n",
              "                        <td id=\"T_15907952_03d0_11eb_967b_0242ac1c0002row2_col5\" class=\"data row2 col5\" >PUBLISHED</td>\n",
              "                        <td id=\"T_15907952_03d0_11eb_967b_0242ac1c0002row2_col6\" class=\"data row2 col6\" >LOW</td>\n",
              "            </tr>\n",
              "            <tr>\n",
              "                        <th id=\"T_15907952_03d0_11eb_967b_0242ac1c0002level0_row3\" class=\"row_heading level0 row3\" >14</th>\n",
              "                        <td id=\"T_15907952_03d0_11eb_967b_0242ac1c0002row3_col0\" class=\"data row3 col0\" >8987</td>\n",
              "                        <td id=\"T_15907952_03d0_11eb_967b_0242ac1c0002row3_col1\" class=\"data row3 col1\" >COVID-19 - Saint Ann, Jamaica</td>\n",
              "                        <td id=\"T_15907952_03d0_11eb_967b_0242ac1c0002row3_col2\" class=\"data row3 col2\" >99</td>\n",
              "                        <td id=\"T_15907952_03d0_11eb_967b_0242ac1c0002row3_col3\" class=\"data row3 col3\" >67</td>\n",
              "                        <td id=\"T_15907952_03d0_11eb_967b_0242ac1c0002row3_col4\" class=\"data row3 col4\" >BEGINNER</td>\n",
              "                        <td id=\"T_15907952_03d0_11eb_967b_0242ac1c0002row3_col5\" class=\"data row3 col5\" >PUBLISHED</td>\n",
              "                        <td id=\"T_15907952_03d0_11eb_967b_0242ac1c0002row3_col6\" class=\"data row3 col6\" >HIGH</td>\n",
              "            </tr>\n",
              "            <tr>\n",
              "                        <th id=\"T_15907952_03d0_11eb_967b_0242ac1c0002level0_row4\" class=\"row_heading level0 row4\" >314</th>\n",
              "                        <td id=\"T_15907952_03d0_11eb_967b_0242ac1c0002row4_col0\" class=\"data row4 col0\" >8988</td>\n",
              "                        <td id=\"T_15907952_03d0_11eb_967b_0242ac1c0002row4_col1\" class=\"data row4 col1\" >COVID-19 - Manchester, Jamaica</td>\n",
              "                        <td id=\"T_15907952_03d0_11eb_967b_0242ac1c0002row4_col2\" class=\"data row4 col2\" >100</td>\n",
              "                        <td id=\"T_15907952_03d0_11eb_967b_0242ac1c0002row4_col3\" class=\"data row4 col3\" >100</td>\n",
              "                        <td id=\"T_15907952_03d0_11eb_967b_0242ac1c0002row4_col4\" class=\"data row4 col4\" >BEGINNER</td>\n",
              "                        <td id=\"T_15907952_03d0_11eb_967b_0242ac1c0002row4_col5\" class=\"data row4 col5\" >PUBLISHED</td>\n",
              "                        <td id=\"T_15907952_03d0_11eb_967b_0242ac1c0002row4_col6\" class=\"data row4 col6\" >LOW</td>\n",
              "            </tr>\n",
              "            <tr>\n",
              "                        <th id=\"T_15907952_03d0_11eb_967b_0242ac1c0002level0_row5\" class=\"row_heading level0 row5\" >315</th>\n",
              "                        <td id=\"T_15907952_03d0_11eb_967b_0242ac1c0002row5_col0\" class=\"data row5 col0\" >8989</td>\n",
              "                        <td id=\"T_15907952_03d0_11eb_967b_0242ac1c0002row5_col1\" class=\"data row5 col1\" >COVID-19 - Saint Elizabeth, Jamaica</td>\n",
              "                        <td id=\"T_15907952_03d0_11eb_967b_0242ac1c0002row5_col2\" class=\"data row5 col2\" >100</td>\n",
              "                        <td id=\"T_15907952_03d0_11eb_967b_0242ac1c0002row5_col3\" class=\"data row5 col3\" >99</td>\n",
              "                        <td id=\"T_15907952_03d0_11eb_967b_0242ac1c0002row5_col4\" class=\"data row5 col4\" >BEGINNER</td>\n",
              "                        <td id=\"T_15907952_03d0_11eb_967b_0242ac1c0002row5_col5\" class=\"data row5 col5\" >PUBLISHED</td>\n",
              "                        <td id=\"T_15907952_03d0_11eb_967b_0242ac1c0002row5_col6\" class=\"data row5 col6\" >LOW</td>\n",
              "            </tr>\n",
              "            <tr>\n",
              "                        <th id=\"T_15907952_03d0_11eb_967b_0242ac1c0002level0_row6\" class=\"row_heading level0 row6\" >1</th>\n",
              "                        <td id=\"T_15907952_03d0_11eb_967b_0242ac1c0002row6_col0\" class=\"data row6 col0\" >8990</td>\n",
              "                        <td id=\"T_15907952_03d0_11eb_967b_0242ac1c0002row6_col1\" class=\"data row6 col1\" >COVID-19 - Saint James, Jamaica</td>\n",
              "                        <td id=\"T_15907952_03d0_11eb_967b_0242ac1c0002row6_col2\" class=\"data row6 col2\" >99</td>\n",
              "                        <td id=\"T_15907952_03d0_11eb_967b_0242ac1c0002row6_col3\" class=\"data row6 col3\" >77</td>\n",
              "                        <td id=\"T_15907952_03d0_11eb_967b_0242ac1c0002row6_col4\" class=\"data row6 col4\" >BEGINNER</td>\n",
              "                        <td id=\"T_15907952_03d0_11eb_967b_0242ac1c0002row6_col5\" class=\"data row6 col5\" >PUBLISHED</td>\n",
              "                        <td id=\"T_15907952_03d0_11eb_967b_0242ac1c0002row6_col6\" class=\"data row6 col6\" >URGENT</td>\n",
              "            </tr>\n",
              "            <tr>\n",
              "                        <th id=\"T_15907952_03d0_11eb_967b_0242ac1c0002level0_row7\" class=\"row_heading level0 row7\" >316</th>\n",
              "                        <td id=\"T_15907952_03d0_11eb_967b_0242ac1c0002row7_col0\" class=\"data row7 col0\" >8991</td>\n",
              "                        <td id=\"T_15907952_03d0_11eb_967b_0242ac1c0002row7_col1\" class=\"data row7 col1\" >COVID-19 - Saint Mary, Jamaica</td>\n",
              "                        <td id=\"T_15907952_03d0_11eb_967b_0242ac1c0002row7_col2\" class=\"data row7 col2\" >99</td>\n",
              "                        <td id=\"T_15907952_03d0_11eb_967b_0242ac1c0002row7_col3\" class=\"data row7 col3\" >29</td>\n",
              "                        <td id=\"T_15907952_03d0_11eb_967b_0242ac1c0002row7_col4\" class=\"data row7 col4\" >BEGINNER</td>\n",
              "                        <td id=\"T_15907952_03d0_11eb_967b_0242ac1c0002row7_col5\" class=\"data row7 col5\" >PUBLISHED</td>\n",
              "                        <td id=\"T_15907952_03d0_11eb_967b_0242ac1c0002row7_col6\" class=\"data row7 col6\" >LOW</td>\n",
              "            </tr>\n",
              "            <tr>\n",
              "                        <th id=\"T_15907952_03d0_11eb_967b_0242ac1c0002level0_row8\" class=\"row_heading level0 row8\" >317</th>\n",
              "                        <td id=\"T_15907952_03d0_11eb_967b_0242ac1c0002row8_col0\" class=\"data row8 col0\" >8992</td>\n",
              "                        <td id=\"T_15907952_03d0_11eb_967b_0242ac1c0002row8_col1\" class=\"data row8 col1\" >COVID-19 - Saint Thomas, Jamaica</td>\n",
              "                        <td id=\"T_15907952_03d0_11eb_967b_0242ac1c0002row8_col2\" class=\"data row8 col2\" >99</td>\n",
              "                        <td id=\"T_15907952_03d0_11eb_967b_0242ac1c0002row8_col3\" class=\"data row8 col3\" >99</td>\n",
              "                        <td id=\"T_15907952_03d0_11eb_967b_0242ac1c0002row8_col4\" class=\"data row8 col4\" >BEGINNER</td>\n",
              "                        <td id=\"T_15907952_03d0_11eb_967b_0242ac1c0002row8_col5\" class=\"data row8 col5\" >PUBLISHED</td>\n",
              "                        <td id=\"T_15907952_03d0_11eb_967b_0242ac1c0002row8_col6\" class=\"data row8 col6\" >LOW</td>\n",
              "            </tr>\n",
              "            <tr>\n",
              "                        <th id=\"T_15907952_03d0_11eb_967b_0242ac1c0002level0_row9\" class=\"row_heading level0 row9\" >15</th>\n",
              "                        <td id=\"T_15907952_03d0_11eb_967b_0242ac1c0002row9_col0\" class=\"data row9 col0\" >8994</td>\n",
              "                        <td id=\"T_15907952_03d0_11eb_967b_0242ac1c0002row9_col1\" class=\"data row9 col1\" >COVID-19 - Trelawny, Jamaica</td>\n",
              "                        <td id=\"T_15907952_03d0_11eb_967b_0242ac1c0002row9_col2\" class=\"data row9 col2\" >99</td>\n",
              "                        <td id=\"T_15907952_03d0_11eb_967b_0242ac1c0002row9_col3\" class=\"data row9 col3\" >77</td>\n",
              "                        <td id=\"T_15907952_03d0_11eb_967b_0242ac1c0002row9_col4\" class=\"data row9 col4\" >BEGINNER</td>\n",
              "                        <td id=\"T_15907952_03d0_11eb_967b_0242ac1c0002row9_col5\" class=\"data row9 col5\" >PUBLISHED</td>\n",
              "                        <td id=\"T_15907952_03d0_11eb_967b_0242ac1c0002row9_col6\" class=\"data row9 col6\" >HIGH</td>\n",
              "            </tr>\n",
              "            <tr>\n",
              "                        <th id=\"T_15907952_03d0_11eb_967b_0242ac1c0002level0_row10\" class=\"row_heading level0 row10\" >16</th>\n",
              "                        <td id=\"T_15907952_03d0_11eb_967b_0242ac1c0002row10_col0\" class=\"data row10 col0\" >8995</td>\n",
              "                        <td id=\"T_15907952_03d0_11eb_967b_0242ac1c0002row10_col1\" class=\"data row10 col1\" >COVID-19 - Westmoreland, Jamaica</td>\n",
              "                        <td id=\"T_15907952_03d0_11eb_967b_0242ac1c0002row10_col2\" class=\"data row10 col2\" >99</td>\n",
              "                        <td id=\"T_15907952_03d0_11eb_967b_0242ac1c0002row10_col3\" class=\"data row10 col3\" >7</td>\n",
              "                        <td id=\"T_15907952_03d0_11eb_967b_0242ac1c0002row10_col4\" class=\"data row10 col4\" >BEGINNER</td>\n",
              "                        <td id=\"T_15907952_03d0_11eb_967b_0242ac1c0002row10_col5\" class=\"data row10 col5\" >PUBLISHED</td>\n",
              "                        <td id=\"T_15907952_03d0_11eb_967b_0242ac1c0002row10_col6\" class=\"data row10 col6\" >HIGH</td>\n",
              "            </tr>\n",
              "            <tr>\n",
              "                        <th id=\"T_15907952_03d0_11eb_967b_0242ac1c0002level0_row11\" class=\"row_heading level0 row11\" >328</th>\n",
              "                        <td id=\"T_15907952_03d0_11eb_967b_0242ac1c0002row11_col0\" class=\"data row11 col0\" >9142</td>\n",
              "                        <td id=\"T_15907952_03d0_11eb_967b_0242ac1c0002row11_col1\" class=\"data row11 col1\" >COVID-19 - Saint Catherine - Part I, Jamaica</td>\n",
              "                        <td id=\"T_15907952_03d0_11eb_967b_0242ac1c0002row11_col2\" class=\"data row11 col2\" >94</td>\n",
              "                        <td id=\"T_15907952_03d0_11eb_967b_0242ac1c0002row11_col3\" class=\"data row11 col3\" >70</td>\n",
              "                        <td id=\"T_15907952_03d0_11eb_967b_0242ac1c0002row11_col4\" class=\"data row11 col4\" >BEGINNER</td>\n",
              "                        <td id=\"T_15907952_03d0_11eb_967b_0242ac1c0002row11_col5\" class=\"data row11 col5\" >PUBLISHED</td>\n",
              "                        <td id=\"T_15907952_03d0_11eb_967b_0242ac1c0002row11_col6\" class=\"data row11 col6\" >LOW</td>\n",
              "            </tr>\n",
              "            <tr>\n",
              "                        <th id=\"T_15907952_03d0_11eb_967b_0242ac1c0002level0_row12\" class=\"row_heading level0 row12\" >17</th>\n",
              "                        <td id=\"T_15907952_03d0_11eb_967b_0242ac1c0002row12_col0\" class=\"data row12 col0\" >9143</td>\n",
              "                        <td id=\"T_15907952_03d0_11eb_967b_0242ac1c0002row12_col1\" class=\"data row12 col1\" >COVID-19 - Saint Andrew, Kingston, Jamaica</td>\n",
              "                        <td id=\"T_15907952_03d0_11eb_967b_0242ac1c0002row12_col2\" class=\"data row12 col2\" >99</td>\n",
              "                        <td id=\"T_15907952_03d0_11eb_967b_0242ac1c0002row12_col3\" class=\"data row12 col3\" >20</td>\n",
              "                        <td id=\"T_15907952_03d0_11eb_967b_0242ac1c0002row12_col4\" class=\"data row12 col4\" >BEGINNER</td>\n",
              "                        <td id=\"T_15907952_03d0_11eb_967b_0242ac1c0002row12_col5\" class=\"data row12 col5\" >PUBLISHED</td>\n",
              "                        <td id=\"T_15907952_03d0_11eb_967b_0242ac1c0002row12_col6\" class=\"data row12 col6\" >HIGH</td>\n",
              "            </tr>\n",
              "            <tr>\n",
              "                        <th id=\"T_15907952_03d0_11eb_967b_0242ac1c0002level0_row13\" class=\"row_heading level0 row13\" >329</th>\n",
              "                        <td id=\"T_15907952_03d0_11eb_967b_0242ac1c0002row13_col0\" class=\"data row13 col0\" >9144</td>\n",
              "                        <td id=\"T_15907952_03d0_11eb_967b_0242ac1c0002row13_col1\" class=\"data row13 col1\" >COVID-19-Saint Catherine-Part 2- Jamaica</td>\n",
              "                        <td id=\"T_15907952_03d0_11eb_967b_0242ac1c0002row13_col2\" class=\"data row13 col2\" >98</td>\n",
              "                        <td id=\"T_15907952_03d0_11eb_967b_0242ac1c0002row13_col3\" class=\"data row13 col3\" >26</td>\n",
              "                        <td id=\"T_15907952_03d0_11eb_967b_0242ac1c0002row13_col4\" class=\"data row13 col4\" >BEGINNER</td>\n",
              "                        <td id=\"T_15907952_03d0_11eb_967b_0242ac1c0002row13_col5\" class=\"data row13 col5\" >PUBLISHED</td>\n",
              "                        <td id=\"T_15907952_03d0_11eb_967b_0242ac1c0002row13_col6\" class=\"data row13 col6\" >LOW</td>\n",
              "            </tr>\n",
              "            <tr>\n",
              "                        <th id=\"T_15907952_03d0_11eb_967b_0242ac1c0002level0_row14\" class=\"row_heading level0 row14\" >18</th>\n",
              "                        <td id=\"T_15907952_03d0_11eb_967b_0242ac1c0002row14_col0\" class=\"data row14 col0\" >9145</td>\n",
              "                        <td id=\"T_15907952_03d0_11eb_967b_0242ac1c0002row14_col1\" class=\"data row14 col1\" >COVID-19-Saint Andrew, Kingston 02 - Jamaica</td>\n",
              "                        <td id=\"T_15907952_03d0_11eb_967b_0242ac1c0002row14_col2\" class=\"data row14 col2\" >100</td>\n",
              "                        <td id=\"T_15907952_03d0_11eb_967b_0242ac1c0002row14_col3\" class=\"data row14 col3\" >24</td>\n",
              "                        <td id=\"T_15907952_03d0_11eb_967b_0242ac1c0002row14_col4\" class=\"data row14 col4\" >BEGINNER</td>\n",
              "                        <td id=\"T_15907952_03d0_11eb_967b_0242ac1c0002row14_col5\" class=\"data row14 col5\" >PUBLISHED</td>\n",
              "                        <td id=\"T_15907952_03d0_11eb_967b_0242ac1c0002row14_col6\" class=\"data row14 col6\" >HIGH</td>\n",
              "            </tr>\n",
              "    </tbody></table>"
            ],
            "text/plain": [
              "<pandas.io.formats.style.Styler at 0x7f42b16f2b70>"
            ]
          },
          "metadata": {
            "tags": []
          }
        },
        {
          "output_type": "display_data",
          "data": {
            "text/markdown": "## Kenya",
            "text/plain": [
              "<IPython.core.display.Markdown object>"
            ]
          },
          "metadata": {
            "tags": []
          }
        },
        {
          "output_type": "display_data",
          "data": {
            "text/markdown": "---",
            "text/plain": [
              "<IPython.core.display.Markdown object>"
            ]
          },
          "metadata": {
            "tags": []
          }
        },
        {
          "output_type": "display_data",
          "data": {
            "text/markdown": "\n- Total number projects: 3\n    - Drafts:    0\n    - Published: 3 \n    - Archived:  0\n- Completed projects (100% mapped & validated): 1\n- Average % mapped across all projects: 66.3 %\n- Average % validated across all projects: 53.7 %\n",
            "text/plain": [
              "<IPython.core.display.Markdown object>"
            ]
          },
          "metadata": {
            "tags": []
          }
        },
        {
          "output_type": "display_data",
          "data": {
            "text/markdown": "---",
            "text/plain": [
              "<IPython.core.display.Markdown object>"
            ]
          },
          "metadata": {
            "tags": []
          }
        },
        {
          "output_type": "display_data",
          "data": {
            "text/html": [
              "<style  type=\"text/css\" >\n",
              "#T_159772de_03d0_11eb_967b_0242ac1c0002row0_col2,#T_159772de_03d0_11eb_967b_0242ac1c0002row0_col3,#T_159772de_03d0_11eb_967b_0242ac1c0002row1_col2{\n",
              "            background-color:  #53ae62;\n",
              "            color:  #000000;\n",
              "        }#T_159772de_03d0_11eb_967b_0242ac1c0002row0_col5,#T_159772de_03d0_11eb_967b_0242ac1c0002row1_col5,#T_159772de_03d0_11eb_967b_0242ac1c0002row2_col5,#T_159772de_03d0_11eb_967b_0242ac1c0002row2_col6{\n",
              "            background-color:  #53AE62;\n",
              "        }#T_159772de_03d0_11eb_967b_0242ac1c0002row0_col6{\n",
              "            background-color:  #E1E0E0;\n",
              "        }#T_159772de_03d0_11eb_967b_0242ac1c0002row1_col3{\n",
              "            background-color:  #cea930;\n",
              "            color:  #000000;\n",
              "        }#T_159772de_03d0_11eb_967b_0242ac1c0002row1_col6{\n",
              "            background-color:  #D73F3F;\n",
              "        }#T_159772de_03d0_11eb_967b_0242ac1c0002row2_col2,#T_159772de_03d0_11eb_967b_0242ac1c0002row2_col3{\n",
              "            background-color:  #d73f3f;\n",
              "            color:  #f1f1f1;\n",
              "        }</style><table id=\"T_159772de_03d0_11eb_967b_0242ac1c0002\" ><thead>    <tr>        <th class=\"blank level0\" ></th>        <th class=\"col_heading level0 col0\" >projectId</th>        <th class=\"col_heading level0 col1\" >name</th>        <th class=\"col_heading level0 col2\" >percentMapped</th>        <th class=\"col_heading level0 col3\" >percentValidated</th>        <th class=\"col_heading level0 col4\" >mapperLevel</th>        <th class=\"col_heading level0 col5\" >status</th>        <th class=\"col_heading level0 col6\" >priority</th>    </tr></thead><tbody>\n",
              "                <tr>\n",
              "                        <th id=\"T_159772de_03d0_11eb_967b_0242ac1c0002level0_row0\" class=\"row_heading level0 row0\" >291</th>\n",
              "                        <td id=\"T_159772de_03d0_11eb_967b_0242ac1c0002row0_col0\" class=\"data row0 col0\" >8823</td>\n",
              "                        <td id=\"T_159772de_03d0_11eb_967b_0242ac1c0002row0_col1\" class=\"data row0 col1\" >COVID - 19 RAPID RESPONSE - DADAAB</td>\n",
              "                        <td id=\"T_159772de_03d0_11eb_967b_0242ac1c0002row0_col2\" class=\"data row0 col2\" >100</td>\n",
              "                        <td id=\"T_159772de_03d0_11eb_967b_0242ac1c0002row0_col3\" class=\"data row0 col3\" >100</td>\n",
              "                        <td id=\"T_159772de_03d0_11eb_967b_0242ac1c0002row0_col4\" class=\"data row0 col4\" >ADVANCED</td>\n",
              "                        <td id=\"T_159772de_03d0_11eb_967b_0242ac1c0002row0_col5\" class=\"data row0 col5\" >PUBLISHED</td>\n",
              "                        <td id=\"T_159772de_03d0_11eb_967b_0242ac1c0002row0_col6\" class=\"data row0 col6\" >LOW</td>\n",
              "            </tr>\n",
              "            <tr>\n",
              "                        <th id=\"T_159772de_03d0_11eb_967b_0242ac1c0002level0_row1\" class=\"row_heading level0 row1\" >0</th>\n",
              "                        <td id=\"T_159772de_03d0_11eb_967b_0242ac1c0002row1_col0\" class=\"data row1 col0\" >8863</td>\n",
              "                        <td id=\"T_159772de_03d0_11eb_967b_0242ac1c0002row1_col1\" class=\"data row1 col1\" >COVID - 19 RAPID RESPONSE - KAKUMA</td>\n",
              "                        <td id=\"T_159772de_03d0_11eb_967b_0242ac1c0002row1_col2\" class=\"data row1 col2\" >99</td>\n",
              "                        <td id=\"T_159772de_03d0_11eb_967b_0242ac1c0002row1_col3\" class=\"data row1 col3\" >61</td>\n",
              "                        <td id=\"T_159772de_03d0_11eb_967b_0242ac1c0002row1_col4\" class=\"data row1 col4\" >INTERMEDIATE</td>\n",
              "                        <td id=\"T_159772de_03d0_11eb_967b_0242ac1c0002row1_col5\" class=\"data row1 col5\" >PUBLISHED</td>\n",
              "                        <td id=\"T_159772de_03d0_11eb_967b_0242ac1c0002row1_col6\" class=\"data row1 col6\" >URGENT</td>\n",
              "            </tr>\n",
              "            <tr>\n",
              "                        <th id=\"T_159772de_03d0_11eb_967b_0242ac1c0002level0_row2\" class=\"row_heading level0 row2\" >111</th>\n",
              "                        <td id=\"T_159772de_03d0_11eb_967b_0242ac1c0002row2_col0\" class=\"data row2 col0\" >9401</td>\n",
              "                        <td id=\"T_159772de_03d0_11eb_967b_0242ac1c0002row2_col1\" class=\"data row2 col1\" >Msambweni, Kwale County</td>\n",
              "                        <td id=\"T_159772de_03d0_11eb_967b_0242ac1c0002row2_col2\" class=\"data row2 col2\" >0</td>\n",
              "                        <td id=\"T_159772de_03d0_11eb_967b_0242ac1c0002row2_col3\" class=\"data row2 col3\" >0</td>\n",
              "                        <td id=\"T_159772de_03d0_11eb_967b_0242ac1c0002row2_col4\" class=\"data row2 col4\" >INTERMEDIATE</td>\n",
              "                        <td id=\"T_159772de_03d0_11eb_967b_0242ac1c0002row2_col5\" class=\"data row2 col5\" >PUBLISHED</td>\n",
              "                        <td id=\"T_159772de_03d0_11eb_967b_0242ac1c0002row2_col6\" class=\"data row2 col6\" >MEDIUM</td>\n",
              "            </tr>\n",
              "    </tbody></table>"
            ],
            "text/plain": [
              "<pandas.io.formats.style.Styler at 0x7f42ad428e10>"
            ]
          },
          "metadata": {
            "tags": []
          }
        },
        {
          "output_type": "display_data",
          "data": {
            "text/markdown": "## Liberia",
            "text/plain": [
              "<IPython.core.display.Markdown object>"
            ]
          },
          "metadata": {
            "tags": []
          }
        },
        {
          "output_type": "display_data",
          "data": {
            "text/markdown": "---",
            "text/plain": [
              "<IPython.core.display.Markdown object>"
            ]
          },
          "metadata": {
            "tags": []
          }
        },
        {
          "output_type": "display_data",
          "data": {
            "text/markdown": "\n- Total number projects: 34\n    - Drafts:    0\n    - Published: 34 \n    - Archived:  0\n- Completed projects (100% mapped & validated): 30\n- Average % mapped across all projects: 99.7 %\n- Average % validated across all projects: 99.7 %\n",
            "text/plain": [
              "<IPython.core.display.Markdown object>"
            ]
          },
          "metadata": {
            "tags": []
          }
        },
        {
          "output_type": "display_data",
          "data": {
            "text/markdown": "---",
            "text/plain": [
              "<IPython.core.display.Markdown object>"
            ]
          },
          "metadata": {
            "tags": []
          }
        },
        {
          "output_type": "display_data",
          "data": {
            "text/html": [
              "<style  type=\"text/css\" >\n",
              "#T_159f0350_03d0_11eb_967b_0242ac1c0002row0_col2,#T_159f0350_03d0_11eb_967b_0242ac1c0002row0_col3,#T_159f0350_03d0_11eb_967b_0242ac1c0002row1_col2,#T_159f0350_03d0_11eb_967b_0242ac1c0002row1_col3,#T_159f0350_03d0_11eb_967b_0242ac1c0002row2_col2,#T_159f0350_03d0_11eb_967b_0242ac1c0002row2_col3,#T_159f0350_03d0_11eb_967b_0242ac1c0002row3_col2,#T_159f0350_03d0_11eb_967b_0242ac1c0002row3_col3,#T_159f0350_03d0_11eb_967b_0242ac1c0002row4_col2,#T_159f0350_03d0_11eb_967b_0242ac1c0002row4_col3,#T_159f0350_03d0_11eb_967b_0242ac1c0002row5_col2,#T_159f0350_03d0_11eb_967b_0242ac1c0002row5_col3,#T_159f0350_03d0_11eb_967b_0242ac1c0002row6_col2,#T_159f0350_03d0_11eb_967b_0242ac1c0002row6_col3,#T_159f0350_03d0_11eb_967b_0242ac1c0002row7_col2,#T_159f0350_03d0_11eb_967b_0242ac1c0002row7_col3,#T_159f0350_03d0_11eb_967b_0242ac1c0002row8_col2,#T_159f0350_03d0_11eb_967b_0242ac1c0002row8_col3,#T_159f0350_03d0_11eb_967b_0242ac1c0002row9_col2,#T_159f0350_03d0_11eb_967b_0242ac1c0002row9_col3,#T_159f0350_03d0_11eb_967b_0242ac1c0002row10_col2,#T_159f0350_03d0_11eb_967b_0242ac1c0002row10_col3,#T_159f0350_03d0_11eb_967b_0242ac1c0002row11_col2,#T_159f0350_03d0_11eb_967b_0242ac1c0002row11_col3,#T_159f0350_03d0_11eb_967b_0242ac1c0002row12_col2,#T_159f0350_03d0_11eb_967b_0242ac1c0002row12_col3,#T_159f0350_03d0_11eb_967b_0242ac1c0002row13_col2,#T_159f0350_03d0_11eb_967b_0242ac1c0002row13_col3,#T_159f0350_03d0_11eb_967b_0242ac1c0002row14_col2,#T_159f0350_03d0_11eb_967b_0242ac1c0002row14_col3,#T_159f0350_03d0_11eb_967b_0242ac1c0002row15_col2,#T_159f0350_03d0_11eb_967b_0242ac1c0002row15_col3,#T_159f0350_03d0_11eb_967b_0242ac1c0002row16_col2,#T_159f0350_03d0_11eb_967b_0242ac1c0002row16_col3,#T_159f0350_03d0_11eb_967b_0242ac1c0002row17_col2,#T_159f0350_03d0_11eb_967b_0242ac1c0002row17_col3,#T_159f0350_03d0_11eb_967b_0242ac1c0002row19_col2,#T_159f0350_03d0_11eb_967b_0242ac1c0002row19_col3,#T_159f0350_03d0_11eb_967b_0242ac1c0002row20_col2,#T_159f0350_03d0_11eb_967b_0242ac1c0002row20_col3,#T_159f0350_03d0_11eb_967b_0242ac1c0002row22_col2,#T_159f0350_03d0_11eb_967b_0242ac1c0002row22_col3,#T_159f0350_03d0_11eb_967b_0242ac1c0002row23_col2,#T_159f0350_03d0_11eb_967b_0242ac1c0002row23_col3,#T_159f0350_03d0_11eb_967b_0242ac1c0002row25_col2,#T_159f0350_03d0_11eb_967b_0242ac1c0002row25_col3,#T_159f0350_03d0_11eb_967b_0242ac1c0002row26_col2,#T_159f0350_03d0_11eb_967b_0242ac1c0002row26_col3,#T_159f0350_03d0_11eb_967b_0242ac1c0002row27_col2,#T_159f0350_03d0_11eb_967b_0242ac1c0002row27_col3,#T_159f0350_03d0_11eb_967b_0242ac1c0002row28_col2,#T_159f0350_03d0_11eb_967b_0242ac1c0002row28_col3,#T_159f0350_03d0_11eb_967b_0242ac1c0002row29_col2,#T_159f0350_03d0_11eb_967b_0242ac1c0002row29_col3,#T_159f0350_03d0_11eb_967b_0242ac1c0002row30_col2,#T_159f0350_03d0_11eb_967b_0242ac1c0002row30_col3,#T_159f0350_03d0_11eb_967b_0242ac1c0002row31_col2,#T_159f0350_03d0_11eb_967b_0242ac1c0002row31_col3,#T_159f0350_03d0_11eb_967b_0242ac1c0002row32_col2,#T_159f0350_03d0_11eb_967b_0242ac1c0002row32_col3{\n",
              "            background-color:  #53ae62;\n",
              "            color:  #000000;\n",
              "        }#T_159f0350_03d0_11eb_967b_0242ac1c0002row0_col5,#T_159f0350_03d0_11eb_967b_0242ac1c0002row0_col6,#T_159f0350_03d0_11eb_967b_0242ac1c0002row1_col5,#T_159f0350_03d0_11eb_967b_0242ac1c0002row1_col6,#T_159f0350_03d0_11eb_967b_0242ac1c0002row2_col5,#T_159f0350_03d0_11eb_967b_0242ac1c0002row2_col6,#T_159f0350_03d0_11eb_967b_0242ac1c0002row3_col5,#T_159f0350_03d0_11eb_967b_0242ac1c0002row3_col6,#T_159f0350_03d0_11eb_967b_0242ac1c0002row4_col5,#T_159f0350_03d0_11eb_967b_0242ac1c0002row4_col6,#T_159f0350_03d0_11eb_967b_0242ac1c0002row5_col5,#T_159f0350_03d0_11eb_967b_0242ac1c0002row5_col6,#T_159f0350_03d0_11eb_967b_0242ac1c0002row6_col5,#T_159f0350_03d0_11eb_967b_0242ac1c0002row6_col6,#T_159f0350_03d0_11eb_967b_0242ac1c0002row7_col5,#T_159f0350_03d0_11eb_967b_0242ac1c0002row7_col6,#T_159f0350_03d0_11eb_967b_0242ac1c0002row8_col5,#T_159f0350_03d0_11eb_967b_0242ac1c0002row8_col6,#T_159f0350_03d0_11eb_967b_0242ac1c0002row9_col5,#T_159f0350_03d0_11eb_967b_0242ac1c0002row9_col6,#T_159f0350_03d0_11eb_967b_0242ac1c0002row10_col5,#T_159f0350_03d0_11eb_967b_0242ac1c0002row11_col5,#T_159f0350_03d0_11eb_967b_0242ac1c0002row11_col6,#T_159f0350_03d0_11eb_967b_0242ac1c0002row12_col5,#T_159f0350_03d0_11eb_967b_0242ac1c0002row12_col6,#T_159f0350_03d0_11eb_967b_0242ac1c0002row13_col5,#T_159f0350_03d0_11eb_967b_0242ac1c0002row13_col6,#T_159f0350_03d0_11eb_967b_0242ac1c0002row14_col5,#T_159f0350_03d0_11eb_967b_0242ac1c0002row14_col6,#T_159f0350_03d0_11eb_967b_0242ac1c0002row15_col5,#T_159f0350_03d0_11eb_967b_0242ac1c0002row15_col6,#T_159f0350_03d0_11eb_967b_0242ac1c0002row16_col5,#T_159f0350_03d0_11eb_967b_0242ac1c0002row16_col6,#T_159f0350_03d0_11eb_967b_0242ac1c0002row17_col5,#T_159f0350_03d0_11eb_967b_0242ac1c0002row17_col6,#T_159f0350_03d0_11eb_967b_0242ac1c0002row18_col5,#T_159f0350_03d0_11eb_967b_0242ac1c0002row18_col6,#T_159f0350_03d0_11eb_967b_0242ac1c0002row19_col5,#T_159f0350_03d0_11eb_967b_0242ac1c0002row19_col6,#T_159f0350_03d0_11eb_967b_0242ac1c0002row20_col5,#T_159f0350_03d0_11eb_967b_0242ac1c0002row20_col6,#T_159f0350_03d0_11eb_967b_0242ac1c0002row21_col5,#T_159f0350_03d0_11eb_967b_0242ac1c0002row21_col6,#T_159f0350_03d0_11eb_967b_0242ac1c0002row22_col5,#T_159f0350_03d0_11eb_967b_0242ac1c0002row22_col6,#T_159f0350_03d0_11eb_967b_0242ac1c0002row23_col5,#T_159f0350_03d0_11eb_967b_0242ac1c0002row23_col6,#T_159f0350_03d0_11eb_967b_0242ac1c0002row24_col5,#T_159f0350_03d0_11eb_967b_0242ac1c0002row24_col6,#T_159f0350_03d0_11eb_967b_0242ac1c0002row25_col5,#T_159f0350_03d0_11eb_967b_0242ac1c0002row25_col6,#T_159f0350_03d0_11eb_967b_0242ac1c0002row26_col5,#T_159f0350_03d0_11eb_967b_0242ac1c0002row26_col6,#T_159f0350_03d0_11eb_967b_0242ac1c0002row27_col5,#T_159f0350_03d0_11eb_967b_0242ac1c0002row27_col6,#T_159f0350_03d0_11eb_967b_0242ac1c0002row28_col5,#T_159f0350_03d0_11eb_967b_0242ac1c0002row28_col6,#T_159f0350_03d0_11eb_967b_0242ac1c0002row29_col5,#T_159f0350_03d0_11eb_967b_0242ac1c0002row29_col6,#T_159f0350_03d0_11eb_967b_0242ac1c0002row30_col5,#T_159f0350_03d0_11eb_967b_0242ac1c0002row30_col6,#T_159f0350_03d0_11eb_967b_0242ac1c0002row31_col5,#T_159f0350_03d0_11eb_967b_0242ac1c0002row31_col6,#T_159f0350_03d0_11eb_967b_0242ac1c0002row32_col5,#T_159f0350_03d0_11eb_967b_0242ac1c0002row32_col6,#T_159f0350_03d0_11eb_967b_0242ac1c0002row33_col5,#T_159f0350_03d0_11eb_967b_0242ac1c0002row33_col6{\n",
              "            background-color:  #53AE62;\n",
              "        }#T_159f0350_03d0_11eb_967b_0242ac1c0002row10_col6{\n",
              "            background-color:  #E1E0E0;\n",
              "        }#T_159f0350_03d0_11eb_967b_0242ac1c0002row18_col2,#T_159f0350_03d0_11eb_967b_0242ac1c0002row18_col3,#T_159f0350_03d0_11eb_967b_0242ac1c0002row21_col2,#T_159f0350_03d0_11eb_967b_0242ac1c0002row21_col3,#T_159f0350_03d0_11eb_967b_0242ac1c0002row24_col2,#T_159f0350_03d0_11eb_967b_0242ac1c0002row24_col3{\n",
              "            background-color:  #f1a722;\n",
              "            color:  #000000;\n",
              "        }#T_159f0350_03d0_11eb_967b_0242ac1c0002row33_col2,#T_159f0350_03d0_11eb_967b_0242ac1c0002row33_col3{\n",
              "            background-color:  #d73f3f;\n",
              "            color:  #f1f1f1;\n",
              "        }</style><table id=\"T_159f0350_03d0_11eb_967b_0242ac1c0002\" ><thead>    <tr>        <th class=\"blank level0\" ></th>        <th class=\"col_heading level0 col0\" >projectId</th>        <th class=\"col_heading level0 col1\" >name</th>        <th class=\"col_heading level0 col2\" >percentMapped</th>        <th class=\"col_heading level0 col3\" >percentValidated</th>        <th class=\"col_heading level0 col4\" >mapperLevel</th>        <th class=\"col_heading level0 col5\" >status</th>        <th class=\"col_heading level0 col6\" >priority</th>    </tr></thead><tbody>\n",
              "                <tr>\n",
              "                        <th id=\"T_159f0350_03d0_11eb_967b_0242ac1c0002level0_row0\" class=\"row_heading level0 row0\" >47</th>\n",
              "                        <td id=\"T_159f0350_03d0_11eb_967b_0242ac1c0002row0_col0\" class=\"data row0 col0\" >8816</td>\n",
              "                        <td id=\"T_159f0350_03d0_11eb_967b_0242ac1c0002row0_col1\" class=\"data row0 col1\" >COVID-19 Rapid Response Mapping: Montserrado County, Liberia</td>\n",
              "                        <td id=\"T_159f0350_03d0_11eb_967b_0242ac1c0002row0_col2\" class=\"data row0 col2\" >100</td>\n",
              "                        <td id=\"T_159f0350_03d0_11eb_967b_0242ac1c0002row0_col3\" class=\"data row0 col3\" >100</td>\n",
              "                        <td id=\"T_159f0350_03d0_11eb_967b_0242ac1c0002row0_col4\" class=\"data row0 col4\" >BEGINNER</td>\n",
              "                        <td id=\"T_159f0350_03d0_11eb_967b_0242ac1c0002row0_col5\" class=\"data row0 col5\" >PUBLISHED</td>\n",
              "                        <td id=\"T_159f0350_03d0_11eb_967b_0242ac1c0002row0_col6\" class=\"data row0 col6\" >MEDIUM</td>\n",
              "            </tr>\n",
              "            <tr>\n",
              "                        <th id=\"T_159f0350_03d0_11eb_967b_0242ac1c0002level0_row1\" class=\"row_heading level0 row1\" >48</th>\n",
              "                        <td id=\"T_159f0350_03d0_11eb_967b_0242ac1c0002row1_col0\" class=\"data row1 col0\" >8825</td>\n",
              "                        <td id=\"T_159f0350_03d0_11eb_967b_0242ac1c0002row1_col1\" class=\"data row1 col1\" >COVID-19 Rapid Response Mapping: Lofa County (Western), Liberia</td>\n",
              "                        <td id=\"T_159f0350_03d0_11eb_967b_0242ac1c0002row1_col2\" class=\"data row1 col2\" >100</td>\n",
              "                        <td id=\"T_159f0350_03d0_11eb_967b_0242ac1c0002row1_col3\" class=\"data row1 col3\" >100</td>\n",
              "                        <td id=\"T_159f0350_03d0_11eb_967b_0242ac1c0002row1_col4\" class=\"data row1 col4\" >BEGINNER</td>\n",
              "                        <td id=\"T_159f0350_03d0_11eb_967b_0242ac1c0002row1_col5\" class=\"data row1 col5\" >PUBLISHED</td>\n",
              "                        <td id=\"T_159f0350_03d0_11eb_967b_0242ac1c0002row1_col6\" class=\"data row1 col6\" >MEDIUM</td>\n",
              "            </tr>\n",
              "            <tr>\n",
              "                        <th id=\"T_159f0350_03d0_11eb_967b_0242ac1c0002level0_row2\" class=\"row_heading level0 row2\" >49</th>\n",
              "                        <td id=\"T_159f0350_03d0_11eb_967b_0242ac1c0002row2_col0\" class=\"data row2 col0\" >8826</td>\n",
              "                        <td id=\"T_159f0350_03d0_11eb_967b_0242ac1c0002row2_col1\" class=\"data row2 col1\" >COVID-19 Rapid Response Mapping: Lofa County (Central), Liberia</td>\n",
              "                        <td id=\"T_159f0350_03d0_11eb_967b_0242ac1c0002row2_col2\" class=\"data row2 col2\" >100</td>\n",
              "                        <td id=\"T_159f0350_03d0_11eb_967b_0242ac1c0002row2_col3\" class=\"data row2 col3\" >100</td>\n",
              "                        <td id=\"T_159f0350_03d0_11eb_967b_0242ac1c0002row2_col4\" class=\"data row2 col4\" >BEGINNER</td>\n",
              "                        <td id=\"T_159f0350_03d0_11eb_967b_0242ac1c0002row2_col5\" class=\"data row2 col5\" >PUBLISHED</td>\n",
              "                        <td id=\"T_159f0350_03d0_11eb_967b_0242ac1c0002row2_col6\" class=\"data row2 col6\" >MEDIUM</td>\n",
              "            </tr>\n",
              "            <tr>\n",
              "                        <th id=\"T_159f0350_03d0_11eb_967b_0242ac1c0002level0_row3\" class=\"row_heading level0 row3\" >50</th>\n",
              "                        <td id=\"T_159f0350_03d0_11eb_967b_0242ac1c0002row3_col0\" class=\"data row3 col0\" >8827</td>\n",
              "                        <td id=\"T_159f0350_03d0_11eb_967b_0242ac1c0002row3_col1\" class=\"data row3 col1\" >COVID-19 Rapid Response Mapping: Lofa County (Eastern), Liberia</td>\n",
              "                        <td id=\"T_159f0350_03d0_11eb_967b_0242ac1c0002row3_col2\" class=\"data row3 col2\" >100</td>\n",
              "                        <td id=\"T_159f0350_03d0_11eb_967b_0242ac1c0002row3_col3\" class=\"data row3 col3\" >100</td>\n",
              "                        <td id=\"T_159f0350_03d0_11eb_967b_0242ac1c0002row3_col4\" class=\"data row3 col4\" >BEGINNER</td>\n",
              "                        <td id=\"T_159f0350_03d0_11eb_967b_0242ac1c0002row3_col5\" class=\"data row3 col5\" >PUBLISHED</td>\n",
              "                        <td id=\"T_159f0350_03d0_11eb_967b_0242ac1c0002row3_col6\" class=\"data row3 col6\" >MEDIUM</td>\n",
              "            </tr>\n",
              "            <tr>\n",
              "                        <th id=\"T_159f0350_03d0_11eb_967b_0242ac1c0002level0_row4\" class=\"row_heading level0 row4\" >51</th>\n",
              "                        <td id=\"T_159f0350_03d0_11eb_967b_0242ac1c0002row4_col0\" class=\"data row4 col0\" >8874</td>\n",
              "                        <td id=\"T_159f0350_03d0_11eb_967b_0242ac1c0002row4_col1\" class=\"data row4 col1\" >COVID-19 Rapid Response Mapping: Grand Kru County, Liberia</td>\n",
              "                        <td id=\"T_159f0350_03d0_11eb_967b_0242ac1c0002row4_col2\" class=\"data row4 col2\" >100</td>\n",
              "                        <td id=\"T_159f0350_03d0_11eb_967b_0242ac1c0002row4_col3\" class=\"data row4 col3\" >100</td>\n",
              "                        <td id=\"T_159f0350_03d0_11eb_967b_0242ac1c0002row4_col4\" class=\"data row4 col4\" >BEGINNER</td>\n",
              "                        <td id=\"T_159f0350_03d0_11eb_967b_0242ac1c0002row4_col5\" class=\"data row4 col5\" >PUBLISHED</td>\n",
              "                        <td id=\"T_159f0350_03d0_11eb_967b_0242ac1c0002row4_col6\" class=\"data row4 col6\" >MEDIUM</td>\n",
              "            </tr>\n",
              "            <tr>\n",
              "                        <th id=\"T_159f0350_03d0_11eb_967b_0242ac1c0002level0_row5\" class=\"row_heading level0 row5\" >52</th>\n",
              "                        <td id=\"T_159f0350_03d0_11eb_967b_0242ac1c0002row5_col0\" class=\"data row5 col0\" >8875</td>\n",
              "                        <td id=\"T_159f0350_03d0_11eb_967b_0242ac1c0002row5_col1\" class=\"data row5 col1\" >COVID-19 Rapid Response Mapping: Maryland County, Liberia</td>\n",
              "                        <td id=\"T_159f0350_03d0_11eb_967b_0242ac1c0002row5_col2\" class=\"data row5 col2\" >100</td>\n",
              "                        <td id=\"T_159f0350_03d0_11eb_967b_0242ac1c0002row5_col3\" class=\"data row5 col3\" >100</td>\n",
              "                        <td id=\"T_159f0350_03d0_11eb_967b_0242ac1c0002row5_col4\" class=\"data row5 col4\" >BEGINNER</td>\n",
              "                        <td id=\"T_159f0350_03d0_11eb_967b_0242ac1c0002row5_col5\" class=\"data row5 col5\" >PUBLISHED</td>\n",
              "                        <td id=\"T_159f0350_03d0_11eb_967b_0242ac1c0002row5_col6\" class=\"data row5 col6\" >MEDIUM</td>\n",
              "            </tr>\n",
              "            <tr>\n",
              "                        <th id=\"T_159f0350_03d0_11eb_967b_0242ac1c0002level0_row6\" class=\"row_heading level0 row6\" >53</th>\n",
              "                        <td id=\"T_159f0350_03d0_11eb_967b_0242ac1c0002row6_col0\" class=\"data row6 col0\" >8876</td>\n",
              "                        <td id=\"T_159f0350_03d0_11eb_967b_0242ac1c0002row6_col1\" class=\"data row6 col1\" >COVID-19 Rapid Response Mapping: Sinoe County (Northern), Liberia</td>\n",
              "                        <td id=\"T_159f0350_03d0_11eb_967b_0242ac1c0002row6_col2\" class=\"data row6 col2\" >100</td>\n",
              "                        <td id=\"T_159f0350_03d0_11eb_967b_0242ac1c0002row6_col3\" class=\"data row6 col3\" >100</td>\n",
              "                        <td id=\"T_159f0350_03d0_11eb_967b_0242ac1c0002row6_col4\" class=\"data row6 col4\" >BEGINNER</td>\n",
              "                        <td id=\"T_159f0350_03d0_11eb_967b_0242ac1c0002row6_col5\" class=\"data row6 col5\" >PUBLISHED</td>\n",
              "                        <td id=\"T_159f0350_03d0_11eb_967b_0242ac1c0002row6_col6\" class=\"data row6 col6\" >MEDIUM</td>\n",
              "            </tr>\n",
              "            <tr>\n",
              "                        <th id=\"T_159f0350_03d0_11eb_967b_0242ac1c0002level0_row7\" class=\"row_heading level0 row7\" >54</th>\n",
              "                        <td id=\"T_159f0350_03d0_11eb_967b_0242ac1c0002row7_col0\" class=\"data row7 col0\" >8877</td>\n",
              "                        <td id=\"T_159f0350_03d0_11eb_967b_0242ac1c0002row7_col1\" class=\"data row7 col1\" >COVID-19 Rapid Response Mapping: Sinoe County (Eastern), Liberia</td>\n",
              "                        <td id=\"T_159f0350_03d0_11eb_967b_0242ac1c0002row7_col2\" class=\"data row7 col2\" >100</td>\n",
              "                        <td id=\"T_159f0350_03d0_11eb_967b_0242ac1c0002row7_col3\" class=\"data row7 col3\" >100</td>\n",
              "                        <td id=\"T_159f0350_03d0_11eb_967b_0242ac1c0002row7_col4\" class=\"data row7 col4\" >BEGINNER</td>\n",
              "                        <td id=\"T_159f0350_03d0_11eb_967b_0242ac1c0002row7_col5\" class=\"data row7 col5\" >PUBLISHED</td>\n",
              "                        <td id=\"T_159f0350_03d0_11eb_967b_0242ac1c0002row7_col6\" class=\"data row7 col6\" >MEDIUM</td>\n",
              "            </tr>\n",
              "            <tr>\n",
              "                        <th id=\"T_159f0350_03d0_11eb_967b_0242ac1c0002level0_row8\" class=\"row_heading level0 row8\" >55</th>\n",
              "                        <td id=\"T_159f0350_03d0_11eb_967b_0242ac1c0002row8_col0\" class=\"data row8 col0\" >8878</td>\n",
              "                        <td id=\"T_159f0350_03d0_11eb_967b_0242ac1c0002row8_col1\" class=\"data row8 col1\" >COVID-19 Rapid Response Mapping: Sinoe County (Western), Liberia</td>\n",
              "                        <td id=\"T_159f0350_03d0_11eb_967b_0242ac1c0002row8_col2\" class=\"data row8 col2\" >100</td>\n",
              "                        <td id=\"T_159f0350_03d0_11eb_967b_0242ac1c0002row8_col3\" class=\"data row8 col3\" >100</td>\n",
              "                        <td id=\"T_159f0350_03d0_11eb_967b_0242ac1c0002row8_col4\" class=\"data row8 col4\" >BEGINNER</td>\n",
              "                        <td id=\"T_159f0350_03d0_11eb_967b_0242ac1c0002row8_col5\" class=\"data row8 col5\" >PUBLISHED</td>\n",
              "                        <td id=\"T_159f0350_03d0_11eb_967b_0242ac1c0002row8_col6\" class=\"data row8 col6\" >MEDIUM</td>\n",
              "            </tr>\n",
              "            <tr>\n",
              "                        <th id=\"T_159f0350_03d0_11eb_967b_0242ac1c0002level0_row9\" class=\"row_heading level0 row9\" >56</th>\n",
              "                        <td id=\"T_159f0350_03d0_11eb_967b_0242ac1c0002row9_col0\" class=\"data row9 col0\" >8879</td>\n",
              "                        <td id=\"T_159f0350_03d0_11eb_967b_0242ac1c0002row9_col1\" class=\"data row9 col1\" >COVID-19 Rapid Response Mapping: River Gee County (Eastern), Liberia</td>\n",
              "                        <td id=\"T_159f0350_03d0_11eb_967b_0242ac1c0002row9_col2\" class=\"data row9 col2\" >100</td>\n",
              "                        <td id=\"T_159f0350_03d0_11eb_967b_0242ac1c0002row9_col3\" class=\"data row9 col3\" >100</td>\n",
              "                        <td id=\"T_159f0350_03d0_11eb_967b_0242ac1c0002row9_col4\" class=\"data row9 col4\" >BEGINNER</td>\n",
              "                        <td id=\"T_159f0350_03d0_11eb_967b_0242ac1c0002row9_col5\" class=\"data row9 col5\" >PUBLISHED</td>\n",
              "                        <td id=\"T_159f0350_03d0_11eb_967b_0242ac1c0002row9_col6\" class=\"data row9 col6\" >MEDIUM</td>\n",
              "            </tr>\n",
              "            <tr>\n",
              "                        <th id=\"T_159f0350_03d0_11eb_967b_0242ac1c0002level0_row10\" class=\"row_heading level0 row10\" >298</th>\n",
              "                        <td id=\"T_159f0350_03d0_11eb_967b_0242ac1c0002row10_col0\" class=\"data row10 col0\" >8880</td>\n",
              "                        <td id=\"T_159f0350_03d0_11eb_967b_0242ac1c0002row10_col1\" class=\"data row10 col1\" >COVID-19 Rapid Response Mapping: River Gee County (Western), Liberia</td>\n",
              "                        <td id=\"T_159f0350_03d0_11eb_967b_0242ac1c0002row10_col2\" class=\"data row10 col2\" >100</td>\n",
              "                        <td id=\"T_159f0350_03d0_11eb_967b_0242ac1c0002row10_col3\" class=\"data row10 col3\" >100</td>\n",
              "                        <td id=\"T_159f0350_03d0_11eb_967b_0242ac1c0002row10_col4\" class=\"data row10 col4\" >BEGINNER</td>\n",
              "                        <td id=\"T_159f0350_03d0_11eb_967b_0242ac1c0002row10_col5\" class=\"data row10 col5\" >PUBLISHED</td>\n",
              "                        <td id=\"T_159f0350_03d0_11eb_967b_0242ac1c0002row10_col6\" class=\"data row10 col6\" >LOW</td>\n",
              "            </tr>\n",
              "            <tr>\n",
              "                        <th id=\"T_159f0350_03d0_11eb_967b_0242ac1c0002level0_row11\" class=\"row_heading level0 row11\" >60</th>\n",
              "                        <td id=\"T_159f0350_03d0_11eb_967b_0242ac1c0002row11_col0\" class=\"data row11 col0\" >8906</td>\n",
              "                        <td id=\"T_159f0350_03d0_11eb_967b_0242ac1c0002row11_col1\" class=\"data row11 col1\" >COVID-19 Rapid Response Mapping: River Cess County (Northern), Liberia</td>\n",
              "                        <td id=\"T_159f0350_03d0_11eb_967b_0242ac1c0002row11_col2\" class=\"data row11 col2\" >100</td>\n",
              "                        <td id=\"T_159f0350_03d0_11eb_967b_0242ac1c0002row11_col3\" class=\"data row11 col3\" >100</td>\n",
              "                        <td id=\"T_159f0350_03d0_11eb_967b_0242ac1c0002row11_col4\" class=\"data row11 col4\" >BEGINNER</td>\n",
              "                        <td id=\"T_159f0350_03d0_11eb_967b_0242ac1c0002row11_col5\" class=\"data row11 col5\" >PUBLISHED</td>\n",
              "                        <td id=\"T_159f0350_03d0_11eb_967b_0242ac1c0002row11_col6\" class=\"data row11 col6\" >MEDIUM</td>\n",
              "            </tr>\n",
              "            <tr>\n",
              "                        <th id=\"T_159f0350_03d0_11eb_967b_0242ac1c0002level0_row12\" class=\"row_heading level0 row12\" >61</th>\n",
              "                        <td id=\"T_159f0350_03d0_11eb_967b_0242ac1c0002row12_col0\" class=\"data row12 col0\" >8907</td>\n",
              "                        <td id=\"T_159f0350_03d0_11eb_967b_0242ac1c0002row12_col1\" class=\"data row12 col1\" >COVID-19 Rapid Response Mapping: River Cess County (Southern), Liberia</td>\n",
              "                        <td id=\"T_159f0350_03d0_11eb_967b_0242ac1c0002row12_col2\" class=\"data row12 col2\" >100</td>\n",
              "                        <td id=\"T_159f0350_03d0_11eb_967b_0242ac1c0002row12_col3\" class=\"data row12 col3\" >100</td>\n",
              "                        <td id=\"T_159f0350_03d0_11eb_967b_0242ac1c0002row12_col4\" class=\"data row12 col4\" >BEGINNER</td>\n",
              "                        <td id=\"T_159f0350_03d0_11eb_967b_0242ac1c0002row12_col5\" class=\"data row12 col5\" >PUBLISHED</td>\n",
              "                        <td id=\"T_159f0350_03d0_11eb_967b_0242ac1c0002row12_col6\" class=\"data row12 col6\" >MEDIUM</td>\n",
              "            </tr>\n",
              "            <tr>\n",
              "                        <th id=\"T_159f0350_03d0_11eb_967b_0242ac1c0002level0_row13\" class=\"row_heading level0 row13\" >62</th>\n",
              "                        <td id=\"T_159f0350_03d0_11eb_967b_0242ac1c0002row13_col0\" class=\"data row13 col0\" >8908</td>\n",
              "                        <td id=\"T_159f0350_03d0_11eb_967b_0242ac1c0002row13_col1\" class=\"data row13 col1\" >COVID-19 Rapid Response Mapping:Grand Bassa County (Northern), Liberia</td>\n",
              "                        <td id=\"T_159f0350_03d0_11eb_967b_0242ac1c0002row13_col2\" class=\"data row13 col2\" >100</td>\n",
              "                        <td id=\"T_159f0350_03d0_11eb_967b_0242ac1c0002row13_col3\" class=\"data row13 col3\" >100</td>\n",
              "                        <td id=\"T_159f0350_03d0_11eb_967b_0242ac1c0002row13_col4\" class=\"data row13 col4\" >BEGINNER</td>\n",
              "                        <td id=\"T_159f0350_03d0_11eb_967b_0242ac1c0002row13_col5\" class=\"data row13 col5\" >PUBLISHED</td>\n",
              "                        <td id=\"T_159f0350_03d0_11eb_967b_0242ac1c0002row13_col6\" class=\"data row13 col6\" >MEDIUM</td>\n",
              "            </tr>\n",
              "            <tr>\n",
              "                        <th id=\"T_159f0350_03d0_11eb_967b_0242ac1c0002level0_row14\" class=\"row_heading level0 row14\" >63</th>\n",
              "                        <td id=\"T_159f0350_03d0_11eb_967b_0242ac1c0002row14_col0\" class=\"data row14 col0\" >8909</td>\n",
              "                        <td id=\"T_159f0350_03d0_11eb_967b_0242ac1c0002row14_col1\" class=\"data row14 col1\" >COVID-19 Rapid Response Mapping: Grand Bassa County (Southern), Liberia</td>\n",
              "                        <td id=\"T_159f0350_03d0_11eb_967b_0242ac1c0002row14_col2\" class=\"data row14 col2\" >100</td>\n",
              "                        <td id=\"T_159f0350_03d0_11eb_967b_0242ac1c0002row14_col3\" class=\"data row14 col3\" >100</td>\n",
              "                        <td id=\"T_159f0350_03d0_11eb_967b_0242ac1c0002row14_col4\" class=\"data row14 col4\" >BEGINNER</td>\n",
              "                        <td id=\"T_159f0350_03d0_11eb_967b_0242ac1c0002row14_col5\" class=\"data row14 col5\" >PUBLISHED</td>\n",
              "                        <td id=\"T_159f0350_03d0_11eb_967b_0242ac1c0002row14_col6\" class=\"data row14 col6\" >MEDIUM</td>\n",
              "            </tr>\n",
              "            <tr>\n",
              "                        <th id=\"T_159f0350_03d0_11eb_967b_0242ac1c0002level0_row15\" class=\"row_heading level0 row15\" >64</th>\n",
              "                        <td id=\"T_159f0350_03d0_11eb_967b_0242ac1c0002row15_col0\" class=\"data row15 col0\" >8910</td>\n",
              "                        <td id=\"T_159f0350_03d0_11eb_967b_0242ac1c0002row15_col1\" class=\"data row15 col1\" >COVID-19 Rapid Response Mapping: Margibi County (Northern), Liberia</td>\n",
              "                        <td id=\"T_159f0350_03d0_11eb_967b_0242ac1c0002row15_col2\" class=\"data row15 col2\" >100</td>\n",
              "                        <td id=\"T_159f0350_03d0_11eb_967b_0242ac1c0002row15_col3\" class=\"data row15 col3\" >100</td>\n",
              "                        <td id=\"T_159f0350_03d0_11eb_967b_0242ac1c0002row15_col4\" class=\"data row15 col4\" >BEGINNER</td>\n",
              "                        <td id=\"T_159f0350_03d0_11eb_967b_0242ac1c0002row15_col5\" class=\"data row15 col5\" >PUBLISHED</td>\n",
              "                        <td id=\"T_159f0350_03d0_11eb_967b_0242ac1c0002row15_col6\" class=\"data row15 col6\" >MEDIUM</td>\n",
              "            </tr>\n",
              "            <tr>\n",
              "                        <th id=\"T_159f0350_03d0_11eb_967b_0242ac1c0002level0_row16\" class=\"row_heading level0 row16\" >65</th>\n",
              "                        <td id=\"T_159f0350_03d0_11eb_967b_0242ac1c0002row16_col0\" class=\"data row16 col0\" >8911</td>\n",
              "                        <td id=\"T_159f0350_03d0_11eb_967b_0242ac1c0002row16_col1\" class=\"data row16 col1\" >COVID-19 Rapid Response Mapping: Margibi County (Southern), Liberia</td>\n",
              "                        <td id=\"T_159f0350_03d0_11eb_967b_0242ac1c0002row16_col2\" class=\"data row16 col2\" >100</td>\n",
              "                        <td id=\"T_159f0350_03d0_11eb_967b_0242ac1c0002row16_col3\" class=\"data row16 col3\" >100</td>\n",
              "                        <td id=\"T_159f0350_03d0_11eb_967b_0242ac1c0002row16_col4\" class=\"data row16 col4\" >BEGINNER</td>\n",
              "                        <td id=\"T_159f0350_03d0_11eb_967b_0242ac1c0002row16_col5\" class=\"data row16 col5\" >PUBLISHED</td>\n",
              "                        <td id=\"T_159f0350_03d0_11eb_967b_0242ac1c0002row16_col6\" class=\"data row16 col6\" >MEDIUM</td>\n",
              "            </tr>\n",
              "            <tr>\n",
              "                        <th id=\"T_159f0350_03d0_11eb_967b_0242ac1c0002level0_row17\" class=\"row_heading level0 row17\" >66</th>\n",
              "                        <td id=\"T_159f0350_03d0_11eb_967b_0242ac1c0002row17_col0\" class=\"data row17 col0\" >8912</td>\n",
              "                        <td id=\"T_159f0350_03d0_11eb_967b_0242ac1c0002row17_col1\" class=\"data row17 col1\" >COVID-19 Rapid Response Mapping: Grand Cape Mount County (Northern), Liberia</td>\n",
              "                        <td id=\"T_159f0350_03d0_11eb_967b_0242ac1c0002row17_col2\" class=\"data row17 col2\" >100</td>\n",
              "                        <td id=\"T_159f0350_03d0_11eb_967b_0242ac1c0002row17_col3\" class=\"data row17 col3\" >100</td>\n",
              "                        <td id=\"T_159f0350_03d0_11eb_967b_0242ac1c0002row17_col4\" class=\"data row17 col4\" >BEGINNER</td>\n",
              "                        <td id=\"T_159f0350_03d0_11eb_967b_0242ac1c0002row17_col5\" class=\"data row17 col5\" >PUBLISHED</td>\n",
              "                        <td id=\"T_159f0350_03d0_11eb_967b_0242ac1c0002row17_col6\" class=\"data row17 col6\" >MEDIUM</td>\n",
              "            </tr>\n",
              "            <tr>\n",
              "                        <th id=\"T_159f0350_03d0_11eb_967b_0242ac1c0002level0_row18\" class=\"row_heading level0 row18\" >67</th>\n",
              "                        <td id=\"T_159f0350_03d0_11eb_967b_0242ac1c0002row18_col0\" class=\"data row18 col0\" >8913</td>\n",
              "                        <td id=\"T_159f0350_03d0_11eb_967b_0242ac1c0002row18_col1\" class=\"data row18 col1\" >COVID-19 Rapid Response Mapping: Grand Cape Mount County (Southern), Liberia</td>\n",
              "                        <td id=\"T_159f0350_03d0_11eb_967b_0242ac1c0002row18_col2\" class=\"data row18 col2\" >98</td>\n",
              "                        <td id=\"T_159f0350_03d0_11eb_967b_0242ac1c0002row18_col3\" class=\"data row18 col3\" >98</td>\n",
              "                        <td id=\"T_159f0350_03d0_11eb_967b_0242ac1c0002row18_col4\" class=\"data row18 col4\" >BEGINNER</td>\n",
              "                        <td id=\"T_159f0350_03d0_11eb_967b_0242ac1c0002row18_col5\" class=\"data row18 col5\" >PUBLISHED</td>\n",
              "                        <td id=\"T_159f0350_03d0_11eb_967b_0242ac1c0002row18_col6\" class=\"data row18 col6\" >MEDIUM</td>\n",
              "            </tr>\n",
              "            <tr>\n",
              "                        <th id=\"T_159f0350_03d0_11eb_967b_0242ac1c0002level0_row19\" class=\"row_heading level0 row19\" >68</th>\n",
              "                        <td id=\"T_159f0350_03d0_11eb_967b_0242ac1c0002row19_col0\" class=\"data row19 col0\" >8914</td>\n",
              "                        <td id=\"T_159f0350_03d0_11eb_967b_0242ac1c0002row19_col1\" class=\"data row19 col1\" >COVID-19 Rapid Response Mapping: Bomi County, Liberia</td>\n",
              "                        <td id=\"T_159f0350_03d0_11eb_967b_0242ac1c0002row19_col2\" class=\"data row19 col2\" >100</td>\n",
              "                        <td id=\"T_159f0350_03d0_11eb_967b_0242ac1c0002row19_col3\" class=\"data row19 col3\" >100</td>\n",
              "                        <td id=\"T_159f0350_03d0_11eb_967b_0242ac1c0002row19_col4\" class=\"data row19 col4\" >BEGINNER</td>\n",
              "                        <td id=\"T_159f0350_03d0_11eb_967b_0242ac1c0002row19_col5\" class=\"data row19 col5\" >PUBLISHED</td>\n",
              "                        <td id=\"T_159f0350_03d0_11eb_967b_0242ac1c0002row19_col6\" class=\"data row19 col6\" >MEDIUM</td>\n",
              "            </tr>\n",
              "            <tr>\n",
              "                        <th id=\"T_159f0350_03d0_11eb_967b_0242ac1c0002level0_row20\" class=\"row_heading level0 row20\" >69</th>\n",
              "                        <td id=\"T_159f0350_03d0_11eb_967b_0242ac1c0002row20_col0\" class=\"data row20 col0\" >8915</td>\n",
              "                        <td id=\"T_159f0350_03d0_11eb_967b_0242ac1c0002row20_col1\" class=\"data row20 col1\" >COVID-19 Rapid Response Mapping: Gbarpolu County (Western), Liberia</td>\n",
              "                        <td id=\"T_159f0350_03d0_11eb_967b_0242ac1c0002row20_col2\" class=\"data row20 col2\" >100</td>\n",
              "                        <td id=\"T_159f0350_03d0_11eb_967b_0242ac1c0002row20_col3\" class=\"data row20 col3\" >100</td>\n",
              "                        <td id=\"T_159f0350_03d0_11eb_967b_0242ac1c0002row20_col4\" class=\"data row20 col4\" >BEGINNER</td>\n",
              "                        <td id=\"T_159f0350_03d0_11eb_967b_0242ac1c0002row20_col5\" class=\"data row20 col5\" >PUBLISHED</td>\n",
              "                        <td id=\"T_159f0350_03d0_11eb_967b_0242ac1c0002row20_col6\" class=\"data row20 col6\" >MEDIUM</td>\n",
              "            </tr>\n",
              "            <tr>\n",
              "                        <th id=\"T_159f0350_03d0_11eb_967b_0242ac1c0002level0_row21\" class=\"row_heading level0 row21\" >70</th>\n",
              "                        <td id=\"T_159f0350_03d0_11eb_967b_0242ac1c0002row21_col0\" class=\"data row21 col0\" >8916</td>\n",
              "                        <td id=\"T_159f0350_03d0_11eb_967b_0242ac1c0002row21_col1\" class=\"data row21 col1\" >COVID-19 Rapid Response Mapping: Gbarpolu County (Eastern), Liberia</td>\n",
              "                        <td id=\"T_159f0350_03d0_11eb_967b_0242ac1c0002row21_col2\" class=\"data row21 col2\" >98</td>\n",
              "                        <td id=\"T_159f0350_03d0_11eb_967b_0242ac1c0002row21_col3\" class=\"data row21 col3\" >98</td>\n",
              "                        <td id=\"T_159f0350_03d0_11eb_967b_0242ac1c0002row21_col4\" class=\"data row21 col4\" >BEGINNER</td>\n",
              "                        <td id=\"T_159f0350_03d0_11eb_967b_0242ac1c0002row21_col5\" class=\"data row21 col5\" >PUBLISHED</td>\n",
              "                        <td id=\"T_159f0350_03d0_11eb_967b_0242ac1c0002row21_col6\" class=\"data row21 col6\" >MEDIUM</td>\n",
              "            </tr>\n",
              "            <tr>\n",
              "                        <th id=\"T_159f0350_03d0_11eb_967b_0242ac1c0002level0_row22\" class=\"row_heading level0 row22\" >71</th>\n",
              "                        <td id=\"T_159f0350_03d0_11eb_967b_0242ac1c0002row22_col0\" class=\"data row22 col0\" >8917</td>\n",
              "                        <td id=\"T_159f0350_03d0_11eb_967b_0242ac1c0002row22_col1\" class=\"data row22 col1\" >COVID-19 Rapid Response Mapping: Gbarpolu County (Southern), Liberia</td>\n",
              "                        <td id=\"T_159f0350_03d0_11eb_967b_0242ac1c0002row22_col2\" class=\"data row22 col2\" >100</td>\n",
              "                        <td id=\"T_159f0350_03d0_11eb_967b_0242ac1c0002row22_col3\" class=\"data row22 col3\" >100</td>\n",
              "                        <td id=\"T_159f0350_03d0_11eb_967b_0242ac1c0002row22_col4\" class=\"data row22 col4\" >BEGINNER</td>\n",
              "                        <td id=\"T_159f0350_03d0_11eb_967b_0242ac1c0002row22_col5\" class=\"data row22 col5\" >PUBLISHED</td>\n",
              "                        <td id=\"T_159f0350_03d0_11eb_967b_0242ac1c0002row22_col6\" class=\"data row22 col6\" >MEDIUM</td>\n",
              "            </tr>\n",
              "            <tr>\n",
              "                        <th id=\"T_159f0350_03d0_11eb_967b_0242ac1c0002level0_row23\" class=\"row_heading level0 row23\" >72</th>\n",
              "                        <td id=\"T_159f0350_03d0_11eb_967b_0242ac1c0002row23_col0\" class=\"data row23 col0\" >8918</td>\n",
              "                        <td id=\"T_159f0350_03d0_11eb_967b_0242ac1c0002row23_col1\" class=\"data row23 col1\" >COVID-19 Rapid Response Mapping: Bong County (Northern), Liberia</td>\n",
              "                        <td id=\"T_159f0350_03d0_11eb_967b_0242ac1c0002row23_col2\" class=\"data row23 col2\" >100</td>\n",
              "                        <td id=\"T_159f0350_03d0_11eb_967b_0242ac1c0002row23_col3\" class=\"data row23 col3\" >100</td>\n",
              "                        <td id=\"T_159f0350_03d0_11eb_967b_0242ac1c0002row23_col4\" class=\"data row23 col4\" >BEGINNER</td>\n",
              "                        <td id=\"T_159f0350_03d0_11eb_967b_0242ac1c0002row23_col5\" class=\"data row23 col5\" >PUBLISHED</td>\n",
              "                        <td id=\"T_159f0350_03d0_11eb_967b_0242ac1c0002row23_col6\" class=\"data row23 col6\" >MEDIUM</td>\n",
              "            </tr>\n",
              "            <tr>\n",
              "                        <th id=\"T_159f0350_03d0_11eb_967b_0242ac1c0002level0_row24\" class=\"row_heading level0 row24\" >73</th>\n",
              "                        <td id=\"T_159f0350_03d0_11eb_967b_0242ac1c0002row24_col0\" class=\"data row24 col0\" >8919</td>\n",
              "                        <td id=\"T_159f0350_03d0_11eb_967b_0242ac1c0002row24_col1\" class=\"data row24 col1\" >COVID-19 Rapid Response Mapping: Bong County (Central), Liberia</td>\n",
              "                        <td id=\"T_159f0350_03d0_11eb_967b_0242ac1c0002row24_col2\" class=\"data row24 col2\" >98</td>\n",
              "                        <td id=\"T_159f0350_03d0_11eb_967b_0242ac1c0002row24_col3\" class=\"data row24 col3\" >98</td>\n",
              "                        <td id=\"T_159f0350_03d0_11eb_967b_0242ac1c0002row24_col4\" class=\"data row24 col4\" >BEGINNER</td>\n",
              "                        <td id=\"T_159f0350_03d0_11eb_967b_0242ac1c0002row24_col5\" class=\"data row24 col5\" >PUBLISHED</td>\n",
              "                        <td id=\"T_159f0350_03d0_11eb_967b_0242ac1c0002row24_col6\" class=\"data row24 col6\" >MEDIUM</td>\n",
              "            </tr>\n",
              "            <tr>\n",
              "                        <th id=\"T_159f0350_03d0_11eb_967b_0242ac1c0002level0_row25\" class=\"row_heading level0 row25\" >74</th>\n",
              "                        <td id=\"T_159f0350_03d0_11eb_967b_0242ac1c0002row25_col0\" class=\"data row25 col0\" >8920</td>\n",
              "                        <td id=\"T_159f0350_03d0_11eb_967b_0242ac1c0002row25_col1\" class=\"data row25 col1\" >COVID-19 Rapid Response Mapping: Bong County (Southern), Liberia</td>\n",
              "                        <td id=\"T_159f0350_03d0_11eb_967b_0242ac1c0002row25_col2\" class=\"data row25 col2\" >100</td>\n",
              "                        <td id=\"T_159f0350_03d0_11eb_967b_0242ac1c0002row25_col3\" class=\"data row25 col3\" >100</td>\n",
              "                        <td id=\"T_159f0350_03d0_11eb_967b_0242ac1c0002row25_col4\" class=\"data row25 col4\" >BEGINNER</td>\n",
              "                        <td id=\"T_159f0350_03d0_11eb_967b_0242ac1c0002row25_col5\" class=\"data row25 col5\" >PUBLISHED</td>\n",
              "                        <td id=\"T_159f0350_03d0_11eb_967b_0242ac1c0002row25_col6\" class=\"data row25 col6\" >MEDIUM</td>\n",
              "            </tr>\n",
              "            <tr>\n",
              "                        <th id=\"T_159f0350_03d0_11eb_967b_0242ac1c0002level0_row26\" class=\"row_heading level0 row26\" >75</th>\n",
              "                        <td id=\"T_159f0350_03d0_11eb_967b_0242ac1c0002row26_col0\" class=\"data row26 col0\" >8935</td>\n",
              "                        <td id=\"T_159f0350_03d0_11eb_967b_0242ac1c0002row26_col1\" class=\"data row26 col1\" >COVID-19 Rapid Response Mapping: Nimba County (Northern), Liberia</td>\n",
              "                        <td id=\"T_159f0350_03d0_11eb_967b_0242ac1c0002row26_col2\" class=\"data row26 col2\" >100</td>\n",
              "                        <td id=\"T_159f0350_03d0_11eb_967b_0242ac1c0002row26_col3\" class=\"data row26 col3\" >100</td>\n",
              "                        <td id=\"T_159f0350_03d0_11eb_967b_0242ac1c0002row26_col4\" class=\"data row26 col4\" >BEGINNER</td>\n",
              "                        <td id=\"T_159f0350_03d0_11eb_967b_0242ac1c0002row26_col5\" class=\"data row26 col5\" >PUBLISHED</td>\n",
              "                        <td id=\"T_159f0350_03d0_11eb_967b_0242ac1c0002row26_col6\" class=\"data row26 col6\" >MEDIUM</td>\n",
              "            </tr>\n",
              "            <tr>\n",
              "                        <th id=\"T_159f0350_03d0_11eb_967b_0242ac1c0002level0_row27\" class=\"row_heading level0 row27\" >76</th>\n",
              "                        <td id=\"T_159f0350_03d0_11eb_967b_0242ac1c0002row27_col0\" class=\"data row27 col0\" >8936</td>\n",
              "                        <td id=\"T_159f0350_03d0_11eb_967b_0242ac1c0002row27_col1\" class=\"data row27 col1\" >COVID-19 Rapid Response Mapping: Nimba County (Central), Liberia</td>\n",
              "                        <td id=\"T_159f0350_03d0_11eb_967b_0242ac1c0002row27_col2\" class=\"data row27 col2\" >100</td>\n",
              "                        <td id=\"T_159f0350_03d0_11eb_967b_0242ac1c0002row27_col3\" class=\"data row27 col3\" >100</td>\n",
              "                        <td id=\"T_159f0350_03d0_11eb_967b_0242ac1c0002row27_col4\" class=\"data row27 col4\" >BEGINNER</td>\n",
              "                        <td id=\"T_159f0350_03d0_11eb_967b_0242ac1c0002row27_col5\" class=\"data row27 col5\" >PUBLISHED</td>\n",
              "                        <td id=\"T_159f0350_03d0_11eb_967b_0242ac1c0002row27_col6\" class=\"data row27 col6\" >MEDIUM</td>\n",
              "            </tr>\n",
              "            <tr>\n",
              "                        <th id=\"T_159f0350_03d0_11eb_967b_0242ac1c0002level0_row28\" class=\"row_heading level0 row28\" >77</th>\n",
              "                        <td id=\"T_159f0350_03d0_11eb_967b_0242ac1c0002row28_col0\" class=\"data row28 col0\" >8937</td>\n",
              "                        <td id=\"T_159f0350_03d0_11eb_967b_0242ac1c0002row28_col1\" class=\"data row28 col1\" >COVID-19 Rapid Response Mapping: Nimba County (Southern), Liberia</td>\n",
              "                        <td id=\"T_159f0350_03d0_11eb_967b_0242ac1c0002row28_col2\" class=\"data row28 col2\" >100</td>\n",
              "                        <td id=\"T_159f0350_03d0_11eb_967b_0242ac1c0002row28_col3\" class=\"data row28 col3\" >100</td>\n",
              "                        <td id=\"T_159f0350_03d0_11eb_967b_0242ac1c0002row28_col4\" class=\"data row28 col4\" >BEGINNER</td>\n",
              "                        <td id=\"T_159f0350_03d0_11eb_967b_0242ac1c0002row28_col5\" class=\"data row28 col5\" >PUBLISHED</td>\n",
              "                        <td id=\"T_159f0350_03d0_11eb_967b_0242ac1c0002row28_col6\" class=\"data row28 col6\" >MEDIUM</td>\n",
              "            </tr>\n",
              "            <tr>\n",
              "                        <th id=\"T_159f0350_03d0_11eb_967b_0242ac1c0002level0_row29\" class=\"row_heading level0 row29\" >78</th>\n",
              "                        <td id=\"T_159f0350_03d0_11eb_967b_0242ac1c0002row29_col0\" class=\"data row29 col0\" >8938</td>\n",
              "                        <td id=\"T_159f0350_03d0_11eb_967b_0242ac1c0002row29_col1\" class=\"data row29 col1\" >COVID-19 Rapid Response Mapping: Grand Gedeh County (Western), Liberia</td>\n",
              "                        <td id=\"T_159f0350_03d0_11eb_967b_0242ac1c0002row29_col2\" class=\"data row29 col2\" >100</td>\n",
              "                        <td id=\"T_159f0350_03d0_11eb_967b_0242ac1c0002row29_col3\" class=\"data row29 col3\" >100</td>\n",
              "                        <td id=\"T_159f0350_03d0_11eb_967b_0242ac1c0002row29_col4\" class=\"data row29 col4\" >BEGINNER</td>\n",
              "                        <td id=\"T_159f0350_03d0_11eb_967b_0242ac1c0002row29_col5\" class=\"data row29 col5\" >PUBLISHED</td>\n",
              "                        <td id=\"T_159f0350_03d0_11eb_967b_0242ac1c0002row29_col6\" class=\"data row29 col6\" >MEDIUM</td>\n",
              "            </tr>\n",
              "            <tr>\n",
              "                        <th id=\"T_159f0350_03d0_11eb_967b_0242ac1c0002level0_row30\" class=\"row_heading level0 row30\" >79</th>\n",
              "                        <td id=\"T_159f0350_03d0_11eb_967b_0242ac1c0002row30_col0\" class=\"data row30 col0\" >8939</td>\n",
              "                        <td id=\"T_159f0350_03d0_11eb_967b_0242ac1c0002row30_col1\" class=\"data row30 col1\" >COVID-19 Rapid Response Mapping: Grand Gedeh County (Central), Liberia</td>\n",
              "                        <td id=\"T_159f0350_03d0_11eb_967b_0242ac1c0002row30_col2\" class=\"data row30 col2\" >100</td>\n",
              "                        <td id=\"T_159f0350_03d0_11eb_967b_0242ac1c0002row30_col3\" class=\"data row30 col3\" >100</td>\n",
              "                        <td id=\"T_159f0350_03d0_11eb_967b_0242ac1c0002row30_col4\" class=\"data row30 col4\" >BEGINNER</td>\n",
              "                        <td id=\"T_159f0350_03d0_11eb_967b_0242ac1c0002row30_col5\" class=\"data row30 col5\" >PUBLISHED</td>\n",
              "                        <td id=\"T_159f0350_03d0_11eb_967b_0242ac1c0002row30_col6\" class=\"data row30 col6\" >MEDIUM</td>\n",
              "            </tr>\n",
              "            <tr>\n",
              "                        <th id=\"T_159f0350_03d0_11eb_967b_0242ac1c0002level0_row31\" class=\"row_heading level0 row31\" >80</th>\n",
              "                        <td id=\"T_159f0350_03d0_11eb_967b_0242ac1c0002row31_col0\" class=\"data row31 col0\" >8940</td>\n",
              "                        <td id=\"T_159f0350_03d0_11eb_967b_0242ac1c0002row31_col1\" class=\"data row31 col1\" >COVID-19 Rapid Response Mapping: Grand Gedeh County (Eastern), Liberia</td>\n",
              "                        <td id=\"T_159f0350_03d0_11eb_967b_0242ac1c0002row31_col2\" class=\"data row31 col2\" >100</td>\n",
              "                        <td id=\"T_159f0350_03d0_11eb_967b_0242ac1c0002row31_col3\" class=\"data row31 col3\" >100</td>\n",
              "                        <td id=\"T_159f0350_03d0_11eb_967b_0242ac1c0002row31_col4\" class=\"data row31 col4\" >BEGINNER</td>\n",
              "                        <td id=\"T_159f0350_03d0_11eb_967b_0242ac1c0002row31_col5\" class=\"data row31 col5\" >PUBLISHED</td>\n",
              "                        <td id=\"T_159f0350_03d0_11eb_967b_0242ac1c0002row31_col6\" class=\"data row31 col6\" >MEDIUM</td>\n",
              "            </tr>\n",
              "            <tr>\n",
              "                        <th id=\"T_159f0350_03d0_11eb_967b_0242ac1c0002level0_row32\" class=\"row_heading level0 row32\" >81</th>\n",
              "                        <td id=\"T_159f0350_03d0_11eb_967b_0242ac1c0002row32_col0\" class=\"data row32 col0\" >8980</td>\n",
              "                        <td id=\"T_159f0350_03d0_11eb_967b_0242ac1c0002row32_col1\" class=\"data row32 col1\" >COVID-19 Rapid Response Mapping: COVID-19 Facilities Montserrado County, Liberia</td>\n",
              "                        <td id=\"T_159f0350_03d0_11eb_967b_0242ac1c0002row32_col2\" class=\"data row32 col2\" >100</td>\n",
              "                        <td id=\"T_159f0350_03d0_11eb_967b_0242ac1c0002row32_col3\" class=\"data row32 col3\" >100</td>\n",
              "                        <td id=\"T_159f0350_03d0_11eb_967b_0242ac1c0002row32_col4\" class=\"data row32 col4\" >BEGINNER</td>\n",
              "                        <td id=\"T_159f0350_03d0_11eb_967b_0242ac1c0002row32_col5\" class=\"data row32 col5\" >PUBLISHED</td>\n",
              "                        <td id=\"T_159f0350_03d0_11eb_967b_0242ac1c0002row32_col6\" class=\"data row32 col6\" >MEDIUM</td>\n",
              "            </tr>\n",
              "            <tr>\n",
              "                        <th id=\"T_159f0350_03d0_11eb_967b_0242ac1c0002level0_row33\" class=\"row_heading level0 row33\" >82</th>\n",
              "                        <td id=\"T_159f0350_03d0_11eb_967b_0242ac1c0002row33_col0\" class=\"data row33 col0\" >8981</td>\n",
              "                        <td id=\"T_159f0350_03d0_11eb_967b_0242ac1c0002row33_col1\" class=\"data row33 col1\" >COVID-19 Rapid Response Mapping: COVID-19 Facilities Margibi County, Liberia</td>\n",
              "                        <td id=\"T_159f0350_03d0_11eb_967b_0242ac1c0002row33_col2\" class=\"data row33 col2\" >96</td>\n",
              "                        <td id=\"T_159f0350_03d0_11eb_967b_0242ac1c0002row33_col3\" class=\"data row33 col3\" >96</td>\n",
              "                        <td id=\"T_159f0350_03d0_11eb_967b_0242ac1c0002row33_col4\" class=\"data row33 col4\" >BEGINNER</td>\n",
              "                        <td id=\"T_159f0350_03d0_11eb_967b_0242ac1c0002row33_col5\" class=\"data row33 col5\" >PUBLISHED</td>\n",
              "                        <td id=\"T_159f0350_03d0_11eb_967b_0242ac1c0002row33_col6\" class=\"data row33 col6\" >MEDIUM</td>\n",
              "            </tr>\n",
              "    </tbody></table>"
            ],
            "text/plain": [
              "<pandas.io.formats.style.Styler at 0x7f42ad3e7f98>"
            ]
          },
          "metadata": {
            "tags": []
          }
        },
        {
          "output_type": "display_data",
          "data": {
            "text/markdown": "## Malawi",
            "text/plain": [
              "<IPython.core.display.Markdown object>"
            ]
          },
          "metadata": {
            "tags": []
          }
        },
        {
          "output_type": "display_data",
          "data": {
            "text/markdown": "---",
            "text/plain": [
              "<IPython.core.display.Markdown object>"
            ]
          },
          "metadata": {
            "tags": []
          }
        },
        {
          "output_type": "display_data",
          "data": {
            "text/markdown": "\n- Total number projects: 1\n    - Drafts:    0\n    - Published: 1 \n    - Archived:  0\n- Completed projects (100% mapped & validated): 0\n- Average % mapped across all projects: 80.0 %\n- Average % validated across all projects: 24.0 %\n",
            "text/plain": [
              "<IPython.core.display.Markdown object>"
            ]
          },
          "metadata": {
            "tags": []
          }
        },
        {
          "output_type": "display_data",
          "data": {
            "text/markdown": "---",
            "text/plain": [
              "<IPython.core.display.Markdown object>"
            ]
          },
          "metadata": {
            "tags": []
          }
        },
        {
          "output_type": "display_data",
          "data": {
            "text/html": [
              "<style  type=\"text/css\" >\n",
              "#T_15a76c2a_03d0_11eb_967b_0242ac1c0002row0_col2,#T_15a76c2a_03d0_11eb_967b_0242ac1c0002row0_col3{\n",
              "            background-color:  #d73f3f;\n",
              "            color:  #f1f1f1;\n",
              "        }#T_15a76c2a_03d0_11eb_967b_0242ac1c0002row0_col5{\n",
              "            background-color:  #53AE62;\n",
              "        }#T_15a76c2a_03d0_11eb_967b_0242ac1c0002row0_col6{\n",
              "            background-color:  #FAA71E;\n",
              "        }</style><table id=\"T_15a76c2a_03d0_11eb_967b_0242ac1c0002\" ><thead>    <tr>        <th class=\"blank level0\" ></th>        <th class=\"col_heading level0 col0\" >projectId</th>        <th class=\"col_heading level0 col1\" >name</th>        <th class=\"col_heading level0 col2\" >percentMapped</th>        <th class=\"col_heading level0 col3\" >percentValidated</th>        <th class=\"col_heading level0 col4\" >mapperLevel</th>        <th class=\"col_heading level0 col5\" >status</th>        <th class=\"col_heading level0 col6\" >priority</th>    </tr></thead><tbody>\n",
              "                <tr>\n",
              "                        <th id=\"T_15a76c2a_03d0_11eb_967b_0242ac1c0002level0_row0\" class=\"row_heading level0 row0\" >10</th>\n",
              "                        <td id=\"T_15a76c2a_03d0_11eb_967b_0242ac1c0002row0_col0\" class=\"data row0 col0\" >8697</td>\n",
              "                        <td id=\"T_15a76c2a_03d0_11eb_967b_0242ac1c0002row0_col1\" class=\"data row0 col1\" >Lilongwe Flood Risk Assessment</td>\n",
              "                        <td id=\"T_15a76c2a_03d0_11eb_967b_0242ac1c0002row0_col2\" class=\"data row0 col2\" >80</td>\n",
              "                        <td id=\"T_15a76c2a_03d0_11eb_967b_0242ac1c0002row0_col3\" class=\"data row0 col3\" >24</td>\n",
              "                        <td id=\"T_15a76c2a_03d0_11eb_967b_0242ac1c0002row0_col4\" class=\"data row0 col4\" >BEGINNER</td>\n",
              "                        <td id=\"T_15a76c2a_03d0_11eb_967b_0242ac1c0002row0_col5\" class=\"data row0 col5\" >PUBLISHED</td>\n",
              "                        <td id=\"T_15a76c2a_03d0_11eb_967b_0242ac1c0002row0_col6\" class=\"data row0 col6\" >HIGH</td>\n",
              "            </tr>\n",
              "    </tbody></table>"
            ],
            "text/plain": [
              "<pandas.io.formats.style.Styler at 0x7f42ad3eba20>"
            ]
          },
          "metadata": {
            "tags": []
          }
        },
        {
          "output_type": "display_data",
          "data": {
            "text/markdown": "## Mali",
            "text/plain": [
              "<IPython.core.display.Markdown object>"
            ]
          },
          "metadata": {
            "tags": []
          }
        },
        {
          "output_type": "display_data",
          "data": {
            "text/markdown": "---",
            "text/plain": [
              "<IPython.core.display.Markdown object>"
            ]
          },
          "metadata": {
            "tags": []
          }
        },
        {
          "output_type": "display_data",
          "data": {
            "text/markdown": "\n- Total number projects: 15\n    - Drafts:    1\n    - Published: 7 \n    - Archived:  7\n- Completed projects (100% mapped & validated): 10\n- Average % mapped across all projects: 76.9 %\n- Average % validated across all projects: 73.3 %\n",
            "text/plain": [
              "<IPython.core.display.Markdown object>"
            ]
          },
          "metadata": {
            "tags": []
          }
        },
        {
          "output_type": "display_data",
          "data": {
            "text/markdown": "---",
            "text/plain": [
              "<IPython.core.display.Markdown object>"
            ]
          },
          "metadata": {
            "tags": []
          }
        },
        {
          "output_type": "display_data",
          "data": {
            "text/html": [
              "<style  type=\"text/css\" >\n",
              "#T_15ad6ef4_03d0_11eb_967b_0242ac1c0002row0_col2{\n",
              "            background-color:  #db4a3c;\n",
              "            color:  #f1f1f1;\n",
              "        }#T_15ad6ef4_03d0_11eb_967b_0242ac1c0002row0_col3,#T_15ad6ef4_03d0_11eb_967b_0242ac1c0002row8_col2,#T_15ad6ef4_03d0_11eb_967b_0242ac1c0002row8_col3,#T_15ad6ef4_03d0_11eb_967b_0242ac1c0002row14_col2,#T_15ad6ef4_03d0_11eb_967b_0242ac1c0002row14_col3{\n",
              "            background-color:  #d73f3f;\n",
              "            color:  #f1f1f1;\n",
              "        }#T_15ad6ef4_03d0_11eb_967b_0242ac1c0002row0_col5,#T_15ad6ef4_03d0_11eb_967b_0242ac1c0002row0_col6,#T_15ad6ef4_03d0_11eb_967b_0242ac1c0002row1_col5,#T_15ad6ef4_03d0_11eb_967b_0242ac1c0002row1_col6,#T_15ad6ef4_03d0_11eb_967b_0242ac1c0002row2_col5,#T_15ad6ef4_03d0_11eb_967b_0242ac1c0002row2_col6,#T_15ad6ef4_03d0_11eb_967b_0242ac1c0002row3_col5,#T_15ad6ef4_03d0_11eb_967b_0242ac1c0002row3_col6,#T_15ad6ef4_03d0_11eb_967b_0242ac1c0002row4_col6,#T_15ad6ef4_03d0_11eb_967b_0242ac1c0002row5_col5,#T_15ad6ef4_03d0_11eb_967b_0242ac1c0002row5_col6,#T_15ad6ef4_03d0_11eb_967b_0242ac1c0002row6_col5,#T_15ad6ef4_03d0_11eb_967b_0242ac1c0002row6_col6,#T_15ad6ef4_03d0_11eb_967b_0242ac1c0002row7_col6,#T_15ad6ef4_03d0_11eb_967b_0242ac1c0002row8_col5,#T_15ad6ef4_03d0_11eb_967b_0242ac1c0002row8_col6,#T_15ad6ef4_03d0_11eb_967b_0242ac1c0002row9_col6,#T_15ad6ef4_03d0_11eb_967b_0242ac1c0002row10_col6,#T_15ad6ef4_03d0_11eb_967b_0242ac1c0002row11_col6{\n",
              "            background-color:  #E1E0E0;\n",
              "        }#T_15ad6ef4_03d0_11eb_967b_0242ac1c0002row1_col2,#T_15ad6ef4_03d0_11eb_967b_0242ac1c0002row1_col3,#T_15ad6ef4_03d0_11eb_967b_0242ac1c0002row2_col2,#T_15ad6ef4_03d0_11eb_967b_0242ac1c0002row2_col3,#T_15ad6ef4_03d0_11eb_967b_0242ac1c0002row3_col2,#T_15ad6ef4_03d0_11eb_967b_0242ac1c0002row3_col3,#T_15ad6ef4_03d0_11eb_967b_0242ac1c0002row4_col2,#T_15ad6ef4_03d0_11eb_967b_0242ac1c0002row4_col3,#T_15ad6ef4_03d0_11eb_967b_0242ac1c0002row5_col2,#T_15ad6ef4_03d0_11eb_967b_0242ac1c0002row5_col3,#T_15ad6ef4_03d0_11eb_967b_0242ac1c0002row6_col2,#T_15ad6ef4_03d0_11eb_967b_0242ac1c0002row6_col3,#T_15ad6ef4_03d0_11eb_967b_0242ac1c0002row7_col2,#T_15ad6ef4_03d0_11eb_967b_0242ac1c0002row7_col3,#T_15ad6ef4_03d0_11eb_967b_0242ac1c0002row9_col2,#T_15ad6ef4_03d0_11eb_967b_0242ac1c0002row9_col3,#T_15ad6ef4_03d0_11eb_967b_0242ac1c0002row10_col2,#T_15ad6ef4_03d0_11eb_967b_0242ac1c0002row10_col3,#T_15ad6ef4_03d0_11eb_967b_0242ac1c0002row11_col2,#T_15ad6ef4_03d0_11eb_967b_0242ac1c0002row11_col3{\n",
              "            background-color:  #53ae62;\n",
              "            color:  #000000;\n",
              "        }#T_15ad6ef4_03d0_11eb_967b_0242ac1c0002row4_col5,#T_15ad6ef4_03d0_11eb_967b_0242ac1c0002row7_col5,#T_15ad6ef4_03d0_11eb_967b_0242ac1c0002row9_col5,#T_15ad6ef4_03d0_11eb_967b_0242ac1c0002row10_col5,#T_15ad6ef4_03d0_11eb_967b_0242ac1c0002row11_col5,#T_15ad6ef4_03d0_11eb_967b_0242ac1c0002row12_col5,#T_15ad6ef4_03d0_11eb_967b_0242ac1c0002row13_col5,#T_15ad6ef4_03d0_11eb_967b_0242ac1c0002row14_col6{\n",
              "            background-color:  #53AE62;\n",
              "        }#T_15ad6ef4_03d0_11eb_967b_0242ac1c0002row12_col2{\n",
              "            background-color:  #e0a829;\n",
              "            color:  #000000;\n",
              "        }#T_15ad6ef4_03d0_11eb_967b_0242ac1c0002row12_col3{\n",
              "            background-color:  #e26035;\n",
              "            color:  #000000;\n",
              "        }#T_15ad6ef4_03d0_11eb_967b_0242ac1c0002row12_col6,#T_15ad6ef4_03d0_11eb_967b_0242ac1c0002row13_col6{\n",
              "            background-color:  #D73F3F;\n",
              "        }#T_15ad6ef4_03d0_11eb_967b_0242ac1c0002row13_col2{\n",
              "            background-color:  #76ad54;\n",
              "            color:  #000000;\n",
              "        }#T_15ad6ef4_03d0_11eb_967b_0242ac1c0002row13_col3{\n",
              "            background-color:  #88ac4d;\n",
              "            color:  #000000;\n",
              "        }#T_15ad6ef4_03d0_11eb_967b_0242ac1c0002row14_col5{\n",
              "            background-color:  #FAA71E;\n",
              "        }</style><table id=\"T_15ad6ef4_03d0_11eb_967b_0242ac1c0002\" ><thead>    <tr>        <th class=\"blank level0\" ></th>        <th class=\"col_heading level0 col0\" >projectId</th>        <th class=\"col_heading level0 col1\" >name</th>        <th class=\"col_heading level0 col2\" >percentMapped</th>        <th class=\"col_heading level0 col3\" >percentValidated</th>        <th class=\"col_heading level0 col4\" >mapperLevel</th>        <th class=\"col_heading level0 col5\" >status</th>        <th class=\"col_heading level0 col6\" >priority</th>    </tr></thead><tbody>\n",
              "                <tr>\n",
              "                        <th id=\"T_15ad6ef4_03d0_11eb_967b_0242ac1c0002level0_row0\" class=\"row_heading level0 row0\" >115</th>\n",
              "                        <td id=\"T_15ad6ef4_03d0_11eb_967b_0242ac1c0002row0_col0\" class=\"data row0 col0\" >813</td>\n",
              "                        <td id=\"T_15ad6ef4_03d0_11eb_967b_0242ac1c0002row0_col1\" class=\"data row0 col1\" >Mali - [Projets de Cartographie systématique - réseau routier principal vs référence open data]</td>\n",
              "                        <td id=\"T_15ad6ef4_03d0_11eb_967b_0242ac1c0002row0_col2\" class=\"data row0 col2\" >9</td>\n",
              "                        <td id=\"T_15ad6ef4_03d0_11eb_967b_0242ac1c0002row0_col3\" class=\"data row0 col3\" >0</td>\n",
              "                        <td id=\"T_15ad6ef4_03d0_11eb_967b_0242ac1c0002row0_col4\" class=\"data row0 col4\" >INTERMEDIATE</td>\n",
              "                        <td id=\"T_15ad6ef4_03d0_11eb_967b_0242ac1c0002row0_col5\" class=\"data row0 col5\" >ARCHIVED</td>\n",
              "                        <td id=\"T_15ad6ef4_03d0_11eb_967b_0242ac1c0002row0_col6\" class=\"data row0 col6\" >LOW</td>\n",
              "            </tr>\n",
              "            <tr>\n",
              "                        <th id=\"T_15ad6ef4_03d0_11eb_967b_0242ac1c0002level0_row1\" class=\"row_heading level0 row1\" >222</th>\n",
              "                        <td id=\"T_15ad6ef4_03d0_11eb_967b_0242ac1c0002row1_col0\" class=\"data row1 col0\" >8469</td>\n",
              "                        <td id=\"T_15ad6ef4_03d0_11eb_967b_0242ac1c0002row1_col1\" class=\"data row1 col1\" >COVID-19 - Gao - Gao, Mali</td>\n",
              "                        <td id=\"T_15ad6ef4_03d0_11eb_967b_0242ac1c0002row1_col2\" class=\"data row1 col2\" >100</td>\n",
              "                        <td id=\"T_15ad6ef4_03d0_11eb_967b_0242ac1c0002row1_col3\" class=\"data row1 col3\" >100</td>\n",
              "                        <td id=\"T_15ad6ef4_03d0_11eb_967b_0242ac1c0002row1_col4\" class=\"data row1 col4\" >INTERMEDIATE</td>\n",
              "                        <td id=\"T_15ad6ef4_03d0_11eb_967b_0242ac1c0002row1_col5\" class=\"data row1 col5\" >ARCHIVED</td>\n",
              "                        <td id=\"T_15ad6ef4_03d0_11eb_967b_0242ac1c0002row1_col6\" class=\"data row1 col6\" >LOW</td>\n",
              "            </tr>\n",
              "            <tr>\n",
              "                        <th id=\"T_15ad6ef4_03d0_11eb_967b_0242ac1c0002level0_row2\" class=\"row_heading level0 row2\" >223</th>\n",
              "                        <td id=\"T_15ad6ef4_03d0_11eb_967b_0242ac1c0002row2_col0\" class=\"data row2 col0\" >8470</td>\n",
              "                        <td id=\"T_15ad6ef4_03d0_11eb_967b_0242ac1c0002row2_col1\" class=\"data row2 col1\" >COVID-19 - Kati - Koulikoro, Mali</td>\n",
              "                        <td id=\"T_15ad6ef4_03d0_11eb_967b_0242ac1c0002row2_col2\" class=\"data row2 col2\" >100</td>\n",
              "                        <td id=\"T_15ad6ef4_03d0_11eb_967b_0242ac1c0002row2_col3\" class=\"data row2 col3\" >100</td>\n",
              "                        <td id=\"T_15ad6ef4_03d0_11eb_967b_0242ac1c0002row2_col4\" class=\"data row2 col4\" >INTERMEDIATE</td>\n",
              "                        <td id=\"T_15ad6ef4_03d0_11eb_967b_0242ac1c0002row2_col5\" class=\"data row2 col5\" >ARCHIVED</td>\n",
              "                        <td id=\"T_15ad6ef4_03d0_11eb_967b_0242ac1c0002row2_col6\" class=\"data row2 col6\" >LOW</td>\n",
              "            </tr>\n",
              "            <tr>\n",
              "                        <th id=\"T_15ad6ef4_03d0_11eb_967b_0242ac1c0002level0_row3\" class=\"row_heading level0 row3\" >224</th>\n",
              "                        <td id=\"T_15ad6ef4_03d0_11eb_967b_0242ac1c0002row3_col0\" class=\"data row3 col0\" >8471</td>\n",
              "                        <td id=\"T_15ad6ef4_03d0_11eb_967b_0242ac1c0002row3_col1\" class=\"data row3 col1\" >COVID-19 - Koutiala Surroundings - Sikasso, Mali</td>\n",
              "                        <td id=\"T_15ad6ef4_03d0_11eb_967b_0242ac1c0002row3_col2\" class=\"data row3 col2\" >100</td>\n",
              "                        <td id=\"T_15ad6ef4_03d0_11eb_967b_0242ac1c0002row3_col3\" class=\"data row3 col3\" >100</td>\n",
              "                        <td id=\"T_15ad6ef4_03d0_11eb_967b_0242ac1c0002row3_col4\" class=\"data row3 col4\" >BEGINNER</td>\n",
              "                        <td id=\"T_15ad6ef4_03d0_11eb_967b_0242ac1c0002row3_col5\" class=\"data row3 col5\" >ARCHIVED</td>\n",
              "                        <td id=\"T_15ad6ef4_03d0_11eb_967b_0242ac1c0002row3_col6\" class=\"data row3 col6\" >LOW</td>\n",
              "            </tr>\n",
              "            <tr>\n",
              "                        <th id=\"T_15ad6ef4_03d0_11eb_967b_0242ac1c0002level0_row4\" class=\"row_heading level0 row4\" >227</th>\n",
              "                        <td id=\"T_15ad6ef4_03d0_11eb_967b_0242ac1c0002row4_col0\" class=\"data row4 col0\" >8545</td>\n",
              "                        <td id=\"T_15ad6ef4_03d0_11eb_967b_0242ac1c0002row4_col1\" class=\"data row4 col1\" >COVID-19 - Douentza Commune - Mopti, Mali</td>\n",
              "                        <td id=\"T_15ad6ef4_03d0_11eb_967b_0242ac1c0002row4_col2\" class=\"data row4 col2\" >100</td>\n",
              "                        <td id=\"T_15ad6ef4_03d0_11eb_967b_0242ac1c0002row4_col3\" class=\"data row4 col3\" >100</td>\n",
              "                        <td id=\"T_15ad6ef4_03d0_11eb_967b_0242ac1c0002row4_col4\" class=\"data row4 col4\" >INTERMEDIATE</td>\n",
              "                        <td id=\"T_15ad6ef4_03d0_11eb_967b_0242ac1c0002row4_col5\" class=\"data row4 col5\" >PUBLISHED</td>\n",
              "                        <td id=\"T_15ad6ef4_03d0_11eb_967b_0242ac1c0002row4_col6\" class=\"data row4 col6\" >LOW</td>\n",
              "            </tr>\n",
              "            <tr>\n",
              "                        <th id=\"T_15ad6ef4_03d0_11eb_967b_0242ac1c0002level0_row5\" class=\"row_heading level0 row5\" >228</th>\n",
              "                        <td id=\"T_15ad6ef4_03d0_11eb_967b_0242ac1c0002row5_col0\" class=\"data row5 col0\" >8546</td>\n",
              "                        <td id=\"T_15ad6ef4_03d0_11eb_967b_0242ac1c0002row5_col1\" class=\"data row5 col1\" >COVID-19 - Douentza City - Mopti, Mali</td>\n",
              "                        <td id=\"T_15ad6ef4_03d0_11eb_967b_0242ac1c0002row5_col2\" class=\"data row5 col2\" >100</td>\n",
              "                        <td id=\"T_15ad6ef4_03d0_11eb_967b_0242ac1c0002row5_col3\" class=\"data row5 col3\" >100</td>\n",
              "                        <td id=\"T_15ad6ef4_03d0_11eb_967b_0242ac1c0002row5_col4\" class=\"data row5 col4\" >ADVANCED</td>\n",
              "                        <td id=\"T_15ad6ef4_03d0_11eb_967b_0242ac1c0002row5_col5\" class=\"data row5 col5\" >ARCHIVED</td>\n",
              "                        <td id=\"T_15ad6ef4_03d0_11eb_967b_0242ac1c0002row5_col6\" class=\"data row5 col6\" >LOW</td>\n",
              "            </tr>\n",
              "            <tr>\n",
              "                        <th id=\"T_15ad6ef4_03d0_11eb_967b_0242ac1c0002level0_row6\" class=\"row_heading level0 row6\" >277</th>\n",
              "                        <td id=\"T_15ad6ef4_03d0_11eb_967b_0242ac1c0002row6_col0\" class=\"data row6 col0\" >8759</td>\n",
              "                        <td id=\"T_15ad6ef4_03d0_11eb_967b_0242ac1c0002row6_col1\" class=\"data row6 col1\" >COVID-19 - Yelimane Cercle - Kayes Region, Mali</td>\n",
              "                        <td id=\"T_15ad6ef4_03d0_11eb_967b_0242ac1c0002row6_col2\" class=\"data row6 col2\" >100</td>\n",
              "                        <td id=\"T_15ad6ef4_03d0_11eb_967b_0242ac1c0002row6_col3\" class=\"data row6 col3\" >100</td>\n",
              "                        <td id=\"T_15ad6ef4_03d0_11eb_967b_0242ac1c0002row6_col4\" class=\"data row6 col4\" >BEGINNER</td>\n",
              "                        <td id=\"T_15ad6ef4_03d0_11eb_967b_0242ac1c0002row6_col5\" class=\"data row6 col5\" >ARCHIVED</td>\n",
              "                        <td id=\"T_15ad6ef4_03d0_11eb_967b_0242ac1c0002row6_col6\" class=\"data row6 col6\" >LOW</td>\n",
              "            </tr>\n",
              "            <tr>\n",
              "                        <th id=\"T_15ad6ef4_03d0_11eb_967b_0242ac1c0002level0_row7\" class=\"row_heading level0 row7\" >284</th>\n",
              "                        <td id=\"T_15ad6ef4_03d0_11eb_967b_0242ac1c0002row7_col0\" class=\"data row7 col0\" >8771</td>\n",
              "                        <td id=\"T_15ad6ef4_03d0_11eb_967b_0242ac1c0002row7_col1\" class=\"data row7 col1\" >COVID-19 - Yelimane Cercle 2 - Kayes Region, Mali</td>\n",
              "                        <td id=\"T_15ad6ef4_03d0_11eb_967b_0242ac1c0002row7_col2\" class=\"data row7 col2\" >100</td>\n",
              "                        <td id=\"T_15ad6ef4_03d0_11eb_967b_0242ac1c0002row7_col3\" class=\"data row7 col3\" >100</td>\n",
              "                        <td id=\"T_15ad6ef4_03d0_11eb_967b_0242ac1c0002row7_col4\" class=\"data row7 col4\" >BEGINNER</td>\n",
              "                        <td id=\"T_15ad6ef4_03d0_11eb_967b_0242ac1c0002row7_col5\" class=\"data row7 col5\" >PUBLISHED</td>\n",
              "                        <td id=\"T_15ad6ef4_03d0_11eb_967b_0242ac1c0002row7_col6\" class=\"data row7 col6\" >LOW</td>\n",
              "            </tr>\n",
              "            <tr>\n",
              "                        <th id=\"T_15ad6ef4_03d0_11eb_967b_0242ac1c0002level0_row8\" class=\"row_heading level0 row8\" >306</th>\n",
              "                        <td id=\"T_15ad6ef4_03d0_11eb_967b_0242ac1c0002row8_col0\" class=\"data row8 col0\" >8924</td>\n",
              "                        <td id=\"T_15ad6ef4_03d0_11eb_967b_0242ac1c0002row8_col1\" class=\"data row8 col1\" >Duplicate area of 8925 - Do Not Use</td>\n",
              "                        <td id=\"T_15ad6ef4_03d0_11eb_967b_0242ac1c0002row8_col2\" class=\"data row8 col2\" >0</td>\n",
              "                        <td id=\"T_15ad6ef4_03d0_11eb_967b_0242ac1c0002row8_col3\" class=\"data row8 col3\" >0</td>\n",
              "                        <td id=\"T_15ad6ef4_03d0_11eb_967b_0242ac1c0002row8_col4\" class=\"data row8 col4\" >BEGINNER</td>\n",
              "                        <td id=\"T_15ad6ef4_03d0_11eb_967b_0242ac1c0002row8_col5\" class=\"data row8 col5\" >ARCHIVED</td>\n",
              "                        <td id=\"T_15ad6ef4_03d0_11eb_967b_0242ac1c0002row8_col6\" class=\"data row8 col6\" >LOW</td>\n",
              "            </tr>\n",
              "            <tr>\n",
              "                        <th id=\"T_15ad6ef4_03d0_11eb_967b_0242ac1c0002level0_row9\" class=\"row_heading level0 row9\" >307</th>\n",
              "                        <td id=\"T_15ad6ef4_03d0_11eb_967b_0242ac1c0002row9_col0\" class=\"data row9 col0\" >8925</td>\n",
              "                        <td id=\"T_15ad6ef4_03d0_11eb_967b_0242ac1c0002row9_col1\" class=\"data row9 col1\" >COVID-19 - Yelimane Cercle 3 - Kayes Region, Mali</td>\n",
              "                        <td id=\"T_15ad6ef4_03d0_11eb_967b_0242ac1c0002row9_col2\" class=\"data row9 col2\" >100</td>\n",
              "                        <td id=\"T_15ad6ef4_03d0_11eb_967b_0242ac1c0002row9_col3\" class=\"data row9 col3\" >100</td>\n",
              "                        <td id=\"T_15ad6ef4_03d0_11eb_967b_0242ac1c0002row9_col4\" class=\"data row9 col4\" >BEGINNER</td>\n",
              "                        <td id=\"T_15ad6ef4_03d0_11eb_967b_0242ac1c0002row9_col5\" class=\"data row9 col5\" >PUBLISHED</td>\n",
              "                        <td id=\"T_15ad6ef4_03d0_11eb_967b_0242ac1c0002row9_col6\" class=\"data row9 col6\" >LOW</td>\n",
              "            </tr>\n",
              "            <tr>\n",
              "                        <th id=\"T_15ad6ef4_03d0_11eb_967b_0242ac1c0002level0_row10\" class=\"row_heading level0 row10\" >308</th>\n",
              "                        <td id=\"T_15ad6ef4_03d0_11eb_967b_0242ac1c0002row10_col0\" class=\"data row10 col0\" >8926</td>\n",
              "                        <td id=\"T_15ad6ef4_03d0_11eb_967b_0242ac1c0002row10_col1\" class=\"data row10 col1\" >COVID-19 - Yelimane Cercle 4 - Kayes Region, Mali</td>\n",
              "                        <td id=\"T_15ad6ef4_03d0_11eb_967b_0242ac1c0002row10_col2\" class=\"data row10 col2\" >100</td>\n",
              "                        <td id=\"T_15ad6ef4_03d0_11eb_967b_0242ac1c0002row10_col3\" class=\"data row10 col3\" >100</td>\n",
              "                        <td id=\"T_15ad6ef4_03d0_11eb_967b_0242ac1c0002row10_col4\" class=\"data row10 col4\" >BEGINNER</td>\n",
              "                        <td id=\"T_15ad6ef4_03d0_11eb_967b_0242ac1c0002row10_col5\" class=\"data row10 col5\" >PUBLISHED</td>\n",
              "                        <td id=\"T_15ad6ef4_03d0_11eb_967b_0242ac1c0002row10_col6\" class=\"data row10 col6\" >LOW</td>\n",
              "            </tr>\n",
              "            <tr>\n",
              "                        <th id=\"T_15ad6ef4_03d0_11eb_967b_0242ac1c0002level0_row11\" class=\"row_heading level0 row11\" >319</th>\n",
              "                        <td id=\"T_15ad6ef4_03d0_11eb_967b_0242ac1c0002row11_col0\" class=\"data row11 col0\" >8997</td>\n",
              "                        <td id=\"T_15ad6ef4_03d0_11eb_967b_0242ac1c0002row11_col1\" class=\"data row11 col1\" >COVID-19 - Yelimane Cercle 5 - Kayes Region, Mali</td>\n",
              "                        <td id=\"T_15ad6ef4_03d0_11eb_967b_0242ac1c0002row11_col2\" class=\"data row11 col2\" >100</td>\n",
              "                        <td id=\"T_15ad6ef4_03d0_11eb_967b_0242ac1c0002row11_col3\" class=\"data row11 col3\" >100</td>\n",
              "                        <td id=\"T_15ad6ef4_03d0_11eb_967b_0242ac1c0002row11_col4\" class=\"data row11 col4\" >BEGINNER</td>\n",
              "                        <td id=\"T_15ad6ef4_03d0_11eb_967b_0242ac1c0002row11_col5\" class=\"data row11 col5\" >PUBLISHED</td>\n",
              "                        <td id=\"T_15ad6ef4_03d0_11eb_967b_0242ac1c0002row11_col6\" class=\"data row11 col6\" >LOW</td>\n",
              "            </tr>\n",
              "            <tr>\n",
              "                        <th id=\"T_15ad6ef4_03d0_11eb_967b_0242ac1c0002level0_row12\" class=\"row_heading level0 row12\" >4</th>\n",
              "                        <td id=\"T_15ad6ef4_03d0_11eb_967b_0242ac1c0002row12_col0\" class=\"data row12 col0\" >9190</td>\n",
              "                        <td id=\"T_15ad6ef4_03d0_11eb_967b_0242ac1c0002row12_col1\" class=\"data row12 col1\" >COVID-19 - Djenne Cercle UPDATE - Mopti Region, Mali</td>\n",
              "                        <td id=\"T_15ad6ef4_03d0_11eb_967b_0242ac1c0002row12_col2\" class=\"data row12 col2\" >57</td>\n",
              "                        <td id=\"T_15ad6ef4_03d0_11eb_967b_0242ac1c0002row12_col3\" class=\"data row12 col3\" >16</td>\n",
              "                        <td id=\"T_15ad6ef4_03d0_11eb_967b_0242ac1c0002row12_col4\" class=\"data row12 col4\" >INTERMEDIATE</td>\n",
              "                        <td id=\"T_15ad6ef4_03d0_11eb_967b_0242ac1c0002row12_col5\" class=\"data row12 col5\" >PUBLISHED</td>\n",
              "                        <td id=\"T_15ad6ef4_03d0_11eb_967b_0242ac1c0002row12_col6\" class=\"data row12 col6\" >URGENT</td>\n",
              "            </tr>\n",
              "            <tr>\n",
              "                        <th id=\"T_15ad6ef4_03d0_11eb_967b_0242ac1c0002level0_row13\" class=\"row_heading level0 row13\" >5</th>\n",
              "                        <td id=\"T_15ad6ef4_03d0_11eb_967b_0242ac1c0002row13_col0\" class=\"data row13 col0\" >9191</td>\n",
              "                        <td id=\"T_15ad6ef4_03d0_11eb_967b_0242ac1c0002row13_col1\" class=\"data row13 col1\" >COVID-19 - Koulikoro Cercle UPDATE 1 - Roads, Water, Landuse</td>\n",
              "                        <td id=\"T_15ad6ef4_03d0_11eb_967b_0242ac1c0002row13_col2\" class=\"data row13 col2\" >87</td>\n",
              "                        <td id=\"T_15ad6ef4_03d0_11eb_967b_0242ac1c0002row13_col3\" class=\"data row13 col3\" >83</td>\n",
              "                        <td id=\"T_15ad6ef4_03d0_11eb_967b_0242ac1c0002row13_col4\" class=\"data row13 col4\" >INTERMEDIATE</td>\n",
              "                        <td id=\"T_15ad6ef4_03d0_11eb_967b_0242ac1c0002row13_col5\" class=\"data row13 col5\" >PUBLISHED</td>\n",
              "                        <td id=\"T_15ad6ef4_03d0_11eb_967b_0242ac1c0002row13_col6\" class=\"data row13 col6\" >URGENT</td>\n",
              "            </tr>\n",
              "            <tr>\n",
              "                        <th id=\"T_15ad6ef4_03d0_11eb_967b_0242ac1c0002level0_row14\" class=\"row_heading level0 row14\" >110</th>\n",
              "                        <td id=\"T_15ad6ef4_03d0_11eb_967b_0242ac1c0002row14_col0\" class=\"data row14 col0\" >9399</td>\n",
              "                        <td id=\"T_15ad6ef4_03d0_11eb_967b_0242ac1c0002row14_col1\" class=\"data row14 col1\" >COVID-19 - Koulikoro Cercle UPDATE 2 - Landuse, Roads, Water</td>\n",
              "                        <td id=\"T_15ad6ef4_03d0_11eb_967b_0242ac1c0002row14_col2\" class=\"data row14 col2\" >0</td>\n",
              "                        <td id=\"T_15ad6ef4_03d0_11eb_967b_0242ac1c0002row14_col3\" class=\"data row14 col3\" >0</td>\n",
              "                        <td id=\"T_15ad6ef4_03d0_11eb_967b_0242ac1c0002row14_col4\" class=\"data row14 col4\" >INTERMEDIATE</td>\n",
              "                        <td id=\"T_15ad6ef4_03d0_11eb_967b_0242ac1c0002row14_col5\" class=\"data row14 col5\" >DRAFT</td>\n",
              "                        <td id=\"T_15ad6ef4_03d0_11eb_967b_0242ac1c0002row14_col6\" class=\"data row14 col6\" >MEDIUM</td>\n",
              "            </tr>\n",
              "    </tbody></table>"
            ],
            "text/plain": [
              "<pandas.io.formats.style.Styler at 0x7f42abb86a58>"
            ]
          },
          "metadata": {
            "tags": []
          }
        },
        {
          "output_type": "display_data",
          "data": {
            "text/markdown": "## Marshall Islands",
            "text/plain": [
              "<IPython.core.display.Markdown object>"
            ]
          },
          "metadata": {
            "tags": []
          }
        },
        {
          "output_type": "display_data",
          "data": {
            "text/markdown": "---",
            "text/plain": [
              "<IPython.core.display.Markdown object>"
            ]
          },
          "metadata": {
            "tags": []
          }
        },
        {
          "output_type": "display_data",
          "data": {
            "text/markdown": "\n- Total number projects: 2\n    - Drafts:    0\n    - Published: 0 \n    - Archived:  2\n- Completed projects (100% mapped & validated): 2\n- Average % mapped across all projects: 100.0 %\n- Average % validated across all projects: 100.0 %\n",
            "text/plain": [
              "<IPython.core.display.Markdown object>"
            ]
          },
          "metadata": {
            "tags": []
          }
        },
        {
          "output_type": "display_data",
          "data": {
            "text/markdown": "---",
            "text/plain": [
              "<IPython.core.display.Markdown object>"
            ]
          },
          "metadata": {
            "tags": []
          }
        },
        {
          "output_type": "display_data",
          "data": {
            "text/html": [
              "<style  type=\"text/css\" >\n",
              "#T_15b4a944_03d0_11eb_967b_0242ac1c0002row0_col2,#T_15b4a944_03d0_11eb_967b_0242ac1c0002row0_col3,#T_15b4a944_03d0_11eb_967b_0242ac1c0002row1_col2,#T_15b4a944_03d0_11eb_967b_0242ac1c0002row1_col3{\n",
              "            background-color:  #d73f3f;\n",
              "            color:  #f1f1f1;\n",
              "        }#T_15b4a944_03d0_11eb_967b_0242ac1c0002row0_col5,#T_15b4a944_03d0_11eb_967b_0242ac1c0002row1_col5{\n",
              "            background-color:  #E1E0E0;\n",
              "        }#T_15b4a944_03d0_11eb_967b_0242ac1c0002row0_col6,#T_15b4a944_03d0_11eb_967b_0242ac1c0002row1_col6{\n",
              "            background-color:  #53AE62;\n",
              "        }</style><table id=\"T_15b4a944_03d0_11eb_967b_0242ac1c0002\" ><thead>    <tr>        <th class=\"blank level0\" ></th>        <th class=\"col_heading level0 col0\" >projectId</th>        <th class=\"col_heading level0 col1\" >name</th>        <th class=\"col_heading level0 col2\" >percentMapped</th>        <th class=\"col_heading level0 col3\" >percentValidated</th>        <th class=\"col_heading level0 col4\" >mapperLevel</th>        <th class=\"col_heading level0 col5\" >status</th>        <th class=\"col_heading level0 col6\" >priority</th>    </tr></thead><tbody>\n",
              "                <tr>\n",
              "                        <th id=\"T_15b4a944_03d0_11eb_967b_0242ac1c0002level0_row0\" class=\"row_heading level0 row0\" >95</th>\n",
              "                        <td id=\"T_15b4a944_03d0_11eb_967b_0242ac1c0002row0_col0\" class=\"data row0 col0\" >9162</td>\n",
              "                        <td id=\"T_15b4a944_03d0_11eb_967b_0242ac1c0002row0_col1\" class=\"data row0 col1\" >Missing Maps: Marshall Islands, Majuro Atoll</td>\n",
              "                        <td id=\"T_15b4a944_03d0_11eb_967b_0242ac1c0002row0_col2\" class=\"data row0 col2\" >100</td>\n",
              "                        <td id=\"T_15b4a944_03d0_11eb_967b_0242ac1c0002row0_col3\" class=\"data row0 col3\" >100</td>\n",
              "                        <td id=\"T_15b4a944_03d0_11eb_967b_0242ac1c0002row0_col4\" class=\"data row0 col4\" >INTERMEDIATE</td>\n",
              "                        <td id=\"T_15b4a944_03d0_11eb_967b_0242ac1c0002row0_col5\" class=\"data row0 col5\" >ARCHIVED</td>\n",
              "                        <td id=\"T_15b4a944_03d0_11eb_967b_0242ac1c0002row0_col6\" class=\"data row0 col6\" >MEDIUM</td>\n",
              "            </tr>\n",
              "            <tr>\n",
              "                        <th id=\"T_15b4a944_03d0_11eb_967b_0242ac1c0002level0_row1\" class=\"row_heading level0 row1\" >98</th>\n",
              "                        <td id=\"T_15b4a944_03d0_11eb_967b_0242ac1c0002row1_col0\" class=\"data row1 col0\" >9185</td>\n",
              "                        <td id=\"T_15b4a944_03d0_11eb_967b_0242ac1c0002row1_col1\" class=\"data row1 col1\" >Missing Maps: Marshall Islands, Ailinglapalap Atoll</td>\n",
              "                        <td id=\"T_15b4a944_03d0_11eb_967b_0242ac1c0002row1_col2\" class=\"data row1 col2\" >100</td>\n",
              "                        <td id=\"T_15b4a944_03d0_11eb_967b_0242ac1c0002row1_col3\" class=\"data row1 col3\" >100</td>\n",
              "                        <td id=\"T_15b4a944_03d0_11eb_967b_0242ac1c0002row1_col4\" class=\"data row1 col4\" >INTERMEDIATE</td>\n",
              "                        <td id=\"T_15b4a944_03d0_11eb_967b_0242ac1c0002row1_col5\" class=\"data row1 col5\" >ARCHIVED</td>\n",
              "                        <td id=\"T_15b4a944_03d0_11eb_967b_0242ac1c0002row1_col6\" class=\"data row1 col6\" >MEDIUM</td>\n",
              "            </tr>\n",
              "    </tbody></table>"
            ],
            "text/plain": [
              "<pandas.io.formats.style.Styler at 0x7f42ad414978>"
            ]
          },
          "metadata": {
            "tags": []
          }
        },
        {
          "output_type": "display_data",
          "data": {
            "text/markdown": "## Mongolia",
            "text/plain": [
              "<IPython.core.display.Markdown object>"
            ]
          },
          "metadata": {
            "tags": []
          }
        },
        {
          "output_type": "display_data",
          "data": {
            "text/markdown": "---",
            "text/plain": [
              "<IPython.core.display.Markdown object>"
            ]
          },
          "metadata": {
            "tags": []
          }
        },
        {
          "output_type": "display_data",
          "data": {
            "text/markdown": "\n- Total number projects: 12\n    - Drafts:    1\n    - Published: 11 \n    - Archived:  0\n- Completed projects (100% mapped & validated): 0\n- Average % mapped across all projects: 81.4 %\n- Average % validated across all projects: 22.3 %\n",
            "text/plain": [
              "<IPython.core.display.Markdown object>"
            ]
          },
          "metadata": {
            "tags": []
          }
        },
        {
          "output_type": "display_data",
          "data": {
            "text/markdown": "---",
            "text/plain": [
              "<IPython.core.display.Markdown object>"
            ]
          },
          "metadata": {
            "tags": []
          }
        },
        {
          "output_type": "display_data",
          "data": {
            "text/html": [
              "<style  type=\"text/css\" >\n",
              "#T_15bb65f4_03d0_11eb_967b_0242ac1c0002row0_col2,#T_15bb65f4_03d0_11eb_967b_0242ac1c0002row1_col2,#T_15bb65f4_03d0_11eb_967b_0242ac1c0002row2_col2,#T_15bb65f4_03d0_11eb_967b_0242ac1c0002row3_col2,#T_15bb65f4_03d0_11eb_967b_0242ac1c0002row4_col2,#T_15bb65f4_03d0_11eb_967b_0242ac1c0002row6_col2,#T_15bb65f4_03d0_11eb_967b_0242ac1c0002row7_col2,#T_15bb65f4_03d0_11eb_967b_0242ac1c0002row7_col3,#T_15bb65f4_03d0_11eb_967b_0242ac1c0002row8_col2{\n",
              "            background-color:  #53ae62;\n",
              "            color:  #000000;\n",
              "        }#T_15bb65f4_03d0_11eb_967b_0242ac1c0002row0_col3,#T_15bb65f4_03d0_11eb_967b_0242ac1c0002row6_col3{\n",
              "            background-color:  #e0a829;\n",
              "            color:  #000000;\n",
              "        }#T_15bb65f4_03d0_11eb_967b_0242ac1c0002row0_col5,#T_15bb65f4_03d0_11eb_967b_0242ac1c0002row1_col5,#T_15bb65f4_03d0_11eb_967b_0242ac1c0002row2_col5,#T_15bb65f4_03d0_11eb_967b_0242ac1c0002row3_col5,#T_15bb65f4_03d0_11eb_967b_0242ac1c0002row4_col5,#T_15bb65f4_03d0_11eb_967b_0242ac1c0002row5_col5,#T_15bb65f4_03d0_11eb_967b_0242ac1c0002row6_col5,#T_15bb65f4_03d0_11eb_967b_0242ac1c0002row7_col5,#T_15bb65f4_03d0_11eb_967b_0242ac1c0002row8_col5,#T_15bb65f4_03d0_11eb_967b_0242ac1c0002row9_col5,#T_15bb65f4_03d0_11eb_967b_0242ac1c0002row11_col5{\n",
              "            background-color:  #53AE62;\n",
              "        }#T_15bb65f4_03d0_11eb_967b_0242ac1c0002row0_col6,#T_15bb65f4_03d0_11eb_967b_0242ac1c0002row1_col6,#T_15bb65f4_03d0_11eb_967b_0242ac1c0002row2_col6,#T_15bb65f4_03d0_11eb_967b_0242ac1c0002row3_col6,#T_15bb65f4_03d0_11eb_967b_0242ac1c0002row4_col6,#T_15bb65f4_03d0_11eb_967b_0242ac1c0002row5_col6,#T_15bb65f4_03d0_11eb_967b_0242ac1c0002row6_col6,#T_15bb65f4_03d0_11eb_967b_0242ac1c0002row7_col6,#T_15bb65f4_03d0_11eb_967b_0242ac1c0002row8_col6,#T_15bb65f4_03d0_11eb_967b_0242ac1c0002row9_col6,#T_15bb65f4_03d0_11eb_967b_0242ac1c0002row10_col6,#T_15bb65f4_03d0_11eb_967b_0242ac1c0002row11_col6{\n",
              "            background-color:  #E1E0E0;\n",
              "        }#T_15bb65f4_03d0_11eb_967b_0242ac1c0002row1_col3,#T_15bb65f4_03d0_11eb_967b_0242ac1c0002row2_col3{\n",
              "            background-color:  #e66b31;\n",
              "            color:  #000000;\n",
              "        }#T_15bb65f4_03d0_11eb_967b_0242ac1c0002row3_col3{\n",
              "            background-color:  #f18c27;\n",
              "            color:  #000000;\n",
              "        }#T_15bb65f4_03d0_11eb_967b_0242ac1c0002row4_col3{\n",
              "            background-color:  #de5538;\n",
              "            color:  #000000;\n",
              "        }#T_15bb65f4_03d0_11eb_967b_0242ac1c0002row5_col2{\n",
              "            background-color:  #65ad5b;\n",
              "            color:  #000000;\n",
              "        }#T_15bb65f4_03d0_11eb_967b_0242ac1c0002row5_col3{\n",
              "            background-color:  #e9762e;\n",
              "            color:  #000000;\n",
              "        }#T_15bb65f4_03d0_11eb_967b_0242ac1c0002row8_col3{\n",
              "            background-color:  #e26035;\n",
              "            color:  #000000;\n",
              "        }#T_15bb65f4_03d0_11eb_967b_0242ac1c0002row9_col2{\n",
              "            background-color:  #76ad54;\n",
              "            color:  #000000;\n",
              "        }#T_15bb65f4_03d0_11eb_967b_0242ac1c0002row9_col3,#T_15bb65f4_03d0_11eb_967b_0242ac1c0002row10_col2,#T_15bb65f4_03d0_11eb_967b_0242ac1c0002row10_col3,#T_15bb65f4_03d0_11eb_967b_0242ac1c0002row11_col2,#T_15bb65f4_03d0_11eb_967b_0242ac1c0002row11_col3{\n",
              "            background-color:  #d73f3f;\n",
              "            color:  #f1f1f1;\n",
              "        }#T_15bb65f4_03d0_11eb_967b_0242ac1c0002row10_col5{\n",
              "            background-color:  #FAA71E;\n",
              "        }</style><table id=\"T_15bb65f4_03d0_11eb_967b_0242ac1c0002\" ><thead>    <tr>        <th class=\"blank level0\" ></th>        <th class=\"col_heading level0 col0\" >projectId</th>        <th class=\"col_heading level0 col1\" >name</th>        <th class=\"col_heading level0 col2\" >percentMapped</th>        <th class=\"col_heading level0 col3\" >percentValidated</th>        <th class=\"col_heading level0 col4\" >mapperLevel</th>        <th class=\"col_heading level0 col5\" >status</th>        <th class=\"col_heading level0 col6\" >priority</th>    </tr></thead><tbody>\n",
              "                <tr>\n",
              "                        <th id=\"T_15bb65f4_03d0_11eb_967b_0242ac1c0002level0_row0\" class=\"row_heading level0 row0\" >117</th>\n",
              "                        <td id=\"T_15bb65f4_03d0_11eb_967b_0242ac1c0002row0_col0\" class=\"data row0 col0\" >7213</td>\n",
              "                        <td id=\"T_15bb65f4_03d0_11eb_967b_0242ac1c0002row0_col1\" class=\"data row0 col1\" >ZuunModMapathon2020</td>\n",
              "                        <td id=\"T_15bb65f4_03d0_11eb_967b_0242ac1c0002row0_col2\" class=\"data row0 col2\" >100</td>\n",
              "                        <td id=\"T_15bb65f4_03d0_11eb_967b_0242ac1c0002row0_col3\" class=\"data row0 col3\" >45</td>\n",
              "                        <td id=\"T_15bb65f4_03d0_11eb_967b_0242ac1c0002row0_col4\" class=\"data row0 col4\" >BEGINNER</td>\n",
              "                        <td id=\"T_15bb65f4_03d0_11eb_967b_0242ac1c0002row0_col5\" class=\"data row0 col5\" >PUBLISHED</td>\n",
              "                        <td id=\"T_15bb65f4_03d0_11eb_967b_0242ac1c0002row0_col6\" class=\"data row0 col6\" >LOW</td>\n",
              "            </tr>\n",
              "            <tr>\n",
              "                        <th id=\"T_15bb65f4_03d0_11eb_967b_0242ac1c0002level0_row1\" class=\"row_heading level0 row1\" >120</th>\n",
              "                        <td id=\"T_15bb65f4_03d0_11eb_967b_0242ac1c0002row1_col0\" class=\"data row1 col0\" >7485</td>\n",
              "                        <td id=\"T_15bb65f4_03d0_11eb_967b_0242ac1c0002row1_col1\" class=\"data row1 col1\" >MurunMapathon2020</td>\n",
              "                        <td id=\"T_15bb65f4_03d0_11eb_967b_0242ac1c0002row1_col2\" class=\"data row1 col2\" >100</td>\n",
              "                        <td id=\"T_15bb65f4_03d0_11eb_967b_0242ac1c0002row1_col3\" class=\"data row1 col3\" >17</td>\n",
              "                        <td id=\"T_15bb65f4_03d0_11eb_967b_0242ac1c0002row1_col4\" class=\"data row1 col4\" >BEGINNER</td>\n",
              "                        <td id=\"T_15bb65f4_03d0_11eb_967b_0242ac1c0002row1_col5\" class=\"data row1 col5\" >PUBLISHED</td>\n",
              "                        <td id=\"T_15bb65f4_03d0_11eb_967b_0242ac1c0002row1_col6\" class=\"data row1 col6\" >LOW</td>\n",
              "            </tr>\n",
              "            <tr>\n",
              "                        <th id=\"T_15bb65f4_03d0_11eb_967b_0242ac1c0002level0_row2\" class=\"row_heading level0 row2\" >180</th>\n",
              "                        <td id=\"T_15bb65f4_03d0_11eb_967b_0242ac1c0002row2_col0\" class=\"data row2 col0\" >8318</td>\n",
              "                        <td id=\"T_15bb65f4_03d0_11eb_967b_0242ac1c0002row2_col1\" class=\"data row2 col1\" >UndurKhaanMapathon2020</td>\n",
              "                        <td id=\"T_15bb65f4_03d0_11eb_967b_0242ac1c0002row2_col2\" class=\"data row2 col2\" >100</td>\n",
              "                        <td id=\"T_15bb65f4_03d0_11eb_967b_0242ac1c0002row2_col3\" class=\"data row2 col3\" >16</td>\n",
              "                        <td id=\"T_15bb65f4_03d0_11eb_967b_0242ac1c0002row2_col4\" class=\"data row2 col4\" >BEGINNER</td>\n",
              "                        <td id=\"T_15bb65f4_03d0_11eb_967b_0242ac1c0002row2_col5\" class=\"data row2 col5\" >PUBLISHED</td>\n",
              "                        <td id=\"T_15bb65f4_03d0_11eb_967b_0242ac1c0002row2_col6\" class=\"data row2 col6\" >LOW</td>\n",
              "            </tr>\n",
              "            <tr>\n",
              "                        <th id=\"T_15bb65f4_03d0_11eb_967b_0242ac1c0002level0_row3\" class=\"row_heading level0 row3\" >181</th>\n",
              "                        <td id=\"T_15bb65f4_03d0_11eb_967b_0242ac1c0002row3_col0\" class=\"data row3 col0\" >8320</td>\n",
              "                        <td id=\"T_15bb65f4_03d0_11eb_967b_0242ac1c0002row3_col1\" class=\"data row3 col1\" >BaruunUrtMapathon2020</td>\n",
              "                        <td id=\"T_15bb65f4_03d0_11eb_967b_0242ac1c0002row3_col2\" class=\"data row3 col2\" >100</td>\n",
              "                        <td id=\"T_15bb65f4_03d0_11eb_967b_0242ac1c0002row3_col3\" class=\"data row3 col3\" >29</td>\n",
              "                        <td id=\"T_15bb65f4_03d0_11eb_967b_0242ac1c0002row3_col4\" class=\"data row3 col4\" >BEGINNER</td>\n",
              "                        <td id=\"T_15bb65f4_03d0_11eb_967b_0242ac1c0002row3_col5\" class=\"data row3 col5\" >PUBLISHED</td>\n",
              "                        <td id=\"T_15bb65f4_03d0_11eb_967b_0242ac1c0002row3_col6\" class=\"data row3 col6\" >LOW</td>\n",
              "            </tr>\n",
              "            <tr>\n",
              "                        <th id=\"T_15bb65f4_03d0_11eb_967b_0242ac1c0002level0_row4\" class=\"row_heading level0 row4\" >213</th>\n",
              "                        <td id=\"T_15bb65f4_03d0_11eb_967b_0242ac1c0002row4_col0\" class=\"data row4 col0\" >8460</td>\n",
              "                        <td id=\"T_15bb65f4_03d0_11eb_967b_0242ac1c0002row4_col1\" class=\"data row4 col1\" >DarkhanMapathon2020</td>\n",
              "                        <td id=\"T_15bb65f4_03d0_11eb_967b_0242ac1c0002row4_col2\" class=\"data row4 col2\" >100</td>\n",
              "                        <td id=\"T_15bb65f4_03d0_11eb_967b_0242ac1c0002row4_col3\" class=\"data row4 col3\" >10</td>\n",
              "                        <td id=\"T_15bb65f4_03d0_11eb_967b_0242ac1c0002row4_col4\" class=\"data row4 col4\" >BEGINNER</td>\n",
              "                        <td id=\"T_15bb65f4_03d0_11eb_967b_0242ac1c0002row4_col5\" class=\"data row4 col5\" >PUBLISHED</td>\n",
              "                        <td id=\"T_15bb65f4_03d0_11eb_967b_0242ac1c0002row4_col6\" class=\"data row4 col6\" >LOW</td>\n",
              "            </tr>\n",
              "            <tr>\n",
              "                        <th id=\"T_15bb65f4_03d0_11eb_967b_0242ac1c0002level0_row5\" class=\"row_heading level0 row5\" >214</th>\n",
              "                        <td id=\"T_15bb65f4_03d0_11eb_967b_0242ac1c0002row5_col0\" class=\"data row5 col0\" >8461</td>\n",
              "                        <td id=\"T_15bb65f4_03d0_11eb_967b_0242ac1c0002row5_col1\" class=\"data row5 col1\" >UlaangomMapathon2020</td>\n",
              "                        <td id=\"T_15bb65f4_03d0_11eb_967b_0242ac1c0002row5_col2\" class=\"data row5 col2\" >90</td>\n",
              "                        <td id=\"T_15bb65f4_03d0_11eb_967b_0242ac1c0002row5_col3\" class=\"data row5 col3\" >21</td>\n",
              "                        <td id=\"T_15bb65f4_03d0_11eb_967b_0242ac1c0002row5_col4\" class=\"data row5 col4\" >BEGINNER</td>\n",
              "                        <td id=\"T_15bb65f4_03d0_11eb_967b_0242ac1c0002row5_col5\" class=\"data row5 col5\" >PUBLISHED</td>\n",
              "                        <td id=\"T_15bb65f4_03d0_11eb_967b_0242ac1c0002row5_col6\" class=\"data row5 col6\" >LOW</td>\n",
              "            </tr>\n",
              "            <tr>\n",
              "                        <th id=\"T_15bb65f4_03d0_11eb_967b_0242ac1c0002level0_row6\" class=\"row_heading level0 row6\" >215</th>\n",
              "                        <td id=\"T_15bb65f4_03d0_11eb_967b_0242ac1c0002row6_col0\" class=\"data row6 col0\" >8462</td>\n",
              "                        <td id=\"T_15bb65f4_03d0_11eb_967b_0242ac1c0002row6_col1\" class=\"data row6 col1\" >SainshandMapathon2020</td>\n",
              "                        <td id=\"T_15bb65f4_03d0_11eb_967b_0242ac1c0002row6_col2\" class=\"data row6 col2\" >100</td>\n",
              "                        <td id=\"T_15bb65f4_03d0_11eb_967b_0242ac1c0002row6_col3\" class=\"data row6 col3\" >42</td>\n",
              "                        <td id=\"T_15bb65f4_03d0_11eb_967b_0242ac1c0002row6_col4\" class=\"data row6 col4\" >BEGINNER</td>\n",
              "                        <td id=\"T_15bb65f4_03d0_11eb_967b_0242ac1c0002row6_col5\" class=\"data row6 col5\" >PUBLISHED</td>\n",
              "                        <td id=\"T_15bb65f4_03d0_11eb_967b_0242ac1c0002row6_col6\" class=\"data row6 col6\" >LOW</td>\n",
              "            </tr>\n",
              "            <tr>\n",
              "                        <th id=\"T_15bb65f4_03d0_11eb_967b_0242ac1c0002level0_row7\" class=\"row_heading level0 row7\" >216</th>\n",
              "                        <td id=\"T_15bb65f4_03d0_11eb_967b_0242ac1c0002row7_col0\" class=\"data row7 col0\" >8463</td>\n",
              "                        <td id=\"T_15bb65f4_03d0_11eb_967b_0242ac1c0002row7_col1\" class=\"data row7 col1\" >UliastaiMapathon2020</td>\n",
              "                        <td id=\"T_15bb65f4_03d0_11eb_967b_0242ac1c0002row7_col2\" class=\"data row7 col2\" >100</td>\n",
              "                        <td id=\"T_15bb65f4_03d0_11eb_967b_0242ac1c0002row7_col3\" class=\"data row7 col3\" >76</td>\n",
              "                        <td id=\"T_15bb65f4_03d0_11eb_967b_0242ac1c0002row7_col4\" class=\"data row7 col4\" >BEGINNER</td>\n",
              "                        <td id=\"T_15bb65f4_03d0_11eb_967b_0242ac1c0002row7_col5\" class=\"data row7 col5\" >PUBLISHED</td>\n",
              "                        <td id=\"T_15bb65f4_03d0_11eb_967b_0242ac1c0002row7_col6\" class=\"data row7 col6\" >LOW</td>\n",
              "            </tr>\n",
              "            <tr>\n",
              "                        <th id=\"T_15bb65f4_03d0_11eb_967b_0242ac1c0002level0_row8\" class=\"row_heading level0 row8\" >217</th>\n",
              "                        <td id=\"T_15bb65f4_03d0_11eb_967b_0242ac1c0002row8_col0\" class=\"data row8 col0\" >8464</td>\n",
              "                        <td id=\"T_15bb65f4_03d0_11eb_967b_0242ac1c0002row8_col1\" class=\"data row8 col1\" >SukhbaatarMapathon2020</td>\n",
              "                        <td id=\"T_15bb65f4_03d0_11eb_967b_0242ac1c0002row8_col2\" class=\"data row8 col2\" >98</td>\n",
              "                        <td id=\"T_15bb65f4_03d0_11eb_967b_0242ac1c0002row8_col3\" class=\"data row8 col3\" >12</td>\n",
              "                        <td id=\"T_15bb65f4_03d0_11eb_967b_0242ac1c0002row8_col4\" class=\"data row8 col4\" >BEGINNER</td>\n",
              "                        <td id=\"T_15bb65f4_03d0_11eb_967b_0242ac1c0002row8_col5\" class=\"data row8 col5\" >PUBLISHED</td>\n",
              "                        <td id=\"T_15bb65f4_03d0_11eb_967b_0242ac1c0002row8_col6\" class=\"data row8 col6\" >LOW</td>\n",
              "            </tr>\n",
              "            <tr>\n",
              "                        <th id=\"T_15bb65f4_03d0_11eb_967b_0242ac1c0002level0_row9\" class=\"row_heading level0 row9\" >225</th>\n",
              "                        <td id=\"T_15bb65f4_03d0_11eb_967b_0242ac1c0002row9_col0\" class=\"data row9 col0\" >8473</td>\n",
              "                        <td id=\"T_15bb65f4_03d0_11eb_967b_0242ac1c0002row9_col1\" class=\"data row9 col1\" >TsetserlegMapathon2020</td>\n",
              "                        <td id=\"T_15bb65f4_03d0_11eb_967b_0242ac1c0002row9_col2\" class=\"data row9 col2\" >88</td>\n",
              "                        <td id=\"T_15bb65f4_03d0_11eb_967b_0242ac1c0002row9_col3\" class=\"data row9 col3\" >0</td>\n",
              "                        <td id=\"T_15bb65f4_03d0_11eb_967b_0242ac1c0002row9_col4\" class=\"data row9 col4\" >BEGINNER</td>\n",
              "                        <td id=\"T_15bb65f4_03d0_11eb_967b_0242ac1c0002row9_col5\" class=\"data row9 col5\" >PUBLISHED</td>\n",
              "                        <td id=\"T_15bb65f4_03d0_11eb_967b_0242ac1c0002row9_col6\" class=\"data row9 col6\" >LOW</td>\n",
              "            </tr>\n",
              "            <tr>\n",
              "                        <th id=\"T_15bb65f4_03d0_11eb_967b_0242ac1c0002level0_row10\" class=\"row_heading level0 row10\" >331</th>\n",
              "                        <td id=\"T_15bb65f4_03d0_11eb_967b_0242ac1c0002row10_col0\" class=\"data row10 col0\" >9369</td>\n",
              "                        <td id=\"T_15bb65f4_03d0_11eb_967b_0242ac1c0002row10_col1\" class=\"data row10 col1\" >ZuunModMapathon2020</td>\n",
              "                        <td id=\"T_15bb65f4_03d0_11eb_967b_0242ac1c0002row10_col2\" class=\"data row10 col2\" >0</td>\n",
              "                        <td id=\"T_15bb65f4_03d0_11eb_967b_0242ac1c0002row10_col3\" class=\"data row10 col3\" >0</td>\n",
              "                        <td id=\"T_15bb65f4_03d0_11eb_967b_0242ac1c0002row10_col4\" class=\"data row10 col4\" >BEGINNER</td>\n",
              "                        <td id=\"T_15bb65f4_03d0_11eb_967b_0242ac1c0002row10_col5\" class=\"data row10 col5\" >DRAFT</td>\n",
              "                        <td id=\"T_15bb65f4_03d0_11eb_967b_0242ac1c0002row10_col6\" class=\"data row10 col6\" >LOW</td>\n",
              "            </tr>\n",
              "            <tr>\n",
              "                        <th id=\"T_15bb65f4_03d0_11eb_967b_0242ac1c0002level0_row11\" class=\"row_heading level0 row11\" >332</th>\n",
              "                        <td id=\"T_15bb65f4_03d0_11eb_967b_0242ac1c0002row11_col0\" class=\"data row11 col0\" >9370</td>\n",
              "                        <td id=\"T_15bb65f4_03d0_11eb_967b_0242ac1c0002row11_col1\" class=\"data row11 col1\" >GeoVolunteerUB2020</td>\n",
              "                        <td id=\"T_15bb65f4_03d0_11eb_967b_0242ac1c0002row11_col2\" class=\"data row11 col2\" >1</td>\n",
              "                        <td id=\"T_15bb65f4_03d0_11eb_967b_0242ac1c0002row11_col3\" class=\"data row11 col3\" >0</td>\n",
              "                        <td id=\"T_15bb65f4_03d0_11eb_967b_0242ac1c0002row11_col4\" class=\"data row11 col4\" >BEGINNER</td>\n",
              "                        <td id=\"T_15bb65f4_03d0_11eb_967b_0242ac1c0002row11_col5\" class=\"data row11 col5\" >PUBLISHED</td>\n",
              "                        <td id=\"T_15bb65f4_03d0_11eb_967b_0242ac1c0002row11_col6\" class=\"data row11 col6\" >LOW</td>\n",
              "            </tr>\n",
              "    </tbody></table>"
            ],
            "text/plain": [
              "<pandas.io.formats.style.Styler at 0x7f42abb84f28>"
            ]
          },
          "metadata": {
            "tags": []
          }
        },
        {
          "output_type": "display_data",
          "data": {
            "text/markdown": "## Nepal",
            "text/plain": [
              "<IPython.core.display.Markdown object>"
            ]
          },
          "metadata": {
            "tags": []
          }
        },
        {
          "output_type": "display_data",
          "data": {
            "text/markdown": "---",
            "text/plain": [
              "<IPython.core.display.Markdown object>"
            ]
          },
          "metadata": {
            "tags": []
          }
        },
        {
          "output_type": "display_data",
          "data": {
            "text/markdown": "\n- Total number projects: 1\n    - Drafts:    0\n    - Published: 1 \n    - Archived:  0\n- Completed projects (100% mapped & validated): 0\n- Average % mapped across all projects: 68.0 %\n- Average % validated across all projects: 6.0 %\n",
            "text/plain": [
              "<IPython.core.display.Markdown object>"
            ]
          },
          "metadata": {
            "tags": []
          }
        },
        {
          "output_type": "display_data",
          "data": {
            "text/markdown": "---",
            "text/plain": [
              "<IPython.core.display.Markdown object>"
            ]
          },
          "metadata": {
            "tags": []
          }
        },
        {
          "output_type": "display_data",
          "data": {
            "text/html": [
              "<style  type=\"text/css\" >\n",
              "#T_15c1eeb0_03d0_11eb_967b_0242ac1c0002row0_col2,#T_15c1eeb0_03d0_11eb_967b_0242ac1c0002row0_col3{\n",
              "            background-color:  #d73f3f;\n",
              "            color:  #f1f1f1;\n",
              "        }#T_15c1eeb0_03d0_11eb_967b_0242ac1c0002row0_col5{\n",
              "            background-color:  #53AE62;\n",
              "        }#T_15c1eeb0_03d0_11eb_967b_0242ac1c0002row0_col6{\n",
              "            background-color:  #FAA71E;\n",
              "        }</style><table id=\"T_15c1eeb0_03d0_11eb_967b_0242ac1c0002\" ><thead>    <tr>        <th class=\"blank level0\" ></th>        <th class=\"col_heading level0 col0\" >projectId</th>        <th class=\"col_heading level0 col1\" >name</th>        <th class=\"col_heading level0 col2\" >percentMapped</th>        <th class=\"col_heading level0 col3\" >percentValidated</th>        <th class=\"col_heading level0 col4\" >mapperLevel</th>        <th class=\"col_heading level0 col5\" >status</th>        <th class=\"col_heading level0 col6\" >priority</th>    </tr></thead><tbody>\n",
              "                <tr>\n",
              "                        <th id=\"T_15c1eeb0_03d0_11eb_967b_0242ac1c0002level0_row0\" class=\"row_heading level0 row0\" >13</th>\n",
              "                        <td id=\"T_15c1eeb0_03d0_11eb_967b_0242ac1c0002row0_col0\" class=\"data row0 col0\" >8942</td>\n",
              "                        <td id=\"T_15c1eeb0_03d0_11eb_967b_0242ac1c0002row0_col1\" class=\"data row0 col1\" >Mapping the Unmapped in Province 2 of Nepal</td>\n",
              "                        <td id=\"T_15c1eeb0_03d0_11eb_967b_0242ac1c0002row0_col2\" class=\"data row0 col2\" >68</td>\n",
              "                        <td id=\"T_15c1eeb0_03d0_11eb_967b_0242ac1c0002row0_col3\" class=\"data row0 col3\" >6</td>\n",
              "                        <td id=\"T_15c1eeb0_03d0_11eb_967b_0242ac1c0002row0_col4\" class=\"data row0 col4\" >INTERMEDIATE</td>\n",
              "                        <td id=\"T_15c1eeb0_03d0_11eb_967b_0242ac1c0002row0_col5\" class=\"data row0 col5\" >PUBLISHED</td>\n",
              "                        <td id=\"T_15c1eeb0_03d0_11eb_967b_0242ac1c0002row0_col6\" class=\"data row0 col6\" >HIGH</td>\n",
              "            </tr>\n",
              "    </tbody></table>"
            ],
            "text/plain": [
              "<pandas.io.formats.style.Styler at 0x7f42abb9eac8>"
            ]
          },
          "metadata": {
            "tags": []
          }
        },
        {
          "output_type": "display_data",
          "data": {
            "text/markdown": "## Nigeria",
            "text/plain": [
              "<IPython.core.display.Markdown object>"
            ]
          },
          "metadata": {
            "tags": []
          }
        },
        {
          "output_type": "display_data",
          "data": {
            "text/markdown": "---",
            "text/plain": [
              "<IPython.core.display.Markdown object>"
            ]
          },
          "metadata": {
            "tags": []
          }
        },
        {
          "output_type": "display_data",
          "data": {
            "text/markdown": "\n- Total number projects: 1\n    - Drafts:    0\n    - Published: 1 \n    - Archived:  0\n- Completed projects (100% mapped & validated): 0\n- Average % mapped across all projects: 31.0 %\n- Average % validated across all projects: 0.0 %\n",
            "text/plain": [
              "<IPython.core.display.Markdown object>"
            ]
          },
          "metadata": {
            "tags": []
          }
        },
        {
          "output_type": "display_data",
          "data": {
            "text/markdown": "---",
            "text/plain": [
              "<IPython.core.display.Markdown object>"
            ]
          },
          "metadata": {
            "tags": []
          }
        },
        {
          "output_type": "display_data",
          "data": {
            "text/html": [
              "<style  type=\"text/css\" >\n",
              "#T_15c783b6_03d0_11eb_967b_0242ac1c0002row0_col2,#T_15c783b6_03d0_11eb_967b_0242ac1c0002row0_col3{\n",
              "            background-color:  #d73f3f;\n",
              "            color:  #f1f1f1;\n",
              "        }#T_15c783b6_03d0_11eb_967b_0242ac1c0002row0_col5,#T_15c783b6_03d0_11eb_967b_0242ac1c0002row0_col6{\n",
              "            background-color:  #53AE62;\n",
              "        }</style><table id=\"T_15c783b6_03d0_11eb_967b_0242ac1c0002\" ><thead>    <tr>        <th class=\"blank level0\" ></th>        <th class=\"col_heading level0 col0\" >projectId</th>        <th class=\"col_heading level0 col1\" >name</th>        <th class=\"col_heading level0 col2\" >percentMapped</th>        <th class=\"col_heading level0 col3\" >percentValidated</th>        <th class=\"col_heading level0 col4\" >mapperLevel</th>        <th class=\"col_heading level0 col5\" >status</th>        <th class=\"col_heading level0 col6\" >priority</th>    </tr></thead><tbody>\n",
              "                <tr>\n",
              "                        <th id=\"T_15c783b6_03d0_11eb_967b_0242ac1c0002level0_row0\" class=\"row_heading level0 row0\" >93</th>\n",
              "                        <td id=\"T_15c783b6_03d0_11eb_967b_0242ac1c0002row0_col0\" class=\"data row0 col0\" >9068</td>\n",
              "                        <td id=\"T_15c783b6_03d0_11eb_967b_0242ac1c0002row0_col1\" class=\"data row0 col1\" >COVID-19: Maiduguri Metropolis, Northeast Nigeria</td>\n",
              "                        <td id=\"T_15c783b6_03d0_11eb_967b_0242ac1c0002row0_col2\" class=\"data row0 col2\" >31</td>\n",
              "                        <td id=\"T_15c783b6_03d0_11eb_967b_0242ac1c0002row0_col3\" class=\"data row0 col3\" >0</td>\n",
              "                        <td id=\"T_15c783b6_03d0_11eb_967b_0242ac1c0002row0_col4\" class=\"data row0 col4\" >BEGINNER</td>\n",
              "                        <td id=\"T_15c783b6_03d0_11eb_967b_0242ac1c0002row0_col5\" class=\"data row0 col5\" >PUBLISHED</td>\n",
              "                        <td id=\"T_15c783b6_03d0_11eb_967b_0242ac1c0002row0_col6\" class=\"data row0 col6\" >MEDIUM</td>\n",
              "            </tr>\n",
              "    </tbody></table>"
            ],
            "text/plain": [
              "<pandas.io.formats.style.Styler at 0x7f42abb33c88>"
            ]
          },
          "metadata": {
            "tags": []
          }
        },
        {
          "output_type": "display_data",
          "data": {
            "text/markdown": "## Peru",
            "text/plain": [
              "<IPython.core.display.Markdown object>"
            ]
          },
          "metadata": {
            "tags": []
          }
        },
        {
          "output_type": "display_data",
          "data": {
            "text/markdown": "---",
            "text/plain": [
              "<IPython.core.display.Markdown object>"
            ]
          },
          "metadata": {
            "tags": []
          }
        },
        {
          "output_type": "display_data",
          "data": {
            "text/markdown": "\n- Total number projects: 106\n    - Drafts:    0\n    - Published: 16 \n    - Archived:  90\n- Completed projects (100% mapped & validated): 87\n- Average % mapped across all projects: 99.7 %\n- Average % validated across all projects: 98.5 %\n",
            "text/plain": [
              "<IPython.core.display.Markdown object>"
            ]
          },
          "metadata": {
            "tags": []
          }
        },
        {
          "output_type": "display_data",
          "data": {
            "text/markdown": "---",
            "text/plain": [
              "<IPython.core.display.Markdown object>"
            ]
          },
          "metadata": {
            "tags": []
          }
        },
        {
          "output_type": "display_data",
          "data": {
            "text/html": [
              "<style  type=\"text/css\" >\n",
              "#T_15cf45ec_03d0_11eb_967b_0242ac1c0002row0_col2,#T_15cf45ec_03d0_11eb_967b_0242ac1c0002row0_col3,#T_15cf45ec_03d0_11eb_967b_0242ac1c0002row1_col2,#T_15cf45ec_03d0_11eb_967b_0242ac1c0002row1_col3,#T_15cf45ec_03d0_11eb_967b_0242ac1c0002row2_col2,#T_15cf45ec_03d0_11eb_967b_0242ac1c0002row2_col3,#T_15cf45ec_03d0_11eb_967b_0242ac1c0002row3_col2,#T_15cf45ec_03d0_11eb_967b_0242ac1c0002row3_col3,#T_15cf45ec_03d0_11eb_967b_0242ac1c0002row4_col2,#T_15cf45ec_03d0_11eb_967b_0242ac1c0002row4_col3,#T_15cf45ec_03d0_11eb_967b_0242ac1c0002row5_col2,#T_15cf45ec_03d0_11eb_967b_0242ac1c0002row5_col3,#T_15cf45ec_03d0_11eb_967b_0242ac1c0002row6_col2,#T_15cf45ec_03d0_11eb_967b_0242ac1c0002row6_col3,#T_15cf45ec_03d0_11eb_967b_0242ac1c0002row7_col2,#T_15cf45ec_03d0_11eb_967b_0242ac1c0002row7_col3,#T_15cf45ec_03d0_11eb_967b_0242ac1c0002row8_col2,#T_15cf45ec_03d0_11eb_967b_0242ac1c0002row8_col3,#T_15cf45ec_03d0_11eb_967b_0242ac1c0002row9_col2,#T_15cf45ec_03d0_11eb_967b_0242ac1c0002row9_col3,#T_15cf45ec_03d0_11eb_967b_0242ac1c0002row10_col2,#T_15cf45ec_03d0_11eb_967b_0242ac1c0002row10_col3,#T_15cf45ec_03d0_11eb_967b_0242ac1c0002row11_col2,#T_15cf45ec_03d0_11eb_967b_0242ac1c0002row11_col3,#T_15cf45ec_03d0_11eb_967b_0242ac1c0002row12_col2,#T_15cf45ec_03d0_11eb_967b_0242ac1c0002row12_col3,#T_15cf45ec_03d0_11eb_967b_0242ac1c0002row13_col2,#T_15cf45ec_03d0_11eb_967b_0242ac1c0002row13_col3,#T_15cf45ec_03d0_11eb_967b_0242ac1c0002row14_col3,#T_15cf45ec_03d0_11eb_967b_0242ac1c0002row15_col2,#T_15cf45ec_03d0_11eb_967b_0242ac1c0002row15_col3,#T_15cf45ec_03d0_11eb_967b_0242ac1c0002row16_col2,#T_15cf45ec_03d0_11eb_967b_0242ac1c0002row16_col3,#T_15cf45ec_03d0_11eb_967b_0242ac1c0002row17_col2,#T_15cf45ec_03d0_11eb_967b_0242ac1c0002row17_col3,#T_15cf45ec_03d0_11eb_967b_0242ac1c0002row18_col2,#T_15cf45ec_03d0_11eb_967b_0242ac1c0002row18_col3,#T_15cf45ec_03d0_11eb_967b_0242ac1c0002row19_col2,#T_15cf45ec_03d0_11eb_967b_0242ac1c0002row19_col3,#T_15cf45ec_03d0_11eb_967b_0242ac1c0002row20_col3,#T_15cf45ec_03d0_11eb_967b_0242ac1c0002row21_col3,#T_15cf45ec_03d0_11eb_967b_0242ac1c0002row22_col2,#T_15cf45ec_03d0_11eb_967b_0242ac1c0002row22_col3,#T_15cf45ec_03d0_11eb_967b_0242ac1c0002row23_col2,#T_15cf45ec_03d0_11eb_967b_0242ac1c0002row23_col3,#T_15cf45ec_03d0_11eb_967b_0242ac1c0002row24_col3,#T_15cf45ec_03d0_11eb_967b_0242ac1c0002row25_col2,#T_15cf45ec_03d0_11eb_967b_0242ac1c0002row25_col3,#T_15cf45ec_03d0_11eb_967b_0242ac1c0002row26_col2,#T_15cf45ec_03d0_11eb_967b_0242ac1c0002row26_col3,#T_15cf45ec_03d0_11eb_967b_0242ac1c0002row27_col2,#T_15cf45ec_03d0_11eb_967b_0242ac1c0002row27_col3,#T_15cf45ec_03d0_11eb_967b_0242ac1c0002row28_col2,#T_15cf45ec_03d0_11eb_967b_0242ac1c0002row28_col3,#T_15cf45ec_03d0_11eb_967b_0242ac1c0002row29_col2,#T_15cf45ec_03d0_11eb_967b_0242ac1c0002row29_col3,#T_15cf45ec_03d0_11eb_967b_0242ac1c0002row30_col2,#T_15cf45ec_03d0_11eb_967b_0242ac1c0002row30_col3,#T_15cf45ec_03d0_11eb_967b_0242ac1c0002row31_col2,#T_15cf45ec_03d0_11eb_967b_0242ac1c0002row31_col3,#T_15cf45ec_03d0_11eb_967b_0242ac1c0002row32_col2,#T_15cf45ec_03d0_11eb_967b_0242ac1c0002row32_col3,#T_15cf45ec_03d0_11eb_967b_0242ac1c0002row33_col2,#T_15cf45ec_03d0_11eb_967b_0242ac1c0002row33_col3,#T_15cf45ec_03d0_11eb_967b_0242ac1c0002row34_col2,#T_15cf45ec_03d0_11eb_967b_0242ac1c0002row34_col3,#T_15cf45ec_03d0_11eb_967b_0242ac1c0002row35_col2,#T_15cf45ec_03d0_11eb_967b_0242ac1c0002row35_col3,#T_15cf45ec_03d0_11eb_967b_0242ac1c0002row36_col2,#T_15cf45ec_03d0_11eb_967b_0242ac1c0002row36_col3,#T_15cf45ec_03d0_11eb_967b_0242ac1c0002row37_col2,#T_15cf45ec_03d0_11eb_967b_0242ac1c0002row37_col3,#T_15cf45ec_03d0_11eb_967b_0242ac1c0002row38_col2,#T_15cf45ec_03d0_11eb_967b_0242ac1c0002row38_col3,#T_15cf45ec_03d0_11eb_967b_0242ac1c0002row39_col3,#T_15cf45ec_03d0_11eb_967b_0242ac1c0002row41_col2,#T_15cf45ec_03d0_11eb_967b_0242ac1c0002row41_col3,#T_15cf45ec_03d0_11eb_967b_0242ac1c0002row42_col2,#T_15cf45ec_03d0_11eb_967b_0242ac1c0002row42_col3,#T_15cf45ec_03d0_11eb_967b_0242ac1c0002row43_col2,#T_15cf45ec_03d0_11eb_967b_0242ac1c0002row43_col3,#T_15cf45ec_03d0_11eb_967b_0242ac1c0002row44_col2,#T_15cf45ec_03d0_11eb_967b_0242ac1c0002row44_col3,#T_15cf45ec_03d0_11eb_967b_0242ac1c0002row45_col2,#T_15cf45ec_03d0_11eb_967b_0242ac1c0002row45_col3,#T_15cf45ec_03d0_11eb_967b_0242ac1c0002row46_col2,#T_15cf45ec_03d0_11eb_967b_0242ac1c0002row46_col3,#T_15cf45ec_03d0_11eb_967b_0242ac1c0002row47_col2,#T_15cf45ec_03d0_11eb_967b_0242ac1c0002row47_col3,#T_15cf45ec_03d0_11eb_967b_0242ac1c0002row49_col2,#T_15cf45ec_03d0_11eb_967b_0242ac1c0002row49_col3,#T_15cf45ec_03d0_11eb_967b_0242ac1c0002row51_col2,#T_15cf45ec_03d0_11eb_967b_0242ac1c0002row51_col3,#T_15cf45ec_03d0_11eb_967b_0242ac1c0002row52_col2,#T_15cf45ec_03d0_11eb_967b_0242ac1c0002row52_col3,#T_15cf45ec_03d0_11eb_967b_0242ac1c0002row53_col2,#T_15cf45ec_03d0_11eb_967b_0242ac1c0002row54_col2,#T_15cf45ec_03d0_11eb_967b_0242ac1c0002row54_col3,#T_15cf45ec_03d0_11eb_967b_0242ac1c0002row55_col3,#T_15cf45ec_03d0_11eb_967b_0242ac1c0002row56_col3,#T_15cf45ec_03d0_11eb_967b_0242ac1c0002row57_col2,#T_15cf45ec_03d0_11eb_967b_0242ac1c0002row57_col3,#T_15cf45ec_03d0_11eb_967b_0242ac1c0002row58_col2,#T_15cf45ec_03d0_11eb_967b_0242ac1c0002row58_col3,#T_15cf45ec_03d0_11eb_967b_0242ac1c0002row59_col2,#T_15cf45ec_03d0_11eb_967b_0242ac1c0002row59_col3,#T_15cf45ec_03d0_11eb_967b_0242ac1c0002row60_col2,#T_15cf45ec_03d0_11eb_967b_0242ac1c0002row60_col3,#T_15cf45ec_03d0_11eb_967b_0242ac1c0002row61_col3,#T_15cf45ec_03d0_11eb_967b_0242ac1c0002row62_col2,#T_15cf45ec_03d0_11eb_967b_0242ac1c0002row62_col3,#T_15cf45ec_03d0_11eb_967b_0242ac1c0002row63_col2,#T_15cf45ec_03d0_11eb_967b_0242ac1c0002row63_col3,#T_15cf45ec_03d0_11eb_967b_0242ac1c0002row64_col3,#T_15cf45ec_03d0_11eb_967b_0242ac1c0002row65_col2,#T_15cf45ec_03d0_11eb_967b_0242ac1c0002row65_col3,#T_15cf45ec_03d0_11eb_967b_0242ac1c0002row66_col2,#T_15cf45ec_03d0_11eb_967b_0242ac1c0002row66_col3,#T_15cf45ec_03d0_11eb_967b_0242ac1c0002row67_col2,#T_15cf45ec_03d0_11eb_967b_0242ac1c0002row68_col2,#T_15cf45ec_03d0_11eb_967b_0242ac1c0002row68_col3,#T_15cf45ec_03d0_11eb_967b_0242ac1c0002row69_col2,#T_15cf45ec_03d0_11eb_967b_0242ac1c0002row69_col3,#T_15cf45ec_03d0_11eb_967b_0242ac1c0002row70_col2,#T_15cf45ec_03d0_11eb_967b_0242ac1c0002row70_col3,#T_15cf45ec_03d0_11eb_967b_0242ac1c0002row71_col3,#T_15cf45ec_03d0_11eb_967b_0242ac1c0002row72_col2,#T_15cf45ec_03d0_11eb_967b_0242ac1c0002row72_col3,#T_15cf45ec_03d0_11eb_967b_0242ac1c0002row73_col3,#T_15cf45ec_03d0_11eb_967b_0242ac1c0002row74_col2,#T_15cf45ec_03d0_11eb_967b_0242ac1c0002row74_col3,#T_15cf45ec_03d0_11eb_967b_0242ac1c0002row75_col2,#T_15cf45ec_03d0_11eb_967b_0242ac1c0002row75_col3,#T_15cf45ec_03d0_11eb_967b_0242ac1c0002row76_col3,#T_15cf45ec_03d0_11eb_967b_0242ac1c0002row77_col2,#T_15cf45ec_03d0_11eb_967b_0242ac1c0002row77_col3,#T_15cf45ec_03d0_11eb_967b_0242ac1c0002row78_col2,#T_15cf45ec_03d0_11eb_967b_0242ac1c0002row78_col3,#T_15cf45ec_03d0_11eb_967b_0242ac1c0002row81_col2,#T_15cf45ec_03d0_11eb_967b_0242ac1c0002row82_col2,#T_15cf45ec_03d0_11eb_967b_0242ac1c0002row82_col3,#T_15cf45ec_03d0_11eb_967b_0242ac1c0002row83_col2,#T_15cf45ec_03d0_11eb_967b_0242ac1c0002row83_col3,#T_15cf45ec_03d0_11eb_967b_0242ac1c0002row84_col2,#T_15cf45ec_03d0_11eb_967b_0242ac1c0002row84_col3,#T_15cf45ec_03d0_11eb_967b_0242ac1c0002row85_col2,#T_15cf45ec_03d0_11eb_967b_0242ac1c0002row85_col3,#T_15cf45ec_03d0_11eb_967b_0242ac1c0002row86_col2,#T_15cf45ec_03d0_11eb_967b_0242ac1c0002row86_col3,#T_15cf45ec_03d0_11eb_967b_0242ac1c0002row88_col2,#T_15cf45ec_03d0_11eb_967b_0242ac1c0002row88_col3,#T_15cf45ec_03d0_11eb_967b_0242ac1c0002row89_col2,#T_15cf45ec_03d0_11eb_967b_0242ac1c0002row89_col3,#T_15cf45ec_03d0_11eb_967b_0242ac1c0002row91_col2,#T_15cf45ec_03d0_11eb_967b_0242ac1c0002row91_col3,#T_15cf45ec_03d0_11eb_967b_0242ac1c0002row92_col2,#T_15cf45ec_03d0_11eb_967b_0242ac1c0002row92_col3,#T_15cf45ec_03d0_11eb_967b_0242ac1c0002row93_col2,#T_15cf45ec_03d0_11eb_967b_0242ac1c0002row93_col3,#T_15cf45ec_03d0_11eb_967b_0242ac1c0002row94_col2,#T_15cf45ec_03d0_11eb_967b_0242ac1c0002row94_col3,#T_15cf45ec_03d0_11eb_967b_0242ac1c0002row95_col2,#T_15cf45ec_03d0_11eb_967b_0242ac1c0002row95_col3,#T_15cf45ec_03d0_11eb_967b_0242ac1c0002row96_col3,#T_15cf45ec_03d0_11eb_967b_0242ac1c0002row97_col2,#T_15cf45ec_03d0_11eb_967b_0242ac1c0002row97_col3,#T_15cf45ec_03d0_11eb_967b_0242ac1c0002row98_col3,#T_15cf45ec_03d0_11eb_967b_0242ac1c0002row99_col2,#T_15cf45ec_03d0_11eb_967b_0242ac1c0002row99_col3,#T_15cf45ec_03d0_11eb_967b_0242ac1c0002row100_col2,#T_15cf45ec_03d0_11eb_967b_0242ac1c0002row100_col3,#T_15cf45ec_03d0_11eb_967b_0242ac1c0002row101_col2,#T_15cf45ec_03d0_11eb_967b_0242ac1c0002row101_col3,#T_15cf45ec_03d0_11eb_967b_0242ac1c0002row102_col2,#T_15cf45ec_03d0_11eb_967b_0242ac1c0002row102_col3,#T_15cf45ec_03d0_11eb_967b_0242ac1c0002row103_col2,#T_15cf45ec_03d0_11eb_967b_0242ac1c0002row103_col3,#T_15cf45ec_03d0_11eb_967b_0242ac1c0002row105_col3{\n",
              "            background-color:  #53ae62;\n",
              "            color:  #000000;\n",
              "        }#T_15cf45ec_03d0_11eb_967b_0242ac1c0002row0_col5,#T_15cf45ec_03d0_11eb_967b_0242ac1c0002row0_col6,#T_15cf45ec_03d0_11eb_967b_0242ac1c0002row1_col5,#T_15cf45ec_03d0_11eb_967b_0242ac1c0002row1_col6,#T_15cf45ec_03d0_11eb_967b_0242ac1c0002row2_col5,#T_15cf45ec_03d0_11eb_967b_0242ac1c0002row2_col6,#T_15cf45ec_03d0_11eb_967b_0242ac1c0002row3_col5,#T_15cf45ec_03d0_11eb_967b_0242ac1c0002row3_col6,#T_15cf45ec_03d0_11eb_967b_0242ac1c0002row4_col5,#T_15cf45ec_03d0_11eb_967b_0242ac1c0002row4_col6,#T_15cf45ec_03d0_11eb_967b_0242ac1c0002row5_col5,#T_15cf45ec_03d0_11eb_967b_0242ac1c0002row5_col6,#T_15cf45ec_03d0_11eb_967b_0242ac1c0002row6_col5,#T_15cf45ec_03d0_11eb_967b_0242ac1c0002row6_col6,#T_15cf45ec_03d0_11eb_967b_0242ac1c0002row7_col5,#T_15cf45ec_03d0_11eb_967b_0242ac1c0002row7_col6,#T_15cf45ec_03d0_11eb_967b_0242ac1c0002row8_col5,#T_15cf45ec_03d0_11eb_967b_0242ac1c0002row8_col6,#T_15cf45ec_03d0_11eb_967b_0242ac1c0002row9_col5,#T_15cf45ec_03d0_11eb_967b_0242ac1c0002row9_col6,#T_15cf45ec_03d0_11eb_967b_0242ac1c0002row10_col5,#T_15cf45ec_03d0_11eb_967b_0242ac1c0002row10_col6,#T_15cf45ec_03d0_11eb_967b_0242ac1c0002row11_col5,#T_15cf45ec_03d0_11eb_967b_0242ac1c0002row11_col6,#T_15cf45ec_03d0_11eb_967b_0242ac1c0002row12_col5,#T_15cf45ec_03d0_11eb_967b_0242ac1c0002row12_col6,#T_15cf45ec_03d0_11eb_967b_0242ac1c0002row13_col5,#T_15cf45ec_03d0_11eb_967b_0242ac1c0002row13_col6,#T_15cf45ec_03d0_11eb_967b_0242ac1c0002row14_col5,#T_15cf45ec_03d0_11eb_967b_0242ac1c0002row14_col6,#T_15cf45ec_03d0_11eb_967b_0242ac1c0002row15_col5,#T_15cf45ec_03d0_11eb_967b_0242ac1c0002row15_col6,#T_15cf45ec_03d0_11eb_967b_0242ac1c0002row16_col5,#T_15cf45ec_03d0_11eb_967b_0242ac1c0002row16_col6,#T_15cf45ec_03d0_11eb_967b_0242ac1c0002row17_col5,#T_15cf45ec_03d0_11eb_967b_0242ac1c0002row17_col6,#T_15cf45ec_03d0_11eb_967b_0242ac1c0002row18_col5,#T_15cf45ec_03d0_11eb_967b_0242ac1c0002row18_col6,#T_15cf45ec_03d0_11eb_967b_0242ac1c0002row19_col5,#T_15cf45ec_03d0_11eb_967b_0242ac1c0002row19_col6,#T_15cf45ec_03d0_11eb_967b_0242ac1c0002row20_col5,#T_15cf45ec_03d0_11eb_967b_0242ac1c0002row20_col6,#T_15cf45ec_03d0_11eb_967b_0242ac1c0002row21_col5,#T_15cf45ec_03d0_11eb_967b_0242ac1c0002row21_col6,#T_15cf45ec_03d0_11eb_967b_0242ac1c0002row22_col5,#T_15cf45ec_03d0_11eb_967b_0242ac1c0002row22_col6,#T_15cf45ec_03d0_11eb_967b_0242ac1c0002row23_col5,#T_15cf45ec_03d0_11eb_967b_0242ac1c0002row23_col6,#T_15cf45ec_03d0_11eb_967b_0242ac1c0002row24_col5,#T_15cf45ec_03d0_11eb_967b_0242ac1c0002row24_col6,#T_15cf45ec_03d0_11eb_967b_0242ac1c0002row25_col5,#T_15cf45ec_03d0_11eb_967b_0242ac1c0002row25_col6,#T_15cf45ec_03d0_11eb_967b_0242ac1c0002row26_col5,#T_15cf45ec_03d0_11eb_967b_0242ac1c0002row26_col6,#T_15cf45ec_03d0_11eb_967b_0242ac1c0002row27_col5,#T_15cf45ec_03d0_11eb_967b_0242ac1c0002row27_col6,#T_15cf45ec_03d0_11eb_967b_0242ac1c0002row28_col5,#T_15cf45ec_03d0_11eb_967b_0242ac1c0002row28_col6,#T_15cf45ec_03d0_11eb_967b_0242ac1c0002row29_col5,#T_15cf45ec_03d0_11eb_967b_0242ac1c0002row29_col6,#T_15cf45ec_03d0_11eb_967b_0242ac1c0002row30_col5,#T_15cf45ec_03d0_11eb_967b_0242ac1c0002row30_col6,#T_15cf45ec_03d0_11eb_967b_0242ac1c0002row31_col5,#T_15cf45ec_03d0_11eb_967b_0242ac1c0002row31_col6,#T_15cf45ec_03d0_11eb_967b_0242ac1c0002row32_col5,#T_15cf45ec_03d0_11eb_967b_0242ac1c0002row32_col6,#T_15cf45ec_03d0_11eb_967b_0242ac1c0002row33_col5,#T_15cf45ec_03d0_11eb_967b_0242ac1c0002row33_col6,#T_15cf45ec_03d0_11eb_967b_0242ac1c0002row34_col5,#T_15cf45ec_03d0_11eb_967b_0242ac1c0002row34_col6,#T_15cf45ec_03d0_11eb_967b_0242ac1c0002row35_col5,#T_15cf45ec_03d0_11eb_967b_0242ac1c0002row35_col6,#T_15cf45ec_03d0_11eb_967b_0242ac1c0002row36_col5,#T_15cf45ec_03d0_11eb_967b_0242ac1c0002row36_col6,#T_15cf45ec_03d0_11eb_967b_0242ac1c0002row37_col5,#T_15cf45ec_03d0_11eb_967b_0242ac1c0002row37_col6,#T_15cf45ec_03d0_11eb_967b_0242ac1c0002row38_col5,#T_15cf45ec_03d0_11eb_967b_0242ac1c0002row38_col6,#T_15cf45ec_03d0_11eb_967b_0242ac1c0002row39_col5,#T_15cf45ec_03d0_11eb_967b_0242ac1c0002row39_col6,#T_15cf45ec_03d0_11eb_967b_0242ac1c0002row40_col5,#T_15cf45ec_03d0_11eb_967b_0242ac1c0002row40_col6,#T_15cf45ec_03d0_11eb_967b_0242ac1c0002row41_col5,#T_15cf45ec_03d0_11eb_967b_0242ac1c0002row41_col6,#T_15cf45ec_03d0_11eb_967b_0242ac1c0002row42_col5,#T_15cf45ec_03d0_11eb_967b_0242ac1c0002row42_col6,#T_15cf45ec_03d0_11eb_967b_0242ac1c0002row43_col5,#T_15cf45ec_03d0_11eb_967b_0242ac1c0002row43_col6,#T_15cf45ec_03d0_11eb_967b_0242ac1c0002row44_col5,#T_15cf45ec_03d0_11eb_967b_0242ac1c0002row44_col6,#T_15cf45ec_03d0_11eb_967b_0242ac1c0002row45_col5,#T_15cf45ec_03d0_11eb_967b_0242ac1c0002row45_col6,#T_15cf45ec_03d0_11eb_967b_0242ac1c0002row46_col5,#T_15cf45ec_03d0_11eb_967b_0242ac1c0002row46_col6,#T_15cf45ec_03d0_11eb_967b_0242ac1c0002row47_col5,#T_15cf45ec_03d0_11eb_967b_0242ac1c0002row47_col6,#T_15cf45ec_03d0_11eb_967b_0242ac1c0002row48_col5,#T_15cf45ec_03d0_11eb_967b_0242ac1c0002row48_col6,#T_15cf45ec_03d0_11eb_967b_0242ac1c0002row49_col5,#T_15cf45ec_03d0_11eb_967b_0242ac1c0002row49_col6,#T_15cf45ec_03d0_11eb_967b_0242ac1c0002row50_col5,#T_15cf45ec_03d0_11eb_967b_0242ac1c0002row50_col6,#T_15cf45ec_03d0_11eb_967b_0242ac1c0002row51_col5,#T_15cf45ec_03d0_11eb_967b_0242ac1c0002row51_col6,#T_15cf45ec_03d0_11eb_967b_0242ac1c0002row52_col5,#T_15cf45ec_03d0_11eb_967b_0242ac1c0002row52_col6,#T_15cf45ec_03d0_11eb_967b_0242ac1c0002row54_col5,#T_15cf45ec_03d0_11eb_967b_0242ac1c0002row54_col6,#T_15cf45ec_03d0_11eb_967b_0242ac1c0002row55_col5,#T_15cf45ec_03d0_11eb_967b_0242ac1c0002row55_col6,#T_15cf45ec_03d0_11eb_967b_0242ac1c0002row56_col5,#T_15cf45ec_03d0_11eb_967b_0242ac1c0002row56_col6,#T_15cf45ec_03d0_11eb_967b_0242ac1c0002row57_col5,#T_15cf45ec_03d0_11eb_967b_0242ac1c0002row57_col6,#T_15cf45ec_03d0_11eb_967b_0242ac1c0002row58_col5,#T_15cf45ec_03d0_11eb_967b_0242ac1c0002row58_col6,#T_15cf45ec_03d0_11eb_967b_0242ac1c0002row59_col5,#T_15cf45ec_03d0_11eb_967b_0242ac1c0002row59_col6,#T_15cf45ec_03d0_11eb_967b_0242ac1c0002row60_col5,#T_15cf45ec_03d0_11eb_967b_0242ac1c0002row60_col6,#T_15cf45ec_03d0_11eb_967b_0242ac1c0002row61_col5,#T_15cf45ec_03d0_11eb_967b_0242ac1c0002row61_col6,#T_15cf45ec_03d0_11eb_967b_0242ac1c0002row62_col5,#T_15cf45ec_03d0_11eb_967b_0242ac1c0002row62_col6,#T_15cf45ec_03d0_11eb_967b_0242ac1c0002row63_col5,#T_15cf45ec_03d0_11eb_967b_0242ac1c0002row63_col6,#T_15cf45ec_03d0_11eb_967b_0242ac1c0002row64_col5,#T_15cf45ec_03d0_11eb_967b_0242ac1c0002row64_col6,#T_15cf45ec_03d0_11eb_967b_0242ac1c0002row65_col5,#T_15cf45ec_03d0_11eb_967b_0242ac1c0002row65_col6,#T_15cf45ec_03d0_11eb_967b_0242ac1c0002row66_col5,#T_15cf45ec_03d0_11eb_967b_0242ac1c0002row66_col6,#T_15cf45ec_03d0_11eb_967b_0242ac1c0002row67_col5,#T_15cf45ec_03d0_11eb_967b_0242ac1c0002row67_col6,#T_15cf45ec_03d0_11eb_967b_0242ac1c0002row68_col5,#T_15cf45ec_03d0_11eb_967b_0242ac1c0002row68_col6,#T_15cf45ec_03d0_11eb_967b_0242ac1c0002row69_col5,#T_15cf45ec_03d0_11eb_967b_0242ac1c0002row69_col6,#T_15cf45ec_03d0_11eb_967b_0242ac1c0002row70_col6,#T_15cf45ec_03d0_11eb_967b_0242ac1c0002row71_col5,#T_15cf45ec_03d0_11eb_967b_0242ac1c0002row71_col6,#T_15cf45ec_03d0_11eb_967b_0242ac1c0002row72_col5,#T_15cf45ec_03d0_11eb_967b_0242ac1c0002row72_col6,#T_15cf45ec_03d0_11eb_967b_0242ac1c0002row73_col5,#T_15cf45ec_03d0_11eb_967b_0242ac1c0002row73_col6,#T_15cf45ec_03d0_11eb_967b_0242ac1c0002row74_col5,#T_15cf45ec_03d0_11eb_967b_0242ac1c0002row74_col6,#T_15cf45ec_03d0_11eb_967b_0242ac1c0002row75_col5,#T_15cf45ec_03d0_11eb_967b_0242ac1c0002row75_col6,#T_15cf45ec_03d0_11eb_967b_0242ac1c0002row76_col5,#T_15cf45ec_03d0_11eb_967b_0242ac1c0002row76_col6,#T_15cf45ec_03d0_11eb_967b_0242ac1c0002row77_col5,#T_15cf45ec_03d0_11eb_967b_0242ac1c0002row77_col6,#T_15cf45ec_03d0_11eb_967b_0242ac1c0002row78_col5,#T_15cf45ec_03d0_11eb_967b_0242ac1c0002row78_col6,#T_15cf45ec_03d0_11eb_967b_0242ac1c0002row79_col5,#T_15cf45ec_03d0_11eb_967b_0242ac1c0002row79_col6,#T_15cf45ec_03d0_11eb_967b_0242ac1c0002row80_col5,#T_15cf45ec_03d0_11eb_967b_0242ac1c0002row80_col6,#T_15cf45ec_03d0_11eb_967b_0242ac1c0002row81_col5,#T_15cf45ec_03d0_11eb_967b_0242ac1c0002row81_col6,#T_15cf45ec_03d0_11eb_967b_0242ac1c0002row82_col5,#T_15cf45ec_03d0_11eb_967b_0242ac1c0002row82_col6,#T_15cf45ec_03d0_11eb_967b_0242ac1c0002row83_col5,#T_15cf45ec_03d0_11eb_967b_0242ac1c0002row83_col6,#T_15cf45ec_03d0_11eb_967b_0242ac1c0002row84_col5,#T_15cf45ec_03d0_11eb_967b_0242ac1c0002row84_col6,#T_15cf45ec_03d0_11eb_967b_0242ac1c0002row85_col5,#T_15cf45ec_03d0_11eb_967b_0242ac1c0002row85_col6,#T_15cf45ec_03d0_11eb_967b_0242ac1c0002row86_col5,#T_15cf45ec_03d0_11eb_967b_0242ac1c0002row86_col6,#T_15cf45ec_03d0_11eb_967b_0242ac1c0002row87_col5,#T_15cf45ec_03d0_11eb_967b_0242ac1c0002row87_col6,#T_15cf45ec_03d0_11eb_967b_0242ac1c0002row88_col5,#T_15cf45ec_03d0_11eb_967b_0242ac1c0002row88_col6,#T_15cf45ec_03d0_11eb_967b_0242ac1c0002row89_col5,#T_15cf45ec_03d0_11eb_967b_0242ac1c0002row89_col6,#T_15cf45ec_03d0_11eb_967b_0242ac1c0002row90_col6,#T_15cf45ec_03d0_11eb_967b_0242ac1c0002row91_col5,#T_15cf45ec_03d0_11eb_967b_0242ac1c0002row91_col6,#T_15cf45ec_03d0_11eb_967b_0242ac1c0002row92_col5,#T_15cf45ec_03d0_11eb_967b_0242ac1c0002row92_col6,#T_15cf45ec_03d0_11eb_967b_0242ac1c0002row93_col6,#T_15cf45ec_03d0_11eb_967b_0242ac1c0002row94_col6,#T_15cf45ec_03d0_11eb_967b_0242ac1c0002row95_col6,#T_15cf45ec_03d0_11eb_967b_0242ac1c0002row96_col6,#T_15cf45ec_03d0_11eb_967b_0242ac1c0002row97_col6,#T_15cf45ec_03d0_11eb_967b_0242ac1c0002row98_col6,#T_15cf45ec_03d0_11eb_967b_0242ac1c0002row99_col6,#T_15cf45ec_03d0_11eb_967b_0242ac1c0002row100_col6,#T_15cf45ec_03d0_11eb_967b_0242ac1c0002row101_col6,#T_15cf45ec_03d0_11eb_967b_0242ac1c0002row102_col6,#T_15cf45ec_03d0_11eb_967b_0242ac1c0002row103_col6,#T_15cf45ec_03d0_11eb_967b_0242ac1c0002row104_col6,#T_15cf45ec_03d0_11eb_967b_0242ac1c0002row105_col6{\n",
              "            background-color:  #E1E0E0;\n",
              "        }#T_15cf45ec_03d0_11eb_967b_0242ac1c0002row14_col2,#T_15cf45ec_03d0_11eb_967b_0242ac1c0002row20_col2,#T_15cf45ec_03d0_11eb_967b_0242ac1c0002row21_col2,#T_15cf45ec_03d0_11eb_967b_0242ac1c0002row24_col2,#T_15cf45ec_03d0_11eb_967b_0242ac1c0002row39_col2,#T_15cf45ec_03d0_11eb_967b_0242ac1c0002row40_col2,#T_15cf45ec_03d0_11eb_967b_0242ac1c0002row48_col3,#T_15cf45ec_03d0_11eb_967b_0242ac1c0002row50_col2,#T_15cf45ec_03d0_11eb_967b_0242ac1c0002row55_col2,#T_15cf45ec_03d0_11eb_967b_0242ac1c0002row56_col2,#T_15cf45ec_03d0_11eb_967b_0242ac1c0002row61_col2,#T_15cf45ec_03d0_11eb_967b_0242ac1c0002row64_col2,#T_15cf45ec_03d0_11eb_967b_0242ac1c0002row67_col3,#T_15cf45ec_03d0_11eb_967b_0242ac1c0002row73_col2,#T_15cf45ec_03d0_11eb_967b_0242ac1c0002row76_col2,#T_15cf45ec_03d0_11eb_967b_0242ac1c0002row80_col2,#T_15cf45ec_03d0_11eb_967b_0242ac1c0002row98_col2,#T_15cf45ec_03d0_11eb_967b_0242ac1c0002row105_col2{\n",
              "            background-color:  #76ad54;\n",
              "            color:  #000000;\n",
              "        }#T_15cf45ec_03d0_11eb_967b_0242ac1c0002row40_col3,#T_15cf45ec_03d0_11eb_967b_0242ac1c0002row50_col3,#T_15cf45ec_03d0_11eb_967b_0242ac1c0002row79_col3,#T_15cf45ec_03d0_11eb_967b_0242ac1c0002row80_col3,#T_15cf45ec_03d0_11eb_967b_0242ac1c0002row81_col3,#T_15cf45ec_03d0_11eb_967b_0242ac1c0002row90_col3,#T_15cf45ec_03d0_11eb_967b_0242ac1c0002row104_col3{\n",
              "            background-color:  #65ad5b;\n",
              "            color:  #000000;\n",
              "        }#T_15cf45ec_03d0_11eb_967b_0242ac1c0002row48_col2,#T_15cf45ec_03d0_11eb_967b_0242ac1c0002row71_col2,#T_15cf45ec_03d0_11eb_967b_0242ac1c0002row90_col2,#T_15cf45ec_03d0_11eb_967b_0242ac1c0002row96_col2,#T_15cf45ec_03d0_11eb_967b_0242ac1c0002row104_col2{\n",
              "            background-color:  #abaa3e;\n",
              "            color:  #000000;\n",
              "        }#T_15cf45ec_03d0_11eb_967b_0242ac1c0002row53_col3,#T_15cf45ec_03d0_11eb_967b_0242ac1c0002row87_col2{\n",
              "            background-color:  #d73f3f;\n",
              "            color:  #f1f1f1;\n",
              "        }#T_15cf45ec_03d0_11eb_967b_0242ac1c0002row53_col5,#T_15cf45ec_03d0_11eb_967b_0242ac1c0002row53_col6,#T_15cf45ec_03d0_11eb_967b_0242ac1c0002row70_col5,#T_15cf45ec_03d0_11eb_967b_0242ac1c0002row90_col5,#T_15cf45ec_03d0_11eb_967b_0242ac1c0002row93_col5,#T_15cf45ec_03d0_11eb_967b_0242ac1c0002row94_col5,#T_15cf45ec_03d0_11eb_967b_0242ac1c0002row95_col5,#T_15cf45ec_03d0_11eb_967b_0242ac1c0002row96_col5,#T_15cf45ec_03d0_11eb_967b_0242ac1c0002row97_col5,#T_15cf45ec_03d0_11eb_967b_0242ac1c0002row98_col5,#T_15cf45ec_03d0_11eb_967b_0242ac1c0002row99_col5,#T_15cf45ec_03d0_11eb_967b_0242ac1c0002row100_col5,#T_15cf45ec_03d0_11eb_967b_0242ac1c0002row101_col5,#T_15cf45ec_03d0_11eb_967b_0242ac1c0002row102_col5,#T_15cf45ec_03d0_11eb_967b_0242ac1c0002row103_col5,#T_15cf45ec_03d0_11eb_967b_0242ac1c0002row104_col5,#T_15cf45ec_03d0_11eb_967b_0242ac1c0002row105_col5{\n",
              "            background-color:  #53AE62;\n",
              "        }#T_15cf45ec_03d0_11eb_967b_0242ac1c0002row79_col2{\n",
              "            background-color:  #f49723;\n",
              "            color:  #000000;\n",
              "        }#T_15cf45ec_03d0_11eb_967b_0242ac1c0002row87_col3{\n",
              "            background-color:  #88ac4d;\n",
              "            color:  #000000;\n",
              "        }</style><table id=\"T_15cf45ec_03d0_11eb_967b_0242ac1c0002\" ><thead>    <tr>        <th class=\"blank level0\" ></th>        <th class=\"col_heading level0 col0\" >projectId</th>        <th class=\"col_heading level0 col1\" >name</th>        <th class=\"col_heading level0 col2\" >percentMapped</th>        <th class=\"col_heading level0 col3\" >percentValidated</th>        <th class=\"col_heading level0 col4\" >mapperLevel</th>        <th class=\"col_heading level0 col5\" >status</th>        <th class=\"col_heading level0 col6\" >priority</th>    </tr></thead><tbody>\n",
              "                <tr>\n",
              "                        <th id=\"T_15cf45ec_03d0_11eb_967b_0242ac1c0002level0_row0\" class=\"row_heading level0 row0\" >116</th>\n",
              "                        <td id=\"T_15cf45ec_03d0_11eb_967b_0242ac1c0002row0_col0\" class=\"data row0 col0\" >5909</td>\n",
              "                        <td id=\"T_15cf45ec_03d0_11eb_967b_0242ac1c0002row0_col1\" class=\"data row0 col1\" >COVID-19, Quehue, Anna, Cusco Peru</td>\n",
              "                        <td id=\"T_15cf45ec_03d0_11eb_967b_0242ac1c0002row0_col2\" class=\"data row0 col2\" >100</td>\n",
              "                        <td id=\"T_15cf45ec_03d0_11eb_967b_0242ac1c0002row0_col3\" class=\"data row0 col3\" >100</td>\n",
              "                        <td id=\"T_15cf45ec_03d0_11eb_967b_0242ac1c0002row0_col4\" class=\"data row0 col4\" >BEGINNER</td>\n",
              "                        <td id=\"T_15cf45ec_03d0_11eb_967b_0242ac1c0002row0_col5\" class=\"data row0 col5\" >ARCHIVED</td>\n",
              "                        <td id=\"T_15cf45ec_03d0_11eb_967b_0242ac1c0002row0_col6\" class=\"data row0 col6\" >LOW</td>\n",
              "            </tr>\n",
              "            <tr>\n",
              "                        <th id=\"T_15cf45ec_03d0_11eb_967b_0242ac1c0002level0_row1\" class=\"row_heading level0 row1\" >118</th>\n",
              "                        <td id=\"T_15cf45ec_03d0_11eb_967b_0242ac1c0002row1_col0\" class=\"data row1 col0\" >7372</td>\n",
              "                        <td id=\"T_15cf45ec_03d0_11eb_967b_0242ac1c0002row1_col1\" class=\"data row1 col1\" >COVID-19 - Paucartambo 1, Cusco, Peru</td>\n",
              "                        <td id=\"T_15cf45ec_03d0_11eb_967b_0242ac1c0002row1_col2\" class=\"data row1 col2\" >100</td>\n",
              "                        <td id=\"T_15cf45ec_03d0_11eb_967b_0242ac1c0002row1_col3\" class=\"data row1 col3\" >100</td>\n",
              "                        <td id=\"T_15cf45ec_03d0_11eb_967b_0242ac1c0002row1_col4\" class=\"data row1 col4\" >BEGINNER</td>\n",
              "                        <td id=\"T_15cf45ec_03d0_11eb_967b_0242ac1c0002row1_col5\" class=\"data row1 col5\" >ARCHIVED</td>\n",
              "                        <td id=\"T_15cf45ec_03d0_11eb_967b_0242ac1c0002row1_col6\" class=\"data row1 col6\" >LOW</td>\n",
              "            </tr>\n",
              "            <tr>\n",
              "                        <th id=\"T_15cf45ec_03d0_11eb_967b_0242ac1c0002level0_row2\" class=\"row_heading level0 row2\" >119</th>\n",
              "                        <td id=\"T_15cf45ec_03d0_11eb_967b_0242ac1c0002row2_col0\" class=\"data row2 col0\" >7379</td>\n",
              "                        <td id=\"T_15cf45ec_03d0_11eb_967b_0242ac1c0002row2_col1\" class=\"data row2 col1\" >COVID-19 Yaurisque District, Cusco - Peru</td>\n",
              "                        <td id=\"T_15cf45ec_03d0_11eb_967b_0242ac1c0002row2_col2\" class=\"data row2 col2\" >100</td>\n",
              "                        <td id=\"T_15cf45ec_03d0_11eb_967b_0242ac1c0002row2_col3\" class=\"data row2 col3\" >100</td>\n",
              "                        <td id=\"T_15cf45ec_03d0_11eb_967b_0242ac1c0002row2_col4\" class=\"data row2 col4\" >BEGINNER</td>\n",
              "                        <td id=\"T_15cf45ec_03d0_11eb_967b_0242ac1c0002row2_col5\" class=\"data row2 col5\" >ARCHIVED</td>\n",
              "                        <td id=\"T_15cf45ec_03d0_11eb_967b_0242ac1c0002row2_col6\" class=\"data row2 col6\" >LOW</td>\n",
              "            </tr>\n",
              "            <tr>\n",
              "                        <th id=\"T_15cf45ec_03d0_11eb_967b_0242ac1c0002level0_row3\" class=\"row_heading level0 row3\" >121</th>\n",
              "                        <td id=\"T_15cf45ec_03d0_11eb_967b_0242ac1c0002row3_col0\" class=\"data row3 col0\" >7719</td>\n",
              "                        <td id=\"T_15cf45ec_03d0_11eb_967b_0242ac1c0002row3_col1\" class=\"data row3 col1\" >COVID-19 - Chinchero - Urubamba, Peru</td>\n",
              "                        <td id=\"T_15cf45ec_03d0_11eb_967b_0242ac1c0002row3_col2\" class=\"data row3 col2\" >100</td>\n",
              "                        <td id=\"T_15cf45ec_03d0_11eb_967b_0242ac1c0002row3_col3\" class=\"data row3 col3\" >100</td>\n",
              "                        <td id=\"T_15cf45ec_03d0_11eb_967b_0242ac1c0002row3_col4\" class=\"data row3 col4\" >BEGINNER</td>\n",
              "                        <td id=\"T_15cf45ec_03d0_11eb_967b_0242ac1c0002row3_col5\" class=\"data row3 col5\" >ARCHIVED</td>\n",
              "                        <td id=\"T_15cf45ec_03d0_11eb_967b_0242ac1c0002row3_col6\" class=\"data row3 col6\" >LOW</td>\n",
              "            </tr>\n",
              "            <tr>\n",
              "                        <th id=\"T_15cf45ec_03d0_11eb_967b_0242ac1c0002level0_row4\" class=\"row_heading level0 row4\" >122</th>\n",
              "                        <td id=\"T_15cf45ec_03d0_11eb_967b_0242ac1c0002row4_col0\" class=\"data row4 col0\" >7720</td>\n",
              "                        <td id=\"T_15cf45ec_03d0_11eb_967b_0242ac1c0002row4_col1\" class=\"data row4 col1\" >COVID-19 - Yucay, Cusco, Peru</td>\n",
              "                        <td id=\"T_15cf45ec_03d0_11eb_967b_0242ac1c0002row4_col2\" class=\"data row4 col2\" >100</td>\n",
              "                        <td id=\"T_15cf45ec_03d0_11eb_967b_0242ac1c0002row4_col3\" class=\"data row4 col3\" >100</td>\n",
              "                        <td id=\"T_15cf45ec_03d0_11eb_967b_0242ac1c0002row4_col4\" class=\"data row4 col4\" >BEGINNER</td>\n",
              "                        <td id=\"T_15cf45ec_03d0_11eb_967b_0242ac1c0002row4_col5\" class=\"data row4 col5\" >ARCHIVED</td>\n",
              "                        <td id=\"T_15cf45ec_03d0_11eb_967b_0242ac1c0002row4_col6\" class=\"data row4 col6\" >LOW</td>\n",
              "            </tr>\n",
              "            <tr>\n",
              "                        <th id=\"T_15cf45ec_03d0_11eb_967b_0242ac1c0002level0_row5\" class=\"row_heading level0 row5\" >123</th>\n",
              "                        <td id=\"T_15cf45ec_03d0_11eb_967b_0242ac1c0002row5_col0\" class=\"data row5 col0\" >7721</td>\n",
              "                        <td id=\"T_15cf45ec_03d0_11eb_967b_0242ac1c0002row5_col1\" class=\"data row5 col1\" >COVID-19 - Coya - Calca, Peru</td>\n",
              "                        <td id=\"T_15cf45ec_03d0_11eb_967b_0242ac1c0002row5_col2\" class=\"data row5 col2\" >100</td>\n",
              "                        <td id=\"T_15cf45ec_03d0_11eb_967b_0242ac1c0002row5_col3\" class=\"data row5 col3\" >100</td>\n",
              "                        <td id=\"T_15cf45ec_03d0_11eb_967b_0242ac1c0002row5_col4\" class=\"data row5 col4\" >BEGINNER</td>\n",
              "                        <td id=\"T_15cf45ec_03d0_11eb_967b_0242ac1c0002row5_col5\" class=\"data row5 col5\" >ARCHIVED</td>\n",
              "                        <td id=\"T_15cf45ec_03d0_11eb_967b_0242ac1c0002row5_col6\" class=\"data row5 col6\" >LOW</td>\n",
              "            </tr>\n",
              "            <tr>\n",
              "                        <th id=\"T_15cf45ec_03d0_11eb_967b_0242ac1c0002level0_row6\" class=\"row_heading level0 row6\" >124</th>\n",
              "                        <td id=\"T_15cf45ec_03d0_11eb_967b_0242ac1c0002row6_col0\" class=\"data row6 col0\" >7768</td>\n",
              "                        <td id=\"T_15cf45ec_03d0_11eb_967b_0242ac1c0002row6_col1\" class=\"data row6 col1\" >COVID-19 - Chamaca - Chumbivilcas, Peru</td>\n",
              "                        <td id=\"T_15cf45ec_03d0_11eb_967b_0242ac1c0002row6_col2\" class=\"data row6 col2\" >100</td>\n",
              "                        <td id=\"T_15cf45ec_03d0_11eb_967b_0242ac1c0002row6_col3\" class=\"data row6 col3\" >100</td>\n",
              "                        <td id=\"T_15cf45ec_03d0_11eb_967b_0242ac1c0002row6_col4\" class=\"data row6 col4\" >BEGINNER</td>\n",
              "                        <td id=\"T_15cf45ec_03d0_11eb_967b_0242ac1c0002row6_col5\" class=\"data row6 col5\" >ARCHIVED</td>\n",
              "                        <td id=\"T_15cf45ec_03d0_11eb_967b_0242ac1c0002row6_col6\" class=\"data row6 col6\" >LOW</td>\n",
              "            </tr>\n",
              "            <tr>\n",
              "                        <th id=\"T_15cf45ec_03d0_11eb_967b_0242ac1c0002level0_row7\" class=\"row_heading level0 row7\" >125</th>\n",
              "                        <td id=\"T_15cf45ec_03d0_11eb_967b_0242ac1c0002row7_col0\" class=\"data row7 col0\" >7769</td>\n",
              "                        <td id=\"T_15cf45ec_03d0_11eb_967b_0242ac1c0002row7_col1\" class=\"data row7 col1\" >COVID-19 - Saylla - Cusco , Peru</td>\n",
              "                        <td id=\"T_15cf45ec_03d0_11eb_967b_0242ac1c0002row7_col2\" class=\"data row7 col2\" >100</td>\n",
              "                        <td id=\"T_15cf45ec_03d0_11eb_967b_0242ac1c0002row7_col3\" class=\"data row7 col3\" >100</td>\n",
              "                        <td id=\"T_15cf45ec_03d0_11eb_967b_0242ac1c0002row7_col4\" class=\"data row7 col4\" >BEGINNER</td>\n",
              "                        <td id=\"T_15cf45ec_03d0_11eb_967b_0242ac1c0002row7_col5\" class=\"data row7 col5\" >ARCHIVED</td>\n",
              "                        <td id=\"T_15cf45ec_03d0_11eb_967b_0242ac1c0002row7_col6\" class=\"data row7 col6\" >LOW</td>\n",
              "            </tr>\n",
              "            <tr>\n",
              "                        <th id=\"T_15cf45ec_03d0_11eb_967b_0242ac1c0002level0_row8\" class=\"row_heading level0 row8\" >126</th>\n",
              "                        <td id=\"T_15cf45ec_03d0_11eb_967b_0242ac1c0002row8_col0\" class=\"data row8 col0\" >7770</td>\n",
              "                        <td id=\"T_15cf45ec_03d0_11eb_967b_0242ac1c0002row8_col1\" class=\"data row8 col1\" >COVID-19 San Jeronimo - Cusco , Peru</td>\n",
              "                        <td id=\"T_15cf45ec_03d0_11eb_967b_0242ac1c0002row8_col2\" class=\"data row8 col2\" >100</td>\n",
              "                        <td id=\"T_15cf45ec_03d0_11eb_967b_0242ac1c0002row8_col3\" class=\"data row8 col3\" >100</td>\n",
              "                        <td id=\"T_15cf45ec_03d0_11eb_967b_0242ac1c0002row8_col4\" class=\"data row8 col4\" >BEGINNER</td>\n",
              "                        <td id=\"T_15cf45ec_03d0_11eb_967b_0242ac1c0002row8_col5\" class=\"data row8 col5\" >ARCHIVED</td>\n",
              "                        <td id=\"T_15cf45ec_03d0_11eb_967b_0242ac1c0002row8_col6\" class=\"data row8 col6\" >LOW</td>\n",
              "            </tr>\n",
              "            <tr>\n",
              "                        <th id=\"T_15cf45ec_03d0_11eb_967b_0242ac1c0002level0_row9\" class=\"row_heading level0 row9\" >127</th>\n",
              "                        <td id=\"T_15cf45ec_03d0_11eb_967b_0242ac1c0002row9_col0\" class=\"data row9 col0\" >7968</td>\n",
              "                        <td id=\"T_15cf45ec_03d0_11eb_967b_0242ac1c0002row9_col1\" class=\"data row9 col1\" >COVID-19 - Andahuaylillas - Quispicanchi, Peru</td>\n",
              "                        <td id=\"T_15cf45ec_03d0_11eb_967b_0242ac1c0002row9_col2\" class=\"data row9 col2\" >100</td>\n",
              "                        <td id=\"T_15cf45ec_03d0_11eb_967b_0242ac1c0002row9_col3\" class=\"data row9 col3\" >100</td>\n",
              "                        <td id=\"T_15cf45ec_03d0_11eb_967b_0242ac1c0002row9_col4\" class=\"data row9 col4\" >BEGINNER</td>\n",
              "                        <td id=\"T_15cf45ec_03d0_11eb_967b_0242ac1c0002row9_col5\" class=\"data row9 col5\" >ARCHIVED</td>\n",
              "                        <td id=\"T_15cf45ec_03d0_11eb_967b_0242ac1c0002row9_col6\" class=\"data row9 col6\" >LOW</td>\n",
              "            </tr>\n",
              "            <tr>\n",
              "                        <th id=\"T_15cf45ec_03d0_11eb_967b_0242ac1c0002level0_row10\" class=\"row_heading level0 row10\" >128</th>\n",
              "                        <td id=\"T_15cf45ec_03d0_11eb_967b_0242ac1c0002row10_col0\" class=\"data row10 col0\" >7969</td>\n",
              "                        <td id=\"T_15cf45ec_03d0_11eb_967b_0242ac1c0002row10_col1\" class=\"data row10 col1\" >COVID-19 Huaro - Quispicanchi, Peru</td>\n",
              "                        <td id=\"T_15cf45ec_03d0_11eb_967b_0242ac1c0002row10_col2\" class=\"data row10 col2\" >100</td>\n",
              "                        <td id=\"T_15cf45ec_03d0_11eb_967b_0242ac1c0002row10_col3\" class=\"data row10 col3\" >100</td>\n",
              "                        <td id=\"T_15cf45ec_03d0_11eb_967b_0242ac1c0002row10_col4\" class=\"data row10 col4\" >BEGINNER</td>\n",
              "                        <td id=\"T_15cf45ec_03d0_11eb_967b_0242ac1c0002row10_col5\" class=\"data row10 col5\" >ARCHIVED</td>\n",
              "                        <td id=\"T_15cf45ec_03d0_11eb_967b_0242ac1c0002row10_col6\" class=\"data row10 col6\" >LOW</td>\n",
              "            </tr>\n",
              "            <tr>\n",
              "                        <th id=\"T_15cf45ec_03d0_11eb_967b_0242ac1c0002level0_row11\" class=\"row_heading level0 row11\" >129</th>\n",
              "                        <td id=\"T_15cf45ec_03d0_11eb_967b_0242ac1c0002row11_col0\" class=\"data row11 col0\" >7970</td>\n",
              "                        <td id=\"T_15cf45ec_03d0_11eb_967b_0242ac1c0002row11_col1\" class=\"data row11 col1\" >COVID-19 Lucre - Quispicanchi, Peru</td>\n",
              "                        <td id=\"T_15cf45ec_03d0_11eb_967b_0242ac1c0002row11_col2\" class=\"data row11 col2\" >100</td>\n",
              "                        <td id=\"T_15cf45ec_03d0_11eb_967b_0242ac1c0002row11_col3\" class=\"data row11 col3\" >100</td>\n",
              "                        <td id=\"T_15cf45ec_03d0_11eb_967b_0242ac1c0002row11_col4\" class=\"data row11 col4\" >BEGINNER</td>\n",
              "                        <td id=\"T_15cf45ec_03d0_11eb_967b_0242ac1c0002row11_col5\" class=\"data row11 col5\" >ARCHIVED</td>\n",
              "                        <td id=\"T_15cf45ec_03d0_11eb_967b_0242ac1c0002row11_col6\" class=\"data row11 col6\" >LOW</td>\n",
              "            </tr>\n",
              "            <tr>\n",
              "                        <th id=\"T_15cf45ec_03d0_11eb_967b_0242ac1c0002level0_row12\" class=\"row_heading level0 row12\" >130</th>\n",
              "                        <td id=\"T_15cf45ec_03d0_11eb_967b_0242ac1c0002row12_col0\" class=\"data row12 col0\" >7971</td>\n",
              "                        <td id=\"T_15cf45ec_03d0_11eb_967b_0242ac1c0002row12_col1\" class=\"data row12 col1\" >COVID-19 Oropesa - Quispicanchi, Peru</td>\n",
              "                        <td id=\"T_15cf45ec_03d0_11eb_967b_0242ac1c0002row12_col2\" class=\"data row12 col2\" >100</td>\n",
              "                        <td id=\"T_15cf45ec_03d0_11eb_967b_0242ac1c0002row12_col3\" class=\"data row12 col3\" >100</td>\n",
              "                        <td id=\"T_15cf45ec_03d0_11eb_967b_0242ac1c0002row12_col4\" class=\"data row12 col4\" >BEGINNER</td>\n",
              "                        <td id=\"T_15cf45ec_03d0_11eb_967b_0242ac1c0002row12_col5\" class=\"data row12 col5\" >ARCHIVED</td>\n",
              "                        <td id=\"T_15cf45ec_03d0_11eb_967b_0242ac1c0002row12_col6\" class=\"data row12 col6\" >LOW</td>\n",
              "            </tr>\n",
              "            <tr>\n",
              "                        <th id=\"T_15cf45ec_03d0_11eb_967b_0242ac1c0002level0_row13\" class=\"row_heading level0 row13\" >131</th>\n",
              "                        <td id=\"T_15cf45ec_03d0_11eb_967b_0242ac1c0002row13_col0\" class=\"data row13 col0\" >7972</td>\n",
              "                        <td id=\"T_15cf45ec_03d0_11eb_967b_0242ac1c0002row13_col1\" class=\"data row13 col1\" >COVID-19 - Urcos - Quispicanchi, Peru</td>\n",
              "                        <td id=\"T_15cf45ec_03d0_11eb_967b_0242ac1c0002row13_col2\" class=\"data row13 col2\" >100</td>\n",
              "                        <td id=\"T_15cf45ec_03d0_11eb_967b_0242ac1c0002row13_col3\" class=\"data row13 col3\" >100</td>\n",
              "                        <td id=\"T_15cf45ec_03d0_11eb_967b_0242ac1c0002row13_col4\" class=\"data row13 col4\" >BEGINNER</td>\n",
              "                        <td id=\"T_15cf45ec_03d0_11eb_967b_0242ac1c0002row13_col5\" class=\"data row13 col5\" >ARCHIVED</td>\n",
              "                        <td id=\"T_15cf45ec_03d0_11eb_967b_0242ac1c0002row13_col6\" class=\"data row13 col6\" >LOW</td>\n",
              "            </tr>\n",
              "            <tr>\n",
              "                        <th id=\"T_15cf45ec_03d0_11eb_967b_0242ac1c0002level0_row14\" class=\"row_heading level0 row14\" >132</th>\n",
              "                        <td id=\"T_15cf45ec_03d0_11eb_967b_0242ac1c0002row14_col0\" class=\"data row14 col0\" >8047</td>\n",
              "                        <td id=\"T_15cf45ec_03d0_11eb_967b_0242ac1c0002row14_col1\" class=\"data row14 col1\" >COVID-19 - Santa Teresa, La Convención, Peru</td>\n",
              "                        <td id=\"T_15cf45ec_03d0_11eb_967b_0242ac1c0002row14_col2\" class=\"data row14 col2\" >99</td>\n",
              "                        <td id=\"T_15cf45ec_03d0_11eb_967b_0242ac1c0002row14_col3\" class=\"data row14 col3\" >99</td>\n",
              "                        <td id=\"T_15cf45ec_03d0_11eb_967b_0242ac1c0002row14_col4\" class=\"data row14 col4\" >BEGINNER</td>\n",
              "                        <td id=\"T_15cf45ec_03d0_11eb_967b_0242ac1c0002row14_col5\" class=\"data row14 col5\" >ARCHIVED</td>\n",
              "                        <td id=\"T_15cf45ec_03d0_11eb_967b_0242ac1c0002row14_col6\" class=\"data row14 col6\" >LOW</td>\n",
              "            </tr>\n",
              "            <tr>\n",
              "                        <th id=\"T_15cf45ec_03d0_11eb_967b_0242ac1c0002level0_row15\" class=\"row_heading level0 row15\" >133</th>\n",
              "                        <td id=\"T_15cf45ec_03d0_11eb_967b_0242ac1c0002row15_col0\" class=\"data row15 col0\" >8048</td>\n",
              "                        <td id=\"T_15cf45ec_03d0_11eb_967b_0242ac1c0002row15_col1\" class=\"data row15 col1\" >COVID-19 - Ccapi - Paruro, Peru</td>\n",
              "                        <td id=\"T_15cf45ec_03d0_11eb_967b_0242ac1c0002row15_col2\" class=\"data row15 col2\" >100</td>\n",
              "                        <td id=\"T_15cf45ec_03d0_11eb_967b_0242ac1c0002row15_col3\" class=\"data row15 col3\" >100</td>\n",
              "                        <td id=\"T_15cf45ec_03d0_11eb_967b_0242ac1c0002row15_col4\" class=\"data row15 col4\" >BEGINNER</td>\n",
              "                        <td id=\"T_15cf45ec_03d0_11eb_967b_0242ac1c0002row15_col5\" class=\"data row15 col5\" >ARCHIVED</td>\n",
              "                        <td id=\"T_15cf45ec_03d0_11eb_967b_0242ac1c0002row15_col6\" class=\"data row15 col6\" >LOW</td>\n",
              "            </tr>\n",
              "            <tr>\n",
              "                        <th id=\"T_15cf45ec_03d0_11eb_967b_0242ac1c0002level0_row16\" class=\"row_heading level0 row16\" >134</th>\n",
              "                        <td id=\"T_15cf45ec_03d0_11eb_967b_0242ac1c0002row16_col0\" class=\"data row16 col0\" >8049</td>\n",
              "                        <td id=\"T_15cf45ec_03d0_11eb_967b_0242ac1c0002row16_col1\" class=\"data row16 col1\" >COVID-19 Omacha - Paruro, Peru</td>\n",
              "                        <td id=\"T_15cf45ec_03d0_11eb_967b_0242ac1c0002row16_col2\" class=\"data row16 col2\" >100</td>\n",
              "                        <td id=\"T_15cf45ec_03d0_11eb_967b_0242ac1c0002row16_col3\" class=\"data row16 col3\" >100</td>\n",
              "                        <td id=\"T_15cf45ec_03d0_11eb_967b_0242ac1c0002row16_col4\" class=\"data row16 col4\" >BEGINNER</td>\n",
              "                        <td id=\"T_15cf45ec_03d0_11eb_967b_0242ac1c0002row16_col5\" class=\"data row16 col5\" >ARCHIVED</td>\n",
              "                        <td id=\"T_15cf45ec_03d0_11eb_967b_0242ac1c0002row16_col6\" class=\"data row16 col6\" >LOW</td>\n",
              "            </tr>\n",
              "            <tr>\n",
              "                        <th id=\"T_15cf45ec_03d0_11eb_967b_0242ac1c0002level0_row17\" class=\"row_heading level0 row17\" >137</th>\n",
              "                        <td id=\"T_15cf45ec_03d0_11eb_967b_0242ac1c0002row17_col0\" class=\"data row17 col0\" >8212</td>\n",
              "                        <td id=\"T_15cf45ec_03d0_11eb_967b_0242ac1c0002row17_col1\" class=\"data row17 col1\" >COVID-19 - Santa Ana, Cusco, Peru</td>\n",
              "                        <td id=\"T_15cf45ec_03d0_11eb_967b_0242ac1c0002row17_col2\" class=\"data row17 col2\" >100</td>\n",
              "                        <td id=\"T_15cf45ec_03d0_11eb_967b_0242ac1c0002row17_col3\" class=\"data row17 col3\" >100</td>\n",
              "                        <td id=\"T_15cf45ec_03d0_11eb_967b_0242ac1c0002row17_col4\" class=\"data row17 col4\" >BEGINNER</td>\n",
              "                        <td id=\"T_15cf45ec_03d0_11eb_967b_0242ac1c0002row17_col5\" class=\"data row17 col5\" >ARCHIVED</td>\n",
              "                        <td id=\"T_15cf45ec_03d0_11eb_967b_0242ac1c0002row17_col6\" class=\"data row17 col6\" >LOW</td>\n",
              "            </tr>\n",
              "            <tr>\n",
              "                        <th id=\"T_15cf45ec_03d0_11eb_967b_0242ac1c0002level0_row18\" class=\"row_heading level0 row18\" >138</th>\n",
              "                        <td id=\"T_15cf45ec_03d0_11eb_967b_0242ac1c0002row18_col0\" class=\"data row18 col0\" >8213</td>\n",
              "                        <td id=\"T_15cf45ec_03d0_11eb_967b_0242ac1c0002row18_col1\" class=\"data row18 col1\" >COVID-19 - Urubamba, Cusco, Peru</td>\n",
              "                        <td id=\"T_15cf45ec_03d0_11eb_967b_0242ac1c0002row18_col2\" class=\"data row18 col2\" >100</td>\n",
              "                        <td id=\"T_15cf45ec_03d0_11eb_967b_0242ac1c0002row18_col3\" class=\"data row18 col3\" >100</td>\n",
              "                        <td id=\"T_15cf45ec_03d0_11eb_967b_0242ac1c0002row18_col4\" class=\"data row18 col4\" >INTERMEDIATE</td>\n",
              "                        <td id=\"T_15cf45ec_03d0_11eb_967b_0242ac1c0002row18_col5\" class=\"data row18 col5\" >ARCHIVED</td>\n",
              "                        <td id=\"T_15cf45ec_03d0_11eb_967b_0242ac1c0002row18_col6\" class=\"data row18 col6\" >LOW</td>\n",
              "            </tr>\n",
              "            <tr>\n",
              "                        <th id=\"T_15cf45ec_03d0_11eb_967b_0242ac1c0002level0_row19\" class=\"row_heading level0 row19\" >139</th>\n",
              "                        <td id=\"T_15cf45ec_03d0_11eb_967b_0242ac1c0002row19_col0\" class=\"data row19 col0\" >8214</td>\n",
              "                        <td id=\"T_15cf45ec_03d0_11eb_967b_0242ac1c0002row19_col1\" class=\"data row19 col1\" >COVID-19 - Anta, Cusco, Peru</td>\n",
              "                        <td id=\"T_15cf45ec_03d0_11eb_967b_0242ac1c0002row19_col2\" class=\"data row19 col2\" >100</td>\n",
              "                        <td id=\"T_15cf45ec_03d0_11eb_967b_0242ac1c0002row19_col3\" class=\"data row19 col3\" >100</td>\n",
              "                        <td id=\"T_15cf45ec_03d0_11eb_967b_0242ac1c0002row19_col4\" class=\"data row19 col4\" >BEGINNER</td>\n",
              "                        <td id=\"T_15cf45ec_03d0_11eb_967b_0242ac1c0002row19_col5\" class=\"data row19 col5\" >ARCHIVED</td>\n",
              "                        <td id=\"T_15cf45ec_03d0_11eb_967b_0242ac1c0002row19_col6\" class=\"data row19 col6\" >LOW</td>\n",
              "            </tr>\n",
              "            <tr>\n",
              "                        <th id=\"T_15cf45ec_03d0_11eb_967b_0242ac1c0002level0_row20\" class=\"row_heading level0 row20\" >140</th>\n",
              "                        <td id=\"T_15cf45ec_03d0_11eb_967b_0242ac1c0002row20_col0\" class=\"data row20 col0\" >8216</td>\n",
              "                        <td id=\"T_15cf45ec_03d0_11eb_967b_0242ac1c0002row20_col1\" class=\"data row20 col1\" >COVID-19 - Yanaoca, Cusco, Peru</td>\n",
              "                        <td id=\"T_15cf45ec_03d0_11eb_967b_0242ac1c0002row20_col2\" class=\"data row20 col2\" >99</td>\n",
              "                        <td id=\"T_15cf45ec_03d0_11eb_967b_0242ac1c0002row20_col3\" class=\"data row20 col3\" >99</td>\n",
              "                        <td id=\"T_15cf45ec_03d0_11eb_967b_0242ac1c0002row20_col4\" class=\"data row20 col4\" >BEGINNER</td>\n",
              "                        <td id=\"T_15cf45ec_03d0_11eb_967b_0242ac1c0002row20_col5\" class=\"data row20 col5\" >ARCHIVED</td>\n",
              "                        <td id=\"T_15cf45ec_03d0_11eb_967b_0242ac1c0002row20_col6\" class=\"data row20 col6\" >LOW</td>\n",
              "            </tr>\n",
              "            <tr>\n",
              "                        <th id=\"T_15cf45ec_03d0_11eb_967b_0242ac1c0002level0_row21\" class=\"row_heading level0 row21\" >141</th>\n",
              "                        <td id=\"T_15cf45ec_03d0_11eb_967b_0242ac1c0002row21_col0\" class=\"data row21 col0\" >8217</td>\n",
              "                        <td id=\"T_15cf45ec_03d0_11eb_967b_0242ac1c0002row21_col1\" class=\"data row21 col1\" >COVID-19 - Sicuani, Cusco, Peru</td>\n",
              "                        <td id=\"T_15cf45ec_03d0_11eb_967b_0242ac1c0002row21_col2\" class=\"data row21 col2\" >99</td>\n",
              "                        <td id=\"T_15cf45ec_03d0_11eb_967b_0242ac1c0002row21_col3\" class=\"data row21 col3\" >99</td>\n",
              "                        <td id=\"T_15cf45ec_03d0_11eb_967b_0242ac1c0002row21_col4\" class=\"data row21 col4\" >BEGINNER</td>\n",
              "                        <td id=\"T_15cf45ec_03d0_11eb_967b_0242ac1c0002row21_col5\" class=\"data row21 col5\" >ARCHIVED</td>\n",
              "                        <td id=\"T_15cf45ec_03d0_11eb_967b_0242ac1c0002row21_col6\" class=\"data row21 col6\" >LOW</td>\n",
              "            </tr>\n",
              "            <tr>\n",
              "                        <th id=\"T_15cf45ec_03d0_11eb_967b_0242ac1c0002level0_row22\" class=\"row_heading level0 row22\" >142</th>\n",
              "                        <td id=\"T_15cf45ec_03d0_11eb_967b_0242ac1c0002row22_col0\" class=\"data row22 col0\" >8218</td>\n",
              "                        <td id=\"T_15cf45ec_03d0_11eb_967b_0242ac1c0002row22_col1\" class=\"data row22 col1\" >COVID-19 - Santo Tomas, Cusco, Peru</td>\n",
              "                        <td id=\"T_15cf45ec_03d0_11eb_967b_0242ac1c0002row22_col2\" class=\"data row22 col2\" >100</td>\n",
              "                        <td id=\"T_15cf45ec_03d0_11eb_967b_0242ac1c0002row22_col3\" class=\"data row22 col3\" >100</td>\n",
              "                        <td id=\"T_15cf45ec_03d0_11eb_967b_0242ac1c0002row22_col4\" class=\"data row22 col4\" >BEGINNER</td>\n",
              "                        <td id=\"T_15cf45ec_03d0_11eb_967b_0242ac1c0002row22_col5\" class=\"data row22 col5\" >ARCHIVED</td>\n",
              "                        <td id=\"T_15cf45ec_03d0_11eb_967b_0242ac1c0002row22_col6\" class=\"data row22 col6\" >LOW</td>\n",
              "            </tr>\n",
              "            <tr>\n",
              "                        <th id=\"T_15cf45ec_03d0_11eb_967b_0242ac1c0002level0_row23\" class=\"row_heading level0 row23\" >143</th>\n",
              "                        <td id=\"T_15cf45ec_03d0_11eb_967b_0242ac1c0002row23_col0\" class=\"data row23 col0\" >8219</td>\n",
              "                        <td id=\"T_15cf45ec_03d0_11eb_967b_0242ac1c0002row23_col1\" class=\"data row23 col1\" >COVID-19 - Acomayo, Cusco, Peru</td>\n",
              "                        <td id=\"T_15cf45ec_03d0_11eb_967b_0242ac1c0002row23_col2\" class=\"data row23 col2\" >100</td>\n",
              "                        <td id=\"T_15cf45ec_03d0_11eb_967b_0242ac1c0002row23_col3\" class=\"data row23 col3\" >100</td>\n",
              "                        <td id=\"T_15cf45ec_03d0_11eb_967b_0242ac1c0002row23_col4\" class=\"data row23 col4\" >BEGINNER</td>\n",
              "                        <td id=\"T_15cf45ec_03d0_11eb_967b_0242ac1c0002row23_col5\" class=\"data row23 col5\" >ARCHIVED</td>\n",
              "                        <td id=\"T_15cf45ec_03d0_11eb_967b_0242ac1c0002row23_col6\" class=\"data row23 col6\" >LOW</td>\n",
              "            </tr>\n",
              "            <tr>\n",
              "                        <th id=\"T_15cf45ec_03d0_11eb_967b_0242ac1c0002level0_row24\" class=\"row_heading level0 row24\" >144</th>\n",
              "                        <td id=\"T_15cf45ec_03d0_11eb_967b_0242ac1c0002row24_col0\" class=\"data row24 col0\" >8247</td>\n",
              "                        <td id=\"T_15cf45ec_03d0_11eb_967b_0242ac1c0002row24_col1\" class=\"data row24 col1\" >COVID-19 - Marcapata, Cusco, Peru</td>\n",
              "                        <td id=\"T_15cf45ec_03d0_11eb_967b_0242ac1c0002row24_col2\" class=\"data row24 col2\" >99</td>\n",
              "                        <td id=\"T_15cf45ec_03d0_11eb_967b_0242ac1c0002row24_col3\" class=\"data row24 col3\" >99</td>\n",
              "                        <td id=\"T_15cf45ec_03d0_11eb_967b_0242ac1c0002row24_col4\" class=\"data row24 col4\" >BEGINNER</td>\n",
              "                        <td id=\"T_15cf45ec_03d0_11eb_967b_0242ac1c0002row24_col5\" class=\"data row24 col5\" >ARCHIVED</td>\n",
              "                        <td id=\"T_15cf45ec_03d0_11eb_967b_0242ac1c0002row24_col6\" class=\"data row24 col6\" >LOW</td>\n",
              "            </tr>\n",
              "            <tr>\n",
              "                        <th id=\"T_15cf45ec_03d0_11eb_967b_0242ac1c0002level0_row25\" class=\"row_heading level0 row25\" >145</th>\n",
              "                        <td id=\"T_15cf45ec_03d0_11eb_967b_0242ac1c0002row25_col0\" class=\"data row25 col0\" >8248</td>\n",
              "                        <td id=\"T_15cf45ec_03d0_11eb_967b_0242ac1c0002row25_col1\" class=\"data row25 col1\" >COVID-19 - Ccatca, Cusco, Peru</td>\n",
              "                        <td id=\"T_15cf45ec_03d0_11eb_967b_0242ac1c0002row25_col2\" class=\"data row25 col2\" >100</td>\n",
              "                        <td id=\"T_15cf45ec_03d0_11eb_967b_0242ac1c0002row25_col3\" class=\"data row25 col3\" >100</td>\n",
              "                        <td id=\"T_15cf45ec_03d0_11eb_967b_0242ac1c0002row25_col4\" class=\"data row25 col4\" >BEGINNER</td>\n",
              "                        <td id=\"T_15cf45ec_03d0_11eb_967b_0242ac1c0002row25_col5\" class=\"data row25 col5\" >ARCHIVED</td>\n",
              "                        <td id=\"T_15cf45ec_03d0_11eb_967b_0242ac1c0002row25_col6\" class=\"data row25 col6\" >LOW</td>\n",
              "            </tr>\n",
              "            <tr>\n",
              "                        <th id=\"T_15cf45ec_03d0_11eb_967b_0242ac1c0002level0_row26\" class=\"row_heading level0 row26\" >146</th>\n",
              "                        <td id=\"T_15cf45ec_03d0_11eb_967b_0242ac1c0002row26_col0\" class=\"data row26 col0\" >8249</td>\n",
              "                        <td id=\"T_15cf45ec_03d0_11eb_967b_0242ac1c0002row26_col1\" class=\"data row26 col1\" >COVID-19 - Ccorca, Cusco, Peru</td>\n",
              "                        <td id=\"T_15cf45ec_03d0_11eb_967b_0242ac1c0002row26_col2\" class=\"data row26 col2\" >100</td>\n",
              "                        <td id=\"T_15cf45ec_03d0_11eb_967b_0242ac1c0002row26_col3\" class=\"data row26 col3\" >100</td>\n",
              "                        <td id=\"T_15cf45ec_03d0_11eb_967b_0242ac1c0002row26_col4\" class=\"data row26 col4\" >BEGINNER</td>\n",
              "                        <td id=\"T_15cf45ec_03d0_11eb_967b_0242ac1c0002row26_col5\" class=\"data row26 col5\" >ARCHIVED</td>\n",
              "                        <td id=\"T_15cf45ec_03d0_11eb_967b_0242ac1c0002row26_col6\" class=\"data row26 col6\" >LOW</td>\n",
              "            </tr>\n",
              "            <tr>\n",
              "                        <th id=\"T_15cf45ec_03d0_11eb_967b_0242ac1c0002level0_row27\" class=\"row_heading level0 row27\" >147</th>\n",
              "                        <td id=\"T_15cf45ec_03d0_11eb_967b_0242ac1c0002row27_col0\" class=\"data row27 col0\" >8250</td>\n",
              "                        <td id=\"T_15cf45ec_03d0_11eb_967b_0242ac1c0002row27_col1\" class=\"data row27 col1\" >COVID-19 - Cusipata, Cusco, Peru</td>\n",
              "                        <td id=\"T_15cf45ec_03d0_11eb_967b_0242ac1c0002row27_col2\" class=\"data row27 col2\" >100</td>\n",
              "                        <td id=\"T_15cf45ec_03d0_11eb_967b_0242ac1c0002row27_col3\" class=\"data row27 col3\" >100</td>\n",
              "                        <td id=\"T_15cf45ec_03d0_11eb_967b_0242ac1c0002row27_col4\" class=\"data row27 col4\" >BEGINNER</td>\n",
              "                        <td id=\"T_15cf45ec_03d0_11eb_967b_0242ac1c0002row27_col5\" class=\"data row27 col5\" >ARCHIVED</td>\n",
              "                        <td id=\"T_15cf45ec_03d0_11eb_967b_0242ac1c0002row27_col6\" class=\"data row27 col6\" >LOW</td>\n",
              "            </tr>\n",
              "            <tr>\n",
              "                        <th id=\"T_15cf45ec_03d0_11eb_967b_0242ac1c0002level0_row28\" class=\"row_heading level0 row28\" >148</th>\n",
              "                        <td id=\"T_15cf45ec_03d0_11eb_967b_0242ac1c0002row28_col0\" class=\"data row28 col0\" >8251</td>\n",
              "                        <td id=\"T_15cf45ec_03d0_11eb_967b_0242ac1c0002row28_col1\" class=\"data row28 col1\" >COVID-19 - Huarocondo, Cusco, Peru</td>\n",
              "                        <td id=\"T_15cf45ec_03d0_11eb_967b_0242ac1c0002row28_col2\" class=\"data row28 col2\" >100</td>\n",
              "                        <td id=\"T_15cf45ec_03d0_11eb_967b_0242ac1c0002row28_col3\" class=\"data row28 col3\" >100</td>\n",
              "                        <td id=\"T_15cf45ec_03d0_11eb_967b_0242ac1c0002row28_col4\" class=\"data row28 col4\" >BEGINNER</td>\n",
              "                        <td id=\"T_15cf45ec_03d0_11eb_967b_0242ac1c0002row28_col5\" class=\"data row28 col5\" >ARCHIVED</td>\n",
              "                        <td id=\"T_15cf45ec_03d0_11eb_967b_0242ac1c0002row28_col6\" class=\"data row28 col6\" >LOW</td>\n",
              "            </tr>\n",
              "            <tr>\n",
              "                        <th id=\"T_15cf45ec_03d0_11eb_967b_0242ac1c0002level0_row29\" class=\"row_heading level0 row29\" >149</th>\n",
              "                        <td id=\"T_15cf45ec_03d0_11eb_967b_0242ac1c0002row29_col0\" class=\"data row29 col0\" >8254</td>\n",
              "                        <td id=\"T_15cf45ec_03d0_11eb_967b_0242ac1c0002row29_col1\" class=\"data row29 col1\" >COVID-19 - Huayllabamba, Cusco, Peru</td>\n",
              "                        <td id=\"T_15cf45ec_03d0_11eb_967b_0242ac1c0002row29_col2\" class=\"data row29 col2\" >100</td>\n",
              "                        <td id=\"T_15cf45ec_03d0_11eb_967b_0242ac1c0002row29_col3\" class=\"data row29 col3\" >100</td>\n",
              "                        <td id=\"T_15cf45ec_03d0_11eb_967b_0242ac1c0002row29_col4\" class=\"data row29 col4\" >BEGINNER</td>\n",
              "                        <td id=\"T_15cf45ec_03d0_11eb_967b_0242ac1c0002row29_col5\" class=\"data row29 col5\" >ARCHIVED</td>\n",
              "                        <td id=\"T_15cf45ec_03d0_11eb_967b_0242ac1c0002row29_col6\" class=\"data row29 col6\" >LOW</td>\n",
              "            </tr>\n",
              "            <tr>\n",
              "                        <th id=\"T_15cf45ec_03d0_11eb_967b_0242ac1c0002level0_row30\" class=\"row_heading level0 row30\" >150</th>\n",
              "                        <td id=\"T_15cf45ec_03d0_11eb_967b_0242ac1c0002row30_col0\" class=\"data row30 col0\" >8255</td>\n",
              "                        <td id=\"T_15cf45ec_03d0_11eb_967b_0242ac1c0002row30_col1\" class=\"data row30 col1\" >COVID-19 - Lamay, Cusco, Peru</td>\n",
              "                        <td id=\"T_15cf45ec_03d0_11eb_967b_0242ac1c0002row30_col2\" class=\"data row30 col2\" >100</td>\n",
              "                        <td id=\"T_15cf45ec_03d0_11eb_967b_0242ac1c0002row30_col3\" class=\"data row30 col3\" >100</td>\n",
              "                        <td id=\"T_15cf45ec_03d0_11eb_967b_0242ac1c0002row30_col4\" class=\"data row30 col4\" >BEGINNER</td>\n",
              "                        <td id=\"T_15cf45ec_03d0_11eb_967b_0242ac1c0002row30_col5\" class=\"data row30 col5\" >ARCHIVED</td>\n",
              "                        <td id=\"T_15cf45ec_03d0_11eb_967b_0242ac1c0002row30_col6\" class=\"data row30 col6\" >LOW</td>\n",
              "            </tr>\n",
              "            <tr>\n",
              "                        <th id=\"T_15cf45ec_03d0_11eb_967b_0242ac1c0002level0_row31\" class=\"row_heading level0 row31\" >151</th>\n",
              "                        <td id=\"T_15cf45ec_03d0_11eb_967b_0242ac1c0002row31_col0\" class=\"data row31 col0\" >8256</td>\n",
              "                        <td id=\"T_15cf45ec_03d0_11eb_967b_0242ac1c0002row31_col1\" class=\"data row31 col1\" >COVID-19 - Lares, Cusco, Peru</td>\n",
              "                        <td id=\"T_15cf45ec_03d0_11eb_967b_0242ac1c0002row31_col2\" class=\"data row31 col2\" >100</td>\n",
              "                        <td id=\"T_15cf45ec_03d0_11eb_967b_0242ac1c0002row31_col3\" class=\"data row31 col3\" >100</td>\n",
              "                        <td id=\"T_15cf45ec_03d0_11eb_967b_0242ac1c0002row31_col4\" class=\"data row31 col4\" >BEGINNER</td>\n",
              "                        <td id=\"T_15cf45ec_03d0_11eb_967b_0242ac1c0002row31_col5\" class=\"data row31 col5\" >ARCHIVED</td>\n",
              "                        <td id=\"T_15cf45ec_03d0_11eb_967b_0242ac1c0002row31_col6\" class=\"data row31 col6\" >LOW</td>\n",
              "            </tr>\n",
              "            <tr>\n",
              "                        <th id=\"T_15cf45ec_03d0_11eb_967b_0242ac1c0002level0_row32\" class=\"row_heading level0 row32\" >152</th>\n",
              "                        <td id=\"T_15cf45ec_03d0_11eb_967b_0242ac1c0002row32_col0\" class=\"data row32 col0\" >8257</td>\n",
              "                        <td id=\"T_15cf45ec_03d0_11eb_967b_0242ac1c0002row32_col1\" class=\"data row32 col1\" >COVID-19 - Machupicchu, Cusco, Peru</td>\n",
              "                        <td id=\"T_15cf45ec_03d0_11eb_967b_0242ac1c0002row32_col2\" class=\"data row32 col2\" >100</td>\n",
              "                        <td id=\"T_15cf45ec_03d0_11eb_967b_0242ac1c0002row32_col3\" class=\"data row32 col3\" >100</td>\n",
              "                        <td id=\"T_15cf45ec_03d0_11eb_967b_0242ac1c0002row32_col4\" class=\"data row32 col4\" >BEGINNER</td>\n",
              "                        <td id=\"T_15cf45ec_03d0_11eb_967b_0242ac1c0002row32_col5\" class=\"data row32 col5\" >ARCHIVED</td>\n",
              "                        <td id=\"T_15cf45ec_03d0_11eb_967b_0242ac1c0002row32_col6\" class=\"data row32 col6\" >LOW</td>\n",
              "            </tr>\n",
              "            <tr>\n",
              "                        <th id=\"T_15cf45ec_03d0_11eb_967b_0242ac1c0002level0_row33\" class=\"row_heading level0 row33\" >153</th>\n",
              "                        <td id=\"T_15cf45ec_03d0_11eb_967b_0242ac1c0002row33_col0\" class=\"data row33 col0\" >8258</td>\n",
              "                        <td id=\"T_15cf45ec_03d0_11eb_967b_0242ac1c0002row33_col1\" class=\"data row33 col1\" >COVID-19 - Maras, Cusco, Peru</td>\n",
              "                        <td id=\"T_15cf45ec_03d0_11eb_967b_0242ac1c0002row33_col2\" class=\"data row33 col2\" >100</td>\n",
              "                        <td id=\"T_15cf45ec_03d0_11eb_967b_0242ac1c0002row33_col3\" class=\"data row33 col3\" >100</td>\n",
              "                        <td id=\"T_15cf45ec_03d0_11eb_967b_0242ac1c0002row33_col4\" class=\"data row33 col4\" >BEGINNER</td>\n",
              "                        <td id=\"T_15cf45ec_03d0_11eb_967b_0242ac1c0002row33_col5\" class=\"data row33 col5\" >ARCHIVED</td>\n",
              "                        <td id=\"T_15cf45ec_03d0_11eb_967b_0242ac1c0002row33_col6\" class=\"data row33 col6\" >LOW</td>\n",
              "            </tr>\n",
              "            <tr>\n",
              "                        <th id=\"T_15cf45ec_03d0_11eb_967b_0242ac1c0002level0_row34\" class=\"row_heading level0 row34\" >154</th>\n",
              "                        <td id=\"T_15cf45ec_03d0_11eb_967b_0242ac1c0002row34_col0\" class=\"data row34 col0\" >8259</td>\n",
              "                        <td id=\"T_15cf45ec_03d0_11eb_967b_0242ac1c0002row34_col1\" class=\"data row34 col1\" >COVID-19 - Ollantaytambo, Cusco, Peru</td>\n",
              "                        <td id=\"T_15cf45ec_03d0_11eb_967b_0242ac1c0002row34_col2\" class=\"data row34 col2\" >100</td>\n",
              "                        <td id=\"T_15cf45ec_03d0_11eb_967b_0242ac1c0002row34_col3\" class=\"data row34 col3\" >100</td>\n",
              "                        <td id=\"T_15cf45ec_03d0_11eb_967b_0242ac1c0002row34_col4\" class=\"data row34 col4\" >BEGINNER</td>\n",
              "                        <td id=\"T_15cf45ec_03d0_11eb_967b_0242ac1c0002row34_col5\" class=\"data row34 col5\" >ARCHIVED</td>\n",
              "                        <td id=\"T_15cf45ec_03d0_11eb_967b_0242ac1c0002row34_col6\" class=\"data row34 col6\" >LOW</td>\n",
              "            </tr>\n",
              "            <tr>\n",
              "                        <th id=\"T_15cf45ec_03d0_11eb_967b_0242ac1c0002level0_row35\" class=\"row_heading level0 row35\" >155</th>\n",
              "                        <td id=\"T_15cf45ec_03d0_11eb_967b_0242ac1c0002row35_col0\" class=\"data row35 col0\" >8260</td>\n",
              "                        <td id=\"T_15cf45ec_03d0_11eb_967b_0242ac1c0002row35_col1\" class=\"data row35 col1\" >COVID-19 - Pisac, Cusco, Peru</td>\n",
              "                        <td id=\"T_15cf45ec_03d0_11eb_967b_0242ac1c0002row35_col2\" class=\"data row35 col2\" >100</td>\n",
              "                        <td id=\"T_15cf45ec_03d0_11eb_967b_0242ac1c0002row35_col3\" class=\"data row35 col3\" >100</td>\n",
              "                        <td id=\"T_15cf45ec_03d0_11eb_967b_0242ac1c0002row35_col4\" class=\"data row35 col4\" >BEGINNER</td>\n",
              "                        <td id=\"T_15cf45ec_03d0_11eb_967b_0242ac1c0002row35_col5\" class=\"data row35 col5\" >ARCHIVED</td>\n",
              "                        <td id=\"T_15cf45ec_03d0_11eb_967b_0242ac1c0002row35_col6\" class=\"data row35 col6\" >LOW</td>\n",
              "            </tr>\n",
              "            <tr>\n",
              "                        <th id=\"T_15cf45ec_03d0_11eb_967b_0242ac1c0002level0_row36\" class=\"row_heading level0 row36\" >156</th>\n",
              "                        <td id=\"T_15cf45ec_03d0_11eb_967b_0242ac1c0002row36_col0\" class=\"data row36 col0\" >8261</td>\n",
              "                        <td id=\"T_15cf45ec_03d0_11eb_967b_0242ac1c0002row36_col1\" class=\"data row36 col1\" >COVID-19 - Poroy, Cusco, Peru</td>\n",
              "                        <td id=\"T_15cf45ec_03d0_11eb_967b_0242ac1c0002row36_col2\" class=\"data row36 col2\" >100</td>\n",
              "                        <td id=\"T_15cf45ec_03d0_11eb_967b_0242ac1c0002row36_col3\" class=\"data row36 col3\" >100</td>\n",
              "                        <td id=\"T_15cf45ec_03d0_11eb_967b_0242ac1c0002row36_col4\" class=\"data row36 col4\" >BEGINNER</td>\n",
              "                        <td id=\"T_15cf45ec_03d0_11eb_967b_0242ac1c0002row36_col5\" class=\"data row36 col5\" >ARCHIVED</td>\n",
              "                        <td id=\"T_15cf45ec_03d0_11eb_967b_0242ac1c0002row36_col6\" class=\"data row36 col6\" >LOW</td>\n",
              "            </tr>\n",
              "            <tr>\n",
              "                        <th id=\"T_15cf45ec_03d0_11eb_967b_0242ac1c0002level0_row37\" class=\"row_heading level0 row37\" >157</th>\n",
              "                        <td id=\"T_15cf45ec_03d0_11eb_967b_0242ac1c0002row37_col0\" class=\"data row37 col0\" >8262</td>\n",
              "                        <td id=\"T_15cf45ec_03d0_11eb_967b_0242ac1c0002row37_col1\" class=\"data row37 col1\" >COVID-19 - Quiquijana, Cusco, Peru</td>\n",
              "                        <td id=\"T_15cf45ec_03d0_11eb_967b_0242ac1c0002row37_col2\" class=\"data row37 col2\" >100</td>\n",
              "                        <td id=\"T_15cf45ec_03d0_11eb_967b_0242ac1c0002row37_col3\" class=\"data row37 col3\" >100</td>\n",
              "                        <td id=\"T_15cf45ec_03d0_11eb_967b_0242ac1c0002row37_col4\" class=\"data row37 col4\" >BEGINNER</td>\n",
              "                        <td id=\"T_15cf45ec_03d0_11eb_967b_0242ac1c0002row37_col5\" class=\"data row37 col5\" >ARCHIVED</td>\n",
              "                        <td id=\"T_15cf45ec_03d0_11eb_967b_0242ac1c0002row37_col6\" class=\"data row37 col6\" >LOW</td>\n",
              "            </tr>\n",
              "            <tr>\n",
              "                        <th id=\"T_15cf45ec_03d0_11eb_967b_0242ac1c0002level0_row38\" class=\"row_heading level0 row38\" >158</th>\n",
              "                        <td id=\"T_15cf45ec_03d0_11eb_967b_0242ac1c0002row38_col0\" class=\"data row38 col0\" >8268</td>\n",
              "                        <td id=\"T_15cf45ec_03d0_11eb_967b_0242ac1c0002row38_col1\" class=\"data row38 col1\" >COVID-19 - Alto Pichigua, Cusco, Peru</td>\n",
              "                        <td id=\"T_15cf45ec_03d0_11eb_967b_0242ac1c0002row38_col2\" class=\"data row38 col2\" >100</td>\n",
              "                        <td id=\"T_15cf45ec_03d0_11eb_967b_0242ac1c0002row38_col3\" class=\"data row38 col3\" >100</td>\n",
              "                        <td id=\"T_15cf45ec_03d0_11eb_967b_0242ac1c0002row38_col4\" class=\"data row38 col4\" >BEGINNER</td>\n",
              "                        <td id=\"T_15cf45ec_03d0_11eb_967b_0242ac1c0002row38_col5\" class=\"data row38 col5\" >ARCHIVED</td>\n",
              "                        <td id=\"T_15cf45ec_03d0_11eb_967b_0242ac1c0002row38_col6\" class=\"data row38 col6\" >LOW</td>\n",
              "            </tr>\n",
              "            <tr>\n",
              "                        <th id=\"T_15cf45ec_03d0_11eb_967b_0242ac1c0002level0_row39\" class=\"row_heading level0 row39\" >159</th>\n",
              "                        <td id=\"T_15cf45ec_03d0_11eb_967b_0242ac1c0002row39_col0\" class=\"data row39 col0\" >8269</td>\n",
              "                        <td id=\"T_15cf45ec_03d0_11eb_967b_0242ac1c0002row39_col1\" class=\"data row39 col1\" >COVID-19 - Capacmarca, Cusco, Peru</td>\n",
              "                        <td id=\"T_15cf45ec_03d0_11eb_967b_0242ac1c0002row39_col2\" class=\"data row39 col2\" >99</td>\n",
              "                        <td id=\"T_15cf45ec_03d0_11eb_967b_0242ac1c0002row39_col3\" class=\"data row39 col3\" >99</td>\n",
              "                        <td id=\"T_15cf45ec_03d0_11eb_967b_0242ac1c0002row39_col4\" class=\"data row39 col4\" >BEGINNER</td>\n",
              "                        <td id=\"T_15cf45ec_03d0_11eb_967b_0242ac1c0002row39_col5\" class=\"data row39 col5\" >ARCHIVED</td>\n",
              "                        <td id=\"T_15cf45ec_03d0_11eb_967b_0242ac1c0002row39_col6\" class=\"data row39 col6\" >LOW</td>\n",
              "            </tr>\n",
              "            <tr>\n",
              "                        <th id=\"T_15cf45ec_03d0_11eb_967b_0242ac1c0002level0_row40\" class=\"row_heading level0 row40\" >160</th>\n",
              "                        <td id=\"T_15cf45ec_03d0_11eb_967b_0242ac1c0002row40_col0\" class=\"data row40 col0\" >8270</td>\n",
              "                        <td id=\"T_15cf45ec_03d0_11eb_967b_0242ac1c0002row40_col1\" class=\"data row40 col1\" >COVID-19 - Colquemarca, Cusco, Peru</td>\n",
              "                        <td id=\"T_15cf45ec_03d0_11eb_967b_0242ac1c0002row40_col2\" class=\"data row40 col2\" >99</td>\n",
              "                        <td id=\"T_15cf45ec_03d0_11eb_967b_0242ac1c0002row40_col3\" class=\"data row40 col3\" >96</td>\n",
              "                        <td id=\"T_15cf45ec_03d0_11eb_967b_0242ac1c0002row40_col4\" class=\"data row40 col4\" >BEGINNER</td>\n",
              "                        <td id=\"T_15cf45ec_03d0_11eb_967b_0242ac1c0002row40_col5\" class=\"data row40 col5\" >ARCHIVED</td>\n",
              "                        <td id=\"T_15cf45ec_03d0_11eb_967b_0242ac1c0002row40_col6\" class=\"data row40 col6\" >LOW</td>\n",
              "            </tr>\n",
              "            <tr>\n",
              "                        <th id=\"T_15cf45ec_03d0_11eb_967b_0242ac1c0002level0_row41\" class=\"row_heading level0 row41\" >161</th>\n",
              "                        <td id=\"T_15cf45ec_03d0_11eb_967b_0242ac1c0002row41_col0\" class=\"data row41 col0\" >8271</td>\n",
              "                        <td id=\"T_15cf45ec_03d0_11eb_967b_0242ac1c0002row41_col1\" class=\"data row41 col1\" >COVID-19 - Condoroma, Cusco, Peru</td>\n",
              "                        <td id=\"T_15cf45ec_03d0_11eb_967b_0242ac1c0002row41_col2\" class=\"data row41 col2\" >100</td>\n",
              "                        <td id=\"T_15cf45ec_03d0_11eb_967b_0242ac1c0002row41_col3\" class=\"data row41 col3\" >100</td>\n",
              "                        <td id=\"T_15cf45ec_03d0_11eb_967b_0242ac1c0002row41_col4\" class=\"data row41 col4\" >BEGINNER</td>\n",
              "                        <td id=\"T_15cf45ec_03d0_11eb_967b_0242ac1c0002row41_col5\" class=\"data row41 col5\" >ARCHIVED</td>\n",
              "                        <td id=\"T_15cf45ec_03d0_11eb_967b_0242ac1c0002row41_col6\" class=\"data row41 col6\" >LOW</td>\n",
              "            </tr>\n",
              "            <tr>\n",
              "                        <th id=\"T_15cf45ec_03d0_11eb_967b_0242ac1c0002level0_row42\" class=\"row_heading level0 row42\" >162</th>\n",
              "                        <td id=\"T_15cf45ec_03d0_11eb_967b_0242ac1c0002row42_col0\" class=\"data row42 col0\" >8272</td>\n",
              "                        <td id=\"T_15cf45ec_03d0_11eb_967b_0242ac1c0002row42_col1\" class=\"data row42 col1\" >COVID-19 - Huayopata, Cusco, Peru</td>\n",
              "                        <td id=\"T_15cf45ec_03d0_11eb_967b_0242ac1c0002row42_col2\" class=\"data row42 col2\" >100</td>\n",
              "                        <td id=\"T_15cf45ec_03d0_11eb_967b_0242ac1c0002row42_col3\" class=\"data row42 col3\" >100</td>\n",
              "                        <td id=\"T_15cf45ec_03d0_11eb_967b_0242ac1c0002row42_col4\" class=\"data row42 col4\" >BEGINNER</td>\n",
              "                        <td id=\"T_15cf45ec_03d0_11eb_967b_0242ac1c0002row42_col5\" class=\"data row42 col5\" >ARCHIVED</td>\n",
              "                        <td id=\"T_15cf45ec_03d0_11eb_967b_0242ac1c0002row42_col6\" class=\"data row42 col6\" >LOW</td>\n",
              "            </tr>\n",
              "            <tr>\n",
              "                        <th id=\"T_15cf45ec_03d0_11eb_967b_0242ac1c0002level0_row43\" class=\"row_heading level0 row43\" >163</th>\n",
              "                        <td id=\"T_15cf45ec_03d0_11eb_967b_0242ac1c0002row43_col0\" class=\"data row43 col0\" >8273</td>\n",
              "                        <td id=\"T_15cf45ec_03d0_11eb_967b_0242ac1c0002row43_col1\" class=\"data row43 col1\" >COVID-19 - Kimbiri, Cusco, Peru</td>\n",
              "                        <td id=\"T_15cf45ec_03d0_11eb_967b_0242ac1c0002row43_col2\" class=\"data row43 col2\" >100</td>\n",
              "                        <td id=\"T_15cf45ec_03d0_11eb_967b_0242ac1c0002row43_col3\" class=\"data row43 col3\" >99</td>\n",
              "                        <td id=\"T_15cf45ec_03d0_11eb_967b_0242ac1c0002row43_col4\" class=\"data row43 col4\" >BEGINNER</td>\n",
              "                        <td id=\"T_15cf45ec_03d0_11eb_967b_0242ac1c0002row43_col5\" class=\"data row43 col5\" >ARCHIVED</td>\n",
              "                        <td id=\"T_15cf45ec_03d0_11eb_967b_0242ac1c0002row43_col6\" class=\"data row43 col6\" >LOW</td>\n",
              "            </tr>\n",
              "            <tr>\n",
              "                        <th id=\"T_15cf45ec_03d0_11eb_967b_0242ac1c0002level0_row44\" class=\"row_heading level0 row44\" >164</th>\n",
              "                        <td id=\"T_15cf45ec_03d0_11eb_967b_0242ac1c0002row44_col0\" class=\"data row44 col0\" >8274</td>\n",
              "                        <td id=\"T_15cf45ec_03d0_11eb_967b_0242ac1c0002row44_col1\" class=\"data row44 col1\" >COVID-19 - Llusco, Cusco, Peru</td>\n",
              "                        <td id=\"T_15cf45ec_03d0_11eb_967b_0242ac1c0002row44_col2\" class=\"data row44 col2\" >100</td>\n",
              "                        <td id=\"T_15cf45ec_03d0_11eb_967b_0242ac1c0002row44_col3\" class=\"data row44 col3\" >100</td>\n",
              "                        <td id=\"T_15cf45ec_03d0_11eb_967b_0242ac1c0002row44_col4\" class=\"data row44 col4\" >BEGINNER</td>\n",
              "                        <td id=\"T_15cf45ec_03d0_11eb_967b_0242ac1c0002row44_col5\" class=\"data row44 col5\" >ARCHIVED</td>\n",
              "                        <td id=\"T_15cf45ec_03d0_11eb_967b_0242ac1c0002row44_col6\" class=\"data row44 col6\" >LOW</td>\n",
              "            </tr>\n",
              "            <tr>\n",
              "                        <th id=\"T_15cf45ec_03d0_11eb_967b_0242ac1c0002level0_row45\" class=\"row_heading level0 row45\" >165</th>\n",
              "                        <td id=\"T_15cf45ec_03d0_11eb_967b_0242ac1c0002row45_col0\" class=\"data row45 col0\" >8275</td>\n",
              "                        <td id=\"T_15cf45ec_03d0_11eb_967b_0242ac1c0002row45_col1\" class=\"data row45 col1\" >COVID-19 - Maranura, Cusco, Peru</td>\n",
              "                        <td id=\"T_15cf45ec_03d0_11eb_967b_0242ac1c0002row45_col2\" class=\"data row45 col2\" >100</td>\n",
              "                        <td id=\"T_15cf45ec_03d0_11eb_967b_0242ac1c0002row45_col3\" class=\"data row45 col3\" >100</td>\n",
              "                        <td id=\"T_15cf45ec_03d0_11eb_967b_0242ac1c0002row45_col4\" class=\"data row45 col4\" >BEGINNER</td>\n",
              "                        <td id=\"T_15cf45ec_03d0_11eb_967b_0242ac1c0002row45_col5\" class=\"data row45 col5\" >ARCHIVED</td>\n",
              "                        <td id=\"T_15cf45ec_03d0_11eb_967b_0242ac1c0002row45_col6\" class=\"data row45 col6\" >LOW</td>\n",
              "            </tr>\n",
              "            <tr>\n",
              "                        <th id=\"T_15cf45ec_03d0_11eb_967b_0242ac1c0002level0_row46\" class=\"row_heading level0 row46\" >166</th>\n",
              "                        <td id=\"T_15cf45ec_03d0_11eb_967b_0242ac1c0002row46_col0\" class=\"data row46 col0\" >8276</td>\n",
              "                        <td id=\"T_15cf45ec_03d0_11eb_967b_0242ac1c0002row46_col1\" class=\"data row46 col1\" >COVID-19 - Ocoruro, Cusco, Peru</td>\n",
              "                        <td id=\"T_15cf45ec_03d0_11eb_967b_0242ac1c0002row46_col2\" class=\"data row46 col2\" >100</td>\n",
              "                        <td id=\"T_15cf45ec_03d0_11eb_967b_0242ac1c0002row46_col3\" class=\"data row46 col3\" >100</td>\n",
              "                        <td id=\"T_15cf45ec_03d0_11eb_967b_0242ac1c0002row46_col4\" class=\"data row46 col4\" >BEGINNER</td>\n",
              "                        <td id=\"T_15cf45ec_03d0_11eb_967b_0242ac1c0002row46_col5\" class=\"data row46 col5\" >ARCHIVED</td>\n",
              "                        <td id=\"T_15cf45ec_03d0_11eb_967b_0242ac1c0002row46_col6\" class=\"data row46 col6\" >LOW</td>\n",
              "            </tr>\n",
              "            <tr>\n",
              "                        <th id=\"T_15cf45ec_03d0_11eb_967b_0242ac1c0002level0_row47\" class=\"row_heading level0 row47\" >167</th>\n",
              "                        <td id=\"T_15cf45ec_03d0_11eb_967b_0242ac1c0002row47_col0\" class=\"data row47 col0\" >8277</td>\n",
              "                        <td id=\"T_15cf45ec_03d0_11eb_967b_0242ac1c0002row47_col1\" class=\"data row47 col1\" >COVID-19 - Pallpata, Cusco, Peru</td>\n",
              "                        <td id=\"T_15cf45ec_03d0_11eb_967b_0242ac1c0002row47_col2\" class=\"data row47 col2\" >100</td>\n",
              "                        <td id=\"T_15cf45ec_03d0_11eb_967b_0242ac1c0002row47_col3\" class=\"data row47 col3\" >100</td>\n",
              "                        <td id=\"T_15cf45ec_03d0_11eb_967b_0242ac1c0002row47_col4\" class=\"data row47 col4\" >BEGINNER</td>\n",
              "                        <td id=\"T_15cf45ec_03d0_11eb_967b_0242ac1c0002row47_col5\" class=\"data row47 col5\" >ARCHIVED</td>\n",
              "                        <td id=\"T_15cf45ec_03d0_11eb_967b_0242ac1c0002row47_col6\" class=\"data row47 col6\" >LOW</td>\n",
              "            </tr>\n",
              "            <tr>\n",
              "                        <th id=\"T_15cf45ec_03d0_11eb_967b_0242ac1c0002level0_row48\" class=\"row_heading level0 row48\" >168</th>\n",
              "                        <td id=\"T_15cf45ec_03d0_11eb_967b_0242ac1c0002row48_col0\" class=\"data row48 col0\" >8278</td>\n",
              "                        <td id=\"T_15cf45ec_03d0_11eb_967b_0242ac1c0002row48_col1\" class=\"data row48 col1\" >COVID-19 - Pichari, Cusco, Peru</td>\n",
              "                        <td id=\"T_15cf45ec_03d0_11eb_967b_0242ac1c0002row48_col2\" class=\"data row48 col2\" >98</td>\n",
              "                        <td id=\"T_15cf45ec_03d0_11eb_967b_0242ac1c0002row48_col3\" class=\"data row48 col3\" >92</td>\n",
              "                        <td id=\"T_15cf45ec_03d0_11eb_967b_0242ac1c0002row48_col4\" class=\"data row48 col4\" >BEGINNER</td>\n",
              "                        <td id=\"T_15cf45ec_03d0_11eb_967b_0242ac1c0002row48_col5\" class=\"data row48 col5\" >ARCHIVED</td>\n",
              "                        <td id=\"T_15cf45ec_03d0_11eb_967b_0242ac1c0002row48_col6\" class=\"data row48 col6\" >LOW</td>\n",
              "            </tr>\n",
              "            <tr>\n",
              "                        <th id=\"T_15cf45ec_03d0_11eb_967b_0242ac1c0002level0_row49\" class=\"row_heading level0 row49\" >169</th>\n",
              "                        <td id=\"T_15cf45ec_03d0_11eb_967b_0242ac1c0002row49_col0\" class=\"data row49 col0\" >8279</td>\n",
              "                        <td id=\"T_15cf45ec_03d0_11eb_967b_0242ac1c0002row49_col1\" class=\"data row49 col1\" >COVID-19 - Pichigua, Cusco, Peru</td>\n",
              "                        <td id=\"T_15cf45ec_03d0_11eb_967b_0242ac1c0002row49_col2\" class=\"data row49 col2\" >100</td>\n",
              "                        <td id=\"T_15cf45ec_03d0_11eb_967b_0242ac1c0002row49_col3\" class=\"data row49 col3\" >100</td>\n",
              "                        <td id=\"T_15cf45ec_03d0_11eb_967b_0242ac1c0002row49_col4\" class=\"data row49 col4\" >BEGINNER</td>\n",
              "                        <td id=\"T_15cf45ec_03d0_11eb_967b_0242ac1c0002row49_col5\" class=\"data row49 col5\" >ARCHIVED</td>\n",
              "                        <td id=\"T_15cf45ec_03d0_11eb_967b_0242ac1c0002row49_col6\" class=\"data row49 col6\" >LOW</td>\n",
              "            </tr>\n",
              "            <tr>\n",
              "                        <th id=\"T_15cf45ec_03d0_11eb_967b_0242ac1c0002level0_row50\" class=\"row_heading level0 row50\" >170</th>\n",
              "                        <td id=\"T_15cf45ec_03d0_11eb_967b_0242ac1c0002row50_col0\" class=\"data row50 col0\" >8280</td>\n",
              "                        <td id=\"T_15cf45ec_03d0_11eb_967b_0242ac1c0002row50_col1\" class=\"data row50 col1\" >COVID-19 - Quiñota, Cusco, Peru</td>\n",
              "                        <td id=\"T_15cf45ec_03d0_11eb_967b_0242ac1c0002row50_col2\" class=\"data row50 col2\" >99</td>\n",
              "                        <td id=\"T_15cf45ec_03d0_11eb_967b_0242ac1c0002row50_col3\" class=\"data row50 col3\" >95</td>\n",
              "                        <td id=\"T_15cf45ec_03d0_11eb_967b_0242ac1c0002row50_col4\" class=\"data row50 col4\" >BEGINNER</td>\n",
              "                        <td id=\"T_15cf45ec_03d0_11eb_967b_0242ac1c0002row50_col5\" class=\"data row50 col5\" >ARCHIVED</td>\n",
              "                        <td id=\"T_15cf45ec_03d0_11eb_967b_0242ac1c0002row50_col6\" class=\"data row50 col6\" >LOW</td>\n",
              "            </tr>\n",
              "            <tr>\n",
              "                        <th id=\"T_15cf45ec_03d0_11eb_967b_0242ac1c0002level0_row51\" class=\"row_heading level0 row51\" >171</th>\n",
              "                        <td id=\"T_15cf45ec_03d0_11eb_967b_0242ac1c0002row51_col0\" class=\"data row51 col0\" >8281</td>\n",
              "                        <td id=\"T_15cf45ec_03d0_11eb_967b_0242ac1c0002row51_col1\" class=\"data row51 col1\" >COVID-19 - Suyckutambo, Cusco, Peru</td>\n",
              "                        <td id=\"T_15cf45ec_03d0_11eb_967b_0242ac1c0002row51_col2\" class=\"data row51 col2\" >100</td>\n",
              "                        <td id=\"T_15cf45ec_03d0_11eb_967b_0242ac1c0002row51_col3\" class=\"data row51 col3\" >100</td>\n",
              "                        <td id=\"T_15cf45ec_03d0_11eb_967b_0242ac1c0002row51_col4\" class=\"data row51 col4\" >BEGINNER</td>\n",
              "                        <td id=\"T_15cf45ec_03d0_11eb_967b_0242ac1c0002row51_col5\" class=\"data row51 col5\" >ARCHIVED</td>\n",
              "                        <td id=\"T_15cf45ec_03d0_11eb_967b_0242ac1c0002row51_col6\" class=\"data row51 col6\" >LOW</td>\n",
              "            </tr>\n",
              "            <tr>\n",
              "                        <th id=\"T_15cf45ec_03d0_11eb_967b_0242ac1c0002level0_row52\" class=\"row_heading level0 row52\" >172</th>\n",
              "                        <td id=\"T_15cf45ec_03d0_11eb_967b_0242ac1c0002row52_col0\" class=\"data row52 col0\" >8282</td>\n",
              "                        <td id=\"T_15cf45ec_03d0_11eb_967b_0242ac1c0002row52_col1\" class=\"data row52 col1\" >COVID-19 - Cachimayo, Cusco, Peru</td>\n",
              "                        <td id=\"T_15cf45ec_03d0_11eb_967b_0242ac1c0002row52_col2\" class=\"data row52 col2\" >100</td>\n",
              "                        <td id=\"T_15cf45ec_03d0_11eb_967b_0242ac1c0002row52_col3\" class=\"data row52 col3\" >100</td>\n",
              "                        <td id=\"T_15cf45ec_03d0_11eb_967b_0242ac1c0002row52_col4\" class=\"data row52 col4\" >BEGINNER</td>\n",
              "                        <td id=\"T_15cf45ec_03d0_11eb_967b_0242ac1c0002row52_col5\" class=\"data row52 col5\" >ARCHIVED</td>\n",
              "                        <td id=\"T_15cf45ec_03d0_11eb_967b_0242ac1c0002row52_col6\" class=\"data row52 col6\" >LOW</td>\n",
              "            </tr>\n",
              "            <tr>\n",
              "                        <th id=\"T_15cf45ec_03d0_11eb_967b_0242ac1c0002level0_row53\" class=\"row_heading level0 row53\" >42</th>\n",
              "                        <td id=\"T_15cf45ec_03d0_11eb_967b_0242ac1c0002row53_col0\" class=\"data row53 col0\" >8301</td>\n",
              "                        <td id=\"T_15cf45ec_03d0_11eb_967b_0242ac1c0002row53_col1\" class=\"data row53 col1\" >Cusco Region, Peru places mapping</td>\n",
              "                        <td id=\"T_15cf45ec_03d0_11eb_967b_0242ac1c0002row53_col2\" class=\"data row53 col2\" >100</td>\n",
              "                        <td id=\"T_15cf45ec_03d0_11eb_967b_0242ac1c0002row53_col3\" class=\"data row53 col3\" >32</td>\n",
              "                        <td id=\"T_15cf45ec_03d0_11eb_967b_0242ac1c0002row53_col4\" class=\"data row53 col4\" >INTERMEDIATE</td>\n",
              "                        <td id=\"T_15cf45ec_03d0_11eb_967b_0242ac1c0002row53_col5\" class=\"data row53 col5\" >PUBLISHED</td>\n",
              "                        <td id=\"T_15cf45ec_03d0_11eb_967b_0242ac1c0002row53_col6\" class=\"data row53 col6\" >MEDIUM</td>\n",
              "            </tr>\n",
              "            <tr>\n",
              "                        <th id=\"T_15cf45ec_03d0_11eb_967b_0242ac1c0002level0_row54\" class=\"row_heading level0 row54\" >173</th>\n",
              "                        <td id=\"T_15cf45ec_03d0_11eb_967b_0242ac1c0002row54_col0\" class=\"data row54 col0\" >8306</td>\n",
              "                        <td id=\"T_15cf45ec_03d0_11eb_967b_0242ac1c0002row54_col1\" class=\"data row54 col1\" >COVID-19 - Yanatile 1, Cusco, Peru</td>\n",
              "                        <td id=\"T_15cf45ec_03d0_11eb_967b_0242ac1c0002row54_col2\" class=\"data row54 col2\" >100</td>\n",
              "                        <td id=\"T_15cf45ec_03d0_11eb_967b_0242ac1c0002row54_col3\" class=\"data row54 col3\" >98</td>\n",
              "                        <td id=\"T_15cf45ec_03d0_11eb_967b_0242ac1c0002row54_col4\" class=\"data row54 col4\" >BEGINNER</td>\n",
              "                        <td id=\"T_15cf45ec_03d0_11eb_967b_0242ac1c0002row54_col5\" class=\"data row54 col5\" >ARCHIVED</td>\n",
              "                        <td id=\"T_15cf45ec_03d0_11eb_967b_0242ac1c0002row54_col6\" class=\"data row54 col6\" >LOW</td>\n",
              "            </tr>\n",
              "            <tr>\n",
              "                        <th id=\"T_15cf45ec_03d0_11eb_967b_0242ac1c0002level0_row55\" class=\"row_heading level0 row55\" >174</th>\n",
              "                        <td id=\"T_15cf45ec_03d0_11eb_967b_0242ac1c0002row55_col0\" class=\"data row55 col0\" >8307</td>\n",
              "                        <td id=\"T_15cf45ec_03d0_11eb_967b_0242ac1c0002row55_col1\" class=\"data row55 col1\" >COVID-19 - Yanatile 2, Cusco, Peru</td>\n",
              "                        <td id=\"T_15cf45ec_03d0_11eb_967b_0242ac1c0002row55_col2\" class=\"data row55 col2\" >99</td>\n",
              "                        <td id=\"T_15cf45ec_03d0_11eb_967b_0242ac1c0002row55_col3\" class=\"data row55 col3\" >97</td>\n",
              "                        <td id=\"T_15cf45ec_03d0_11eb_967b_0242ac1c0002row55_col4\" class=\"data row55 col4\" >BEGINNER</td>\n",
              "                        <td id=\"T_15cf45ec_03d0_11eb_967b_0242ac1c0002row55_col5\" class=\"data row55 col5\" >ARCHIVED</td>\n",
              "                        <td id=\"T_15cf45ec_03d0_11eb_967b_0242ac1c0002row55_col6\" class=\"data row55 col6\" >LOW</td>\n",
              "            </tr>\n",
              "            <tr>\n",
              "                        <th id=\"T_15cf45ec_03d0_11eb_967b_0242ac1c0002level0_row56\" class=\"row_heading level0 row56\" >175</th>\n",
              "                        <td id=\"T_15cf45ec_03d0_11eb_967b_0242ac1c0002row56_col0\" class=\"data row56 col0\" >8308</td>\n",
              "                        <td id=\"T_15cf45ec_03d0_11eb_967b_0242ac1c0002row56_col1\" class=\"data row56 col1\" >COVID-19 - Vilcabamba 1, Cusco, Peru</td>\n",
              "                        <td id=\"T_15cf45ec_03d0_11eb_967b_0242ac1c0002row56_col2\" class=\"data row56 col2\" >99</td>\n",
              "                        <td id=\"T_15cf45ec_03d0_11eb_967b_0242ac1c0002row56_col3\" class=\"data row56 col3\" >99</td>\n",
              "                        <td id=\"T_15cf45ec_03d0_11eb_967b_0242ac1c0002row56_col4\" class=\"data row56 col4\" >BEGINNER</td>\n",
              "                        <td id=\"T_15cf45ec_03d0_11eb_967b_0242ac1c0002row56_col5\" class=\"data row56 col5\" >ARCHIVED</td>\n",
              "                        <td id=\"T_15cf45ec_03d0_11eb_967b_0242ac1c0002row56_col6\" class=\"data row56 col6\" >LOW</td>\n",
              "            </tr>\n",
              "            <tr>\n",
              "                        <th id=\"T_15cf45ec_03d0_11eb_967b_0242ac1c0002level0_row57\" class=\"row_heading level0 row57\" >176</th>\n",
              "                        <td id=\"T_15cf45ec_03d0_11eb_967b_0242ac1c0002row57_col0\" class=\"data row57 col0\" >8309</td>\n",
              "                        <td id=\"T_15cf45ec_03d0_11eb_967b_0242ac1c0002row57_col1\" class=\"data row57 col1\" >COVID-19 - Vilcabamba 2, Cusco, Peru</td>\n",
              "                        <td id=\"T_15cf45ec_03d0_11eb_967b_0242ac1c0002row57_col2\" class=\"data row57 col2\" >100</td>\n",
              "                        <td id=\"T_15cf45ec_03d0_11eb_967b_0242ac1c0002row57_col3\" class=\"data row57 col3\" >100</td>\n",
              "                        <td id=\"T_15cf45ec_03d0_11eb_967b_0242ac1c0002row57_col4\" class=\"data row57 col4\" >BEGINNER</td>\n",
              "                        <td id=\"T_15cf45ec_03d0_11eb_967b_0242ac1c0002row57_col5\" class=\"data row57 col5\" >ARCHIVED</td>\n",
              "                        <td id=\"T_15cf45ec_03d0_11eb_967b_0242ac1c0002row57_col6\" class=\"data row57 col6\" >LOW</td>\n",
              "            </tr>\n",
              "            <tr>\n",
              "                        <th id=\"T_15cf45ec_03d0_11eb_967b_0242ac1c0002level0_row58\" class=\"row_heading level0 row58\" >177</th>\n",
              "                        <td id=\"T_15cf45ec_03d0_11eb_967b_0242ac1c0002row58_col0\" class=\"data row58 col0\" >8310</td>\n",
              "                        <td id=\"T_15cf45ec_03d0_11eb_967b_0242ac1c0002row58_col1\" class=\"data row58 col1\" >COVID-19 - Coporaque 1, Cusco, Peru</td>\n",
              "                        <td id=\"T_15cf45ec_03d0_11eb_967b_0242ac1c0002row58_col2\" class=\"data row58 col2\" >100</td>\n",
              "                        <td id=\"T_15cf45ec_03d0_11eb_967b_0242ac1c0002row58_col3\" class=\"data row58 col3\" >100</td>\n",
              "                        <td id=\"T_15cf45ec_03d0_11eb_967b_0242ac1c0002row58_col4\" class=\"data row58 col4\" >BEGINNER</td>\n",
              "                        <td id=\"T_15cf45ec_03d0_11eb_967b_0242ac1c0002row58_col5\" class=\"data row58 col5\" >ARCHIVED</td>\n",
              "                        <td id=\"T_15cf45ec_03d0_11eb_967b_0242ac1c0002row58_col6\" class=\"data row58 col6\" >LOW</td>\n",
              "            </tr>\n",
              "            <tr>\n",
              "                        <th id=\"T_15cf45ec_03d0_11eb_967b_0242ac1c0002level0_row59\" class=\"row_heading level0 row59\" >178</th>\n",
              "                        <td id=\"T_15cf45ec_03d0_11eb_967b_0242ac1c0002row59_col0\" class=\"data row59 col0\" >8311</td>\n",
              "                        <td id=\"T_15cf45ec_03d0_11eb_967b_0242ac1c0002row59_col1\" class=\"data row59 col1\" >COVID-19 - Coporaque 2, Cusco, Peru</td>\n",
              "                        <td id=\"T_15cf45ec_03d0_11eb_967b_0242ac1c0002row59_col2\" class=\"data row59 col2\" >100</td>\n",
              "                        <td id=\"T_15cf45ec_03d0_11eb_967b_0242ac1c0002row59_col3\" class=\"data row59 col3\" >100</td>\n",
              "                        <td id=\"T_15cf45ec_03d0_11eb_967b_0242ac1c0002row59_col4\" class=\"data row59 col4\" >BEGINNER</td>\n",
              "                        <td id=\"T_15cf45ec_03d0_11eb_967b_0242ac1c0002row59_col5\" class=\"data row59 col5\" >ARCHIVED</td>\n",
              "                        <td id=\"T_15cf45ec_03d0_11eb_967b_0242ac1c0002row59_col6\" class=\"data row59 col6\" >LOW</td>\n",
              "            </tr>\n",
              "            <tr>\n",
              "                        <th id=\"T_15cf45ec_03d0_11eb_967b_0242ac1c0002level0_row60\" class=\"row_heading level0 row60\" >184</th>\n",
              "                        <td id=\"T_15cf45ec_03d0_11eb_967b_0242ac1c0002row60_col0\" class=\"data row60 col0\" >8397</td>\n",
              "                        <td id=\"T_15cf45ec_03d0_11eb_967b_0242ac1c0002row60_col1\" class=\"data row60 col1\" >COVID-19 - Acos, Cusco, Peru</td>\n",
              "                        <td id=\"T_15cf45ec_03d0_11eb_967b_0242ac1c0002row60_col2\" class=\"data row60 col2\" >100</td>\n",
              "                        <td id=\"T_15cf45ec_03d0_11eb_967b_0242ac1c0002row60_col3\" class=\"data row60 col3\" >100</td>\n",
              "                        <td id=\"T_15cf45ec_03d0_11eb_967b_0242ac1c0002row60_col4\" class=\"data row60 col4\" >BEGINNER</td>\n",
              "                        <td id=\"T_15cf45ec_03d0_11eb_967b_0242ac1c0002row60_col5\" class=\"data row60 col5\" >ARCHIVED</td>\n",
              "                        <td id=\"T_15cf45ec_03d0_11eb_967b_0242ac1c0002row60_col6\" class=\"data row60 col6\" >LOW</td>\n",
              "            </tr>\n",
              "            <tr>\n",
              "                        <th id=\"T_15cf45ec_03d0_11eb_967b_0242ac1c0002level0_row61\" class=\"row_heading level0 row61\" >185</th>\n",
              "                        <td id=\"T_15cf45ec_03d0_11eb_967b_0242ac1c0002row61_col0\" class=\"data row61 col0\" >8398</td>\n",
              "                        <td id=\"T_15cf45ec_03d0_11eb_967b_0242ac1c0002row61_col1\" class=\"data row61 col1\" >COVID-19 - Ancahausi, Cusco, Peru</td>\n",
              "                        <td id=\"T_15cf45ec_03d0_11eb_967b_0242ac1c0002row61_col2\" class=\"data row61 col2\" >99</td>\n",
              "                        <td id=\"T_15cf45ec_03d0_11eb_967b_0242ac1c0002row61_col3\" class=\"data row61 col3\" >99</td>\n",
              "                        <td id=\"T_15cf45ec_03d0_11eb_967b_0242ac1c0002row61_col4\" class=\"data row61 col4\" >BEGINNER</td>\n",
              "                        <td id=\"T_15cf45ec_03d0_11eb_967b_0242ac1c0002row61_col5\" class=\"data row61 col5\" >ARCHIVED</td>\n",
              "                        <td id=\"T_15cf45ec_03d0_11eb_967b_0242ac1c0002row61_col6\" class=\"data row61 col6\" >LOW</td>\n",
              "            </tr>\n",
              "            <tr>\n",
              "                        <th id=\"T_15cf45ec_03d0_11eb_967b_0242ac1c0002level0_row62\" class=\"row_heading level0 row62\" >186</th>\n",
              "                        <td id=\"T_15cf45ec_03d0_11eb_967b_0242ac1c0002row62_col0\" class=\"data row62 col0\" >8400</td>\n",
              "                        <td id=\"T_15cf45ec_03d0_11eb_967b_0242ac1c0002row62_col1\" class=\"data row62 col1\" >COVID-19 - Caicay, Cusco, Peru</td>\n",
              "                        <td id=\"T_15cf45ec_03d0_11eb_967b_0242ac1c0002row62_col2\" class=\"data row62 col2\" >100</td>\n",
              "                        <td id=\"T_15cf45ec_03d0_11eb_967b_0242ac1c0002row62_col3\" class=\"data row62 col3\" >100</td>\n",
              "                        <td id=\"T_15cf45ec_03d0_11eb_967b_0242ac1c0002row62_col4\" class=\"data row62 col4\" >BEGINNER</td>\n",
              "                        <td id=\"T_15cf45ec_03d0_11eb_967b_0242ac1c0002row62_col5\" class=\"data row62 col5\" >ARCHIVED</td>\n",
              "                        <td id=\"T_15cf45ec_03d0_11eb_967b_0242ac1c0002row62_col6\" class=\"data row62 col6\" >LOW</td>\n",
              "            </tr>\n",
              "            <tr>\n",
              "                        <th id=\"T_15cf45ec_03d0_11eb_967b_0242ac1c0002level0_row63\" class=\"row_heading level0 row63\" >187</th>\n",
              "                        <td id=\"T_15cf45ec_03d0_11eb_967b_0242ac1c0002row63_col0\" class=\"data row63 col0\" >8401</td>\n",
              "                        <td id=\"T_15cf45ec_03d0_11eb_967b_0242ac1c0002row63_col1\" class=\"data row63 col1\" >COVID-19 - Ccarhuayo, Cusco, Peru</td>\n",
              "                        <td id=\"T_15cf45ec_03d0_11eb_967b_0242ac1c0002row63_col2\" class=\"data row63 col2\" >100</td>\n",
              "                        <td id=\"T_15cf45ec_03d0_11eb_967b_0242ac1c0002row63_col3\" class=\"data row63 col3\" >100</td>\n",
              "                        <td id=\"T_15cf45ec_03d0_11eb_967b_0242ac1c0002row63_col4\" class=\"data row63 col4\" >BEGINNER</td>\n",
              "                        <td id=\"T_15cf45ec_03d0_11eb_967b_0242ac1c0002row63_col5\" class=\"data row63 col5\" >ARCHIVED</td>\n",
              "                        <td id=\"T_15cf45ec_03d0_11eb_967b_0242ac1c0002row63_col6\" class=\"data row63 col6\" >LOW</td>\n",
              "            </tr>\n",
              "            <tr>\n",
              "                        <th id=\"T_15cf45ec_03d0_11eb_967b_0242ac1c0002level0_row64\" class=\"row_heading level0 row64\" >188</th>\n",
              "                        <td id=\"T_15cf45ec_03d0_11eb_967b_0242ac1c0002row64_col0\" class=\"data row64 col0\" >8403</td>\n",
              "                        <td id=\"T_15cf45ec_03d0_11eb_967b_0242ac1c0002row64_col1\" class=\"data row64 col1\" >COVID-19 - Challabamba, Cusco, Peru</td>\n",
              "                        <td id=\"T_15cf45ec_03d0_11eb_967b_0242ac1c0002row64_col2\" class=\"data row64 col2\" >99</td>\n",
              "                        <td id=\"T_15cf45ec_03d0_11eb_967b_0242ac1c0002row64_col3\" class=\"data row64 col3\" >99</td>\n",
              "                        <td id=\"T_15cf45ec_03d0_11eb_967b_0242ac1c0002row64_col4\" class=\"data row64 col4\" >BEGINNER</td>\n",
              "                        <td id=\"T_15cf45ec_03d0_11eb_967b_0242ac1c0002row64_col5\" class=\"data row64 col5\" >ARCHIVED</td>\n",
              "                        <td id=\"T_15cf45ec_03d0_11eb_967b_0242ac1c0002row64_col6\" class=\"data row64 col6\" >LOW</td>\n",
              "            </tr>\n",
              "            <tr>\n",
              "                        <th id=\"T_15cf45ec_03d0_11eb_967b_0242ac1c0002level0_row65\" class=\"row_heading level0 row65\" >189</th>\n",
              "                        <td id=\"T_15cf45ec_03d0_11eb_967b_0242ac1c0002row65_col0\" class=\"data row65 col0\" >8406</td>\n",
              "                        <td id=\"T_15cf45ec_03d0_11eb_967b_0242ac1c0002row65_col1\" class=\"data row65 col1\" >COVID-19 - Checacupe, Cusco, Peru</td>\n",
              "                        <td id=\"T_15cf45ec_03d0_11eb_967b_0242ac1c0002row65_col2\" class=\"data row65 col2\" >100</td>\n",
              "                        <td id=\"T_15cf45ec_03d0_11eb_967b_0242ac1c0002row65_col3\" class=\"data row65 col3\" >100</td>\n",
              "                        <td id=\"T_15cf45ec_03d0_11eb_967b_0242ac1c0002row65_col4\" class=\"data row65 col4\" >BEGINNER</td>\n",
              "                        <td id=\"T_15cf45ec_03d0_11eb_967b_0242ac1c0002row65_col5\" class=\"data row65 col5\" >ARCHIVED</td>\n",
              "                        <td id=\"T_15cf45ec_03d0_11eb_967b_0242ac1c0002row65_col6\" class=\"data row65 col6\" >LOW</td>\n",
              "            </tr>\n",
              "            <tr>\n",
              "                        <th id=\"T_15cf45ec_03d0_11eb_967b_0242ac1c0002level0_row66\" class=\"row_heading level0 row66\" >190</th>\n",
              "                        <td id=\"T_15cf45ec_03d0_11eb_967b_0242ac1c0002row66_col0\" class=\"data row66 col0\" >8408</td>\n",
              "                        <td id=\"T_15cf45ec_03d0_11eb_967b_0242ac1c0002row66_col1\" class=\"data row66 col1\" >COVID-19 - Checca, Cusco, Peru</td>\n",
              "                        <td id=\"T_15cf45ec_03d0_11eb_967b_0242ac1c0002row66_col2\" class=\"data row66 col2\" >100</td>\n",
              "                        <td id=\"T_15cf45ec_03d0_11eb_967b_0242ac1c0002row66_col3\" class=\"data row66 col3\" >97</td>\n",
              "                        <td id=\"T_15cf45ec_03d0_11eb_967b_0242ac1c0002row66_col4\" class=\"data row66 col4\" >BEGINNER</td>\n",
              "                        <td id=\"T_15cf45ec_03d0_11eb_967b_0242ac1c0002row66_col5\" class=\"data row66 col5\" >ARCHIVED</td>\n",
              "                        <td id=\"T_15cf45ec_03d0_11eb_967b_0242ac1c0002row66_col6\" class=\"data row66 col6\" >LOW</td>\n",
              "            </tr>\n",
              "            <tr>\n",
              "                        <th id=\"T_15cf45ec_03d0_11eb_967b_0242ac1c0002level0_row67\" class=\"row_heading level0 row67\" >191</th>\n",
              "                        <td id=\"T_15cf45ec_03d0_11eb_967b_0242ac1c0002row67_col0\" class=\"data row67 col0\" >8409</td>\n",
              "                        <td id=\"T_15cf45ec_03d0_11eb_967b_0242ac1c0002row67_col1\" class=\"data row67 col1\" >COVID-19 - Chinchaypujio, Cusco, Peru</td>\n",
              "                        <td id=\"T_15cf45ec_03d0_11eb_967b_0242ac1c0002row67_col2\" class=\"data row67 col2\" >100</td>\n",
              "                        <td id=\"T_15cf45ec_03d0_11eb_967b_0242ac1c0002row67_col3\" class=\"data row67 col3\" >92</td>\n",
              "                        <td id=\"T_15cf45ec_03d0_11eb_967b_0242ac1c0002row67_col4\" class=\"data row67 col4\" >BEGINNER</td>\n",
              "                        <td id=\"T_15cf45ec_03d0_11eb_967b_0242ac1c0002row67_col5\" class=\"data row67 col5\" >ARCHIVED</td>\n",
              "                        <td id=\"T_15cf45ec_03d0_11eb_967b_0242ac1c0002row67_col6\" class=\"data row67 col6\" >LOW</td>\n",
              "            </tr>\n",
              "            <tr>\n",
              "                        <th id=\"T_15cf45ec_03d0_11eb_967b_0242ac1c0002level0_row68\" class=\"row_heading level0 row68\" >192</th>\n",
              "                        <td id=\"T_15cf45ec_03d0_11eb_967b_0242ac1c0002row68_col0\" class=\"data row68 col0\" >8410</td>\n",
              "                        <td id=\"T_15cf45ec_03d0_11eb_967b_0242ac1c0002row68_col1\" class=\"data row68 col1\" >COVID-19 - Colquepata, Cusco, Peru</td>\n",
              "                        <td id=\"T_15cf45ec_03d0_11eb_967b_0242ac1c0002row68_col2\" class=\"data row68 col2\" >100</td>\n",
              "                        <td id=\"T_15cf45ec_03d0_11eb_967b_0242ac1c0002row68_col3\" class=\"data row68 col3\" >100</td>\n",
              "                        <td id=\"T_15cf45ec_03d0_11eb_967b_0242ac1c0002row68_col4\" class=\"data row68 col4\" >BEGINNER</td>\n",
              "                        <td id=\"T_15cf45ec_03d0_11eb_967b_0242ac1c0002row68_col5\" class=\"data row68 col5\" >ARCHIVED</td>\n",
              "                        <td id=\"T_15cf45ec_03d0_11eb_967b_0242ac1c0002row68_col6\" class=\"data row68 col6\" >LOW</td>\n",
              "            </tr>\n",
              "            <tr>\n",
              "                        <th id=\"T_15cf45ec_03d0_11eb_967b_0242ac1c0002level0_row69\" class=\"row_heading level0 row69\" >193</th>\n",
              "                        <td id=\"T_15cf45ec_03d0_11eb_967b_0242ac1c0002row69_col0\" class=\"data row69 col0\" >8411</td>\n",
              "                        <td id=\"T_15cf45ec_03d0_11eb_967b_0242ac1c0002row69_col1\" class=\"data row69 col1\" >COVID-19 - Combapata, Cusco, Peru</td>\n",
              "                        <td id=\"T_15cf45ec_03d0_11eb_967b_0242ac1c0002row69_col2\" class=\"data row69 col2\" >100</td>\n",
              "                        <td id=\"T_15cf45ec_03d0_11eb_967b_0242ac1c0002row69_col3\" class=\"data row69 col3\" >100</td>\n",
              "                        <td id=\"T_15cf45ec_03d0_11eb_967b_0242ac1c0002row69_col4\" class=\"data row69 col4\" >BEGINNER</td>\n",
              "                        <td id=\"T_15cf45ec_03d0_11eb_967b_0242ac1c0002row69_col5\" class=\"data row69 col5\" >ARCHIVED</td>\n",
              "                        <td id=\"T_15cf45ec_03d0_11eb_967b_0242ac1c0002row69_col6\" class=\"data row69 col6\" >LOW</td>\n",
              "            </tr>\n",
              "            <tr>\n",
              "                        <th id=\"T_15cf45ec_03d0_11eb_967b_0242ac1c0002level0_row70\" class=\"row_heading level0 row70\" >194</th>\n",
              "                        <td id=\"T_15cf45ec_03d0_11eb_967b_0242ac1c0002row70_col0\" class=\"data row70 col0\" >8416</td>\n",
              "                        <td id=\"T_15cf45ec_03d0_11eb_967b_0242ac1c0002row70_col1\" class=\"data row70 col1\" >COVID-19 - Cusipata, Cusco, Peru</td>\n",
              "                        <td id=\"T_15cf45ec_03d0_11eb_967b_0242ac1c0002row70_col2\" class=\"data row70 col2\" >100</td>\n",
              "                        <td id=\"T_15cf45ec_03d0_11eb_967b_0242ac1c0002row70_col3\" class=\"data row70 col3\" >100</td>\n",
              "                        <td id=\"T_15cf45ec_03d0_11eb_967b_0242ac1c0002row70_col4\" class=\"data row70 col4\" >BEGINNER</td>\n",
              "                        <td id=\"T_15cf45ec_03d0_11eb_967b_0242ac1c0002row70_col5\" class=\"data row70 col5\" >PUBLISHED</td>\n",
              "                        <td id=\"T_15cf45ec_03d0_11eb_967b_0242ac1c0002row70_col6\" class=\"data row70 col6\" >LOW</td>\n",
              "            </tr>\n",
              "            <tr>\n",
              "                        <th id=\"T_15cf45ec_03d0_11eb_967b_0242ac1c0002level0_row71\" class=\"row_heading level0 row71\" >195</th>\n",
              "                        <td id=\"T_15cf45ec_03d0_11eb_967b_0242ac1c0002row71_col0\" class=\"data row71 col0\" >8417</td>\n",
              "                        <td id=\"T_15cf45ec_03d0_11eb_967b_0242ac1c0002row71_col1\" class=\"data row71 col1\" >COVID-19 - Huancarani, Cusco, Peru</td>\n",
              "                        <td id=\"T_15cf45ec_03d0_11eb_967b_0242ac1c0002row71_col2\" class=\"data row71 col2\" >98</td>\n",
              "                        <td id=\"T_15cf45ec_03d0_11eb_967b_0242ac1c0002row71_col3\" class=\"data row71 col3\" >98</td>\n",
              "                        <td id=\"T_15cf45ec_03d0_11eb_967b_0242ac1c0002row71_col4\" class=\"data row71 col4\" >BEGINNER</td>\n",
              "                        <td id=\"T_15cf45ec_03d0_11eb_967b_0242ac1c0002row71_col5\" class=\"data row71 col5\" >ARCHIVED</td>\n",
              "                        <td id=\"T_15cf45ec_03d0_11eb_967b_0242ac1c0002row71_col6\" class=\"data row71 col6\" >LOW</td>\n",
              "            </tr>\n",
              "            <tr>\n",
              "                        <th id=\"T_15cf45ec_03d0_11eb_967b_0242ac1c0002level0_row72\" class=\"row_heading level0 row72\" >196</th>\n",
              "                        <td id=\"T_15cf45ec_03d0_11eb_967b_0242ac1c0002row72_col0\" class=\"data row72 col0\" >8418</td>\n",
              "                        <td id=\"T_15cf45ec_03d0_11eb_967b_0242ac1c0002row72_col1\" class=\"data row72 col1\" >COVID-19 - Kunturkanki, Cusco, Peru</td>\n",
              "                        <td id=\"T_15cf45ec_03d0_11eb_967b_0242ac1c0002row72_col2\" class=\"data row72 col2\" >100</td>\n",
              "                        <td id=\"T_15cf45ec_03d0_11eb_967b_0242ac1c0002row72_col3\" class=\"data row72 col3\" >98</td>\n",
              "                        <td id=\"T_15cf45ec_03d0_11eb_967b_0242ac1c0002row72_col4\" class=\"data row72 col4\" >BEGINNER</td>\n",
              "                        <td id=\"T_15cf45ec_03d0_11eb_967b_0242ac1c0002row72_col5\" class=\"data row72 col5\" >ARCHIVED</td>\n",
              "                        <td id=\"T_15cf45ec_03d0_11eb_967b_0242ac1c0002row72_col6\" class=\"data row72 col6\" >LOW</td>\n",
              "            </tr>\n",
              "            <tr>\n",
              "                        <th id=\"T_15cf45ec_03d0_11eb_967b_0242ac1c0002level0_row73\" class=\"row_heading level0 row73\" >197</th>\n",
              "                        <td id=\"T_15cf45ec_03d0_11eb_967b_0242ac1c0002row73_col0\" class=\"data row73 col0\" >8419</td>\n",
              "                        <td id=\"T_15cf45ec_03d0_11eb_967b_0242ac1c0002row73_col1\" class=\"data row73 col1\" >COVID-19 - Langui, Cusco, Peru</td>\n",
              "                        <td id=\"T_15cf45ec_03d0_11eb_967b_0242ac1c0002row73_col2\" class=\"data row73 col2\" >99</td>\n",
              "                        <td id=\"T_15cf45ec_03d0_11eb_967b_0242ac1c0002row73_col3\" class=\"data row73 col3\" >99</td>\n",
              "                        <td id=\"T_15cf45ec_03d0_11eb_967b_0242ac1c0002row73_col4\" class=\"data row73 col4\" >BEGINNER</td>\n",
              "                        <td id=\"T_15cf45ec_03d0_11eb_967b_0242ac1c0002row73_col5\" class=\"data row73 col5\" >ARCHIVED</td>\n",
              "                        <td id=\"T_15cf45ec_03d0_11eb_967b_0242ac1c0002row73_col6\" class=\"data row73 col6\" >LOW</td>\n",
              "            </tr>\n",
              "            <tr>\n",
              "                        <th id=\"T_15cf45ec_03d0_11eb_967b_0242ac1c0002level0_row74\" class=\"row_heading level0 row74\" >198</th>\n",
              "                        <td id=\"T_15cf45ec_03d0_11eb_967b_0242ac1c0002row74_col0\" class=\"data row74 col0\" >8420</td>\n",
              "                        <td id=\"T_15cf45ec_03d0_11eb_967b_0242ac1c0002row74_col1\" class=\"data row74 col1\" >COVID-19 - Layo, Cusco, Peru</td>\n",
              "                        <td id=\"T_15cf45ec_03d0_11eb_967b_0242ac1c0002row74_col2\" class=\"data row74 col2\" >100</td>\n",
              "                        <td id=\"T_15cf45ec_03d0_11eb_967b_0242ac1c0002row74_col3\" class=\"data row74 col3\" >100</td>\n",
              "                        <td id=\"T_15cf45ec_03d0_11eb_967b_0242ac1c0002row74_col4\" class=\"data row74 col4\" >BEGINNER</td>\n",
              "                        <td id=\"T_15cf45ec_03d0_11eb_967b_0242ac1c0002row74_col5\" class=\"data row74 col5\" >ARCHIVED</td>\n",
              "                        <td id=\"T_15cf45ec_03d0_11eb_967b_0242ac1c0002row74_col6\" class=\"data row74 col6\" >LOW</td>\n",
              "            </tr>\n",
              "            <tr>\n",
              "                        <th id=\"T_15cf45ec_03d0_11eb_967b_0242ac1c0002level0_row75\" class=\"row_heading level0 row75\" >199</th>\n",
              "                        <td id=\"T_15cf45ec_03d0_11eb_967b_0242ac1c0002row75_col0\" class=\"data row75 col0\" >8421</td>\n",
              "                        <td id=\"T_15cf45ec_03d0_11eb_967b_0242ac1c0002row75_col1\" class=\"data row75 col1\" >COVID-19 - Limatambo, Cusco, Peru</td>\n",
              "                        <td id=\"T_15cf45ec_03d0_11eb_967b_0242ac1c0002row75_col2\" class=\"data row75 col2\" >100</td>\n",
              "                        <td id=\"T_15cf45ec_03d0_11eb_967b_0242ac1c0002row75_col3\" class=\"data row75 col3\" >100</td>\n",
              "                        <td id=\"T_15cf45ec_03d0_11eb_967b_0242ac1c0002row75_col4\" class=\"data row75 col4\" >BEGINNER</td>\n",
              "                        <td id=\"T_15cf45ec_03d0_11eb_967b_0242ac1c0002row75_col5\" class=\"data row75 col5\" >ARCHIVED</td>\n",
              "                        <td id=\"T_15cf45ec_03d0_11eb_967b_0242ac1c0002row75_col6\" class=\"data row75 col6\" >LOW</td>\n",
              "            </tr>\n",
              "            <tr>\n",
              "                        <th id=\"T_15cf45ec_03d0_11eb_967b_0242ac1c0002level0_row76\" class=\"row_heading level0 row76\" >200</th>\n",
              "                        <td id=\"T_15cf45ec_03d0_11eb_967b_0242ac1c0002row76_col0\" class=\"data row76 col0\" >8422</td>\n",
              "                        <td id=\"T_15cf45ec_03d0_11eb_967b_0242ac1c0002row76_col1\" class=\"data row76 col1\" >COVID-19 - Mollepata, Cusco, Peru</td>\n",
              "                        <td id=\"T_15cf45ec_03d0_11eb_967b_0242ac1c0002row76_col2\" class=\"data row76 col2\" >99</td>\n",
              "                        <td id=\"T_15cf45ec_03d0_11eb_967b_0242ac1c0002row76_col3\" class=\"data row76 col3\" >98</td>\n",
              "                        <td id=\"T_15cf45ec_03d0_11eb_967b_0242ac1c0002row76_col4\" class=\"data row76 col4\" >BEGINNER</td>\n",
              "                        <td id=\"T_15cf45ec_03d0_11eb_967b_0242ac1c0002row76_col5\" class=\"data row76 col5\" >ARCHIVED</td>\n",
              "                        <td id=\"T_15cf45ec_03d0_11eb_967b_0242ac1c0002row76_col6\" class=\"data row76 col6\" >LOW</td>\n",
              "            </tr>\n",
              "            <tr>\n",
              "                        <th id=\"T_15cf45ec_03d0_11eb_967b_0242ac1c0002level0_row77\" class=\"row_heading level0 row77\" >201</th>\n",
              "                        <td id=\"T_15cf45ec_03d0_11eb_967b_0242ac1c0002row77_col0\" class=\"data row77 col0\" >8423</td>\n",
              "                        <td id=\"T_15cf45ec_03d0_11eb_967b_0242ac1c0002row77_col1\" class=\"data row77 col1\" >COVID-19 - Mosoc Llacta, Cusco, Peru</td>\n",
              "                        <td id=\"T_15cf45ec_03d0_11eb_967b_0242ac1c0002row77_col2\" class=\"data row77 col2\" >100</td>\n",
              "                        <td id=\"T_15cf45ec_03d0_11eb_967b_0242ac1c0002row77_col3\" class=\"data row77 col3\" >100</td>\n",
              "                        <td id=\"T_15cf45ec_03d0_11eb_967b_0242ac1c0002row77_col4\" class=\"data row77 col4\" >BEGINNER</td>\n",
              "                        <td id=\"T_15cf45ec_03d0_11eb_967b_0242ac1c0002row77_col5\" class=\"data row77 col5\" >ARCHIVED</td>\n",
              "                        <td id=\"T_15cf45ec_03d0_11eb_967b_0242ac1c0002row77_col6\" class=\"data row77 col6\" >LOW</td>\n",
              "            </tr>\n",
              "            <tr>\n",
              "                        <th id=\"T_15cf45ec_03d0_11eb_967b_0242ac1c0002level0_row78\" class=\"row_heading level0 row78\" >202</th>\n",
              "                        <td id=\"T_15cf45ec_03d0_11eb_967b_0242ac1c0002row78_col0\" class=\"data row78 col0\" >8445</td>\n",
              "                        <td id=\"T_15cf45ec_03d0_11eb_967b_0242ac1c0002row78_col1\" class=\"data row78 col1\" >COVID-19 - Paccaritambo, Cusco, Peru</td>\n",
              "                        <td id=\"T_15cf45ec_03d0_11eb_967b_0242ac1c0002row78_col2\" class=\"data row78 col2\" >100</td>\n",
              "                        <td id=\"T_15cf45ec_03d0_11eb_967b_0242ac1c0002row78_col3\" class=\"data row78 col3\" >100</td>\n",
              "                        <td id=\"T_15cf45ec_03d0_11eb_967b_0242ac1c0002row78_col4\" class=\"data row78 col4\" >BEGINNER</td>\n",
              "                        <td id=\"T_15cf45ec_03d0_11eb_967b_0242ac1c0002row78_col5\" class=\"data row78 col5\" >ARCHIVED</td>\n",
              "                        <td id=\"T_15cf45ec_03d0_11eb_967b_0242ac1c0002row78_col6\" class=\"data row78 col6\" >LOW</td>\n",
              "            </tr>\n",
              "            <tr>\n",
              "                        <th id=\"T_15cf45ec_03d0_11eb_967b_0242ac1c0002level0_row79\" class=\"row_heading level0 row79\" >203</th>\n",
              "                        <td id=\"T_15cf45ec_03d0_11eb_967b_0242ac1c0002row79_col0\" class=\"data row79 col0\" >8446</td>\n",
              "                        <td id=\"T_15cf45ec_03d0_11eb_967b_0242ac1c0002row79_col1\" class=\"data row79 col1\" >COVID-19 - Pillpinto, Cusco, Peru</td>\n",
              "                        <td id=\"T_15cf45ec_03d0_11eb_967b_0242ac1c0002row79_col2\" class=\"data row79 col2\" >96</td>\n",
              "                        <td id=\"T_15cf45ec_03d0_11eb_967b_0242ac1c0002row79_col3\" class=\"data row79 col3\" >95</td>\n",
              "                        <td id=\"T_15cf45ec_03d0_11eb_967b_0242ac1c0002row79_col4\" class=\"data row79 col4\" >BEGINNER</td>\n",
              "                        <td id=\"T_15cf45ec_03d0_11eb_967b_0242ac1c0002row79_col5\" class=\"data row79 col5\" >ARCHIVED</td>\n",
              "                        <td id=\"T_15cf45ec_03d0_11eb_967b_0242ac1c0002row79_col6\" class=\"data row79 col6\" >LOW</td>\n",
              "            </tr>\n",
              "            <tr>\n",
              "                        <th id=\"T_15cf45ec_03d0_11eb_967b_0242ac1c0002level0_row80\" class=\"row_heading level0 row80\" >204</th>\n",
              "                        <td id=\"T_15cf45ec_03d0_11eb_967b_0242ac1c0002row80_col0\" class=\"data row80 col0\" >8447</td>\n",
              "                        <td id=\"T_15cf45ec_03d0_11eb_967b_0242ac1c0002row80_col1\" class=\"data row80 col1\" >COVID-19 - Pomacanchi, Cusco, Peru</td>\n",
              "                        <td id=\"T_15cf45ec_03d0_11eb_967b_0242ac1c0002row80_col2\" class=\"data row80 col2\" >99</td>\n",
              "                        <td id=\"T_15cf45ec_03d0_11eb_967b_0242ac1c0002row80_col3\" class=\"data row80 col3\" >95</td>\n",
              "                        <td id=\"T_15cf45ec_03d0_11eb_967b_0242ac1c0002row80_col4\" class=\"data row80 col4\" >BEGINNER</td>\n",
              "                        <td id=\"T_15cf45ec_03d0_11eb_967b_0242ac1c0002row80_col5\" class=\"data row80 col5\" >ARCHIVED</td>\n",
              "                        <td id=\"T_15cf45ec_03d0_11eb_967b_0242ac1c0002row80_col6\" class=\"data row80 col6\" >LOW</td>\n",
              "            </tr>\n",
              "            <tr>\n",
              "                        <th id=\"T_15cf45ec_03d0_11eb_967b_0242ac1c0002level0_row81\" class=\"row_heading level0 row81\" >205</th>\n",
              "                        <td id=\"T_15cf45ec_03d0_11eb_967b_0242ac1c0002row81_col0\" class=\"data row81 col0\" >8448</td>\n",
              "                        <td id=\"T_15cf45ec_03d0_11eb_967b_0242ac1c0002row81_col1\" class=\"data row81 col1\" >COVID-19 - Pucyura, Cusco, Peru</td>\n",
              "                        <td id=\"T_15cf45ec_03d0_11eb_967b_0242ac1c0002row81_col2\" class=\"data row81 col2\" >100</td>\n",
              "                        <td id=\"T_15cf45ec_03d0_11eb_967b_0242ac1c0002row81_col3\" class=\"data row81 col3\" >96</td>\n",
              "                        <td id=\"T_15cf45ec_03d0_11eb_967b_0242ac1c0002row81_col4\" class=\"data row81 col4\" >BEGINNER</td>\n",
              "                        <td id=\"T_15cf45ec_03d0_11eb_967b_0242ac1c0002row81_col5\" class=\"data row81 col5\" >ARCHIVED</td>\n",
              "                        <td id=\"T_15cf45ec_03d0_11eb_967b_0242ac1c0002row81_col6\" class=\"data row81 col6\" >LOW</td>\n",
              "            </tr>\n",
              "            <tr>\n",
              "                        <th id=\"T_15cf45ec_03d0_11eb_967b_0242ac1c0002level0_row82\" class=\"row_heading level0 row82\" >206</th>\n",
              "                        <td id=\"T_15cf45ec_03d0_11eb_967b_0242ac1c0002row82_col0\" class=\"data row82 col0\" >8449</td>\n",
              "                        <td id=\"T_15cf45ec_03d0_11eb_967b_0242ac1c0002row82_col1\" class=\"data row82 col1\" >COVID-19 - Randocan, Cusco, Peru</td>\n",
              "                        <td id=\"T_15cf45ec_03d0_11eb_967b_0242ac1c0002row82_col2\" class=\"data row82 col2\" >100</td>\n",
              "                        <td id=\"T_15cf45ec_03d0_11eb_967b_0242ac1c0002row82_col3\" class=\"data row82 col3\" >100</td>\n",
              "                        <td id=\"T_15cf45ec_03d0_11eb_967b_0242ac1c0002row82_col4\" class=\"data row82 col4\" >BEGINNER</td>\n",
              "                        <td id=\"T_15cf45ec_03d0_11eb_967b_0242ac1c0002row82_col5\" class=\"data row82 col5\" >ARCHIVED</td>\n",
              "                        <td id=\"T_15cf45ec_03d0_11eb_967b_0242ac1c0002row82_col6\" class=\"data row82 col6\" >LOW</td>\n",
              "            </tr>\n",
              "            <tr>\n",
              "                        <th id=\"T_15cf45ec_03d0_11eb_967b_0242ac1c0002level0_row83\" class=\"row_heading level0 row83\" >207</th>\n",
              "                        <td id=\"T_15cf45ec_03d0_11eb_967b_0242ac1c0002row83_col0\" class=\"data row83 col0\" >8450</td>\n",
              "                        <td id=\"T_15cf45ec_03d0_11eb_967b_0242ac1c0002row83_col1\" class=\"data row83 col1\" >COVID-19 - San Pablo, Cusco, Peru</td>\n",
              "                        <td id=\"T_15cf45ec_03d0_11eb_967b_0242ac1c0002row83_col2\" class=\"data row83 col2\" >100</td>\n",
              "                        <td id=\"T_15cf45ec_03d0_11eb_967b_0242ac1c0002row83_col3\" class=\"data row83 col3\" >100</td>\n",
              "                        <td id=\"T_15cf45ec_03d0_11eb_967b_0242ac1c0002row83_col4\" class=\"data row83 col4\" >BEGINNER</td>\n",
              "                        <td id=\"T_15cf45ec_03d0_11eb_967b_0242ac1c0002row83_col5\" class=\"data row83 col5\" >ARCHIVED</td>\n",
              "                        <td id=\"T_15cf45ec_03d0_11eb_967b_0242ac1c0002row83_col6\" class=\"data row83 col6\" >LOW</td>\n",
              "            </tr>\n",
              "            <tr>\n",
              "                        <th id=\"T_15cf45ec_03d0_11eb_967b_0242ac1c0002level0_row84\" class=\"row_heading level0 row84\" >208</th>\n",
              "                        <td id=\"T_15cf45ec_03d0_11eb_967b_0242ac1c0002row84_col0\" class=\"data row84 col0\" >8451</td>\n",
              "                        <td id=\"T_15cf45ec_03d0_11eb_967b_0242ac1c0002row84_col1\" class=\"data row84 col1\" >COVID-19 - San Pedro, Cusco, Peru</td>\n",
              "                        <td id=\"T_15cf45ec_03d0_11eb_967b_0242ac1c0002row84_col2\" class=\"data row84 col2\" >100</td>\n",
              "                        <td id=\"T_15cf45ec_03d0_11eb_967b_0242ac1c0002row84_col3\" class=\"data row84 col3\" >100</td>\n",
              "                        <td id=\"T_15cf45ec_03d0_11eb_967b_0242ac1c0002row84_col4\" class=\"data row84 col4\" >BEGINNER</td>\n",
              "                        <td id=\"T_15cf45ec_03d0_11eb_967b_0242ac1c0002row84_col5\" class=\"data row84 col5\" >ARCHIVED</td>\n",
              "                        <td id=\"T_15cf45ec_03d0_11eb_967b_0242ac1c0002row84_col6\" class=\"data row84 col6\" >LOW</td>\n",
              "            </tr>\n",
              "            <tr>\n",
              "                        <th id=\"T_15cf45ec_03d0_11eb_967b_0242ac1c0002level0_row85\" class=\"row_heading level0 row85\" >209</th>\n",
              "                        <td id=\"T_15cf45ec_03d0_11eb_967b_0242ac1c0002row85_col0\" class=\"data row85 col0\" >8452</td>\n",
              "                        <td id=\"T_15cf45ec_03d0_11eb_967b_0242ac1c0002row85_col1\" class=\"data row85 col1\" >COVID-19 - Sangarara, Cusco, Peru</td>\n",
              "                        <td id=\"T_15cf45ec_03d0_11eb_967b_0242ac1c0002row85_col2\" class=\"data row85 col2\" >100</td>\n",
              "                        <td id=\"T_15cf45ec_03d0_11eb_967b_0242ac1c0002row85_col3\" class=\"data row85 col3\" >97</td>\n",
              "                        <td id=\"T_15cf45ec_03d0_11eb_967b_0242ac1c0002row85_col4\" class=\"data row85 col4\" >BEGINNER</td>\n",
              "                        <td id=\"T_15cf45ec_03d0_11eb_967b_0242ac1c0002row85_col5\" class=\"data row85 col5\" >ARCHIVED</td>\n",
              "                        <td id=\"T_15cf45ec_03d0_11eb_967b_0242ac1c0002row85_col6\" class=\"data row85 col6\" >LOW</td>\n",
              "            </tr>\n",
              "            <tr>\n",
              "                        <th id=\"T_15cf45ec_03d0_11eb_967b_0242ac1c0002level0_row86\" class=\"row_heading level0 row86\" >210</th>\n",
              "                        <td id=\"T_15cf45ec_03d0_11eb_967b_0242ac1c0002row86_col0\" class=\"data row86 col0\" >8453</td>\n",
              "                        <td id=\"T_15cf45ec_03d0_11eb_967b_0242ac1c0002row86_col1\" class=\"data row86 col1\" >COVID-19 - Tenta, Cusco, Peru</td>\n",
              "                        <td id=\"T_15cf45ec_03d0_11eb_967b_0242ac1c0002row86_col2\" class=\"data row86 col2\" >100</td>\n",
              "                        <td id=\"T_15cf45ec_03d0_11eb_967b_0242ac1c0002row86_col3\" class=\"data row86 col3\" >100</td>\n",
              "                        <td id=\"T_15cf45ec_03d0_11eb_967b_0242ac1c0002row86_col4\" class=\"data row86 col4\" >BEGINNER</td>\n",
              "                        <td id=\"T_15cf45ec_03d0_11eb_967b_0242ac1c0002row86_col5\" class=\"data row86 col5\" >ARCHIVED</td>\n",
              "                        <td id=\"T_15cf45ec_03d0_11eb_967b_0242ac1c0002row86_col6\" class=\"data row86 col6\" >LOW</td>\n",
              "            </tr>\n",
              "            <tr>\n",
              "                        <th id=\"T_15cf45ec_03d0_11eb_967b_0242ac1c0002level0_row87\" class=\"row_heading level0 row87\" >211</th>\n",
              "                        <td id=\"T_15cf45ec_03d0_11eb_967b_0242ac1c0002row87_col0\" class=\"data row87 col0\" >8454</td>\n",
              "                        <td id=\"T_15cf45ec_03d0_11eb_967b_0242ac1c0002row87_col1\" class=\"data row87 col1\" >COVID-19 - Tupac Amaru, Cusco, Peru</td>\n",
              "                        <td id=\"T_15cf45ec_03d0_11eb_967b_0242ac1c0002row87_col2\" class=\"data row87 col2\" >93</td>\n",
              "                        <td id=\"T_15cf45ec_03d0_11eb_967b_0242ac1c0002row87_col3\" class=\"data row87 col3\" >89</td>\n",
              "                        <td id=\"T_15cf45ec_03d0_11eb_967b_0242ac1c0002row87_col4\" class=\"data row87 col4\" >BEGINNER</td>\n",
              "                        <td id=\"T_15cf45ec_03d0_11eb_967b_0242ac1c0002row87_col5\" class=\"data row87 col5\" >ARCHIVED</td>\n",
              "                        <td id=\"T_15cf45ec_03d0_11eb_967b_0242ac1c0002row87_col6\" class=\"data row87 col6\" >LOW</td>\n",
              "            </tr>\n",
              "            <tr>\n",
              "                        <th id=\"T_15cf45ec_03d0_11eb_967b_0242ac1c0002level0_row88\" class=\"row_heading level0 row88\" >212</th>\n",
              "                        <td id=\"T_15cf45ec_03d0_11eb_967b_0242ac1c0002row88_col0\" class=\"data row88 col0\" >8455</td>\n",
              "                        <td id=\"T_15cf45ec_03d0_11eb_967b_0242ac1c0002row88_col1\" class=\"data row88 col1\" >COVID-19 - Zurite, Cusco, Peru</td>\n",
              "                        <td id=\"T_15cf45ec_03d0_11eb_967b_0242ac1c0002row88_col2\" class=\"data row88 col2\" >100</td>\n",
              "                        <td id=\"T_15cf45ec_03d0_11eb_967b_0242ac1c0002row88_col3\" class=\"data row88 col3\" >100</td>\n",
              "                        <td id=\"T_15cf45ec_03d0_11eb_967b_0242ac1c0002row88_col4\" class=\"data row88 col4\" >BEGINNER</td>\n",
              "                        <td id=\"T_15cf45ec_03d0_11eb_967b_0242ac1c0002row88_col5\" class=\"data row88 col5\" >ARCHIVED</td>\n",
              "                        <td id=\"T_15cf45ec_03d0_11eb_967b_0242ac1c0002row88_col6\" class=\"data row88 col6\" >LOW</td>\n",
              "            </tr>\n",
              "            <tr>\n",
              "                        <th id=\"T_15cf45ec_03d0_11eb_967b_0242ac1c0002level0_row89\" class=\"row_heading level0 row89\" >218</th>\n",
              "                        <td id=\"T_15cf45ec_03d0_11eb_967b_0242ac1c0002row89_col0\" class=\"data row89 col0\" >8465</td>\n",
              "                        <td id=\"T_15cf45ec_03d0_11eb_967b_0242ac1c0002row89_col1\" class=\"data row89 col1\" >COVID-19 - Acopia, Cusco, Peru</td>\n",
              "                        <td id=\"T_15cf45ec_03d0_11eb_967b_0242ac1c0002row89_col2\" class=\"data row89 col2\" >100</td>\n",
              "                        <td id=\"T_15cf45ec_03d0_11eb_967b_0242ac1c0002row89_col3\" class=\"data row89 col3\" >100</td>\n",
              "                        <td id=\"T_15cf45ec_03d0_11eb_967b_0242ac1c0002row89_col4\" class=\"data row89 col4\" >BEGINNER</td>\n",
              "                        <td id=\"T_15cf45ec_03d0_11eb_967b_0242ac1c0002row89_col5\" class=\"data row89 col5\" >ARCHIVED</td>\n",
              "                        <td id=\"T_15cf45ec_03d0_11eb_967b_0242ac1c0002row89_col6\" class=\"data row89 col6\" >LOW</td>\n",
              "            </tr>\n",
              "            <tr>\n",
              "                        <th id=\"T_15cf45ec_03d0_11eb_967b_0242ac1c0002level0_row90\" class=\"row_heading level0 row90\" >219</th>\n",
              "                        <td id=\"T_15cf45ec_03d0_11eb_967b_0242ac1c0002row90_col0\" class=\"data row90 col0\" >8466</td>\n",
              "                        <td id=\"T_15cf45ec_03d0_11eb_967b_0242ac1c0002row90_col1\" class=\"data row90 col1\" >COVID-19 - Marangani, Cusco, Peru</td>\n",
              "                        <td id=\"T_15cf45ec_03d0_11eb_967b_0242ac1c0002row90_col2\" class=\"data row90 col2\" >98</td>\n",
              "                        <td id=\"T_15cf45ec_03d0_11eb_967b_0242ac1c0002row90_col3\" class=\"data row90 col3\" >95</td>\n",
              "                        <td id=\"T_15cf45ec_03d0_11eb_967b_0242ac1c0002row90_col4\" class=\"data row90 col4\" >BEGINNER</td>\n",
              "                        <td id=\"T_15cf45ec_03d0_11eb_967b_0242ac1c0002row90_col5\" class=\"data row90 col5\" >PUBLISHED</td>\n",
              "                        <td id=\"T_15cf45ec_03d0_11eb_967b_0242ac1c0002row90_col6\" class=\"data row90 col6\" >LOW</td>\n",
              "            </tr>\n",
              "            <tr>\n",
              "                        <th id=\"T_15cf45ec_03d0_11eb_967b_0242ac1c0002level0_row91\" class=\"row_heading level0 row91\" >220</th>\n",
              "                        <td id=\"T_15cf45ec_03d0_11eb_967b_0242ac1c0002row91_col0\" class=\"data row91 col0\" >8467</td>\n",
              "                        <td id=\"T_15cf45ec_03d0_11eb_967b_0242ac1c0002row91_col1\" class=\"data row91 col1\" >COVID-19 - Pampamarca, Cusco, Peru</td>\n",
              "                        <td id=\"T_15cf45ec_03d0_11eb_967b_0242ac1c0002row91_col2\" class=\"data row91 col2\" >100</td>\n",
              "                        <td id=\"T_15cf45ec_03d0_11eb_967b_0242ac1c0002row91_col3\" class=\"data row91 col3\" >100</td>\n",
              "                        <td id=\"T_15cf45ec_03d0_11eb_967b_0242ac1c0002row91_col4\" class=\"data row91 col4\" >BEGINNER</td>\n",
              "                        <td id=\"T_15cf45ec_03d0_11eb_967b_0242ac1c0002row91_col5\" class=\"data row91 col5\" >ARCHIVED</td>\n",
              "                        <td id=\"T_15cf45ec_03d0_11eb_967b_0242ac1c0002row91_col6\" class=\"data row91 col6\" >LOW</td>\n",
              "            </tr>\n",
              "            <tr>\n",
              "                        <th id=\"T_15cf45ec_03d0_11eb_967b_0242ac1c0002level0_row92\" class=\"row_heading level0 row92\" >221</th>\n",
              "                        <td id=\"T_15cf45ec_03d0_11eb_967b_0242ac1c0002row92_col0\" class=\"data row92 col0\" >8468</td>\n",
              "                        <td id=\"T_15cf45ec_03d0_11eb_967b_0242ac1c0002row92_col1\" class=\"data row92 col1\" >COVID-19 - Pitumarca, Cusco, Peru</td>\n",
              "                        <td id=\"T_15cf45ec_03d0_11eb_967b_0242ac1c0002row92_col2\" class=\"data row92 col2\" >100</td>\n",
              "                        <td id=\"T_15cf45ec_03d0_11eb_967b_0242ac1c0002row92_col3\" class=\"data row92 col3\" >100</td>\n",
              "                        <td id=\"T_15cf45ec_03d0_11eb_967b_0242ac1c0002row92_col4\" class=\"data row92 col4\" >BEGINNER</td>\n",
              "                        <td id=\"T_15cf45ec_03d0_11eb_967b_0242ac1c0002row92_col5\" class=\"data row92 col5\" >ARCHIVED</td>\n",
              "                        <td id=\"T_15cf45ec_03d0_11eb_967b_0242ac1c0002row92_col6\" class=\"data row92 col6\" >LOW</td>\n",
              "            </tr>\n",
              "            <tr>\n",
              "                        <th id=\"T_15cf45ec_03d0_11eb_967b_0242ac1c0002level0_row93\" class=\"row_heading level0 row93\" >229</th>\n",
              "                        <td id=\"T_15cf45ec_03d0_11eb_967b_0242ac1c0002row93_col0\" class=\"data row93 col0\" >8551</td>\n",
              "                        <td id=\"T_15cf45ec_03d0_11eb_967b_0242ac1c0002row93_col1\" class=\"data row93 col1\" >COVID-19 - Megantoni 1, Cusco, Peru</td>\n",
              "                        <td id=\"T_15cf45ec_03d0_11eb_967b_0242ac1c0002row93_col2\" class=\"data row93 col2\" >100</td>\n",
              "                        <td id=\"T_15cf45ec_03d0_11eb_967b_0242ac1c0002row93_col3\" class=\"data row93 col3\" >100</td>\n",
              "                        <td id=\"T_15cf45ec_03d0_11eb_967b_0242ac1c0002row93_col4\" class=\"data row93 col4\" >BEGINNER</td>\n",
              "                        <td id=\"T_15cf45ec_03d0_11eb_967b_0242ac1c0002row93_col5\" class=\"data row93 col5\" >PUBLISHED</td>\n",
              "                        <td id=\"T_15cf45ec_03d0_11eb_967b_0242ac1c0002row93_col6\" class=\"data row93 col6\" >LOW</td>\n",
              "            </tr>\n",
              "            <tr>\n",
              "                        <th id=\"T_15cf45ec_03d0_11eb_967b_0242ac1c0002level0_row94\" class=\"row_heading level0 row94\" >230</th>\n",
              "                        <td id=\"T_15cf45ec_03d0_11eb_967b_0242ac1c0002row94_col0\" class=\"data row94 col0\" >8552</td>\n",
              "                        <td id=\"T_15cf45ec_03d0_11eb_967b_0242ac1c0002row94_col1\" class=\"data row94 col1\" >COVID-19 - Megantoni 2, Cusco, Peru</td>\n",
              "                        <td id=\"T_15cf45ec_03d0_11eb_967b_0242ac1c0002row94_col2\" class=\"data row94 col2\" >100</td>\n",
              "                        <td id=\"T_15cf45ec_03d0_11eb_967b_0242ac1c0002row94_col3\" class=\"data row94 col3\" >100</td>\n",
              "                        <td id=\"T_15cf45ec_03d0_11eb_967b_0242ac1c0002row94_col4\" class=\"data row94 col4\" >BEGINNER</td>\n",
              "                        <td id=\"T_15cf45ec_03d0_11eb_967b_0242ac1c0002row94_col5\" class=\"data row94 col5\" >PUBLISHED</td>\n",
              "                        <td id=\"T_15cf45ec_03d0_11eb_967b_0242ac1c0002row94_col6\" class=\"data row94 col6\" >LOW</td>\n",
              "            </tr>\n",
              "            <tr>\n",
              "                        <th id=\"T_15cf45ec_03d0_11eb_967b_0242ac1c0002level0_row95\" class=\"row_heading level0 row95\" >231</th>\n",
              "                        <td id=\"T_15cf45ec_03d0_11eb_967b_0242ac1c0002row95_col0\" class=\"data row95 col0\" >8553</td>\n",
              "                        <td id=\"T_15cf45ec_03d0_11eb_967b_0242ac1c0002row95_col1\" class=\"data row95 col1\" >COVID-19 - Megantoni 3, Cusco, Peru</td>\n",
              "                        <td id=\"T_15cf45ec_03d0_11eb_967b_0242ac1c0002row95_col2\" class=\"data row95 col2\" >100</td>\n",
              "                        <td id=\"T_15cf45ec_03d0_11eb_967b_0242ac1c0002row95_col3\" class=\"data row95 col3\" >100</td>\n",
              "                        <td id=\"T_15cf45ec_03d0_11eb_967b_0242ac1c0002row95_col4\" class=\"data row95 col4\" >BEGINNER</td>\n",
              "                        <td id=\"T_15cf45ec_03d0_11eb_967b_0242ac1c0002row95_col5\" class=\"data row95 col5\" >PUBLISHED</td>\n",
              "                        <td id=\"T_15cf45ec_03d0_11eb_967b_0242ac1c0002row95_col6\" class=\"data row95 col6\" >LOW</td>\n",
              "            </tr>\n",
              "            <tr>\n",
              "                        <th id=\"T_15cf45ec_03d0_11eb_967b_0242ac1c0002level0_row96\" class=\"row_heading level0 row96\" >232</th>\n",
              "                        <td id=\"T_15cf45ec_03d0_11eb_967b_0242ac1c0002row96_col0\" class=\"data row96 col0\" >8554</td>\n",
              "                        <td id=\"T_15cf45ec_03d0_11eb_967b_0242ac1c0002row96_col1\" class=\"data row96 col1\" >COVID-19 - Megantoni 4, Cusco, Peru</td>\n",
              "                        <td id=\"T_15cf45ec_03d0_11eb_967b_0242ac1c0002row96_col2\" class=\"data row96 col2\" >98</td>\n",
              "                        <td id=\"T_15cf45ec_03d0_11eb_967b_0242ac1c0002row96_col3\" class=\"data row96 col3\" >97</td>\n",
              "                        <td id=\"T_15cf45ec_03d0_11eb_967b_0242ac1c0002row96_col4\" class=\"data row96 col4\" >BEGINNER</td>\n",
              "                        <td id=\"T_15cf45ec_03d0_11eb_967b_0242ac1c0002row96_col5\" class=\"data row96 col5\" >PUBLISHED</td>\n",
              "                        <td id=\"T_15cf45ec_03d0_11eb_967b_0242ac1c0002row96_col6\" class=\"data row96 col6\" >LOW</td>\n",
              "            </tr>\n",
              "            <tr>\n",
              "                        <th id=\"T_15cf45ec_03d0_11eb_967b_0242ac1c0002level0_row97\" class=\"row_heading level0 row97\" >233</th>\n",
              "                        <td id=\"T_15cf45ec_03d0_11eb_967b_0242ac1c0002row97_col0\" class=\"data row97 col0\" >8555</td>\n",
              "                        <td id=\"T_15cf45ec_03d0_11eb_967b_0242ac1c0002row97_col1\" class=\"data row97 col1\" >COVID-19 - Echarti 1, Cusco, Peru</td>\n",
              "                        <td id=\"T_15cf45ec_03d0_11eb_967b_0242ac1c0002row97_col2\" class=\"data row97 col2\" >100</td>\n",
              "                        <td id=\"T_15cf45ec_03d0_11eb_967b_0242ac1c0002row97_col3\" class=\"data row97 col3\" >100</td>\n",
              "                        <td id=\"T_15cf45ec_03d0_11eb_967b_0242ac1c0002row97_col4\" class=\"data row97 col4\" >BEGINNER</td>\n",
              "                        <td id=\"T_15cf45ec_03d0_11eb_967b_0242ac1c0002row97_col5\" class=\"data row97 col5\" >PUBLISHED</td>\n",
              "                        <td id=\"T_15cf45ec_03d0_11eb_967b_0242ac1c0002row97_col6\" class=\"data row97 col6\" >LOW</td>\n",
              "            </tr>\n",
              "            <tr>\n",
              "                        <th id=\"T_15cf45ec_03d0_11eb_967b_0242ac1c0002level0_row98\" class=\"row_heading level0 row98\" >234</th>\n",
              "                        <td id=\"T_15cf45ec_03d0_11eb_967b_0242ac1c0002row98_col0\" class=\"data row98 col0\" >8556</td>\n",
              "                        <td id=\"T_15cf45ec_03d0_11eb_967b_0242ac1c0002row98_col1\" class=\"data row98 col1\" >COVID-19 - Echarti 2, Cusco, Peru</td>\n",
              "                        <td id=\"T_15cf45ec_03d0_11eb_967b_0242ac1c0002row98_col2\" class=\"data row98 col2\" >99</td>\n",
              "                        <td id=\"T_15cf45ec_03d0_11eb_967b_0242ac1c0002row98_col3\" class=\"data row98 col3\" >99</td>\n",
              "                        <td id=\"T_15cf45ec_03d0_11eb_967b_0242ac1c0002row98_col4\" class=\"data row98 col4\" >BEGINNER</td>\n",
              "                        <td id=\"T_15cf45ec_03d0_11eb_967b_0242ac1c0002row98_col5\" class=\"data row98 col5\" >PUBLISHED</td>\n",
              "                        <td id=\"T_15cf45ec_03d0_11eb_967b_0242ac1c0002row98_col6\" class=\"data row98 col6\" >LOW</td>\n",
              "            </tr>\n",
              "            <tr>\n",
              "                        <th id=\"T_15cf45ec_03d0_11eb_967b_0242ac1c0002level0_row99\" class=\"row_heading level0 row99\" >252</th>\n",
              "                        <td id=\"T_15cf45ec_03d0_11eb_967b_0242ac1c0002row99_col0\" class=\"data row99 col0\" >8596</td>\n",
              "                        <td id=\"T_15cf45ec_03d0_11eb_967b_0242ac1c0002row99_col1\" class=\"data row99 col1\" >COVID-19 - Camanti, Cusco, Peru</td>\n",
              "                        <td id=\"T_15cf45ec_03d0_11eb_967b_0242ac1c0002row99_col2\" class=\"data row99 col2\" >100</td>\n",
              "                        <td id=\"T_15cf45ec_03d0_11eb_967b_0242ac1c0002row99_col3\" class=\"data row99 col3\" >100</td>\n",
              "                        <td id=\"T_15cf45ec_03d0_11eb_967b_0242ac1c0002row99_col4\" class=\"data row99 col4\" >BEGINNER</td>\n",
              "                        <td id=\"T_15cf45ec_03d0_11eb_967b_0242ac1c0002row99_col5\" class=\"data row99 col5\" >PUBLISHED</td>\n",
              "                        <td id=\"T_15cf45ec_03d0_11eb_967b_0242ac1c0002row99_col6\" class=\"data row99 col6\" >LOW</td>\n",
              "            </tr>\n",
              "            <tr>\n",
              "                        <th id=\"T_15cf45ec_03d0_11eb_967b_0242ac1c0002level0_row100\" class=\"row_heading level0 row100\" >253</th>\n",
              "                        <td id=\"T_15cf45ec_03d0_11eb_967b_0242ac1c0002row100_col0\" class=\"data row100 col0\" >8597</td>\n",
              "                        <td id=\"T_15cf45ec_03d0_11eb_967b_0242ac1c0002row100_col1\" class=\"data row100 col1\" >COVID-19 - Echarti 3, Cusco, Peru</td>\n",
              "                        <td id=\"T_15cf45ec_03d0_11eb_967b_0242ac1c0002row100_col2\" class=\"data row100 col2\" >100</td>\n",
              "                        <td id=\"T_15cf45ec_03d0_11eb_967b_0242ac1c0002row100_col3\" class=\"data row100 col3\" >100</td>\n",
              "                        <td id=\"T_15cf45ec_03d0_11eb_967b_0242ac1c0002row100_col4\" class=\"data row100 col4\" >BEGINNER</td>\n",
              "                        <td id=\"T_15cf45ec_03d0_11eb_967b_0242ac1c0002row100_col5\" class=\"data row100 col5\" >PUBLISHED</td>\n",
              "                        <td id=\"T_15cf45ec_03d0_11eb_967b_0242ac1c0002row100_col6\" class=\"data row100 col6\" >LOW</td>\n",
              "            </tr>\n",
              "            <tr>\n",
              "                        <th id=\"T_15cf45ec_03d0_11eb_967b_0242ac1c0002level0_row101\" class=\"row_heading level0 row101\" >254</th>\n",
              "                        <td id=\"T_15cf45ec_03d0_11eb_967b_0242ac1c0002row101_col0\" class=\"data row101 col0\" >8598</td>\n",
              "                        <td id=\"T_15cf45ec_03d0_11eb_967b_0242ac1c0002row101_col1\" class=\"data row101 col1\" >COVID-19 - Echarti 4, Cusco, Peru</td>\n",
              "                        <td id=\"T_15cf45ec_03d0_11eb_967b_0242ac1c0002row101_col2\" class=\"data row101 col2\" >100</td>\n",
              "                        <td id=\"T_15cf45ec_03d0_11eb_967b_0242ac1c0002row101_col3\" class=\"data row101 col3\" >100</td>\n",
              "                        <td id=\"T_15cf45ec_03d0_11eb_967b_0242ac1c0002row101_col4\" class=\"data row101 col4\" >BEGINNER</td>\n",
              "                        <td id=\"T_15cf45ec_03d0_11eb_967b_0242ac1c0002row101_col5\" class=\"data row101 col5\" >PUBLISHED</td>\n",
              "                        <td id=\"T_15cf45ec_03d0_11eb_967b_0242ac1c0002row101_col6\" class=\"data row101 col6\" >LOW</td>\n",
              "            </tr>\n",
              "            <tr>\n",
              "                        <th id=\"T_15cf45ec_03d0_11eb_967b_0242ac1c0002level0_row102\" class=\"row_heading level0 row102\" >255</th>\n",
              "                        <td id=\"T_15cf45ec_03d0_11eb_967b_0242ac1c0002row102_col0\" class=\"data row102 col0\" >8599</td>\n",
              "                        <td id=\"T_15cf45ec_03d0_11eb_967b_0242ac1c0002row102_col1\" class=\"data row102 col1\" >COVID-19 - Echarti 5, Cusco, Peru</td>\n",
              "                        <td id=\"T_15cf45ec_03d0_11eb_967b_0242ac1c0002row102_col2\" class=\"data row102 col2\" >100</td>\n",
              "                        <td id=\"T_15cf45ec_03d0_11eb_967b_0242ac1c0002row102_col3\" class=\"data row102 col3\" >100</td>\n",
              "                        <td id=\"T_15cf45ec_03d0_11eb_967b_0242ac1c0002row102_col4\" class=\"data row102 col4\" >BEGINNER</td>\n",
              "                        <td id=\"T_15cf45ec_03d0_11eb_967b_0242ac1c0002row102_col5\" class=\"data row102 col5\" >PUBLISHED</td>\n",
              "                        <td id=\"T_15cf45ec_03d0_11eb_967b_0242ac1c0002row102_col6\" class=\"data row102 col6\" >LOW</td>\n",
              "            </tr>\n",
              "            <tr>\n",
              "                        <th id=\"T_15cf45ec_03d0_11eb_967b_0242ac1c0002level0_row103\" class=\"row_heading level0 row103\" >256</th>\n",
              "                        <td id=\"T_15cf45ec_03d0_11eb_967b_0242ac1c0002row103_col0\" class=\"data row103 col0\" >8600</td>\n",
              "                        <td id=\"T_15cf45ec_03d0_11eb_967b_0242ac1c0002row103_col1\" class=\"data row103 col1\" >COVID-19 - Echarti 6, Cusco, Peru</td>\n",
              "                        <td id=\"T_15cf45ec_03d0_11eb_967b_0242ac1c0002row103_col2\" class=\"data row103 col2\" >100</td>\n",
              "                        <td id=\"T_15cf45ec_03d0_11eb_967b_0242ac1c0002row103_col3\" class=\"data row103 col3\" >100</td>\n",
              "                        <td id=\"T_15cf45ec_03d0_11eb_967b_0242ac1c0002row103_col4\" class=\"data row103 col4\" >BEGINNER</td>\n",
              "                        <td id=\"T_15cf45ec_03d0_11eb_967b_0242ac1c0002row103_col5\" class=\"data row103 col5\" >PUBLISHED</td>\n",
              "                        <td id=\"T_15cf45ec_03d0_11eb_967b_0242ac1c0002row103_col6\" class=\"data row103 col6\" >LOW</td>\n",
              "            </tr>\n",
              "            <tr>\n",
              "                        <th id=\"T_15cf45ec_03d0_11eb_967b_0242ac1c0002level0_row104\" class=\"row_heading level0 row104\" >257</th>\n",
              "                        <td id=\"T_15cf45ec_03d0_11eb_967b_0242ac1c0002row104_col0\" class=\"data row104 col0\" >8601</td>\n",
              "                        <td id=\"T_15cf45ec_03d0_11eb_967b_0242ac1c0002row104_col1\" class=\"data row104 col1\" >COVID-19 - Echarti 7, Cusco, Peru</td>\n",
              "                        <td id=\"T_15cf45ec_03d0_11eb_967b_0242ac1c0002row104_col2\" class=\"data row104 col2\" >98</td>\n",
              "                        <td id=\"T_15cf45ec_03d0_11eb_967b_0242ac1c0002row104_col3\" class=\"data row104 col3\" >96</td>\n",
              "                        <td id=\"T_15cf45ec_03d0_11eb_967b_0242ac1c0002row104_col4\" class=\"data row104 col4\" >BEGINNER</td>\n",
              "                        <td id=\"T_15cf45ec_03d0_11eb_967b_0242ac1c0002row104_col5\" class=\"data row104 col5\" >PUBLISHED</td>\n",
              "                        <td id=\"T_15cf45ec_03d0_11eb_967b_0242ac1c0002row104_col6\" class=\"data row104 col6\" >LOW</td>\n",
              "            </tr>\n",
              "            <tr>\n",
              "                        <th id=\"T_15cf45ec_03d0_11eb_967b_0242ac1c0002level0_row105\" class=\"row_heading level0 row105\" >281</th>\n",
              "                        <td id=\"T_15cf45ec_03d0_11eb_967b_0242ac1c0002row105_col0\" class=\"data row105 col0\" >8766</td>\n",
              "                        <td id=\"T_15cf45ec_03d0_11eb_967b_0242ac1c0002row105_col1\" class=\"data row105 col1\" >COVID-19 - Kosñipata, Cusco, Peru</td>\n",
              "                        <td id=\"T_15cf45ec_03d0_11eb_967b_0242ac1c0002row105_col2\" class=\"data row105 col2\" >99</td>\n",
              "                        <td id=\"T_15cf45ec_03d0_11eb_967b_0242ac1c0002row105_col3\" class=\"data row105 col3\" >99</td>\n",
              "                        <td id=\"T_15cf45ec_03d0_11eb_967b_0242ac1c0002row105_col4\" class=\"data row105 col4\" >BEGINNER</td>\n",
              "                        <td id=\"T_15cf45ec_03d0_11eb_967b_0242ac1c0002row105_col5\" class=\"data row105 col5\" >PUBLISHED</td>\n",
              "                        <td id=\"T_15cf45ec_03d0_11eb_967b_0242ac1c0002row105_col6\" class=\"data row105 col6\" >LOW</td>\n",
              "            </tr>\n",
              "    </tbody></table>"
            ],
            "text/plain": [
              "<pandas.io.formats.style.Styler at 0x7f42abb33cf8>"
            ]
          },
          "metadata": {
            "tags": []
          }
        },
        {
          "output_type": "display_data",
          "data": {
            "text/markdown": "## Philippines",
            "text/plain": [
              "<IPython.core.display.Markdown object>"
            ]
          },
          "metadata": {
            "tags": []
          }
        },
        {
          "output_type": "display_data",
          "data": {
            "text/markdown": "---",
            "text/plain": [
              "<IPython.core.display.Markdown object>"
            ]
          },
          "metadata": {
            "tags": []
          }
        },
        {
          "output_type": "display_data",
          "data": {
            "text/markdown": "\n- Total number projects: 2\n    - Drafts:    0\n    - Published: 0 \n    - Archived:  2\n- Completed projects (100% mapped & validated): 2\n- Average % mapped across all projects: 100.0 %\n- Average % validated across all projects: 99.5 %\n",
            "text/plain": [
              "<IPython.core.display.Markdown object>"
            ]
          },
          "metadata": {
            "tags": []
          }
        },
        {
          "output_type": "display_data",
          "data": {
            "text/markdown": "---",
            "text/plain": [
              "<IPython.core.display.Markdown object>"
            ]
          },
          "metadata": {
            "tags": []
          }
        },
        {
          "output_type": "display_data",
          "data": {
            "text/html": [
              "<style  type=\"text/css\" >\n",
              "#T_15daa414_03d0_11eb_967b_0242ac1c0002row0_col2,#T_15daa414_03d0_11eb_967b_0242ac1c0002row0_col3,#T_15daa414_03d0_11eb_967b_0242ac1c0002row1_col2{\n",
              "            background-color:  #d73f3f;\n",
              "            color:  #f1f1f1;\n",
              "        }#T_15daa414_03d0_11eb_967b_0242ac1c0002row0_col5,#T_15daa414_03d0_11eb_967b_0242ac1c0002row0_col6,#T_15daa414_03d0_11eb_967b_0242ac1c0002row1_col5,#T_15daa414_03d0_11eb_967b_0242ac1c0002row1_col6{\n",
              "            background-color:  #E1E0E0;\n",
              "        }#T_15daa414_03d0_11eb_967b_0242ac1c0002row1_col3{\n",
              "            background-color:  #53ae62;\n",
              "            color:  #000000;\n",
              "        }</style><table id=\"T_15daa414_03d0_11eb_967b_0242ac1c0002\" ><thead>    <tr>        <th class=\"blank level0\" ></th>        <th class=\"col_heading level0 col0\" >projectId</th>        <th class=\"col_heading level0 col1\" >name</th>        <th class=\"col_heading level0 col2\" >percentMapped</th>        <th class=\"col_heading level0 col3\" >percentValidated</th>        <th class=\"col_heading level0 col4\" >mapperLevel</th>        <th class=\"col_heading level0 col5\" >status</th>        <th class=\"col_heading level0 col6\" >priority</th>    </tr></thead><tbody>\n",
              "                <tr>\n",
              "                        <th id=\"T_15daa414_03d0_11eb_967b_0242ac1c0002level0_row0\" class=\"row_heading level0 row0\" >182</th>\n",
              "                        <td id=\"T_15daa414_03d0_11eb_967b_0242ac1c0002row0_col0\" class=\"data row0 col0\" >8385</td>\n",
              "                        <td id=\"T_15daa414_03d0_11eb_967b_0242ac1c0002row0_col1\" class=\"data row0 col1\" >HOTPH-UP Covid-19 Response (QC #1)</td>\n",
              "                        <td id=\"T_15daa414_03d0_11eb_967b_0242ac1c0002row0_col2\" class=\"data row0 col2\" >100</td>\n",
              "                        <td id=\"T_15daa414_03d0_11eb_967b_0242ac1c0002row0_col3\" class=\"data row0 col3\" >99</td>\n",
              "                        <td id=\"T_15daa414_03d0_11eb_967b_0242ac1c0002row0_col4\" class=\"data row0 col4\" >INTERMEDIATE</td>\n",
              "                        <td id=\"T_15daa414_03d0_11eb_967b_0242ac1c0002row0_col5\" class=\"data row0 col5\" >ARCHIVED</td>\n",
              "                        <td id=\"T_15daa414_03d0_11eb_967b_0242ac1c0002row0_col6\" class=\"data row0 col6\" >LOW</td>\n",
              "            </tr>\n",
              "            <tr>\n",
              "                        <th id=\"T_15daa414_03d0_11eb_967b_0242ac1c0002level0_row1\" class=\"row_heading level0 row1\" >183</th>\n",
              "                        <td id=\"T_15daa414_03d0_11eb_967b_0242ac1c0002row1_col0\" class=\"data row1 col0\" >8386</td>\n",
              "                        <td id=\"T_15daa414_03d0_11eb_967b_0242ac1c0002row1_col1\" class=\"data row1 col1\" >HOTPH-UP Covid-19 Response (QC #2)</td>\n",
              "                        <td id=\"T_15daa414_03d0_11eb_967b_0242ac1c0002row1_col2\" class=\"data row1 col2\" >100</td>\n",
              "                        <td id=\"T_15daa414_03d0_11eb_967b_0242ac1c0002row1_col3\" class=\"data row1 col3\" >100</td>\n",
              "                        <td id=\"T_15daa414_03d0_11eb_967b_0242ac1c0002row1_col4\" class=\"data row1 col4\" >INTERMEDIATE</td>\n",
              "                        <td id=\"T_15daa414_03d0_11eb_967b_0242ac1c0002row1_col5\" class=\"data row1 col5\" >ARCHIVED</td>\n",
              "                        <td id=\"T_15daa414_03d0_11eb_967b_0242ac1c0002row1_col6\" class=\"data row1 col6\" >LOW</td>\n",
              "            </tr>\n",
              "    </tbody></table>"
            ],
            "text/plain": [
              "<pandas.io.formats.style.Styler at 0x7f42ad804588>"
            ]
          },
          "metadata": {
            "tags": []
          }
        },
        {
          "output_type": "display_data",
          "data": {
            "text/markdown": "## République Démocratique du Congo",
            "text/plain": [
              "<IPython.core.display.Markdown object>"
            ]
          },
          "metadata": {
            "tags": []
          }
        },
        {
          "output_type": "display_data",
          "data": {
            "text/markdown": "---",
            "text/plain": [
              "<IPython.core.display.Markdown object>"
            ]
          },
          "metadata": {
            "tags": []
          }
        },
        {
          "output_type": "display_data",
          "data": {
            "text/markdown": "\n- Total number projects: 1\n    - Drafts:    1\n    - Published: 0 \n    - Archived:  0\n- Completed projects (100% mapped & validated): 0\n- Average % mapped across all projects: 0.0 %\n- Average % validated across all projects: 0.0 %\n",
            "text/plain": [
              "<IPython.core.display.Markdown object>"
            ]
          },
          "metadata": {
            "tags": []
          }
        },
        {
          "output_type": "display_data",
          "data": {
            "text/markdown": "---",
            "text/plain": [
              "<IPython.core.display.Markdown object>"
            ]
          },
          "metadata": {
            "tags": []
          }
        },
        {
          "output_type": "display_data",
          "data": {
            "text/html": [
              "<style  type=\"text/css\" >\n",
              "#T_15e16678_03d0_11eb_967b_0242ac1c0002row0_col2,#T_15e16678_03d0_11eb_967b_0242ac1c0002row0_col3{\n",
              "            background-color:  #d73f3f;\n",
              "            color:  #f1f1f1;\n",
              "        }#T_15e16678_03d0_11eb_967b_0242ac1c0002row0_col5{\n",
              "            background-color:  #FAA71E;\n",
              "        }#T_15e16678_03d0_11eb_967b_0242ac1c0002row0_col6{\n",
              "            background-color:  #53AE62;\n",
              "        }</style><table id=\"T_15e16678_03d0_11eb_967b_0242ac1c0002\" ><thead>    <tr>        <th class=\"blank level0\" ></th>        <th class=\"col_heading level0 col0\" >projectId</th>        <th class=\"col_heading level0 col1\" >name</th>        <th class=\"col_heading level0 col2\" >percentMapped</th>        <th class=\"col_heading level0 col3\" >percentValidated</th>        <th class=\"col_heading level0 col4\" >mapperLevel</th>        <th class=\"col_heading level0 col5\" >status</th>        <th class=\"col_heading level0 col6\" >priority</th>    </tr></thead><tbody>\n",
              "                <tr>\n",
              "                        <th id=\"T_15e16678_03d0_11eb_967b_0242ac1c0002level0_row0\" class=\"row_heading level0 row0\" >46</th>\n",
              "                        <td id=\"T_15e16678_03d0_11eb_967b_0242ac1c0002row0_col0\" class=\"data row0 col0\" >8609</td>\n",
              "                        <td id=\"T_15e16678_03d0_11eb_967b_0242ac1c0002row0_col1\" class=\"data row0 col1\" >COVID-19, Ngaliema, Kinshasa (DRC)</td>\n",
              "                        <td id=\"T_15e16678_03d0_11eb_967b_0242ac1c0002row0_col2\" class=\"data row0 col2\" >0</td>\n",
              "                        <td id=\"T_15e16678_03d0_11eb_967b_0242ac1c0002row0_col3\" class=\"data row0 col3\" >0</td>\n",
              "                        <td id=\"T_15e16678_03d0_11eb_967b_0242ac1c0002row0_col4\" class=\"data row0 col4\" >INTERMEDIATE</td>\n",
              "                        <td id=\"T_15e16678_03d0_11eb_967b_0242ac1c0002row0_col5\" class=\"data row0 col5\" >DRAFT</td>\n",
              "                        <td id=\"T_15e16678_03d0_11eb_967b_0242ac1c0002row0_col6\" class=\"data row0 col6\" >MEDIUM</td>\n",
              "            </tr>\n",
              "    </tbody></table>"
            ],
            "text/plain": [
              "<pandas.io.formats.style.Styler at 0x7f42abb84f28>"
            ]
          },
          "metadata": {
            "tags": []
          }
        },
        {
          "output_type": "display_data",
          "data": {
            "text/markdown": "## South Africa",
            "text/plain": [
              "<IPython.core.display.Markdown object>"
            ]
          },
          "metadata": {
            "tags": []
          }
        },
        {
          "output_type": "display_data",
          "data": {
            "text/markdown": "---",
            "text/plain": [
              "<IPython.core.display.Markdown object>"
            ]
          },
          "metadata": {
            "tags": []
          }
        },
        {
          "output_type": "display_data",
          "data": {
            "text/markdown": "\n- Total number projects: 1\n    - Drafts:    0\n    - Published: 1 \n    - Archived:  0\n- Completed projects (100% mapped & validated): 0\n- Average % mapped across all projects: 90.0 %\n- Average % validated across all projects: 30.0 %\n",
            "text/plain": [
              "<IPython.core.display.Markdown object>"
            ]
          },
          "metadata": {
            "tags": []
          }
        },
        {
          "output_type": "display_data",
          "data": {
            "text/markdown": "---",
            "text/plain": [
              "<IPython.core.display.Markdown object>"
            ]
          },
          "metadata": {
            "tags": []
          }
        },
        {
          "output_type": "display_data",
          "data": {
            "text/html": [
              "<style  type=\"text/css\" >\n",
              "#T_15e85a1e_03d0_11eb_967b_0242ac1c0002row0_col2,#T_15e85a1e_03d0_11eb_967b_0242ac1c0002row0_col3{\n",
              "            background-color:  #d73f3f;\n",
              "            color:  #f1f1f1;\n",
              "        }#T_15e85a1e_03d0_11eb_967b_0242ac1c0002row0_col5{\n",
              "            background-color:  #53AE62;\n",
              "        }#T_15e85a1e_03d0_11eb_967b_0242ac1c0002row0_col6{\n",
              "            background-color:  #E1E0E0;\n",
              "        }</style><table id=\"T_15e85a1e_03d0_11eb_967b_0242ac1c0002\" ><thead>    <tr>        <th class=\"blank level0\" ></th>        <th class=\"col_heading level0 col0\" >projectId</th>        <th class=\"col_heading level0 col1\" >name</th>        <th class=\"col_heading level0 col2\" >percentMapped</th>        <th class=\"col_heading level0 col3\" >percentValidated</th>        <th class=\"col_heading level0 col4\" >mapperLevel</th>        <th class=\"col_heading level0 col5\" >status</th>        <th class=\"col_heading level0 col6\" >priority</th>    </tr></thead><tbody>\n",
              "                <tr>\n",
              "                        <th id=\"T_15e85a1e_03d0_11eb_967b_0242ac1c0002level0_row0\" class=\"row_heading level0 row0\" >135</th>\n",
              "                        <td id=\"T_15e85a1e_03d0_11eb_967b_0242ac1c0002row0_col0\" class=\"data row0 col0\" >8159</td>\n",
              "                        <td id=\"T_15e85a1e_03d0_11eb_967b_0242ac1c0002row0_col1\" class=\"data row0 col1\" >Impendle, South Africa COVID-19</td>\n",
              "                        <td id=\"T_15e85a1e_03d0_11eb_967b_0242ac1c0002row0_col2\" class=\"data row0 col2\" >90</td>\n",
              "                        <td id=\"T_15e85a1e_03d0_11eb_967b_0242ac1c0002row0_col3\" class=\"data row0 col3\" >30</td>\n",
              "                        <td id=\"T_15e85a1e_03d0_11eb_967b_0242ac1c0002row0_col4\" class=\"data row0 col4\" >BEGINNER</td>\n",
              "                        <td id=\"T_15e85a1e_03d0_11eb_967b_0242ac1c0002row0_col5\" class=\"data row0 col5\" >PUBLISHED</td>\n",
              "                        <td id=\"T_15e85a1e_03d0_11eb_967b_0242ac1c0002row0_col6\" class=\"data row0 col6\" >LOW</td>\n",
              "            </tr>\n",
              "    </tbody></table>"
            ],
            "text/plain": [
              "<pandas.io.formats.style.Styler at 0x7f42ad416e80>"
            ]
          },
          "metadata": {
            "tags": []
          }
        },
        {
          "output_type": "display_data",
          "data": {
            "text/markdown": "## Sri Lanka",
            "text/plain": [
              "<IPython.core.display.Markdown object>"
            ]
          },
          "metadata": {
            "tags": []
          }
        },
        {
          "output_type": "display_data",
          "data": {
            "text/markdown": "---",
            "text/plain": [
              "<IPython.core.display.Markdown object>"
            ]
          },
          "metadata": {
            "tags": []
          }
        },
        {
          "output_type": "display_data",
          "data": {
            "text/markdown": "\n- Total number projects: 1\n    - Drafts:    0\n    - Published: 1 \n    - Archived:  0\n- Completed projects (100% mapped & validated): 0\n- Average % mapped across all projects: 97.0 %\n- Average % validated across all projects: 94.0 %\n",
            "text/plain": [
              "<IPython.core.display.Markdown object>"
            ]
          },
          "metadata": {
            "tags": []
          }
        },
        {
          "output_type": "display_data",
          "data": {
            "text/markdown": "---",
            "text/plain": [
              "<IPython.core.display.Markdown object>"
            ]
          },
          "metadata": {
            "tags": []
          }
        },
        {
          "output_type": "display_data",
          "data": {
            "text/html": [
              "<style  type=\"text/css\" >\n",
              "#T_15eecffc_03d0_11eb_967b_0242ac1c0002row0_col2,#T_15eecffc_03d0_11eb_967b_0242ac1c0002row0_col3{\n",
              "            background-color:  #d73f3f;\n",
              "            color:  #f1f1f1;\n",
              "        }#T_15eecffc_03d0_11eb_967b_0242ac1c0002row0_col5,#T_15eecffc_03d0_11eb_967b_0242ac1c0002row0_col6{\n",
              "            background-color:  #53AE62;\n",
              "        }</style><table id=\"T_15eecffc_03d0_11eb_967b_0242ac1c0002\" ><thead>    <tr>        <th class=\"blank level0\" ></th>        <th class=\"col_heading level0 col0\" >projectId</th>        <th class=\"col_heading level0 col1\" >name</th>        <th class=\"col_heading level0 col2\" >percentMapped</th>        <th class=\"col_heading level0 col3\" >percentValidated</th>        <th class=\"col_heading level0 col4\" >mapperLevel</th>        <th class=\"col_heading level0 col5\" >status</th>        <th class=\"col_heading level0 col6\" >priority</th>    </tr></thead><tbody>\n",
              "                <tr>\n",
              "                        <th id=\"T_15eecffc_03d0_11eb_967b_0242ac1c0002level0_row0\" class=\"row_heading level0 row0\" >41</th>\n",
              "                        <td id=\"T_15eecffc_03d0_11eb_967b_0242ac1c0002row0_col0\" class=\"data row0 col0\" >8232</td>\n",
              "                        <td id=\"T_15eecffc_03d0_11eb_967b_0242ac1c0002row0_col1\" class=\"data row0 col1\" >COVID-19_Sri Lanka_Akurana area</td>\n",
              "                        <td id=\"T_15eecffc_03d0_11eb_967b_0242ac1c0002row0_col2\" class=\"data row0 col2\" >97</td>\n",
              "                        <td id=\"T_15eecffc_03d0_11eb_967b_0242ac1c0002row0_col3\" class=\"data row0 col3\" >94</td>\n",
              "                        <td id=\"T_15eecffc_03d0_11eb_967b_0242ac1c0002row0_col4\" class=\"data row0 col4\" >INTERMEDIATE</td>\n",
              "                        <td id=\"T_15eecffc_03d0_11eb_967b_0242ac1c0002row0_col5\" class=\"data row0 col5\" >PUBLISHED</td>\n",
              "                        <td id=\"T_15eecffc_03d0_11eb_967b_0242ac1c0002row0_col6\" class=\"data row0 col6\" >MEDIUM</td>\n",
              "            </tr>\n",
              "    </tbody></table>"
            ],
            "text/plain": [
              "<pandas.io.formats.style.Styler at 0x7f42abb86a58>"
            ]
          },
          "metadata": {
            "tags": []
          }
        },
        {
          "output_type": "display_data",
          "data": {
            "text/markdown": "## Suriname",
            "text/plain": [
              "<IPython.core.display.Markdown object>"
            ]
          },
          "metadata": {
            "tags": []
          }
        },
        {
          "output_type": "display_data",
          "data": {
            "text/markdown": "---",
            "text/plain": [
              "<IPython.core.display.Markdown object>"
            ]
          },
          "metadata": {
            "tags": []
          }
        },
        {
          "output_type": "display_data",
          "data": {
            "text/markdown": "\n- Total number projects: 7\n    - Drafts:    1\n    - Published: 6 \n    - Archived:  0\n- Completed projects (100% mapped & validated): 1\n- Average % mapped across all projects: 64.3 %\n- Average % validated across all projects: 39.3 %\n",
            "text/plain": [
              "<IPython.core.display.Markdown object>"
            ]
          },
          "metadata": {
            "tags": []
          }
        },
        {
          "output_type": "display_data",
          "data": {
            "text/markdown": "---",
            "text/plain": [
              "<IPython.core.display.Markdown object>"
            ]
          },
          "metadata": {
            "tags": []
          }
        },
        {
          "output_type": "display_data",
          "data": {
            "text/html": [
              "<style  type=\"text/css\" >\n",
              "#T_15f4d442_03d0_11eb_967b_0242ac1c0002row0_col2{\n",
              "            background-color:  #abaa3e;\n",
              "            color:  #000000;\n",
              "        }#T_15f4d442_03d0_11eb_967b_0242ac1c0002row0_col3{\n",
              "            background-color:  #e9762e;\n",
              "            color:  #000000;\n",
              "        }#T_15f4d442_03d0_11eb_967b_0242ac1c0002row0_col5,#T_15f4d442_03d0_11eb_967b_0242ac1c0002row1_col5,#T_15f4d442_03d0_11eb_967b_0242ac1c0002row2_col5,#T_15f4d442_03d0_11eb_967b_0242ac1c0002row3_col5,#T_15f4d442_03d0_11eb_967b_0242ac1c0002row4_col5,#T_15f4d442_03d0_11eb_967b_0242ac1c0002row5_col5,#T_15f4d442_03d0_11eb_967b_0242ac1c0002row5_col6{\n",
              "            background-color:  #53AE62;\n",
              "        }#T_15f4d442_03d0_11eb_967b_0242ac1c0002row0_col6,#T_15f4d442_03d0_11eb_967b_0242ac1c0002row2_col6,#T_15f4d442_03d0_11eb_967b_0242ac1c0002row3_col6,#T_15f4d442_03d0_11eb_967b_0242ac1c0002row4_col6,#T_15f4d442_03d0_11eb_967b_0242ac1c0002row6_col5,#T_15f4d442_03d0_11eb_967b_0242ac1c0002row6_col6{\n",
              "            background-color:  #FAA71E;\n",
              "        }#T_15f4d442_03d0_11eb_967b_0242ac1c0002row1_col2,#T_15f4d442_03d0_11eb_967b_0242ac1c0002row2_col2,#T_15f4d442_03d0_11eb_967b_0242ac1c0002row4_col2,#T_15f4d442_03d0_11eb_967b_0242ac1c0002row4_col3{\n",
              "            background-color:  #53ae62;\n",
              "            color:  #000000;\n",
              "        }#T_15f4d442_03d0_11eb_967b_0242ac1c0002row1_col3,#T_15f4d442_03d0_11eb_967b_0242ac1c0002row3_col2{\n",
              "            background-color:  #e0a829;\n",
              "            color:  #000000;\n",
              "        }#T_15f4d442_03d0_11eb_967b_0242ac1c0002row1_col6{\n",
              "            background-color:  #D73F3F;\n",
              "        }#T_15f4d442_03d0_11eb_967b_0242ac1c0002row2_col3{\n",
              "            background-color:  #76ad54;\n",
              "            color:  #000000;\n",
              "        }#T_15f4d442_03d0_11eb_967b_0242ac1c0002row3_col3,#T_15f4d442_03d0_11eb_967b_0242ac1c0002row5_col3,#T_15f4d442_03d0_11eb_967b_0242ac1c0002row6_col2,#T_15f4d442_03d0_11eb_967b_0242ac1c0002row6_col3{\n",
              "            background-color:  #d73f3f;\n",
              "            color:  #f1f1f1;\n",
              "        }#T_15f4d442_03d0_11eb_967b_0242ac1c0002row5_col2{\n",
              "            background-color:  #e66b31;\n",
              "            color:  #000000;\n",
              "        }</style><table id=\"T_15f4d442_03d0_11eb_967b_0242ac1c0002\" ><thead>    <tr>        <th class=\"blank level0\" ></th>        <th class=\"col_heading level0 col0\" >projectId</th>        <th class=\"col_heading level0 col1\" >name</th>        <th class=\"col_heading level0 col2\" >percentMapped</th>        <th class=\"col_heading level0 col3\" >percentValidated</th>        <th class=\"col_heading level0 col4\" >mapperLevel</th>        <th class=\"col_heading level0 col5\" >status</th>        <th class=\"col_heading level0 col6\" >priority</th>    </tr></thead><tbody>\n",
              "                <tr>\n",
              "                        <th id=\"T_15f4d442_03d0_11eb_967b_0242ac1c0002level0_row0\" class=\"row_heading level0 row0\" >21</th>\n",
              "                        <td id=\"T_15f4d442_03d0_11eb_967b_0242ac1c0002row0_col0\" class=\"data row0 col0\" >9334</td>\n",
              "                        <td id=\"T_15f4d442_03d0_11eb_967b_0242ac1c0002row0_col1\" class=\"data row0 col1\" >COVID-19 - Nickerie District, Suriname (2)</td>\n",
              "                        <td id=\"T_15f4d442_03d0_11eb_967b_0242ac1c0002row0_col2\" class=\"data row0 col2\" >70</td>\n",
              "                        <td id=\"T_15f4d442_03d0_11eb_967b_0242ac1c0002row0_col3\" class=\"data row0 col3\" >28</td>\n",
              "                        <td id=\"T_15f4d442_03d0_11eb_967b_0242ac1c0002row0_col4\" class=\"data row0 col4\" >BEGINNER</td>\n",
              "                        <td id=\"T_15f4d442_03d0_11eb_967b_0242ac1c0002row0_col5\" class=\"data row0 col5\" >PUBLISHED</td>\n",
              "                        <td id=\"T_15f4d442_03d0_11eb_967b_0242ac1c0002row0_col6\" class=\"data row0 col6\" >HIGH</td>\n",
              "            </tr>\n",
              "            <tr>\n",
              "                        <th id=\"T_15f4d442_03d0_11eb_967b_0242ac1c0002level0_row1\" class=\"row_heading level0 row1\" >8</th>\n",
              "                        <td id=\"T_15f4d442_03d0_11eb_967b_0242ac1c0002row1_col0\" class=\"data row1 col0\" >9341</td>\n",
              "                        <td id=\"T_15f4d442_03d0_11eb_967b_0242ac1c0002row1_col1\" class=\"data row1 col1\" >COVID-19 - Wanica District, Suriname</td>\n",
              "                        <td id=\"T_15f4d442_03d0_11eb_967b_0242ac1c0002row1_col2\" class=\"data row1 col2\" >99</td>\n",
              "                        <td id=\"T_15f4d442_03d0_11eb_967b_0242ac1c0002row1_col3\" class=\"data row1 col3\" >58</td>\n",
              "                        <td id=\"T_15f4d442_03d0_11eb_967b_0242ac1c0002row1_col4\" class=\"data row1 col4\" >BEGINNER</td>\n",
              "                        <td id=\"T_15f4d442_03d0_11eb_967b_0242ac1c0002row1_col5\" class=\"data row1 col5\" >PUBLISHED</td>\n",
              "                        <td id=\"T_15f4d442_03d0_11eb_967b_0242ac1c0002row1_col6\" class=\"data row1 col6\" >URGENT</td>\n",
              "            </tr>\n",
              "            <tr>\n",
              "                        <th id=\"T_15f4d442_03d0_11eb_967b_0242ac1c0002level0_row2\" class=\"row_heading level0 row2\" >22</th>\n",
              "                        <td id=\"T_15f4d442_03d0_11eb_967b_0242ac1c0002row2_col0\" class=\"data row2 col0\" >9356</td>\n",
              "                        <td id=\"T_15f4d442_03d0_11eb_967b_0242ac1c0002row2_col1\" class=\"data row2 col1\" >COVID-19 - Nieuw Nickerie, Nickerie District, Suriname</td>\n",
              "                        <td id=\"T_15f4d442_03d0_11eb_967b_0242ac1c0002row2_col2\" class=\"data row2 col2\" >99</td>\n",
              "                        <td id=\"T_15f4d442_03d0_11eb_967b_0242ac1c0002row2_col3\" class=\"data row2 col3\" >89</td>\n",
              "                        <td id=\"T_15f4d442_03d0_11eb_967b_0242ac1c0002row2_col4\" class=\"data row2 col4\" >BEGINNER</td>\n",
              "                        <td id=\"T_15f4d442_03d0_11eb_967b_0242ac1c0002row2_col5\" class=\"data row2 col5\" >PUBLISHED</td>\n",
              "                        <td id=\"T_15f4d442_03d0_11eb_967b_0242ac1c0002row2_col6\" class=\"data row2 col6\" >HIGH</td>\n",
              "            </tr>\n",
              "            <tr>\n",
              "                        <th id=\"T_15f4d442_03d0_11eb_967b_0242ac1c0002level0_row3\" class=\"row_heading level0 row3\" >23</th>\n",
              "                        <td id=\"T_15f4d442_03d0_11eb_967b_0242ac1c0002row3_col0\" class=\"data row3 col0\" >9357</td>\n",
              "                        <td id=\"T_15f4d442_03d0_11eb_967b_0242ac1c0002row3_col1\" class=\"data row3 col1\" >COVID-19 - Coronie District, Suriname</td>\n",
              "                        <td id=\"T_15f4d442_03d0_11eb_967b_0242ac1c0002row3_col2\" class=\"data row3 col2\" >59</td>\n",
              "                        <td id=\"T_15f4d442_03d0_11eb_967b_0242ac1c0002row3_col3\" class=\"data row3 col3\" >0</td>\n",
              "                        <td id=\"T_15f4d442_03d0_11eb_967b_0242ac1c0002row3_col4\" class=\"data row3 col4\" >BEGINNER</td>\n",
              "                        <td id=\"T_15f4d442_03d0_11eb_967b_0242ac1c0002row3_col5\" class=\"data row3 col5\" >PUBLISHED</td>\n",
              "                        <td id=\"T_15f4d442_03d0_11eb_967b_0242ac1c0002row3_col6\" class=\"data row3 col6\" >HIGH</td>\n",
              "            </tr>\n",
              "            <tr>\n",
              "                        <th id=\"T_15f4d442_03d0_11eb_967b_0242ac1c0002level0_row4\" class=\"row_heading level0 row4\" >24</th>\n",
              "                        <td id=\"T_15f4d442_03d0_11eb_967b_0242ac1c0002row4_col0\" class=\"data row4 col0\" >9358</td>\n",
              "                        <td id=\"T_15f4d442_03d0_11eb_967b_0242ac1c0002row4_col1\" class=\"data row4 col1\" >COVID-19 - Commewijne District, Suriname </td>\n",
              "                        <td id=\"T_15f4d442_03d0_11eb_967b_0242ac1c0002row4_col2\" class=\"data row4 col2\" >100</td>\n",
              "                        <td id=\"T_15f4d442_03d0_11eb_967b_0242ac1c0002row4_col3\" class=\"data row4 col3\" >100</td>\n",
              "                        <td id=\"T_15f4d442_03d0_11eb_967b_0242ac1c0002row4_col4\" class=\"data row4 col4\" >BEGINNER</td>\n",
              "                        <td id=\"T_15f4d442_03d0_11eb_967b_0242ac1c0002row4_col5\" class=\"data row4 col5\" >PUBLISHED</td>\n",
              "                        <td id=\"T_15f4d442_03d0_11eb_967b_0242ac1c0002row4_col6\" class=\"data row4 col6\" >HIGH</td>\n",
              "            </tr>\n",
              "            <tr>\n",
              "                        <th id=\"T_15f4d442_03d0_11eb_967b_0242ac1c0002level0_row5\" class=\"row_heading level0 row5\" >104</th>\n",
              "                        <td id=\"T_15f4d442_03d0_11eb_967b_0242ac1c0002row5_col0\" class=\"data row5 col0\" >9359</td>\n",
              "                        <td id=\"T_15f4d442_03d0_11eb_967b_0242ac1c0002row5_col1\" class=\"data row5 col1\" >COVID-19 - Saramacca District, Suriname</td>\n",
              "                        <td id=\"T_15f4d442_03d0_11eb_967b_0242ac1c0002row5_col2\" class=\"data row5 col2\" >23</td>\n",
              "                        <td id=\"T_15f4d442_03d0_11eb_967b_0242ac1c0002row5_col3\" class=\"data row5 col3\" >0</td>\n",
              "                        <td id=\"T_15f4d442_03d0_11eb_967b_0242ac1c0002row5_col4\" class=\"data row5 col4\" >BEGINNER</td>\n",
              "                        <td id=\"T_15f4d442_03d0_11eb_967b_0242ac1c0002row5_col5\" class=\"data row5 col5\" >PUBLISHED</td>\n",
              "                        <td id=\"T_15f4d442_03d0_11eb_967b_0242ac1c0002row5_col6\" class=\"data row5 col6\" >MEDIUM</td>\n",
              "            </tr>\n",
              "            <tr>\n",
              "                        <th id=\"T_15f4d442_03d0_11eb_967b_0242ac1c0002level0_row6\" class=\"row_heading level0 row6\" >26</th>\n",
              "                        <td id=\"T_15f4d442_03d0_11eb_967b_0242ac1c0002row6_col0\" class=\"data row6 col0\" >9489</td>\n",
              "                        <td id=\"T_15f4d442_03d0_11eb_967b_0242ac1c0002row6_col1\" class=\"data row6 col1\" >COVID-19 - Sipaliwini District, Suriname</td>\n",
              "                        <td id=\"T_15f4d442_03d0_11eb_967b_0242ac1c0002row6_col2\" class=\"data row6 col2\" >0</td>\n",
              "                        <td id=\"T_15f4d442_03d0_11eb_967b_0242ac1c0002row6_col3\" class=\"data row6 col3\" >0</td>\n",
              "                        <td id=\"T_15f4d442_03d0_11eb_967b_0242ac1c0002row6_col4\" class=\"data row6 col4\" >BEGINNER</td>\n",
              "                        <td id=\"T_15f4d442_03d0_11eb_967b_0242ac1c0002row6_col5\" class=\"data row6 col5\" >DRAFT</td>\n",
              "                        <td id=\"T_15f4d442_03d0_11eb_967b_0242ac1c0002row6_col6\" class=\"data row6 col6\" >HIGH</td>\n",
              "            </tr>\n",
              "    </tbody></table>"
            ],
            "text/plain": [
              "<pandas.io.formats.style.Styler at 0x7f42abb67f60>"
            ]
          },
          "metadata": {
            "tags": []
          }
        },
        {
          "output_type": "display_data",
          "data": {
            "text/markdown": "## Uganda",
            "text/plain": [
              "<IPython.core.display.Markdown object>"
            ]
          },
          "metadata": {
            "tags": []
          }
        },
        {
          "output_type": "display_data",
          "data": {
            "text/markdown": "---",
            "text/plain": [
              "<IPython.core.display.Markdown object>"
            ]
          },
          "metadata": {
            "tags": []
          }
        },
        {
          "output_type": "display_data",
          "data": {
            "text/markdown": "\n- Total number projects: 31\n    - Drafts:    3\n    - Published: 28 \n    - Archived:  0\n- Completed projects (100% mapped & validated): 24\n- Average % mapped across all projects: 82.9 %\n- Average % validated across all projects: 80.6 %\n",
            "text/plain": [
              "<IPython.core.display.Markdown object>"
            ]
          },
          "metadata": {
            "tags": []
          }
        },
        {
          "output_type": "display_data",
          "data": {
            "text/markdown": "---",
            "text/plain": [
              "<IPython.core.display.Markdown object>"
            ]
          },
          "metadata": {
            "tags": []
          }
        },
        {
          "output_type": "display_data",
          "data": {
            "text/html": [
              "<style  type=\"text/css\" >\n",
              "#T_15fc0dd4_03d0_11eb_967b_0242ac1c0002row0_col2,#T_15fc0dd4_03d0_11eb_967b_0242ac1c0002row0_col3,#T_15fc0dd4_03d0_11eb_967b_0242ac1c0002row1_col2,#T_15fc0dd4_03d0_11eb_967b_0242ac1c0002row1_col3,#T_15fc0dd4_03d0_11eb_967b_0242ac1c0002row2_col2,#T_15fc0dd4_03d0_11eb_967b_0242ac1c0002row2_col3,#T_15fc0dd4_03d0_11eb_967b_0242ac1c0002row3_col2,#T_15fc0dd4_03d0_11eb_967b_0242ac1c0002row3_col3,#T_15fc0dd4_03d0_11eb_967b_0242ac1c0002row4_col2,#T_15fc0dd4_03d0_11eb_967b_0242ac1c0002row4_col3,#T_15fc0dd4_03d0_11eb_967b_0242ac1c0002row5_col2,#T_15fc0dd4_03d0_11eb_967b_0242ac1c0002row5_col3,#T_15fc0dd4_03d0_11eb_967b_0242ac1c0002row6_col2,#T_15fc0dd4_03d0_11eb_967b_0242ac1c0002row6_col3,#T_15fc0dd4_03d0_11eb_967b_0242ac1c0002row7_col2,#T_15fc0dd4_03d0_11eb_967b_0242ac1c0002row7_col3,#T_15fc0dd4_03d0_11eb_967b_0242ac1c0002row8_col2,#T_15fc0dd4_03d0_11eb_967b_0242ac1c0002row8_col3,#T_15fc0dd4_03d0_11eb_967b_0242ac1c0002row9_col2,#T_15fc0dd4_03d0_11eb_967b_0242ac1c0002row9_col3,#T_15fc0dd4_03d0_11eb_967b_0242ac1c0002row10_col2,#T_15fc0dd4_03d0_11eb_967b_0242ac1c0002row10_col3,#T_15fc0dd4_03d0_11eb_967b_0242ac1c0002row11_col2,#T_15fc0dd4_03d0_11eb_967b_0242ac1c0002row11_col3,#T_15fc0dd4_03d0_11eb_967b_0242ac1c0002row12_col2,#T_15fc0dd4_03d0_11eb_967b_0242ac1c0002row12_col3,#T_15fc0dd4_03d0_11eb_967b_0242ac1c0002row13_col2,#T_15fc0dd4_03d0_11eb_967b_0242ac1c0002row13_col3,#T_15fc0dd4_03d0_11eb_967b_0242ac1c0002row14_col2,#T_15fc0dd4_03d0_11eb_967b_0242ac1c0002row14_col3,#T_15fc0dd4_03d0_11eb_967b_0242ac1c0002row15_col2,#T_15fc0dd4_03d0_11eb_967b_0242ac1c0002row15_col3,#T_15fc0dd4_03d0_11eb_967b_0242ac1c0002row16_col2,#T_15fc0dd4_03d0_11eb_967b_0242ac1c0002row16_col3,#T_15fc0dd4_03d0_11eb_967b_0242ac1c0002row17_col2,#T_15fc0dd4_03d0_11eb_967b_0242ac1c0002row17_col3,#T_15fc0dd4_03d0_11eb_967b_0242ac1c0002row18_col2,#T_15fc0dd4_03d0_11eb_967b_0242ac1c0002row18_col3,#T_15fc0dd4_03d0_11eb_967b_0242ac1c0002row19_col2,#T_15fc0dd4_03d0_11eb_967b_0242ac1c0002row19_col3,#T_15fc0dd4_03d0_11eb_967b_0242ac1c0002row20_col2,#T_15fc0dd4_03d0_11eb_967b_0242ac1c0002row20_col3,#T_15fc0dd4_03d0_11eb_967b_0242ac1c0002row21_col2,#T_15fc0dd4_03d0_11eb_967b_0242ac1c0002row21_col3,#T_15fc0dd4_03d0_11eb_967b_0242ac1c0002row22_col2,#T_15fc0dd4_03d0_11eb_967b_0242ac1c0002row22_col3,#T_15fc0dd4_03d0_11eb_967b_0242ac1c0002row23_col2,#T_15fc0dd4_03d0_11eb_967b_0242ac1c0002row23_col3,#T_15fc0dd4_03d0_11eb_967b_0242ac1c0002row24_col2,#T_15fc0dd4_03d0_11eb_967b_0242ac1c0002row24_col3{\n",
              "            background-color:  #53ae62;\n",
              "            color:  #000000;\n",
              "        }#T_15fc0dd4_03d0_11eb_967b_0242ac1c0002row0_col5,#T_15fc0dd4_03d0_11eb_967b_0242ac1c0002row1_col5,#T_15fc0dd4_03d0_11eb_967b_0242ac1c0002row2_col5,#T_15fc0dd4_03d0_11eb_967b_0242ac1c0002row3_col5,#T_15fc0dd4_03d0_11eb_967b_0242ac1c0002row4_col5,#T_15fc0dd4_03d0_11eb_967b_0242ac1c0002row5_col5,#T_15fc0dd4_03d0_11eb_967b_0242ac1c0002row5_col6,#T_15fc0dd4_03d0_11eb_967b_0242ac1c0002row6_col5,#T_15fc0dd4_03d0_11eb_967b_0242ac1c0002row6_col6,#T_15fc0dd4_03d0_11eb_967b_0242ac1c0002row7_col5,#T_15fc0dd4_03d0_11eb_967b_0242ac1c0002row7_col6,#T_15fc0dd4_03d0_11eb_967b_0242ac1c0002row8_col5,#T_15fc0dd4_03d0_11eb_967b_0242ac1c0002row8_col6,#T_15fc0dd4_03d0_11eb_967b_0242ac1c0002row9_col5,#T_15fc0dd4_03d0_11eb_967b_0242ac1c0002row9_col6,#T_15fc0dd4_03d0_11eb_967b_0242ac1c0002row10_col5,#T_15fc0dd4_03d0_11eb_967b_0242ac1c0002row10_col6,#T_15fc0dd4_03d0_11eb_967b_0242ac1c0002row11_col5,#T_15fc0dd4_03d0_11eb_967b_0242ac1c0002row11_col6,#T_15fc0dd4_03d0_11eb_967b_0242ac1c0002row12_col5,#T_15fc0dd4_03d0_11eb_967b_0242ac1c0002row12_col6,#T_15fc0dd4_03d0_11eb_967b_0242ac1c0002row13_col5,#T_15fc0dd4_03d0_11eb_967b_0242ac1c0002row13_col6,#T_15fc0dd4_03d0_11eb_967b_0242ac1c0002row14_col5,#T_15fc0dd4_03d0_11eb_967b_0242ac1c0002row14_col6,#T_15fc0dd4_03d0_11eb_967b_0242ac1c0002row15_col5,#T_15fc0dd4_03d0_11eb_967b_0242ac1c0002row15_col6,#T_15fc0dd4_03d0_11eb_967b_0242ac1c0002row16_col5,#T_15fc0dd4_03d0_11eb_967b_0242ac1c0002row16_col6,#T_15fc0dd4_03d0_11eb_967b_0242ac1c0002row17_col5,#T_15fc0dd4_03d0_11eb_967b_0242ac1c0002row17_col6,#T_15fc0dd4_03d0_11eb_967b_0242ac1c0002row18_col5,#T_15fc0dd4_03d0_11eb_967b_0242ac1c0002row18_col6,#T_15fc0dd4_03d0_11eb_967b_0242ac1c0002row19_col5,#T_15fc0dd4_03d0_11eb_967b_0242ac1c0002row19_col6,#T_15fc0dd4_03d0_11eb_967b_0242ac1c0002row20_col5,#T_15fc0dd4_03d0_11eb_967b_0242ac1c0002row20_col6,#T_15fc0dd4_03d0_11eb_967b_0242ac1c0002row21_col5,#T_15fc0dd4_03d0_11eb_967b_0242ac1c0002row21_col6,#T_15fc0dd4_03d0_11eb_967b_0242ac1c0002row22_col5,#T_15fc0dd4_03d0_11eb_967b_0242ac1c0002row22_col6,#T_15fc0dd4_03d0_11eb_967b_0242ac1c0002row23_col5,#T_15fc0dd4_03d0_11eb_967b_0242ac1c0002row23_col6,#T_15fc0dd4_03d0_11eb_967b_0242ac1c0002row24_col5,#T_15fc0dd4_03d0_11eb_967b_0242ac1c0002row24_col6,#T_15fc0dd4_03d0_11eb_967b_0242ac1c0002row25_col6,#T_15fc0dd4_03d0_11eb_967b_0242ac1c0002row26_col6,#T_15fc0dd4_03d0_11eb_967b_0242ac1c0002row27_col6,#T_15fc0dd4_03d0_11eb_967b_0242ac1c0002row28_col5,#T_15fc0dd4_03d0_11eb_967b_0242ac1c0002row28_col6,#T_15fc0dd4_03d0_11eb_967b_0242ac1c0002row29_col5,#T_15fc0dd4_03d0_11eb_967b_0242ac1c0002row29_col6,#T_15fc0dd4_03d0_11eb_967b_0242ac1c0002row30_col5,#T_15fc0dd4_03d0_11eb_967b_0242ac1c0002row30_col6{\n",
              "            background-color:  #53AE62;\n",
              "        }#T_15fc0dd4_03d0_11eb_967b_0242ac1c0002row0_col6,#T_15fc0dd4_03d0_11eb_967b_0242ac1c0002row1_col6,#T_15fc0dd4_03d0_11eb_967b_0242ac1c0002row2_col6,#T_15fc0dd4_03d0_11eb_967b_0242ac1c0002row3_col6,#T_15fc0dd4_03d0_11eb_967b_0242ac1c0002row4_col6{\n",
              "            background-color:  #E1E0E0;\n",
              "        }#T_15fc0dd4_03d0_11eb_967b_0242ac1c0002row25_col2,#T_15fc0dd4_03d0_11eb_967b_0242ac1c0002row25_col3,#T_15fc0dd4_03d0_11eb_967b_0242ac1c0002row26_col2,#T_15fc0dd4_03d0_11eb_967b_0242ac1c0002row26_col3,#T_15fc0dd4_03d0_11eb_967b_0242ac1c0002row27_col2,#T_15fc0dd4_03d0_11eb_967b_0242ac1c0002row27_col3,#T_15fc0dd4_03d0_11eb_967b_0242ac1c0002row28_col3,#T_15fc0dd4_03d0_11eb_967b_0242ac1c0002row29_col3,#T_15fc0dd4_03d0_11eb_967b_0242ac1c0002row30_col2,#T_15fc0dd4_03d0_11eb_967b_0242ac1c0002row30_col3{\n",
              "            background-color:  #d73f3f;\n",
              "            color:  #f1f1f1;\n",
              "        }#T_15fc0dd4_03d0_11eb_967b_0242ac1c0002row25_col5,#T_15fc0dd4_03d0_11eb_967b_0242ac1c0002row26_col5,#T_15fc0dd4_03d0_11eb_967b_0242ac1c0002row27_col5{\n",
              "            background-color:  #FAA71E;\n",
              "        }#T_15fc0dd4_03d0_11eb_967b_0242ac1c0002row28_col2{\n",
              "            background-color:  #f1a722;\n",
              "            color:  #000000;\n",
              "        }#T_15fc0dd4_03d0_11eb_967b_0242ac1c0002row29_col2{\n",
              "            background-color:  #e26035;\n",
              "            color:  #000000;\n",
              "        }</style><table id=\"T_15fc0dd4_03d0_11eb_967b_0242ac1c0002\" ><thead>    <tr>        <th class=\"blank level0\" ></th>        <th class=\"col_heading level0 col0\" >projectId</th>        <th class=\"col_heading level0 col1\" >name</th>        <th class=\"col_heading level0 col2\" >percentMapped</th>        <th class=\"col_heading level0 col3\" >percentValidated</th>        <th class=\"col_heading level0 col4\" >mapperLevel</th>        <th class=\"col_heading level0 col5\" >status</th>        <th class=\"col_heading level0 col6\" >priority</th>    </tr></thead><tbody>\n",
              "                <tr>\n",
              "                        <th id=\"T_15fc0dd4_03d0_11eb_967b_0242ac1c0002level0_row0\" class=\"row_heading level0 row0\" >285</th>\n",
              "                        <td id=\"T_15fc0dd4_03d0_11eb_967b_0242ac1c0002row0_col0\" class=\"data row0 col0\" >8795</td>\n",
              "                        <td id=\"T_15fc0dd4_03d0_11eb_967b_0242ac1c0002row0_col1\" class=\"data row0 col1\" >Covid-19 Rapid Response - Mutukula Border Town</td>\n",
              "                        <td id=\"T_15fc0dd4_03d0_11eb_967b_0242ac1c0002row0_col2\" class=\"data row0 col2\" >100</td>\n",
              "                        <td id=\"T_15fc0dd4_03d0_11eb_967b_0242ac1c0002row0_col3\" class=\"data row0 col3\" >100</td>\n",
              "                        <td id=\"T_15fc0dd4_03d0_11eb_967b_0242ac1c0002row0_col4\" class=\"data row0 col4\" >BEGINNER</td>\n",
              "                        <td id=\"T_15fc0dd4_03d0_11eb_967b_0242ac1c0002row0_col5\" class=\"data row0 col5\" >PUBLISHED</td>\n",
              "                        <td id=\"T_15fc0dd4_03d0_11eb_967b_0242ac1c0002row0_col6\" class=\"data row0 col6\" >LOW</td>\n",
              "            </tr>\n",
              "            <tr>\n",
              "                        <th id=\"T_15fc0dd4_03d0_11eb_967b_0242ac1c0002level0_row1\" class=\"row_heading level0 row1\" >289</th>\n",
              "                        <td id=\"T_15fc0dd4_03d0_11eb_967b_0242ac1c0002row1_col0\" class=\"data row1 col0\" >8815</td>\n",
              "                        <td id=\"T_15fc0dd4_03d0_11eb_967b_0242ac1c0002row1_col1\" class=\"data row1 col1\" >Covid-19 Rapid Response - Elegu Border Town</td>\n",
              "                        <td id=\"T_15fc0dd4_03d0_11eb_967b_0242ac1c0002row1_col2\" class=\"data row1 col2\" >100</td>\n",
              "                        <td id=\"T_15fc0dd4_03d0_11eb_967b_0242ac1c0002row1_col3\" class=\"data row1 col3\" >100</td>\n",
              "                        <td id=\"T_15fc0dd4_03d0_11eb_967b_0242ac1c0002row1_col4\" class=\"data row1 col4\" >BEGINNER</td>\n",
              "                        <td id=\"T_15fc0dd4_03d0_11eb_967b_0242ac1c0002row1_col5\" class=\"data row1 col5\" >PUBLISHED</td>\n",
              "                        <td id=\"T_15fc0dd4_03d0_11eb_967b_0242ac1c0002row1_col6\" class=\"data row1 col6\" >LOW</td>\n",
              "            </tr>\n",
              "            <tr>\n",
              "                        <th id=\"T_15fc0dd4_03d0_11eb_967b_0242ac1c0002level0_row2\" class=\"row_heading level0 row2\" >290</th>\n",
              "                        <td id=\"T_15fc0dd4_03d0_11eb_967b_0242ac1c0002row2_col0\" class=\"data row2 col0\" >8817</td>\n",
              "                        <td id=\"T_15fc0dd4_03d0_11eb_967b_0242ac1c0002row2_col1\" class=\"data row2 col1\" >Covid-19 Rapid Response - Busia Border Town</td>\n",
              "                        <td id=\"T_15fc0dd4_03d0_11eb_967b_0242ac1c0002row2_col2\" class=\"data row2 col2\" >100</td>\n",
              "                        <td id=\"T_15fc0dd4_03d0_11eb_967b_0242ac1c0002row2_col3\" class=\"data row2 col3\" >100</td>\n",
              "                        <td id=\"T_15fc0dd4_03d0_11eb_967b_0242ac1c0002row2_col4\" class=\"data row2 col4\" >BEGINNER</td>\n",
              "                        <td id=\"T_15fc0dd4_03d0_11eb_967b_0242ac1c0002row2_col5\" class=\"data row2 col5\" >PUBLISHED</td>\n",
              "                        <td id=\"T_15fc0dd4_03d0_11eb_967b_0242ac1c0002row2_col6\" class=\"data row2 col6\" >LOW</td>\n",
              "            </tr>\n",
              "            <tr>\n",
              "                        <th id=\"T_15fc0dd4_03d0_11eb_967b_0242ac1c0002level0_row3\" class=\"row_heading level0 row3\" >292</th>\n",
              "                        <td id=\"T_15fc0dd4_03d0_11eb_967b_0242ac1c0002row3_col0\" class=\"data row3 col0\" >8841</td>\n",
              "                        <td id=\"T_15fc0dd4_03d0_11eb_967b_0242ac1c0002row3_col1\" class=\"data row3 col1\" >Covid-19 Rapid Response - Malaba Border Town</td>\n",
              "                        <td id=\"T_15fc0dd4_03d0_11eb_967b_0242ac1c0002row3_col2\" class=\"data row3 col2\" >100</td>\n",
              "                        <td id=\"T_15fc0dd4_03d0_11eb_967b_0242ac1c0002row3_col3\" class=\"data row3 col3\" >100</td>\n",
              "                        <td id=\"T_15fc0dd4_03d0_11eb_967b_0242ac1c0002row3_col4\" class=\"data row3 col4\" >BEGINNER</td>\n",
              "                        <td id=\"T_15fc0dd4_03d0_11eb_967b_0242ac1c0002row3_col5\" class=\"data row3 col5\" >PUBLISHED</td>\n",
              "                        <td id=\"T_15fc0dd4_03d0_11eb_967b_0242ac1c0002row3_col6\" class=\"data row3 col6\" >LOW</td>\n",
              "            </tr>\n",
              "            <tr>\n",
              "                        <th id=\"T_15fc0dd4_03d0_11eb_967b_0242ac1c0002level0_row4\" class=\"row_heading level0 row4\" >293</th>\n",
              "                        <td id=\"T_15fc0dd4_03d0_11eb_967b_0242ac1c0002row4_col0\" class=\"data row4 col0\" >8843</td>\n",
              "                        <td id=\"T_15fc0dd4_03d0_11eb_967b_0242ac1c0002row4_col1\" class=\"data row4 col1\" >Covid-19 Rapid Response - Entebbe International Airport</td>\n",
              "                        <td id=\"T_15fc0dd4_03d0_11eb_967b_0242ac1c0002row4_col2\" class=\"data row4 col2\" >100</td>\n",
              "                        <td id=\"T_15fc0dd4_03d0_11eb_967b_0242ac1c0002row4_col3\" class=\"data row4 col3\" >100</td>\n",
              "                        <td id=\"T_15fc0dd4_03d0_11eb_967b_0242ac1c0002row4_col4\" class=\"data row4 col4\" >BEGINNER</td>\n",
              "                        <td id=\"T_15fc0dd4_03d0_11eb_967b_0242ac1c0002row4_col5\" class=\"data row4 col5\" >PUBLISHED</td>\n",
              "                        <td id=\"T_15fc0dd4_03d0_11eb_967b_0242ac1c0002row4_col6\" class=\"data row4 col6\" >LOW</td>\n",
              "            </tr>\n",
              "            <tr>\n",
              "                        <th id=\"T_15fc0dd4_03d0_11eb_967b_0242ac1c0002level0_row5\" class=\"row_heading level0 row5\" >57</th>\n",
              "                        <td id=\"T_15fc0dd4_03d0_11eb_967b_0242ac1c0002row5_col0\" class=\"data row5 col0\" >8884</td>\n",
              "                        <td id=\"T_15fc0dd4_03d0_11eb_967b_0242ac1c0002row5_col1\" class=\"data row5 col1\" >Covid-19 Rapid Response - Kalangala</td>\n",
              "                        <td id=\"T_15fc0dd4_03d0_11eb_967b_0242ac1c0002row5_col2\" class=\"data row5 col2\" >100</td>\n",
              "                        <td id=\"T_15fc0dd4_03d0_11eb_967b_0242ac1c0002row5_col3\" class=\"data row5 col3\" >100</td>\n",
              "                        <td id=\"T_15fc0dd4_03d0_11eb_967b_0242ac1c0002row5_col4\" class=\"data row5 col4\" >BEGINNER</td>\n",
              "                        <td id=\"T_15fc0dd4_03d0_11eb_967b_0242ac1c0002row5_col5\" class=\"data row5 col5\" >PUBLISHED</td>\n",
              "                        <td id=\"T_15fc0dd4_03d0_11eb_967b_0242ac1c0002row5_col6\" class=\"data row5 col6\" >MEDIUM</td>\n",
              "            </tr>\n",
              "            <tr>\n",
              "                        <th id=\"T_15fc0dd4_03d0_11eb_967b_0242ac1c0002level0_row6\" class=\"row_heading level0 row6\" >58</th>\n",
              "                        <td id=\"T_15fc0dd4_03d0_11eb_967b_0242ac1c0002row6_col0\" class=\"data row6 col0\" >8885</td>\n",
              "                        <td id=\"T_15fc0dd4_03d0_11eb_967b_0242ac1c0002row6_col1\" class=\"data row6 col1\" >Covid-19 Rapid Response - Madi-Opei</td>\n",
              "                        <td id=\"T_15fc0dd4_03d0_11eb_967b_0242ac1c0002row6_col2\" class=\"data row6 col2\" >100</td>\n",
              "                        <td id=\"T_15fc0dd4_03d0_11eb_967b_0242ac1c0002row6_col3\" class=\"data row6 col3\" >100</td>\n",
              "                        <td id=\"T_15fc0dd4_03d0_11eb_967b_0242ac1c0002row6_col4\" class=\"data row6 col4\" >BEGINNER</td>\n",
              "                        <td id=\"T_15fc0dd4_03d0_11eb_967b_0242ac1c0002row6_col5\" class=\"data row6 col5\" >PUBLISHED</td>\n",
              "                        <td id=\"T_15fc0dd4_03d0_11eb_967b_0242ac1c0002row6_col6\" class=\"data row6 col6\" >MEDIUM</td>\n",
              "            </tr>\n",
              "            <tr>\n",
              "                        <th id=\"T_15fc0dd4_03d0_11eb_967b_0242ac1c0002level0_row7\" class=\"row_heading level0 row7\" >59</th>\n",
              "                        <td id=\"T_15fc0dd4_03d0_11eb_967b_0242ac1c0002row7_col0\" class=\"data row7 col0\" >8886</td>\n",
              "                        <td id=\"T_15fc0dd4_03d0_11eb_967b_0242ac1c0002row7_col1\" class=\"data row7 col1\" >Covid-19 Rapid Response - Oraba</td>\n",
              "                        <td id=\"T_15fc0dd4_03d0_11eb_967b_0242ac1c0002row7_col2\" class=\"data row7 col2\" >100</td>\n",
              "                        <td id=\"T_15fc0dd4_03d0_11eb_967b_0242ac1c0002row7_col3\" class=\"data row7 col3\" >100</td>\n",
              "                        <td id=\"T_15fc0dd4_03d0_11eb_967b_0242ac1c0002row7_col4\" class=\"data row7 col4\" >BEGINNER</td>\n",
              "                        <td id=\"T_15fc0dd4_03d0_11eb_967b_0242ac1c0002row7_col5\" class=\"data row7 col5\" >PUBLISHED</td>\n",
              "                        <td id=\"T_15fc0dd4_03d0_11eb_967b_0242ac1c0002row7_col6\" class=\"data row7 col6\" >MEDIUM</td>\n",
              "            </tr>\n",
              "            <tr>\n",
              "                        <th id=\"T_15fc0dd4_03d0_11eb_967b_0242ac1c0002level0_row8\" class=\"row_heading level0 row8\" >83</th>\n",
              "                        <td id=\"T_15fc0dd4_03d0_11eb_967b_0242ac1c0002row8_col0\" class=\"data row8 col0\" >9012</td>\n",
              "                        <td id=\"T_15fc0dd4_03d0_11eb_967b_0242ac1c0002row8_col1\" class=\"data row8 col1\" >Covid-19 Rapid Response - Katuna</td>\n",
              "                        <td id=\"T_15fc0dd4_03d0_11eb_967b_0242ac1c0002row8_col2\" class=\"data row8 col2\" >100</td>\n",
              "                        <td id=\"T_15fc0dd4_03d0_11eb_967b_0242ac1c0002row8_col3\" class=\"data row8 col3\" >100</td>\n",
              "                        <td id=\"T_15fc0dd4_03d0_11eb_967b_0242ac1c0002row8_col4\" class=\"data row8 col4\" >BEGINNER</td>\n",
              "                        <td id=\"T_15fc0dd4_03d0_11eb_967b_0242ac1c0002row8_col5\" class=\"data row8 col5\" >PUBLISHED</td>\n",
              "                        <td id=\"T_15fc0dd4_03d0_11eb_967b_0242ac1c0002row8_col6\" class=\"data row8 col6\" >MEDIUM</td>\n",
              "            </tr>\n",
              "            <tr>\n",
              "                        <th id=\"T_15fc0dd4_03d0_11eb_967b_0242ac1c0002level0_row9\" class=\"row_heading level0 row9\" >84</th>\n",
              "                        <td id=\"T_15fc0dd4_03d0_11eb_967b_0242ac1c0002row9_col0\" class=\"data row9 col0\" >9013</td>\n",
              "                        <td id=\"T_15fc0dd4_03d0_11eb_967b_0242ac1c0002row9_col1\" class=\"data row9 col1\" >Covid-19 Rapid Response - Kikagati</td>\n",
              "                        <td id=\"T_15fc0dd4_03d0_11eb_967b_0242ac1c0002row9_col2\" class=\"data row9 col2\" >100</td>\n",
              "                        <td id=\"T_15fc0dd4_03d0_11eb_967b_0242ac1c0002row9_col3\" class=\"data row9 col3\" >100</td>\n",
              "                        <td id=\"T_15fc0dd4_03d0_11eb_967b_0242ac1c0002row9_col4\" class=\"data row9 col4\" >BEGINNER</td>\n",
              "                        <td id=\"T_15fc0dd4_03d0_11eb_967b_0242ac1c0002row9_col5\" class=\"data row9 col5\" >PUBLISHED</td>\n",
              "                        <td id=\"T_15fc0dd4_03d0_11eb_967b_0242ac1c0002row9_col6\" class=\"data row9 col6\" >MEDIUM</td>\n",
              "            </tr>\n",
              "            <tr>\n",
              "                        <th id=\"T_15fc0dd4_03d0_11eb_967b_0242ac1c0002level0_row10\" class=\"row_heading level0 row10\" >85</th>\n",
              "                        <td id=\"T_15fc0dd4_03d0_11eb_967b_0242ac1c0002row10_col0\" class=\"data row10 col0\" >9015</td>\n",
              "                        <td id=\"T_15fc0dd4_03d0_11eb_967b_0242ac1c0002row10_col1\" class=\"data row10 col1\" >Covid-19 Rapid Response - Kaabong</td>\n",
              "                        <td id=\"T_15fc0dd4_03d0_11eb_967b_0242ac1c0002row10_col2\" class=\"data row10 col2\" >100</td>\n",
              "                        <td id=\"T_15fc0dd4_03d0_11eb_967b_0242ac1c0002row10_col3\" class=\"data row10 col3\" >100</td>\n",
              "                        <td id=\"T_15fc0dd4_03d0_11eb_967b_0242ac1c0002row10_col4\" class=\"data row10 col4\" >BEGINNER</td>\n",
              "                        <td id=\"T_15fc0dd4_03d0_11eb_967b_0242ac1c0002row10_col5\" class=\"data row10 col5\" >PUBLISHED</td>\n",
              "                        <td id=\"T_15fc0dd4_03d0_11eb_967b_0242ac1c0002row10_col6\" class=\"data row10 col6\" >MEDIUM</td>\n",
              "            </tr>\n",
              "            <tr>\n",
              "                        <th id=\"T_15fc0dd4_03d0_11eb_967b_0242ac1c0002level0_row11\" class=\"row_heading level0 row11\" >86</th>\n",
              "                        <td id=\"T_15fc0dd4_03d0_11eb_967b_0242ac1c0002row11_col0\" class=\"data row11 col0\" >9027</td>\n",
              "                        <td id=\"T_15fc0dd4_03d0_11eb_967b_0242ac1c0002row11_col1\" class=\"data row11 col1\" >Covid-19 Rapid Response - Chyanika</td>\n",
              "                        <td id=\"T_15fc0dd4_03d0_11eb_967b_0242ac1c0002row11_col2\" class=\"data row11 col2\" >100</td>\n",
              "                        <td id=\"T_15fc0dd4_03d0_11eb_967b_0242ac1c0002row11_col3\" class=\"data row11 col3\" >100</td>\n",
              "                        <td id=\"T_15fc0dd4_03d0_11eb_967b_0242ac1c0002row11_col4\" class=\"data row11 col4\" >BEGINNER</td>\n",
              "                        <td id=\"T_15fc0dd4_03d0_11eb_967b_0242ac1c0002row11_col5\" class=\"data row11 col5\" >PUBLISHED</td>\n",
              "                        <td id=\"T_15fc0dd4_03d0_11eb_967b_0242ac1c0002row11_col6\" class=\"data row11 col6\" >MEDIUM</td>\n",
              "            </tr>\n",
              "            <tr>\n",
              "                        <th id=\"T_15fc0dd4_03d0_11eb_967b_0242ac1c0002level0_row12\" class=\"row_heading level0 row12\" >87</th>\n",
              "                        <td id=\"T_15fc0dd4_03d0_11eb_967b_0242ac1c0002row12_col0\" class=\"data row12 col0\" >9028</td>\n",
              "                        <td id=\"T_15fc0dd4_03d0_11eb_967b_0242ac1c0002row12_col1\" class=\"data row12 col1\" >Covid-19 Rapid Response - Lolwe Island</td>\n",
              "                        <td id=\"T_15fc0dd4_03d0_11eb_967b_0242ac1c0002row12_col2\" class=\"data row12 col2\" >98</td>\n",
              "                        <td id=\"T_15fc0dd4_03d0_11eb_967b_0242ac1c0002row12_col3\" class=\"data row12 col3\" >98</td>\n",
              "                        <td id=\"T_15fc0dd4_03d0_11eb_967b_0242ac1c0002row12_col4\" class=\"data row12 col4\" >BEGINNER</td>\n",
              "                        <td id=\"T_15fc0dd4_03d0_11eb_967b_0242ac1c0002row12_col5\" class=\"data row12 col5\" >PUBLISHED</td>\n",
              "                        <td id=\"T_15fc0dd4_03d0_11eb_967b_0242ac1c0002row12_col6\" class=\"data row12 col6\" >MEDIUM</td>\n",
              "            </tr>\n",
              "            <tr>\n",
              "                        <th id=\"T_15fc0dd4_03d0_11eb_967b_0242ac1c0002level0_row13\" class=\"row_heading level0 row13\" >89</th>\n",
              "                        <td id=\"T_15fc0dd4_03d0_11eb_967b_0242ac1c0002row13_col0\" class=\"data row13 col0\" >9034</td>\n",
              "                        <td id=\"T_15fc0dd4_03d0_11eb_967b_0242ac1c0002row13_col1\" class=\"data row13 col1\" >Covid-19 Rapid Response - Sigulu-Island</td>\n",
              "                        <td id=\"T_15fc0dd4_03d0_11eb_967b_0242ac1c0002row13_col2\" class=\"data row13 col2\" >100</td>\n",
              "                        <td id=\"T_15fc0dd4_03d0_11eb_967b_0242ac1c0002row13_col3\" class=\"data row13 col3\" >99</td>\n",
              "                        <td id=\"T_15fc0dd4_03d0_11eb_967b_0242ac1c0002row13_col4\" class=\"data row13 col4\" >BEGINNER</td>\n",
              "                        <td id=\"T_15fc0dd4_03d0_11eb_967b_0242ac1c0002row13_col5\" class=\"data row13 col5\" >PUBLISHED</td>\n",
              "                        <td id=\"T_15fc0dd4_03d0_11eb_967b_0242ac1c0002row13_col6\" class=\"data row13 col6\" >MEDIUM</td>\n",
              "            </tr>\n",
              "            <tr>\n",
              "                        <th id=\"T_15fc0dd4_03d0_11eb_967b_0242ac1c0002level0_row14\" class=\"row_heading level0 row14\" >90</th>\n",
              "                        <td id=\"T_15fc0dd4_03d0_11eb_967b_0242ac1c0002row14_col0\" class=\"data row14 col0\" >9045</td>\n",
              "                        <td id=\"T_15fc0dd4_03d0_11eb_967b_0242ac1c0002row14_col1\" class=\"data row14 col1\" >Covid-19 Rapid Response - Kamwezi</td>\n",
              "                        <td id=\"T_15fc0dd4_03d0_11eb_967b_0242ac1c0002row14_col2\" class=\"data row14 col2\" >99</td>\n",
              "                        <td id=\"T_15fc0dd4_03d0_11eb_967b_0242ac1c0002row14_col3\" class=\"data row14 col3\" >99</td>\n",
              "                        <td id=\"T_15fc0dd4_03d0_11eb_967b_0242ac1c0002row14_col4\" class=\"data row14 col4\" >BEGINNER</td>\n",
              "                        <td id=\"T_15fc0dd4_03d0_11eb_967b_0242ac1c0002row14_col5\" class=\"data row14 col5\" >PUBLISHED</td>\n",
              "                        <td id=\"T_15fc0dd4_03d0_11eb_967b_0242ac1c0002row14_col6\" class=\"data row14 col6\" >MEDIUM</td>\n",
              "            </tr>\n",
              "            <tr>\n",
              "                        <th id=\"T_15fc0dd4_03d0_11eb_967b_0242ac1c0002level0_row15\" class=\"row_heading level0 row15\" >91</th>\n",
              "                        <td id=\"T_15fc0dd4_03d0_11eb_967b_0242ac1c0002row15_col0\" class=\"data row15 col0\" >9048</td>\n",
              "                        <td id=\"T_15fc0dd4_03d0_11eb_967b_0242ac1c0002row15_col1\" class=\"data row15 col1\" >Covid-19 Rapid Response - Kidepo Airfield</td>\n",
              "                        <td id=\"T_15fc0dd4_03d0_11eb_967b_0242ac1c0002row15_col2\" class=\"data row15 col2\" >100</td>\n",
              "                        <td id=\"T_15fc0dd4_03d0_11eb_967b_0242ac1c0002row15_col3\" class=\"data row15 col3\" >100</td>\n",
              "                        <td id=\"T_15fc0dd4_03d0_11eb_967b_0242ac1c0002row15_col4\" class=\"data row15 col4\" >BEGINNER</td>\n",
              "                        <td id=\"T_15fc0dd4_03d0_11eb_967b_0242ac1c0002row15_col5\" class=\"data row15 col5\" >PUBLISHED</td>\n",
              "                        <td id=\"T_15fc0dd4_03d0_11eb_967b_0242ac1c0002row15_col6\" class=\"data row15 col6\" >MEDIUM</td>\n",
              "            </tr>\n",
              "            <tr>\n",
              "                        <th id=\"T_15fc0dd4_03d0_11eb_967b_0242ac1c0002level0_row16\" class=\"row_heading level0 row16\" >92</th>\n",
              "                        <td id=\"T_15fc0dd4_03d0_11eb_967b_0242ac1c0002row16_col0\" class=\"data row16 col0\" >9053</td>\n",
              "                        <td id=\"T_15fc0dd4_03d0_11eb_967b_0242ac1c0002row16_col1\" class=\"data row16 col1\" >Covid-19 Rapid Response - Kyotera</td>\n",
              "                        <td id=\"T_15fc0dd4_03d0_11eb_967b_0242ac1c0002row16_col2\" class=\"data row16 col2\" >99</td>\n",
              "                        <td id=\"T_15fc0dd4_03d0_11eb_967b_0242ac1c0002row16_col3\" class=\"data row16 col3\" >99</td>\n",
              "                        <td id=\"T_15fc0dd4_03d0_11eb_967b_0242ac1c0002row16_col4\" class=\"data row16 col4\" >BEGINNER</td>\n",
              "                        <td id=\"T_15fc0dd4_03d0_11eb_967b_0242ac1c0002row16_col5\" class=\"data row16 col5\" >PUBLISHED</td>\n",
              "                        <td id=\"T_15fc0dd4_03d0_11eb_967b_0242ac1c0002row16_col6\" class=\"data row16 col6\" >MEDIUM</td>\n",
              "            </tr>\n",
              "            <tr>\n",
              "                        <th id=\"T_15fc0dd4_03d0_11eb_967b_0242ac1c0002level0_row17\" class=\"row_heading level0 row17\" >94</th>\n",
              "                        <td id=\"T_15fc0dd4_03d0_11eb_967b_0242ac1c0002row17_col0\" class=\"data row17 col0\" >9075</td>\n",
              "                        <td id=\"T_15fc0dd4_03d0_11eb_967b_0242ac1c0002row17_col1\" class=\"data row17 col1\" >Covid-19 Rapid Response - Moroto</td>\n",
              "                        <td id=\"T_15fc0dd4_03d0_11eb_967b_0242ac1c0002row17_col2\" class=\"data row17 col2\" >99</td>\n",
              "                        <td id=\"T_15fc0dd4_03d0_11eb_967b_0242ac1c0002row17_col3\" class=\"data row17 col3\" >99</td>\n",
              "                        <td id=\"T_15fc0dd4_03d0_11eb_967b_0242ac1c0002row17_col4\" class=\"data row17 col4\" >BEGINNER</td>\n",
              "                        <td id=\"T_15fc0dd4_03d0_11eb_967b_0242ac1c0002row17_col5\" class=\"data row17 col5\" >PUBLISHED</td>\n",
              "                        <td id=\"T_15fc0dd4_03d0_11eb_967b_0242ac1c0002row17_col6\" class=\"data row17 col6\" >MEDIUM</td>\n",
              "            </tr>\n",
              "            <tr>\n",
              "                        <th id=\"T_15fc0dd4_03d0_11eb_967b_0242ac1c0002level0_row18\" class=\"row_heading level0 row18\" >96</th>\n",
              "                        <td id=\"T_15fc0dd4_03d0_11eb_967b_0242ac1c0002row18_col0\" class=\"data row18 col0\" >9173</td>\n",
              "                        <td id=\"T_15fc0dd4_03d0_11eb_967b_0242ac1c0002row18_col1\" class=\"data row18 col1\" >Covid-19 Rapid Response - Mirama Hills</td>\n",
              "                        <td id=\"T_15fc0dd4_03d0_11eb_967b_0242ac1c0002row18_col2\" class=\"data row18 col2\" >100</td>\n",
              "                        <td id=\"T_15fc0dd4_03d0_11eb_967b_0242ac1c0002row18_col3\" class=\"data row18 col3\" >100</td>\n",
              "                        <td id=\"T_15fc0dd4_03d0_11eb_967b_0242ac1c0002row18_col4\" class=\"data row18 col4\" >BEGINNER</td>\n",
              "                        <td id=\"T_15fc0dd4_03d0_11eb_967b_0242ac1c0002row18_col5\" class=\"data row18 col5\" >PUBLISHED</td>\n",
              "                        <td id=\"T_15fc0dd4_03d0_11eb_967b_0242ac1c0002row18_col6\" class=\"data row18 col6\" >MEDIUM</td>\n",
              "            </tr>\n",
              "            <tr>\n",
              "                        <th id=\"T_15fc0dd4_03d0_11eb_967b_0242ac1c0002level0_row19\" class=\"row_heading level0 row19\" >97</th>\n",
              "                        <td id=\"T_15fc0dd4_03d0_11eb_967b_0242ac1c0002row19_col0\" class=\"data row19 col0\" >9176</td>\n",
              "                        <td id=\"T_15fc0dd4_03d0_11eb_967b_0242ac1c0002row19_col1\" class=\"data row19 col1\" >Covid-19 Rapid Response - Suam</td>\n",
              "                        <td id=\"T_15fc0dd4_03d0_11eb_967b_0242ac1c0002row19_col2\" class=\"data row19 col2\" >100</td>\n",
              "                        <td id=\"T_15fc0dd4_03d0_11eb_967b_0242ac1c0002row19_col3\" class=\"data row19 col3\" >100</td>\n",
              "                        <td id=\"T_15fc0dd4_03d0_11eb_967b_0242ac1c0002row19_col4\" class=\"data row19 col4\" >BEGINNER</td>\n",
              "                        <td id=\"T_15fc0dd4_03d0_11eb_967b_0242ac1c0002row19_col5\" class=\"data row19 col5\" >PUBLISHED</td>\n",
              "                        <td id=\"T_15fc0dd4_03d0_11eb_967b_0242ac1c0002row19_col6\" class=\"data row19 col6\" >MEDIUM</td>\n",
              "            </tr>\n",
              "            <tr>\n",
              "                        <th id=\"T_15fc0dd4_03d0_11eb_967b_0242ac1c0002level0_row20\" class=\"row_heading level0 row20\" >99</th>\n",
              "                        <td id=\"T_15fc0dd4_03d0_11eb_967b_0242ac1c0002row20_col0\" class=\"data row20 col0\" >9196</td>\n",
              "                        <td id=\"T_15fc0dd4_03d0_11eb_967b_0242ac1c0002row20_col1\" class=\"data row20 col1\" >Covid-19 Rapid Response - Port Bell</td>\n",
              "                        <td id=\"T_15fc0dd4_03d0_11eb_967b_0242ac1c0002row20_col2\" class=\"data row20 col2\" >100</td>\n",
              "                        <td id=\"T_15fc0dd4_03d0_11eb_967b_0242ac1c0002row20_col3\" class=\"data row20 col3\" >100</td>\n",
              "                        <td id=\"T_15fc0dd4_03d0_11eb_967b_0242ac1c0002row20_col4\" class=\"data row20 col4\" >BEGINNER</td>\n",
              "                        <td id=\"T_15fc0dd4_03d0_11eb_967b_0242ac1c0002row20_col5\" class=\"data row20 col5\" >PUBLISHED</td>\n",
              "                        <td id=\"T_15fc0dd4_03d0_11eb_967b_0242ac1c0002row20_col6\" class=\"data row20 col6\" >MEDIUM</td>\n",
              "            </tr>\n",
              "            <tr>\n",
              "                        <th id=\"T_15fc0dd4_03d0_11eb_967b_0242ac1c0002level0_row21\" class=\"row_heading level0 row21\" >100</th>\n",
              "                        <td id=\"T_15fc0dd4_03d0_11eb_967b_0242ac1c0002row21_col0\" class=\"data row21 col0\" >9214</td>\n",
              "                        <td id=\"T_15fc0dd4_03d0_11eb_967b_0242ac1c0002row21_col1\" class=\"data row21 col1\" >Covid-19 Rapid Response - Moyo Town</td>\n",
              "                        <td id=\"T_15fc0dd4_03d0_11eb_967b_0242ac1c0002row21_col2\" class=\"data row21 col2\" >99</td>\n",
              "                        <td id=\"T_15fc0dd4_03d0_11eb_967b_0242ac1c0002row21_col3\" class=\"data row21 col3\" >99</td>\n",
              "                        <td id=\"T_15fc0dd4_03d0_11eb_967b_0242ac1c0002row21_col4\" class=\"data row21 col4\" >BEGINNER</td>\n",
              "                        <td id=\"T_15fc0dd4_03d0_11eb_967b_0242ac1c0002row21_col5\" class=\"data row21 col5\" >PUBLISHED</td>\n",
              "                        <td id=\"T_15fc0dd4_03d0_11eb_967b_0242ac1c0002row21_col6\" class=\"data row21 col6\" >MEDIUM</td>\n",
              "            </tr>\n",
              "            <tr>\n",
              "                        <th id=\"T_15fc0dd4_03d0_11eb_967b_0242ac1c0002level0_row22\" class=\"row_heading level0 row22\" >101</th>\n",
              "                        <td id=\"T_15fc0dd4_03d0_11eb_967b_0242ac1c0002row22_col0\" class=\"data row22 col0\" >9215</td>\n",
              "                        <td id=\"T_15fc0dd4_03d0_11eb_967b_0242ac1c0002row22_col1\" class=\"data row22 col1\" >Covid-19 Rapid Response - Amudat</td>\n",
              "                        <td id=\"T_15fc0dd4_03d0_11eb_967b_0242ac1c0002row22_col2\" class=\"data row22 col2\" >100</td>\n",
              "                        <td id=\"T_15fc0dd4_03d0_11eb_967b_0242ac1c0002row22_col3\" class=\"data row22 col3\" >100</td>\n",
              "                        <td id=\"T_15fc0dd4_03d0_11eb_967b_0242ac1c0002row22_col4\" class=\"data row22 col4\" >BEGINNER</td>\n",
              "                        <td id=\"T_15fc0dd4_03d0_11eb_967b_0242ac1c0002row22_col5\" class=\"data row22 col5\" >PUBLISHED</td>\n",
              "                        <td id=\"T_15fc0dd4_03d0_11eb_967b_0242ac1c0002row22_col6\" class=\"data row22 col6\" >MEDIUM</td>\n",
              "            </tr>\n",
              "            <tr>\n",
              "                        <th id=\"T_15fc0dd4_03d0_11eb_967b_0242ac1c0002level0_row23\" class=\"row_heading level0 row23\" >102</th>\n",
              "                        <td id=\"T_15fc0dd4_03d0_11eb_967b_0242ac1c0002row23_col0\" class=\"data row23 col0\" >9216</td>\n",
              "                        <td id=\"T_15fc0dd4_03d0_11eb_967b_0242ac1c0002row23_col1\" class=\"data row23 col1\" >Covid-19 Rapid Response - Ngom Orom</td>\n",
              "                        <td id=\"T_15fc0dd4_03d0_11eb_967b_0242ac1c0002row23_col2\" class=\"data row23 col2\" >100</td>\n",
              "                        <td id=\"T_15fc0dd4_03d0_11eb_967b_0242ac1c0002row23_col3\" class=\"data row23 col3\" >100</td>\n",
              "                        <td id=\"T_15fc0dd4_03d0_11eb_967b_0242ac1c0002row23_col4\" class=\"data row23 col4\" >BEGINNER</td>\n",
              "                        <td id=\"T_15fc0dd4_03d0_11eb_967b_0242ac1c0002row23_col5\" class=\"data row23 col5\" >PUBLISHED</td>\n",
              "                        <td id=\"T_15fc0dd4_03d0_11eb_967b_0242ac1c0002row23_col6\" class=\"data row23 col6\" >MEDIUM</td>\n",
              "            </tr>\n",
              "            <tr>\n",
              "                        <th id=\"T_15fc0dd4_03d0_11eb_967b_0242ac1c0002level0_row24\" class=\"row_heading level0 row24\" >103</th>\n",
              "                        <td id=\"T_15fc0dd4_03d0_11eb_967b_0242ac1c0002row24_col0\" class=\"data row24 col0\" >9218</td>\n",
              "                        <td id=\"T_15fc0dd4_03d0_11eb_967b_0242ac1c0002row24_col1\" class=\"data row24 col1\" >Covid-19 Rapid Response - Lamwo</td>\n",
              "                        <td id=\"T_15fc0dd4_03d0_11eb_967b_0242ac1c0002row24_col2\" class=\"data row24 col2\" >100</td>\n",
              "                        <td id=\"T_15fc0dd4_03d0_11eb_967b_0242ac1c0002row24_col3\" class=\"data row24 col3\" >100</td>\n",
              "                        <td id=\"T_15fc0dd4_03d0_11eb_967b_0242ac1c0002row24_col4\" class=\"data row24 col4\" >BEGINNER</td>\n",
              "                        <td id=\"T_15fc0dd4_03d0_11eb_967b_0242ac1c0002row24_col5\" class=\"data row24 col5\" >PUBLISHED</td>\n",
              "                        <td id=\"T_15fc0dd4_03d0_11eb_967b_0242ac1c0002row24_col6\" class=\"data row24 col6\" >MEDIUM</td>\n",
              "            </tr>\n",
              "            <tr>\n",
              "                        <th id=\"T_15fc0dd4_03d0_11eb_967b_0242ac1c0002level0_row25\" class=\"row_heading level0 row25\" >107</th>\n",
              "                        <td id=\"T_15fc0dd4_03d0_11eb_967b_0242ac1c0002row25_col0\" class=\"data row25 col0\" >9384</td>\n",
              "                        <td id=\"T_15fc0dd4_03d0_11eb_967b_0242ac1c0002row25_col1\" class=\"data row25 col1\" >Informal settlements' mapping - Bwaise I, Kampala, Uganda</td>\n",
              "                        <td id=\"T_15fc0dd4_03d0_11eb_967b_0242ac1c0002row25_col2\" class=\"data row25 col2\" >0</td>\n",
              "                        <td id=\"T_15fc0dd4_03d0_11eb_967b_0242ac1c0002row25_col3\" class=\"data row25 col3\" >0</td>\n",
              "                        <td id=\"T_15fc0dd4_03d0_11eb_967b_0242ac1c0002row25_col4\" class=\"data row25 col4\" >BEGINNER</td>\n",
              "                        <td id=\"T_15fc0dd4_03d0_11eb_967b_0242ac1c0002row25_col5\" class=\"data row25 col5\" >DRAFT</td>\n",
              "                        <td id=\"T_15fc0dd4_03d0_11eb_967b_0242ac1c0002row25_col6\" class=\"data row25 col6\" >MEDIUM</td>\n",
              "            </tr>\n",
              "            <tr>\n",
              "                        <th id=\"T_15fc0dd4_03d0_11eb_967b_0242ac1c0002level0_row26\" class=\"row_heading level0 row26\" >108</th>\n",
              "                        <td id=\"T_15fc0dd4_03d0_11eb_967b_0242ac1c0002row26_col0\" class=\"data row26 col0\" >9390</td>\n",
              "                        <td id=\"T_15fc0dd4_03d0_11eb_967b_0242ac1c0002row26_col1\" class=\"data row26 col1\" >Informal settlements' mapping - Kalerwe, Kampala, Uganda</td>\n",
              "                        <td id=\"T_15fc0dd4_03d0_11eb_967b_0242ac1c0002row26_col2\" class=\"data row26 col2\" >0</td>\n",
              "                        <td id=\"T_15fc0dd4_03d0_11eb_967b_0242ac1c0002row26_col3\" class=\"data row26 col3\" >0</td>\n",
              "                        <td id=\"T_15fc0dd4_03d0_11eb_967b_0242ac1c0002row26_col4\" class=\"data row26 col4\" >BEGINNER</td>\n",
              "                        <td id=\"T_15fc0dd4_03d0_11eb_967b_0242ac1c0002row26_col5\" class=\"data row26 col5\" >DRAFT</td>\n",
              "                        <td id=\"T_15fc0dd4_03d0_11eb_967b_0242ac1c0002row26_col6\" class=\"data row26 col6\" >MEDIUM</td>\n",
              "            </tr>\n",
              "            <tr>\n",
              "                        <th id=\"T_15fc0dd4_03d0_11eb_967b_0242ac1c0002level0_row27\" class=\"row_heading level0 row27\" >109</th>\n",
              "                        <td id=\"T_15fc0dd4_03d0_11eb_967b_0242ac1c0002row27_col0\" class=\"data row27 col0\" >9393</td>\n",
              "                        <td id=\"T_15fc0dd4_03d0_11eb_967b_0242ac1c0002row27_col1\" class=\"data row27 col1\" >Informal settlements' mapping - Katanga, Kampala, Uganda</td>\n",
              "                        <td id=\"T_15fc0dd4_03d0_11eb_967b_0242ac1c0002row27_col2\" class=\"data row27 col2\" >1</td>\n",
              "                        <td id=\"T_15fc0dd4_03d0_11eb_967b_0242ac1c0002row27_col3\" class=\"data row27 col3\" >0</td>\n",
              "                        <td id=\"T_15fc0dd4_03d0_11eb_967b_0242ac1c0002row27_col4\" class=\"data row27 col4\" >BEGINNER</td>\n",
              "                        <td id=\"T_15fc0dd4_03d0_11eb_967b_0242ac1c0002row27_col5\" class=\"data row27 col5\" >DRAFT</td>\n",
              "                        <td id=\"T_15fc0dd4_03d0_11eb_967b_0242ac1c0002row27_col6\" class=\"data row27 col6\" >MEDIUM</td>\n",
              "            </tr>\n",
              "            <tr>\n",
              "                        <th id=\"T_15fc0dd4_03d0_11eb_967b_0242ac1c0002level0_row28\" class=\"row_heading level0 row28\" >112</th>\n",
              "                        <td id=\"T_15fc0dd4_03d0_11eb_967b_0242ac1c0002row28_col0\" class=\"data row28 col0\" >9462</td>\n",
              "                        <td id=\"T_15fc0dd4_03d0_11eb_967b_0242ac1c0002row28_col1\" class=\"data row28 col1\" >Informal settlements' mapping - Katanga, Kampala, Uganda</td>\n",
              "                        <td id=\"T_15fc0dd4_03d0_11eb_967b_0242ac1c0002row28_col2\" class=\"data row28 col2\" >54</td>\n",
              "                        <td id=\"T_15fc0dd4_03d0_11eb_967b_0242ac1c0002row28_col3\" class=\"data row28 col3\" >3</td>\n",
              "                        <td id=\"T_15fc0dd4_03d0_11eb_967b_0242ac1c0002row28_col4\" class=\"data row28 col4\" >BEGINNER</td>\n",
              "                        <td id=\"T_15fc0dd4_03d0_11eb_967b_0242ac1c0002row28_col5\" class=\"data row28 col5\" >PUBLISHED</td>\n",
              "                        <td id=\"T_15fc0dd4_03d0_11eb_967b_0242ac1c0002row28_col6\" class=\"data row28 col6\" >MEDIUM</td>\n",
              "            </tr>\n",
              "            <tr>\n",
              "                        <th id=\"T_15fc0dd4_03d0_11eb_967b_0242ac1c0002level0_row29\" class=\"row_heading level0 row29\" >113</th>\n",
              "                        <td id=\"T_15fc0dd4_03d0_11eb_967b_0242ac1c0002row29_col0\" class=\"data row29 col0\" >9476</td>\n",
              "                        <td id=\"T_15fc0dd4_03d0_11eb_967b_0242ac1c0002row29_col1\" class=\"data row29 col1\" >Informal settlements' mapping - Kalerwe, Kampala, Uganda</td>\n",
              "                        <td id=\"T_15fc0dd4_03d0_11eb_967b_0242ac1c0002row29_col2\" class=\"data row29 col2\" >18</td>\n",
              "                        <td id=\"T_15fc0dd4_03d0_11eb_967b_0242ac1c0002row29_col3\" class=\"data row29 col3\" >3</td>\n",
              "                        <td id=\"T_15fc0dd4_03d0_11eb_967b_0242ac1c0002row29_col4\" class=\"data row29 col4\" >BEGINNER</td>\n",
              "                        <td id=\"T_15fc0dd4_03d0_11eb_967b_0242ac1c0002row29_col5\" class=\"data row29 col5\" >PUBLISHED</td>\n",
              "                        <td id=\"T_15fc0dd4_03d0_11eb_967b_0242ac1c0002row29_col6\" class=\"data row29 col6\" >MEDIUM</td>\n",
              "            </tr>\n",
              "            <tr>\n",
              "                        <th id=\"T_15fc0dd4_03d0_11eb_967b_0242ac1c0002level0_row30\" class=\"row_heading level0 row30\" >114</th>\n",
              "                        <td id=\"T_15fc0dd4_03d0_11eb_967b_0242ac1c0002row30_col0\" class=\"data row30 col0\" >9488</td>\n",
              "                        <td id=\"T_15fc0dd4_03d0_11eb_967b_0242ac1c0002row30_col1\" class=\"data row30 col1\" >Informal settlements' mapping - Kazo Angola, Kampala, Uganda</td>\n",
              "                        <td id=\"T_15fc0dd4_03d0_11eb_967b_0242ac1c0002row30_col2\" class=\"data row30 col2\" >3</td>\n",
              "                        <td id=\"T_15fc0dd4_03d0_11eb_967b_0242ac1c0002row30_col3\" class=\"data row30 col3\" >0</td>\n",
              "                        <td id=\"T_15fc0dd4_03d0_11eb_967b_0242ac1c0002row30_col4\" class=\"data row30 col4\" >BEGINNER</td>\n",
              "                        <td id=\"T_15fc0dd4_03d0_11eb_967b_0242ac1c0002row30_col5\" class=\"data row30 col5\" >PUBLISHED</td>\n",
              "                        <td id=\"T_15fc0dd4_03d0_11eb_967b_0242ac1c0002row30_col6\" class=\"data row30 col6\" >MEDIUM</td>\n",
              "            </tr>\n",
              "    </tbody></table>"
            ],
            "text/plain": [
              "<pandas.io.formats.style.Styler at 0x7f42abb49ac8>"
            ]
          },
          "metadata": {
            "tags": []
          }
        },
        {
          "output_type": "display_data",
          "data": {
            "text/markdown": "## Yemen",
            "text/plain": [
              "<IPython.core.display.Markdown object>"
            ]
          },
          "metadata": {
            "tags": []
          }
        },
        {
          "output_type": "display_data",
          "data": {
            "text/markdown": "---",
            "text/plain": [
              "<IPython.core.display.Markdown object>"
            ]
          },
          "metadata": {
            "tags": []
          }
        },
        {
          "output_type": "display_data",
          "data": {
            "text/markdown": "\n- Total number projects: 1\n    - Drafts:    0\n    - Published: 1 \n    - Archived:  0\n- Completed projects (100% mapped & validated): 0\n- Average % mapped across all projects: 98.0 %\n- Average % validated across all projects: 2.0 %\n",
            "text/plain": [
              "<IPython.core.display.Markdown object>"
            ]
          },
          "metadata": {
            "tags": []
          }
        },
        {
          "output_type": "display_data",
          "data": {
            "text/markdown": "---",
            "text/plain": [
              "<IPython.core.display.Markdown object>"
            ]
          },
          "metadata": {
            "tags": []
          }
        },
        {
          "output_type": "display_data",
          "data": {
            "text/html": [
              "<style  type=\"text/css\" >\n",
              "#T_160457b4_03d0_11eb_967b_0242ac1c0002row0_col2,#T_160457b4_03d0_11eb_967b_0242ac1c0002row0_col3{\n",
              "            background-color:  #d73f3f;\n",
              "            color:  #f1f1f1;\n",
              "        }#T_160457b4_03d0_11eb_967b_0242ac1c0002row0_col5,#T_160457b4_03d0_11eb_967b_0242ac1c0002row0_col6{\n",
              "            background-color:  #53AE62;\n",
              "        }</style><table id=\"T_160457b4_03d0_11eb_967b_0242ac1c0002\" ><thead>    <tr>        <th class=\"blank level0\" ></th>        <th class=\"col_heading level0 col0\" >projectId</th>        <th class=\"col_heading level0 col1\" >name</th>        <th class=\"col_heading level0 col2\" >percentMapped</th>        <th class=\"col_heading level0 col3\" >percentValidated</th>        <th class=\"col_heading level0 col4\" >mapperLevel</th>        <th class=\"col_heading level0 col5\" >status</th>        <th class=\"col_heading level0 col6\" >priority</th>    </tr></thead><tbody>\n",
              "                <tr>\n",
              "                        <th id=\"T_160457b4_03d0_11eb_967b_0242ac1c0002level0_row0\" class=\"row_heading level0 row0\" >44</th>\n",
              "                        <td id=\"T_160457b4_03d0_11eb_967b_0242ac1c0002row0_col0\" class=\"data row0 col0\" >8547</td>\n",
              "                        <td id=\"T_160457b4_03d0_11eb_967b_0242ac1c0002row0_col1\" class=\"data row0 col1\" >Population Displacement: Mapping buildings in #Marib, #Yemen</td>\n",
              "                        <td id=\"T_160457b4_03d0_11eb_967b_0242ac1c0002row0_col2\" class=\"data row0 col2\" >98</td>\n",
              "                        <td id=\"T_160457b4_03d0_11eb_967b_0242ac1c0002row0_col3\" class=\"data row0 col3\" >2</td>\n",
              "                        <td id=\"T_160457b4_03d0_11eb_967b_0242ac1c0002row0_col4\" class=\"data row0 col4\" >BEGINNER</td>\n",
              "                        <td id=\"T_160457b4_03d0_11eb_967b_0242ac1c0002row0_col5\" class=\"data row0 col5\" >PUBLISHED</td>\n",
              "                        <td id=\"T_160457b4_03d0_11eb_967b_0242ac1c0002row0_col6\" class=\"data row0 col6\" >MEDIUM</td>\n",
              "            </tr>\n",
              "    </tbody></table>"
            ],
            "text/plain": [
              "<pandas.io.formats.style.Styler at 0x7f42abb9ef28>"
            ]
          },
          "metadata": {
            "tags": []
          }
        },
        {
          "output_type": "display_data",
          "data": {
            "text/markdown": "## Монгол Улс",
            "text/plain": [
              "<IPython.core.display.Markdown object>"
            ]
          },
          "metadata": {
            "tags": []
          }
        },
        {
          "output_type": "display_data",
          "data": {
            "text/markdown": "---",
            "text/plain": [
              "<IPython.core.display.Markdown object>"
            ]
          },
          "metadata": {
            "tags": []
          }
        },
        {
          "output_type": "display_data",
          "data": {
            "text/markdown": "\n- Total number projects: 9\n    - Drafts:    0\n    - Published: 9 \n    - Archived:  0\n- Completed projects (100% mapped & validated): 0\n- Average % mapped across all projects: 80.0 %\n- Average % validated across all projects: 15.2 %\n",
            "text/plain": [
              "<IPython.core.display.Markdown object>"
            ]
          },
          "metadata": {
            "tags": []
          }
        },
        {
          "output_type": "display_data",
          "data": {
            "text/markdown": "---",
            "text/plain": [
              "<IPython.core.display.Markdown object>"
            ]
          },
          "metadata": {
            "tags": []
          }
        },
        {
          "output_type": "display_data",
          "data": {
            "text/html": [
              "<style  type=\"text/css\" >\n",
              "#T_1609f25a_03d0_11eb_967b_0242ac1c0002row0_col2,#T_1609f25a_03d0_11eb_967b_0242ac1c0002row0_col3,#T_1609f25a_03d0_11eb_967b_0242ac1c0002row1_col2,#T_1609f25a_03d0_11eb_967b_0242ac1c0002row3_col2,#T_1609f25a_03d0_11eb_967b_0242ac1c0002row4_col2,#T_1609f25a_03d0_11eb_967b_0242ac1c0002row5_col2,#T_1609f25a_03d0_11eb_967b_0242ac1c0002row6_col2{\n",
              "            background-color:  #53ae62;\n",
              "            color:  #000000;\n",
              "        }#T_1609f25a_03d0_11eb_967b_0242ac1c0002row0_col5,#T_1609f25a_03d0_11eb_967b_0242ac1c0002row1_col5,#T_1609f25a_03d0_11eb_967b_0242ac1c0002row2_col5,#T_1609f25a_03d0_11eb_967b_0242ac1c0002row3_col5,#T_1609f25a_03d0_11eb_967b_0242ac1c0002row4_col5,#T_1609f25a_03d0_11eb_967b_0242ac1c0002row5_col5,#T_1609f25a_03d0_11eb_967b_0242ac1c0002row6_col5,#T_1609f25a_03d0_11eb_967b_0242ac1c0002row7_col5,#T_1609f25a_03d0_11eb_967b_0242ac1c0002row8_col5{\n",
              "            background-color:  #53AE62;\n",
              "        }#T_1609f25a_03d0_11eb_967b_0242ac1c0002row0_col6,#T_1609f25a_03d0_11eb_967b_0242ac1c0002row1_col6,#T_1609f25a_03d0_11eb_967b_0242ac1c0002row2_col6,#T_1609f25a_03d0_11eb_967b_0242ac1c0002row3_col6,#T_1609f25a_03d0_11eb_967b_0242ac1c0002row4_col6,#T_1609f25a_03d0_11eb_967b_0242ac1c0002row5_col6,#T_1609f25a_03d0_11eb_967b_0242ac1c0002row6_col6,#T_1609f25a_03d0_11eb_967b_0242ac1c0002row7_col6,#T_1609f25a_03d0_11eb_967b_0242ac1c0002row8_col6{\n",
              "            background-color:  #E1E0E0;\n",
              "        }#T_1609f25a_03d0_11eb_967b_0242ac1c0002row1_col3,#T_1609f25a_03d0_11eb_967b_0242ac1c0002row7_col2{\n",
              "            background-color:  #e0a829;\n",
              "            color:  #000000;\n",
              "        }#T_1609f25a_03d0_11eb_967b_0242ac1c0002row2_col2{\n",
              "            background-color:  #e9762e;\n",
              "            color:  #000000;\n",
              "        }#T_1609f25a_03d0_11eb_967b_0242ac1c0002row2_col3,#T_1609f25a_03d0_11eb_967b_0242ac1c0002row3_col3,#T_1609f25a_03d0_11eb_967b_0242ac1c0002row8_col2{\n",
              "            background-color:  #d73f3f;\n",
              "            color:  #f1f1f1;\n",
              "        }#T_1609f25a_03d0_11eb_967b_0242ac1c0002row4_col3,#T_1609f25a_03d0_11eb_967b_0242ac1c0002row6_col3{\n",
              "            background-color:  #de5538;\n",
              "            color:  #000000;\n",
              "        }#T_1609f25a_03d0_11eb_967b_0242ac1c0002row5_col3{\n",
              "            background-color:  #f18c27;\n",
              "            color:  #000000;\n",
              "        }#T_1609f25a_03d0_11eb_967b_0242ac1c0002row7_col3{\n",
              "            background-color:  #e26035;\n",
              "            color:  #000000;\n",
              "        }#T_1609f25a_03d0_11eb_967b_0242ac1c0002row8_col3{\n",
              "            background-color:  #db4a3c;\n",
              "            color:  #f1f1f1;\n",
              "        }</style><table id=\"T_1609f25a_03d0_11eb_967b_0242ac1c0002\" ><thead>    <tr>        <th class=\"blank level0\" ></th>        <th class=\"col_heading level0 col0\" >projectId</th>        <th class=\"col_heading level0 col1\" >name</th>        <th class=\"col_heading level0 col2\" >percentMapped</th>        <th class=\"col_heading level0 col3\" >percentValidated</th>        <th class=\"col_heading level0 col4\" >mapperLevel</th>        <th class=\"col_heading level0 col5\" >status</th>        <th class=\"col_heading level0 col6\" >priority</th>    </tr></thead><tbody>\n",
              "                <tr>\n",
              "                        <th id=\"T_1609f25a_03d0_11eb_967b_0242ac1c0002level0_row0\" class=\"row_heading level0 row0\" >258</th>\n",
              "                        <td id=\"T_1609f25a_03d0_11eb_967b_0242ac1c0002row0_col0\" class=\"data row0 col0\" >8607</td>\n",
              "                        <td id=\"T_1609f25a_03d0_11eb_967b_0242ac1c0002row0_col1\" class=\"data row0 col1\" >AltaiMapathon2020</td>\n",
              "                        <td id=\"T_1609f25a_03d0_11eb_967b_0242ac1c0002row0_col2\" class=\"data row0 col2\" >100</td>\n",
              "                        <td id=\"T_1609f25a_03d0_11eb_967b_0242ac1c0002row0_col3\" class=\"data row0 col3\" >57</td>\n",
              "                        <td id=\"T_1609f25a_03d0_11eb_967b_0242ac1c0002row0_col4\" class=\"data row0 col4\" >BEGINNER</td>\n",
              "                        <td id=\"T_1609f25a_03d0_11eb_967b_0242ac1c0002row0_col5\" class=\"data row0 col5\" >PUBLISHED</td>\n",
              "                        <td id=\"T_1609f25a_03d0_11eb_967b_0242ac1c0002row0_col6\" class=\"data row0 col6\" >LOW</td>\n",
              "            </tr>\n",
              "            <tr>\n",
              "                        <th id=\"T_1609f25a_03d0_11eb_967b_0242ac1c0002level0_row1\" class=\"row_heading level0 row1\" >259</th>\n",
              "                        <td id=\"T_1609f25a_03d0_11eb_967b_0242ac1c0002row1_col0\" class=\"data row1 col0\" >8610</td>\n",
              "                        <td id=\"T_1609f25a_03d0_11eb_967b_0242ac1c0002row1_col1\" class=\"data row1 col1\" >KhovdMapathon2020</td>\n",
              "                        <td id=\"T_1609f25a_03d0_11eb_967b_0242ac1c0002row1_col2\" class=\"data row1 col2\" >100</td>\n",
              "                        <td id=\"T_1609f25a_03d0_11eb_967b_0242ac1c0002row1_col3\" class=\"data row1 col3\" >32</td>\n",
              "                        <td id=\"T_1609f25a_03d0_11eb_967b_0242ac1c0002row1_col4\" class=\"data row1 col4\" >BEGINNER</td>\n",
              "                        <td id=\"T_1609f25a_03d0_11eb_967b_0242ac1c0002row1_col5\" class=\"data row1 col5\" >PUBLISHED</td>\n",
              "                        <td id=\"T_1609f25a_03d0_11eb_967b_0242ac1c0002row1_col6\" class=\"data row1 col6\" >LOW</td>\n",
              "            </tr>\n",
              "            <tr>\n",
              "                        <th id=\"T_1609f25a_03d0_11eb_967b_0242ac1c0002level0_row2\" class=\"row_heading level0 row2\" >260</th>\n",
              "                        <td id=\"T_1609f25a_03d0_11eb_967b_0242ac1c0002row2_col0\" class=\"data row2 col0\" >8611</td>\n",
              "                        <td id=\"T_1609f25a_03d0_11eb_967b_0242ac1c0002row2_col1\" class=\"data row2 col1\" >#MandalGobiMapathon2020</td>\n",
              "                        <td id=\"T_1609f25a_03d0_11eb_967b_0242ac1c0002row2_col2\" class=\"data row2 col2\" >41</td>\n",
              "                        <td id=\"T_1609f25a_03d0_11eb_967b_0242ac1c0002row2_col3\" class=\"data row2 col3\" >0</td>\n",
              "                        <td id=\"T_1609f25a_03d0_11eb_967b_0242ac1c0002row2_col4\" class=\"data row2 col4\" >BEGINNER</td>\n",
              "                        <td id=\"T_1609f25a_03d0_11eb_967b_0242ac1c0002row2_col5\" class=\"data row2 col5\" >PUBLISHED</td>\n",
              "                        <td id=\"T_1609f25a_03d0_11eb_967b_0242ac1c0002row2_col6\" class=\"data row2 col6\" >LOW</td>\n",
              "            </tr>\n",
              "            <tr>\n",
              "                        <th id=\"T_1609f25a_03d0_11eb_967b_0242ac1c0002level0_row3\" class=\"row_heading level0 row3\" >261</th>\n",
              "                        <td id=\"T_1609f25a_03d0_11eb_967b_0242ac1c0002row3_col0\" class=\"data row3 col0\" >8612</td>\n",
              "                        <td id=\"T_1609f25a_03d0_11eb_967b_0242ac1c0002row3_col1\" class=\"data row3 col1\" >BayankhongorMapathon2020</td>\n",
              "                        <td id=\"T_1609f25a_03d0_11eb_967b_0242ac1c0002row3_col2\" class=\"data row3 col2\" >98</td>\n",
              "                        <td id=\"T_1609f25a_03d0_11eb_967b_0242ac1c0002row3_col3\" class=\"data row3 col3\" >0</td>\n",
              "                        <td id=\"T_1609f25a_03d0_11eb_967b_0242ac1c0002row3_col4\" class=\"data row3 col4\" >BEGINNER</td>\n",
              "                        <td id=\"T_1609f25a_03d0_11eb_967b_0242ac1c0002row3_col5\" class=\"data row3 col5\" >PUBLISHED</td>\n",
              "                        <td id=\"T_1609f25a_03d0_11eb_967b_0242ac1c0002row3_col6\" class=\"data row3 col6\" >LOW</td>\n",
              "            </tr>\n",
              "            <tr>\n",
              "                        <th id=\"T_1609f25a_03d0_11eb_967b_0242ac1c0002level0_row4\" class=\"row_heading level0 row4\" >262</th>\n",
              "                        <td id=\"T_1609f25a_03d0_11eb_967b_0242ac1c0002row4_col0\" class=\"data row4 col0\" >8622</td>\n",
              "                        <td id=\"T_1609f25a_03d0_11eb_967b_0242ac1c0002row4_col1\" class=\"data row4 col1\" >UlgiiMapathon2020</td>\n",
              "                        <td id=\"T_1609f25a_03d0_11eb_967b_0242ac1c0002row4_col2\" class=\"data row4 col2\" >100</td>\n",
              "                        <td id=\"T_1609f25a_03d0_11eb_967b_0242ac1c0002row4_col3\" class=\"data row4 col3\" >8</td>\n",
              "                        <td id=\"T_1609f25a_03d0_11eb_967b_0242ac1c0002row4_col4\" class=\"data row4 col4\" >BEGINNER</td>\n",
              "                        <td id=\"T_1609f25a_03d0_11eb_967b_0242ac1c0002row4_col5\" class=\"data row4 col5\" >PUBLISHED</td>\n",
              "                        <td id=\"T_1609f25a_03d0_11eb_967b_0242ac1c0002row4_col6\" class=\"data row4 col6\" >LOW</td>\n",
              "            </tr>\n",
              "            <tr>\n",
              "                        <th id=\"T_1609f25a_03d0_11eb_967b_0242ac1c0002level0_row5\" class=\"row_heading level0 row5\" >263</th>\n",
              "                        <td id=\"T_1609f25a_03d0_11eb_967b_0242ac1c0002row5_col0\" class=\"data row5 col0\" >8654</td>\n",
              "                        <td id=\"T_1609f25a_03d0_11eb_967b_0242ac1c0002row5_col1\" class=\"data row5 col1\" >ArvaikheerMapathon2020</td>\n",
              "                        <td id=\"T_1609f25a_03d0_11eb_967b_0242ac1c0002row5_col2\" class=\"data row5 col2\" >98</td>\n",
              "                        <td id=\"T_1609f25a_03d0_11eb_967b_0242ac1c0002row5_col3\" class=\"data row5 col3\" >22</td>\n",
              "                        <td id=\"T_1609f25a_03d0_11eb_967b_0242ac1c0002row5_col4\" class=\"data row5 col4\" >BEGINNER</td>\n",
              "                        <td id=\"T_1609f25a_03d0_11eb_967b_0242ac1c0002row5_col5\" class=\"data row5 col5\" >PUBLISHED</td>\n",
              "                        <td id=\"T_1609f25a_03d0_11eb_967b_0242ac1c0002row5_col6\" class=\"data row5 col6\" >LOW</td>\n",
              "            </tr>\n",
              "            <tr>\n",
              "                        <th id=\"T_1609f25a_03d0_11eb_967b_0242ac1c0002level0_row6\" class=\"row_heading level0 row6\" >264</th>\n",
              "                        <td id=\"T_1609f25a_03d0_11eb_967b_0242ac1c0002row6_col0\" class=\"data row6 col0\" >8656</td>\n",
              "                        <td id=\"T_1609f25a_03d0_11eb_967b_0242ac1c0002row6_col1\" class=\"data row6 col1\" >BulganMapathon2020</td>\n",
              "                        <td id=\"T_1609f25a_03d0_11eb_967b_0242ac1c0002row6_col2\" class=\"data row6 col2\" >100</td>\n",
              "                        <td id=\"T_1609f25a_03d0_11eb_967b_0242ac1c0002row6_col3\" class=\"data row6 col3\" >6</td>\n",
              "                        <td id=\"T_1609f25a_03d0_11eb_967b_0242ac1c0002row6_col4\" class=\"data row6 col4\" >BEGINNER</td>\n",
              "                        <td id=\"T_1609f25a_03d0_11eb_967b_0242ac1c0002row6_col5\" class=\"data row6 col5\" >PUBLISHED</td>\n",
              "                        <td id=\"T_1609f25a_03d0_11eb_967b_0242ac1c0002row6_col6\" class=\"data row6 col6\" >LOW</td>\n",
              "            </tr>\n",
              "            <tr>\n",
              "                        <th id=\"T_1609f25a_03d0_11eb_967b_0242ac1c0002level0_row7\" class=\"row_heading level0 row7\" >326</th>\n",
              "                        <td id=\"T_1609f25a_03d0_11eb_967b_0242ac1c0002row7_col0\" class=\"data row7 col0\" >9139</td>\n",
              "                        <td id=\"T_1609f25a_03d0_11eb_967b_0242ac1c0002row7_col1\" class=\"data row7 col1\" >DalanzadgadMapathon2020</td>\n",
              "                        <td id=\"T_1609f25a_03d0_11eb_967b_0242ac1c0002row7_col2\" class=\"data row7 col2\" >65</td>\n",
              "                        <td id=\"T_1609f25a_03d0_11eb_967b_0242ac1c0002row7_col3\" class=\"data row7 col3\" >9</td>\n",
              "                        <td id=\"T_1609f25a_03d0_11eb_967b_0242ac1c0002row7_col4\" class=\"data row7 col4\" >BEGINNER</td>\n",
              "                        <td id=\"T_1609f25a_03d0_11eb_967b_0242ac1c0002row7_col5\" class=\"data row7 col5\" >PUBLISHED</td>\n",
              "                        <td id=\"T_1609f25a_03d0_11eb_967b_0242ac1c0002row7_col6\" class=\"data row7 col6\" >LOW</td>\n",
              "            </tr>\n",
              "            <tr>\n",
              "                        <th id=\"T_1609f25a_03d0_11eb_967b_0242ac1c0002level0_row8\" class=\"row_heading level0 row8\" >327</th>\n",
              "                        <td id=\"T_1609f25a_03d0_11eb_967b_0242ac1c0002row8_col0\" class=\"data row8 col0\" >9140</td>\n",
              "                        <td id=\"T_1609f25a_03d0_11eb_967b_0242ac1c0002row8_col1\" class=\"data row8 col1\" >OrkhonMapathon2020</td>\n",
              "                        <td id=\"T_1609f25a_03d0_11eb_967b_0242ac1c0002row8_col2\" class=\"data row8 col2\" >18</td>\n",
              "                        <td id=\"T_1609f25a_03d0_11eb_967b_0242ac1c0002row8_col3\" class=\"data row8 col3\" >3</td>\n",
              "                        <td id=\"T_1609f25a_03d0_11eb_967b_0242ac1c0002row8_col4\" class=\"data row8 col4\" >BEGINNER</td>\n",
              "                        <td id=\"T_1609f25a_03d0_11eb_967b_0242ac1c0002row8_col5\" class=\"data row8 col5\" >PUBLISHED</td>\n",
              "                        <td id=\"T_1609f25a_03d0_11eb_967b_0242ac1c0002row8_col6\" class=\"data row8 col6\" >LOW</td>\n",
              "            </tr>\n",
              "    </tbody></table>"
            ],
            "text/plain": [
              "<pandas.io.formats.style.Styler at 0x7f42abb51a90>"
            ]
          },
          "metadata": {
            "tags": []
          }
        },
        {
          "output_type": "display_data",
          "data": {
            "text/markdown": "## اليَمَن al-Yaman",
            "text/plain": [
              "<IPython.core.display.Markdown object>"
            ]
          },
          "metadata": {
            "tags": []
          }
        },
        {
          "output_type": "display_data",
          "data": {
            "text/markdown": "---",
            "text/plain": [
              "<IPython.core.display.Markdown object>"
            ]
          },
          "metadata": {
            "tags": []
          }
        },
        {
          "output_type": "display_data",
          "data": {
            "text/markdown": "\n- Total number projects: 1\n    - Drafts:    0\n    - Published: 1 \n    - Archived:  0\n- Completed projects (100% mapped & validated): 0\n- Average % mapped across all projects: 23.0 %\n- Average % validated across all projects: 0.0 %\n",
            "text/plain": [
              "<IPython.core.display.Markdown object>"
            ]
          },
          "metadata": {
            "tags": []
          }
        },
        {
          "output_type": "display_data",
          "data": {
            "text/markdown": "---",
            "text/plain": [
              "<IPython.core.display.Markdown object>"
            ]
          },
          "metadata": {
            "tags": []
          }
        },
        {
          "output_type": "display_data",
          "data": {
            "text/html": [
              "<style  type=\"text/css\" >\n",
              "#T_16104c54_03d0_11eb_967b_0242ac1c0002row0_col2,#T_16104c54_03d0_11eb_967b_0242ac1c0002row0_col3{\n",
              "            background-color:  #d73f3f;\n",
              "            color:  #f1f1f1;\n",
              "        }#T_16104c54_03d0_11eb_967b_0242ac1c0002row0_col5,#T_16104c54_03d0_11eb_967b_0242ac1c0002row0_col6{\n",
              "            background-color:  #53AE62;\n",
              "        }</style><table id=\"T_16104c54_03d0_11eb_967b_0242ac1c0002\" ><thead>    <tr>        <th class=\"blank level0\" ></th>        <th class=\"col_heading level0 col0\" >projectId</th>        <th class=\"col_heading level0 col1\" >name</th>        <th class=\"col_heading level0 col2\" >percentMapped</th>        <th class=\"col_heading level0 col3\" >percentValidated</th>        <th class=\"col_heading level0 col4\" >mapperLevel</th>        <th class=\"col_heading level0 col5\" >status</th>        <th class=\"col_heading level0 col6\" >priority</th>    </tr></thead><tbody>\n",
              "                <tr>\n",
              "                        <th id=\"T_16104c54_03d0_11eb_967b_0242ac1c0002level0_row0\" class=\"row_heading level0 row0\" >88</th>\n",
              "                        <td id=\"T_16104c54_03d0_11eb_967b_0242ac1c0002row0_col0\" class=\"data row0 col0\" >9031</td>\n",
              "                        <td id=\"T_16104c54_03d0_11eb_967b_0242ac1c0002row0_col1\" class=\"data row0 col1\" >Population Displacement: Mapping buildings in #Marib, #Yemen (2)</td>\n",
              "                        <td id=\"T_16104c54_03d0_11eb_967b_0242ac1c0002row0_col2\" class=\"data row0 col2\" >23</td>\n",
              "                        <td id=\"T_16104c54_03d0_11eb_967b_0242ac1c0002row0_col3\" class=\"data row0 col3\" >0</td>\n",
              "                        <td id=\"T_16104c54_03d0_11eb_967b_0242ac1c0002row0_col4\" class=\"data row0 col4\" >BEGINNER</td>\n",
              "                        <td id=\"T_16104c54_03d0_11eb_967b_0242ac1c0002row0_col5\" class=\"data row0 col5\" >PUBLISHED</td>\n",
              "                        <td id=\"T_16104c54_03d0_11eb_967b_0242ac1c0002row0_col6\" class=\"data row0 col6\" >MEDIUM</td>\n",
              "            </tr>\n",
              "    </tbody></table>"
            ],
            "text/plain": [
              "<pandas.io.formats.style.Styler at 0x7f42abb516a0>"
            ]
          },
          "metadata": {
            "tags": []
          }
        }
      ]
    },
    {
      "cell_type": "markdown",
      "metadata": {
        "id": "x7l4i-mJ98I5"
      },
      "source": [
        "# Access the data as a spreadsheet\n",
        "\n",
        "Besides displaying the data inline in this notebook, it is also exported as an exccel file to the Colab workspace. See the file \"HOTOSM-covid-19-automatic.xlsx\" in the colab sidebard. You may need to click the \"Referesh\" icon in the file tree to see the exported spreadsheet.\n",
        "\n",
        "\n",
        "![kuva.png](data:image/png;base64,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)"
      ]
    },
    {
      "cell_type": "code",
      "metadata": {
        "id": "vgwMnuEE-GY3",
        "outputId": "8ee294fb-d75a-49e0-e4ee-a0c3a1cff255",
        "colab": {
          "base_uri": "https://localhost:8080/",
          "height": 56
        }
      },
      "source": [
        "import requests\n",
        "import tasking_manager_client as tm \n",
        "\n",
        "url = tm.DEFAULT_INSTANCE_API\n",
        "requests.get(f'https://{tm.DEFAULT_INSTANCE_API}/api/v2/projects/8763/contributions/queries/day').content"
      ],
      "execution_count": null,
      "outputs": [
        {
          "output_type": "execute_result",
          "data": {
            "text/plain": [
              "b'{\"stats\": [{\"date\": \"2020-06-17\", \"mapped\": 3, \"validated\": 0, \"cumulative_mapped\": 3, \"cumulative_validated\": 0, \"total_tasks\": 800}, {\"date\": \"2020-06-28\", \"mapped\": 1, \"validated\": 0, \"cumulative_mapped\": 4, \"cumulative_validated\": 0, \"total_tasks\": 800}, {\"date\": \"2020-07-01\", \"mapped\": 18, \"validated\": 0, \"cumulative_mapped\": 22, \"cumulative_validated\": 0, \"total_tasks\": 800}, {\"date\": \"2020-07-02\", \"mapped\": 85, \"validated\": 0, \"cumulative_mapped\": 107, \"cumulative_validated\": 0, \"total_tasks\": 800}, {\"date\": \"2020-07-03\", \"mapped\": 20, \"validated\": 0, \"cumulative_mapped\": 127, \"cumulative_validated\": 0, \"total_tasks\": 800}, {\"date\": \"2020-07-06\", \"mapped\": 36, \"validated\": 0, \"cumulative_mapped\": 163, \"cumulative_validated\": 0, \"total_tasks\": 800}, {\"date\": \"2020-07-07\", \"mapped\": 38, \"validated\": 0, \"cumulative_mapped\": 201, \"cumulative_validated\": 0, \"total_tasks\": 800}, {\"date\": \"2020-07-08\", \"mapped\": 20, \"validated\": 0, \"cumulative_mapped\": 221, \"cumulative_validated\": 0, \"total_tasks\": 800}, {\"date\": \"2020-07-09\", \"mapped\": 64, \"validated\": 0, \"cumulative_mapped\": 285, \"cumulative_validated\": 0, \"total_tasks\": 800}, {\"date\": \"2020-07-10\", \"mapped\": 11, \"validated\": 0, \"cumulative_mapped\": 296, \"cumulative_validated\": 0, \"total_tasks\": 800}, {\"date\": \"2020-07-11\", \"mapped\": 9, \"validated\": 0, \"cumulative_mapped\": 305, \"cumulative_validated\": 0, \"total_tasks\": 800}, {\"date\": \"2020-07-13\", \"mapped\": 2, \"validated\": 0, \"cumulative_mapped\": 307, \"cumulative_validated\": 0, \"total_tasks\": 800}, {\"date\": \"2020-07-14\", \"mapped\": 8, \"validated\": 0, \"cumulative_mapped\": 315, \"cumulative_validated\": 0, \"total_tasks\": 800}, {\"date\": \"2020-07-15\", \"mapped\": 39, \"validated\": 0, \"cumulative_mapped\": 354, \"cumulative_validated\": 0, \"total_tasks\": 800}, {\"date\": \"2020-07-16\", \"mapped\": 10, \"validated\": 0, \"cumulative_mapped\": 364, \"cumulative_validated\": 0, \"total_tasks\": 800}, {\"date\": \"2020-07-17\", \"mapped\": 10, \"validated\": 0, \"cumulative_mapped\": 374, \"cumulative_validated\": 0, \"total_tasks\": 800}, {\"date\": \"2020-07-18\", \"mapped\": 1, \"validated\": 0, \"cumulative_mapped\": 375, \"cumulative_validated\": 0, \"total_tasks\": 800}, {\"date\": \"2020-07-19\", \"mapped\": 6, \"validated\": 0, \"cumulative_mapped\": 381, \"cumulative_validated\": 0, \"total_tasks\": 800}, {\"date\": \"2020-07-20\", \"mapped\": 15, \"validated\": 0, \"cumulative_mapped\": 396, \"cumulative_validated\": 0, \"total_tasks\": 800}, {\"date\": \"2020-07-21\", \"mapped\": 21, \"validated\": 0, \"cumulative_mapped\": 417, \"cumulative_validated\": 0, \"total_tasks\": 800}, {\"date\": \"2020-07-22\", \"mapped\": 284, \"validated\": 0, \"cumulative_mapped\": 701, \"cumulative_validated\": 0, \"total_tasks\": 800}, {\"date\": \"2020-07-23\", \"mapped\": 13, \"validated\": 0, \"cumulative_mapped\": 714, \"cumulative_validated\": 0, \"total_tasks\": 800}, {\"date\": \"2020-07-24\", \"mapped\": 10, \"validated\": 37, \"cumulative_mapped\": 724, \"cumulative_validated\": 37, \"total_tasks\": 800}, {\"date\": \"2020-07-25\", \"mapped\": 1, \"validated\": 0, \"cumulative_mapped\": 725, \"cumulative_validated\": 37, \"total_tasks\": 800}, {\"date\": \"2020-07-26\", \"mapped\": 1, \"validated\": 1, \"cumulative_mapped\": 726, \"cumulative_validated\": 38, \"total_tasks\": 800}, {\"date\": \"2020-07-27\", \"mapped\": 5, \"validated\": 62, \"cumulative_mapped\": 731, \"cumulative_validated\": 100, \"total_tasks\": 800}, {\"date\": \"2020-07-28\", \"mapped\": 1, \"validated\": 72, \"cumulative_mapped\": 732, \"cumulative_validated\": 172, \"total_tasks\": 800}, {\"date\": \"2020-07-29\", \"mapped\": 31, \"validated\": 169, \"cumulative_mapped\": 763, \"cumulative_validated\": 341, \"total_tasks\": 800}, {\"date\": \"2020-07-30\", \"mapped\": 5, \"validated\": 126, \"cumulative_mapped\": 768, \"cumulative_validated\": 467, \"total_tasks\": 800}, {\"date\": \"2020-07-31\", \"mapped\": 1, \"validated\": 140, \"cumulative_mapped\": 769, \"cumulative_validated\": 607, \"total_tasks\": 800}, {\"date\": \"2020-08-02\", \"mapped\": 10, \"validated\": 0, \"cumulative_mapped\": 779, \"cumulative_validated\": 607, \"total_tasks\": 800}, {\"date\": \"2020-08-03\", \"mapped\": 20, \"validated\": 125, \"cumulative_mapped\": 799, \"cumulative_validated\": 732, \"total_tasks\": 800}, {\"date\": \"2020-08-04\", \"mapped\": 0, \"validated\": 64, \"cumulative_mapped\": 799, \"cumulative_validated\": 796, \"total_tasks\": 800}, {\"date\": \"2020-08-05\", \"mapped\": 1, \"validated\": 3, \"cumulative_mapped\": 800, \"cumulative_validated\": 799, \"total_tasks\": 800}, {\"date\": \"2020-08-10\", \"mapped\": 0, \"validated\": 1, \"cumulative_mapped\": 800, \"cumulative_validated\": 800, \"total_tasks\": 800}]}\\n'"
            ]
          },
          "metadata": {
            "tags": []
          },
          "execution_count": 6
        }
      ]
    }
  ]
}